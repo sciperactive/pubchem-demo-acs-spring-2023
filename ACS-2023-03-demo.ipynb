{
 "cells": [
  {
   "cell_type": "markdown",
   "id": "29968a61-63e2-42f2-aabf-aa7c753a6902",
   "metadata": {
    "tags": []
   },
   "source": [
    "# Programmatic Access to PubChem"
   ]
  },
  {
   "cell_type": "markdown",
   "id": "6180eb42-1e29-48f7-81ca-000843101bb0",
   "metadata": {},
   "source": [
    "<br>  \n",
    "\n",
    "Written by:  \n",
    "\n",
    "**Sunghwan Kim, Ph.D., M.Sc.**  (sunghwan.kim@nih.gov)  \n",
    "National Center for Biotechnology Information  \n",
    "National Library of Medicine  \n",
    "National Institutes of Health"
   ]
  },
  {
   "cell_type": "markdown",
   "id": "db108708-04c6-43b5-88e7-0efce8d85547",
   "metadata": {},
   "source": [
    "![ACS-Spring-2023](./images/acs-spring-2023.jpg)\n",
    "\n",
    "This Jupyter notebook was prepared for a presentation at the American Chemical Society (ACS) Spring 2023 National Meeting in Indianapolis, IN. This notebook demonstrates how to programmatically access PubChem data through its programmatic access interfaces, including **PUG-REST**, **PUG-View**, and **Entrez-Utilities**.  More detailed information on these interfaces can be found in the following papers:\n",
    "\n",
    ">>\n",
    ">**PUG-SOAP and PUG-REST: web services for programmatic access to chemical information in PubChem**  \n",
    ">*Nucleic Acids Research*, 2015, 43(W1):W605-W611  \n",
    ">doi:[10.1093/nar/gkv396](https://doi.org/10.1093/nar/gkv396)  \n",
    ">\n",
    ">**An update on PUG-REST: RESTful interface for programmatic access to PubChem**  \n",
    ">*Nucleic Acids Res.* 2018 July 2; 46(W1):W563-570.  \n",
    ">doi:[10.1093/nar/gky294](https://doi.org/10.1093/nar/gky294).  \n",
    ">\n",
    ">**PUG-View: programmatic access to chemical annotations integrated in PubChem**  \n",
    ">*J. Cheminform.* 2019, 11, 56.  \n",
    ">doi:[10.1186/s13321-019-0375-2](https://doi.org/10.1186/s13321-019-0375-2)  "
   ]
  },
  {
   "cell_type": "markdown",
   "id": "a73664b0-3d1f-4b59-9872-85a95b00a0a3",
   "metadata": {},
   "source": [
    "This Jupyter notebook was written based on a series of materials available on LibreTexts:\n",
    "\n",
    "- Getting Molecular Properties through PUG-REST \\[[Link](https://chem.libretexts.org/Courses/Intercollegiate_Courses/Cheminformatics/01%3A_Introduction/1.10%3A_Python_Assignment_1)\\]\n",
    "- Chemical Structure Inputs for PUG-REST \\[[Link](https://chem.libretexts.org/Courses/Intercollegiate_Courses/Cheminformatics/02%3A_Representing_Small_Molecules_on_Computers/2.07%3A_Python_Assignment/2.7.01%3A_Python_Assignment_2A)\\]\n",
    "- Interconversion between PubChem records \\[[Link](https://chem.libretexts.org/Courses/Intercollegiate_Courses/Cheminformatics/02%3A_Representing_Small_Molecules_on_Computers/2.07%3A_Python_Assignment/2.7.02%3A_Python_Assignment_2B)\\]\n",
    "- Compound vs Substance \\[[Link](https://chem.libretexts.org/Courses/Intercollegiate_Courses/Cheminformatics/03%3A_Database_Resources_in_Cheminformatics/3.08%3A_Python_Assignment)\\]\n",
    "- Structure Search \\[[Link](https://chem.libretexts.org/Courses/Intercollegiate_Courses/Cheminformatics/04%3A_Searching_Databases_for_Chemical_Information/4.06%3A_Python_Assignments)\\]\n",
    "- Molecular Similarity \\[[Link](https://chem.libretexts.org/Courses/Intercollegiate_Courses/Cheminformatics/06%3A_Molecular_Similarity)\\]\n",
    "- Virtual Screening \\[[Link](https://chem.libretexts.org/Courses/Intercollegiate_Courses/Cheminformatics/07%3A__Computer-Aided_Drug_Discovery_and_Design/7.03%3A_Python_Assignment-Virtual_Screening)\\]\n",
    "- Machine Learning Basics \\[[Link](https://chem.libretexts.org/Courses/Intercollegiate_Courses/Cheminformatics/08%3A_Machine-learning_Basics/8.03%3A_Python_Assignment)\\]\n",
    "\n",
    "\n",
    "\n"
   ]
  },
  {
   "cell_type": "markdown",
   "id": "9bb34618-c82f-4f74-bbc3-7af7db7528cd",
   "metadata": {},
   "source": [
    "These materials were developed during the Cheminformatics OnLine Chemistry Course (OLCC), a collaborative teaching project to teach Cheminformatics concurrently at multiple campuses.  Please see the following paper for more information: \n",
    "\n",
    ">**Teaching Cheminformatics through a Collaborative Intercollegiate Online Chemistry Course (OLCC)**<br>\n",
    ">*J. Chem. Educ.* 2021, 98(2):416–425\n",
    ">doi:[10.1021/acs.jchemed.0c01035](https://doi.org/10.1021/acs.jchemed.0c01035)"
   ]
  },
  {
   "cell_type": "code",
   "execution_count": null,
   "id": "70dcb568-b340-4b93-be12-021f48eae6dc",
   "metadata": {},
   "outputs": [],
   "source": []
  },
  {
   "cell_type": "markdown",
   "id": "c00ab687-0a4f-4b86-9350-8e9e177fd7e9",
   "metadata": {},
   "source": [
    "## PUG-REST Basics"
   ]
  },
  {
   "cell_type": "markdown",
   "id": "9b96f50f-9bbc-4503-a874-888f4e4e18ef",
   "metadata": {},
   "source": [
    "### Syntax of PUG-REST request URLs "
   ]
  },
  {
   "cell_type": "markdown",
   "id": "79bdbdbd-789c-4953-99aa-37f003620f51",
   "metadata": {},
   "source": [
    "In PUG-REST, (almost) all necessary information for a web service request is encoded in a request URL, which consists of the following parts:\n",
    "- Prologue : \"https://pubchem.ncbi.nlm.nih.gov/rest/pug\"\n",
    "- Input : input identifiers specified with:\n",
    "   - chemical names \n",
    "   - PubChem identifiers \\[e.g., Compound ID (CID), Substance ID (SID), BioAssay ID (AID)\\]\n",
    "   - chemical structures (in SMILES, InChI, SDF)\n",
    "- Operation: a task that you want to perform.\n",
    "- Output : a desired format of the output.\n",
    "- Option : optional parameters specific to some tasks.  \n",
    "<br>  "
   ]
  },
  {
   "cell_type": "markdown",
   "id": "bf549019-03cc-4162-981d-fcf60d8b1795",
   "metadata": {},
   "source": [
    "![](./images/pug-rest-syntax.jpg)"
   ]
  },
  {
   "cell_type": "code",
   "execution_count": 1,
   "id": "865b99a2-c015-4714-853c-58fbfa436f2f",
   "metadata": {},
   "outputs": [],
   "source": [
    "import requests"
   ]
  },
  {
   "cell_type": "code",
   "execution_count": 2,
   "id": "6f631868-8b47-490f-b5fc-a8ede5422ef7",
   "metadata": {},
   "outputs": [
    {
     "name": "stdout",
     "output_type": "stream",
     "text": [
      "https://pubchem.ncbi.nlm.nih.gov/rest/pug/compound/name/water/property/MolecularFormula/csv\n"
     ]
    }
   ],
   "source": [
    "pugrest = \"https://pubchem.ncbi.nlm.nih.gov/rest/pug\"\n",
    "pugin   = \"compound/name/water\"\n",
    "pugoper = \"property/MolecularFormula\"\n",
    "pugout  = \"csv\"\n",
    "\n",
    "url     = pugrest + '/' + pugin + '/' + pugoper + '/' + pugout\n",
    "print(url)"
   ]
  },
  {
   "cell_type": "markdown",
   "id": "77b8d38d-7cd8-4d14-94c9-9d2f52739e10",
   "metadata": {},
   "source": [
    "Alternatively, you use ```str.join()``` to construct the URL."
   ]
  },
  {
   "cell_type": "code",
   "execution_count": 3,
   "id": "b332761f-bc4c-443d-9c8a-483fe51cc476",
   "metadata": {},
   "outputs": [
    {
     "name": "stdout",
     "output_type": "stream",
     "text": [
      "https://pubchem.ncbi.nlm.nih.gov/rest/pug/compound/name/water/property/MolecularFormula/csv\n"
     ]
    }
   ],
   "source": [
    "url = \"/\".join( [pugrest, pugin, pugoper, pugout] )\n",
    "print(url)"
   ]
  },
  {
   "cell_type": "markdown",
   "id": "8eec5f9d-ffeb-416c-9004-7d0594ec8e9d",
   "metadata": {},
   "source": [
    "Then, you can submit the request to PubChem and check the returned result."
   ]
  },
  {
   "cell_type": "code",
   "execution_count": 4,
   "id": "49ce6ac2-c3e0-48be-ac09-26cec823ff7a",
   "metadata": {},
   "outputs": [
    {
     "name": "stdout",
     "output_type": "stream",
     "text": [
      "\"CID\",\"MolecularFormula\"\n",
      "962,\"H2O\"\n",
      "\n"
     ]
    }
   ],
   "source": [
    "res = requests.get(url)\n",
    "print(res.text)"
   ]
  },
  {
   "cell_type": "markdown",
   "id": "6fbf55d6-9281-4564-a061-b7d765a73d0c",
   "metadata": {},
   "source": [
    "### Usage policies and dynamic traffic throttling"
   ]
  },
  {
   "cell_type": "markdown",
   "id": "a5d78bde-2da6-4150-a298-0c4ef259be87",
   "metadata": {},
   "source": [
    "PubChem has a standard time limit of **30 seconds** per web service request. If a request is not completed within the 30-second limit for any reason, a timeout error will be returned."
   ]
  },
  {
   "cell_type": "markdown",
   "id": "7a653940-f089-4598-9652-e0a46738eb6e",
   "metadata": {},
   "source": [
    "All PubChem web pages (or requests to NCBI in general) have a policy that users should throttle their web page requests, which includes web-based programmatic services. Violation of usage policies may result in the user being temporarily blocked from accessing PubChem (or NCBI) resources. The current request volume limits are:\n",
    "- No more than 5 requests per second.\n",
    "- No more than 400 requests per minute.\n",
    "- No longer than 300 second running time per minute.\n"
   ]
  },
  {
   "cell_type": "markdown",
   "id": "9ab15ea1-0cc4-4675-b6a7-9f37a6d98b05",
   "metadata": {},
   "source": [
    "It should be noted that these limits can be lowered through the **dynamic traffic control** at times of excessive load, as described in the following page:  \n",
    "  \n",
    "https://pubchem.ncbi.nlm.nih.gov/docs/dynamic-request-throttling  \n",
    "  \n",
    "  \n",
    "Throttling information is provided in the HTTP header response, indicating the system-load state and the per-user limits. "
   ]
  },
  {
   "cell_type": "code",
   "execution_count": 5,
   "id": "a780f5ff-ef21-419f-95e5-2d56fd9a4e54",
   "metadata": {},
   "outputs": [
    {
     "name": "stdout",
     "output_type": "stream",
     "text": [
      "{'Date': 'Sun, 26 Mar 2023 03:59:02 GMT', 'Server': 'Apache', 'Strict-Transport-Security': 'max-age=31536000; includeSubDomains; preload', 'Referrer-Policy': 'origin-when-cross-origin', 'Content-Security-Policy': 'upgrade-insecure-requests', 'Cache-Control': 'private', 'Expires': 'Sun, 26 Mar 2023 11:59:02 GMT', 'NCBI-PHID': '90C5C93741FC30610000000000000001.m_1', 'NCBI-SID': '90C5C93741FC3061_0000SID', 'X-Throttling-Control': 'Request Count status: Green (0%), Request Time status: Green (0%), Service status: Green (3%)', 'Content-Type': 'text/csv', 'Set-Cookie': 'ncbi_sid=90C5C93741FC3061_0000SID; domain=.nih.gov; path=/; expires=Tue, 26 Mar 2024 03:59:02 GMT', 'Vary': 'Accept-Encoding', 'Content-Encoding': 'gzip', 'X-UA-Compatible': 'IE=Edge', 'X-XSS-Protection': '1; mode=block', 'Access-Control-Allow-Origin': '*', 'Keep-Alive': 'timeout=4, max=40', 'Connection': 'Keep-Alive', 'Transfer-Encoding': 'chunked'}\n"
     ]
    }
   ],
   "source": [
    "#dir(res)\n",
    "print(res.headers)"
   ]
  },
  {
   "cell_type": "code",
   "execution_count": 6,
   "id": "91933cb4-185a-40ba-9aa2-134234eadabb",
   "metadata": {},
   "outputs": [
    {
     "name": "stdout",
     "output_type": "stream",
     "text": [
      "Request Count status: Green (0%), Request Time status: Green (0%), Service status: Green (3%)\n"
     ]
    }
   ],
   "source": [
    "print(res.headers['X-Throttling-Control'])"
   ]
  },
  {
   "cell_type": "markdown",
   "id": "d69b3243-68e3-42ee-b476-7b36f554011f",
   "metadata": {},
   "source": [
    "Based on this throttling information, the user should moderate the speed at which requests are sent to PubChem."
   ]
  },
  {
   "cell_type": "code",
   "execution_count": null,
   "id": "a61fc603-7ff9-4360-adf8-dc6fce50c0a9",
   "metadata": {},
   "outputs": [],
   "source": []
  },
  {
   "cell_type": "markdown",
   "id": "7e08f433-106f-4bae-a3ad-a9ab5191a90d",
   "metadata": {},
   "source": [
    "## Multiple Inputs and Multiple properties"
   ]
  },
  {
   "cell_type": "markdown",
   "id": "daf381fb-80d3-4dbf-8a4b-9024edd6a5e9",
   "metadata": {},
   "source": [
    "PUG-REST can be used to multiple properties for multiple chemicals.  The input chemicals should be provided as a list of PubChem Compound IDs (CIDs), separated by commas (\",\").  The desired molecular properties are also provided as a comma-separated list.  A list of supported molecular properties can be found at this page:\n",
    "\n",
    "https://pubchem.ncbi.nlm.nih.gov/docs/pug-rest#section=Compound-Property-Tables"
   ]
  },
  {
   "cell_type": "code",
   "execution_count": 7,
   "id": "b3aa026e-508d-4451-9fc0-1148ea8f2e26",
   "metadata": {},
   "outputs": [],
   "source": [
    "pugrest = \"https://pubchem.ncbi.nlm.nih.gov/rest/pug\"\n",
    "pugin   = \"compound/cid/2200,2725,3100,4034,4927\"\n",
    "pugoper = \"property/MolecularFormula,MolecularWeight,IsomericSMILES,HBondDonorCount,HBondAcceptorCount,RotatableBondCount,HeavyAtomCount\"\n",
    "pugout  = \"csv\"   #- comma-separated values\n",
    "url     = pugrest + '/' + pugin + '/' + pugoper + '/' + pugout"
   ]
  },
  {
   "cell_type": "code",
   "execution_count": 8,
   "id": "46d44945-ebb8-441f-a30e-cabf3b543d6c",
   "metadata": {},
   "outputs": [
    {
     "name": "stdout",
     "output_type": "stream",
     "text": [
      "\"CID\",\"MolecularFormula\",\"MolecularWeight\",\"IsomericSMILES\",\"HBondDonorCount\",\"HBondAcceptorCount\",\"RotatableBondCount\",\"HeavyAtomCount\"\n",
      "2200,\"C17H19N3\",265.35,\"C1CN=C(N1)CN(CC2=CC=CC=C2)C3=CC=CC=C3\",1,2,5,20\n",
      "2725,\"C16H19ClN2\",274.79,\"CN(C)CCC(C1=CC=C(C=C1)Cl)C2=CC=CC=N2\",0,2,5,19\n",
      "3100,\"C17H21NO\",255.35,\"CN(C)CCOC(C1=CC=CC=C1)C2=CC=CC=C2\",0,2,6,19\n",
      "4034,\"C25H27ClN2\",390.9,\"CC1=CC(=CC=C1)CN2CCN(CC2)C(C3=CC=CC=C3)C4=CC=C(C=C4)Cl\",0,2,5,28\n",
      "4927,\"C17H20N2S\",284.4,\"CC(CN1C2=CC=CC=C2SC3=CC=CC=C31)N(C)C\",0,3,3,20\n",
      "\n"
     ]
    }
   ],
   "source": [
    "res = requests.get(url)\n",
    "print(res.text)"
   ]
  },
  {
   "cell_type": "markdown",
   "id": "92b38d75-b362-4896-b670-c359bcf76384",
   "metadata": {},
   "source": [
    "You can also save the data in a file."
   ]
  },
  {
   "cell_type": "code",
   "execution_count": 9,
   "id": "88f00470-a834-42a8-aa85-11cf7848e435",
   "metadata": {},
   "outputs": [],
   "source": [
    "with open('multi-input-multi-props.csv', 'w') as file:\n",
    "    file.write(res.text)"
   ]
  },
  {
   "cell_type": "markdown",
   "id": "45144b03-07d2-4ba0-aead-54f92bac7edc",
   "metadata": {},
   "source": [
    "## Very Long Request URLs"
   ]
  },
  {
   "cell_type": "markdown",
   "id": "6f07c7a2-02ce-49aa-b149-c07b7d38c256",
   "metadata": {},
   "source": [
    "Python's ```str.join()``` method is a convenient way to create a comma-separated list that can be used in a PUG-REST request URL."
   ]
  },
  {
   "cell_type": "code",
   "execution_count": 10,
   "id": "4c8b96fa-6a63-42b0-bcc2-fb08491ace43",
   "metadata": {},
   "outputs": [
    {
     "name": "stdout",
     "output_type": "stream",
     "text": [
      "MolecularFormula,MolecularWeight,IsomericSMILES,HBondDonorCount,HBondAcceptorCount,RotatableBondCount,HeavyAtomCount\n"
     ]
    }
   ],
   "source": [
    "props = [ 'MolecularFormula',\n",
    "          'MolecularWeight',\n",
    "          'IsomericSMILES',\n",
    "          'HBondDonorCount',\n",
    "          'HBondAcceptorCount',\n",
    "          'RotatableBondCount',\n",
    "          'HeavyAtomCount']\n",
    "\n",
    "props_str = \",\".join(props)\n",
    "print(props_str)"
   ]
  },
  {
   "cell_type": "code",
   "execution_count": 11,
   "id": "6e8c1f61-c2e3-49bd-85ac-9f66dabafc76",
   "metadata": {},
   "outputs": [
    {
     "name": "stdout",
     "output_type": "stream",
     "text": [
      "55\n"
     ]
    }
   ],
   "source": [
    "cids1 = [ 443422,  72301,   8082,    4485,    5353740, 5282230, 5282138, 1547484, 941361, 5734,  \\\n",
    "         5494,    5422,    5417,    5290,    5245,    5026,    4746,    4507,    4499,   4497,  \\\n",
    "         4494,    4474,    4418,    4386,    4009,    4008,    3949,    3926,    3878,   3784,  \\\n",
    "         3698,    3547,    3546,    3336,    3333,    3236,    3076,    2585,    2520,   2351,  \\\n",
    "         2312,    2162,    1236,    1234,    292331,  275182,  235244,  108144,  104972, 77157, \\\n",
    "         5942250, 5311217, 4564402, 4715169, 5311501]\n",
    "\n",
    "print(len(cids1))\n",
    "\n",
    "cids1_str = \",\".join([str(x) for x in cids1])\n",
    "#print(cids1_str)"
   ]
  },
  {
   "cell_type": "code",
   "execution_count": 12,
   "id": "35672eb5-e71b-4bd8-b0a0-f74c8aebb1b8",
   "metadata": {},
   "outputs": [
    {
     "name": "stdout",
     "output_type": "stream",
     "text": [
      "https://pubchem.ncbi.nlm.nih.gov/rest/pug/compound/cid/443422,72301,8082,4485,5353740,5282230,5282138,1547484,941361,5734,5494,5422,5417,5290,5245,5026,4746,4507,4499,4497,4494,4474,4418,4386,4009,4008,3949,3926,3878,3784,3698,3547,3546,3336,3333,3236,3076,2585,2520,2351,2312,2162,1236,1234,292331,275182,235244,108144,104972,77157,5942250,5311217,4564402,4715169,5311501/property/MolecularFormula,MolecularWeight,IsomericSMILES,HBondDonorCount,HBondAcceptorCount,RotatableBondCount,HeavyAtomCount/csv\n",
      "\"CID\",\"MolecularFormula\",\"MolecularWeight\",\"IsomericSMILES\",\"HBondDonorCount\",\"HBondAcceptorCount\",\"RotatableBondCount\",\"HeavyAtomCount\"\n",
      "443422,\"C20H21NO4\",339.4,\"COC1=C(C2=C(C[C@@H]3C4=CC5=C(C=C4CCN3C2)OCO5)C=C1)OC\",0,5,2,25\n",
      "72301,\"C21H25NO4\",355.4,\"COC1=C(C2=C(C[C@H]3C4=CC(=C(C=C4CCN3C2)OC)OC)C=C1)OC\",0,5,4,26\n",
      "8082,\"C5H11N\",85.15,\"C1CCNCC1\",1,1,0,6\n",
      "4485,\"C17H18N2O6\",346.3,\"CC1=C(C(C(=C(N1)C)C(=O)OC)C2=CC=CC=C2[N+](=O)[O-])C(=O)OC\",1,7,5,25\n",
      "5353740,\"C25H36O5\",416.5,\"CC1=C(C(CCC1)(C)C)CC/C(=C\\CCC2=CCC(OC2O)C3=CC(=O)OC3O)/C\",2,5,7,30\n",
      "5282230,\"C18H17NO5\",327.3,\"COC1=C(C=C(C=C1)/C=C/C(=O)NC2=CC=CC=C2C(=O)O)OC\",2,5,6,24\n",
      "5282138,\"C27H28N2O7\",492.5,\"CC1=C(C(C(=C(N1)C)C(=O)OC/C=C/C2=CC=CC=C2)C3=CC(=CC=C3)[N+](=O)[O-])C(=O)OCCOC\",1,8,11,36\n",
      "1547484,\"C26H28N2\",368.5,\"C1CN(CCN1C/C=C/C2=CC=CC=C2)C(C3=CC=CC=C3)C4=CC=CC=C4\",0,2,6,28\n",
      "941361,\"C26H26F2N2\",404.5,\"C1CN(CCN1C/C=C/C2=CC=CC=C2)C(C3=CC=C(C=C3)F)C4=CC=C(C=C4)F\",0,4,6,30\n",
      "5734,\"C8H8N2O3S\",212.23,\"C1=CC=C2C(=C1)C(=NO2)CS(=O)(=O)N\",1,5,2,14\n",
      "5494,\"C22H37NO5\",395.5,\"CCN(CC)CCCCCCCCOC(=O)C1=CC(=C(C(=C1)OC)OC)OC\",0,6,16,28\n",
      "5422,\"C38H42N2O6\",622.7,\"CN1CCC2=CC(=C3C=C2C1CC4=CC=C(C=C4)OC5=C(C=CC(=C5)CC6C7=C(O3)C(=C(C=C7CCN6C)OC)OC)OC)OC\",0,8,4,46\n",
      "5417,\"C21H25NO4\",355.4,\"COC1=C(C2=C(CC3C4=CC(=C(C=C4CCN3C2)OC)OC)C=C1)OC\",0,5,4,26\n",
      "5290,\"C19H21NO4\",327.4,\"COC1=C(C=C2C3CC4=C(CN3CCC2=C1)C(=C(C=C4)O)OC)O\",2,5,2,24\n",
      "5245,\"C7H11NO7P2\",283.11,\"C1=CC(=CN=C1)CC(O)(P(=O)(O)O)P(=O)(O)O\",5,8,4,17\n",
      "5026,\"C17H18N4O5\",358.3,\"CC1=C(C(C(=C(N1)C)[N+](=O)[O-])C2=CC=CC3=NON=C32)C(=O)OC(C)C\",1,8,4,26\n",
      "4746,\"C19H35N\",277.5,\"C1CCC(CC1)C(CC2CCCCN2)C3CCCCC3\",1,1,4,20\n",
      "4507,\"C18H20N2O6\",360.4,\"CCOC(=O)C1=C(NC(=C(C1C2=CC(=CC=C2)[N+](=O)[O-])C(=O)OC)C)C\",1,7,6,26\n",
      "4499,\"C20H24N2O6\",388.4,\"CC1=C(C(C(=C(N1)C)C(=O)OCC(C)C)C2=CC=CC=C2[N+](=O)[O-])C(=O)OC\",1,7,7,28\n",
      "4497,\"C21H26N2O7\",418.4,\"CC1=C(C(C(=C(N1)C)C(=O)OC(C)C)C2=CC(=CC=C2)[N+](=O)[O-])C(=O)OCCOC\",1,8,9,30\n",
      "4494,\"C19H19N3O6\",385.4,\"CC1=C(C(C(=C(N1)C#N)C(=O)OC)C2=CC(=CC=C2)[N+](=O)[O-])C(=O)OC(C)C\",1,8,6,28\n",
      "4474,\"C26H29N3O6\",479.5,\"CC1=C(C(C(=C(N1)C)C(=O)OCCN(C)CC2=CC=CC=C2)C3=CC(=CC=C3)[N+](=O)[O-])C(=O)OC\",1,8,10,35\n",
      "4418,\"C24H28N2O3\",392.5,\"COC1=CC=CC=C1N2CCN(CC2)CC(COC3=CC=CC4=CC=CC=C43)O\",1,5,7,29\n",
      "4386,\"C13H11NO2\",213.23,\"C1=CC=C(C=C1)NC2=CC=CC=C2C(=O)O\",2,3,3,16\n",
      "4009,\"C25H36O5\",416.5,\"CC1=C(C(CCC1)(C)C)CCC(=CCCC2=CCC(OC2O)C3=CC(=O)OC3O)C\",2,5,7,30\n",
      "4008,\"C35H38N4O6\",610.7,\"CC1=C(C(C(=C(N1)C)C(=O)OCCN2CCN(CC2)C(C3=CC=CC=C3)C4=CC=CC=C4)C5=CC(=CC=C5)[N+](=O)[O-])C(=O)OC\",1,9,11,45\n",
      "3949,\"C27H30F2N2O3\",468.5,\"COC1=C(C(=C(C=C1)CN2CCN(CC2)C(C3=CC=C(C=C3)F)C4=CC=C(C=C4)F)OC)OC\",0,7,8,34\n",
      "3926,\"C30H35F2N3O\",491.6,\"CC1=C(C(=CC=C1)C)NC(=O)CN2CCN(CC2)CCCC(C3=CC=C(C=C3)F)C4=CC=C(C=C4)F\",1,5,9,36\n",
      "3878,\"C9H7Cl2N5\",256.09,\"C1=CC(=C(C(=C1)Cl)Cl)C2=C(N=C(N=N2)N)N\",2,5,1,16\n",
      "3784,\"C19H21N3O5\",371.4,\"CC1=C(C(C(=C(N1)C)C(=O)OC(C)C)C2=CC=CC3=NON=C32)C(=O)OC\",1,8,6,27\n",
      "3698,\"C10H9N3O\",187.20,\"C1=CN=CC=C1C2=CNC(=O)C(=C2)N\",2,3,1,14\n",
      "3547,\"C14H17N3O2S\",291.37,\"C1CNCCN(C1)S(=O)(=O)C2=CC=CC3=C2C=CN=C3\",1,5,2,20\n",
      "3546,\"C12H15N5O2S\",293.35,\"C1=CC2=C(C=CN=C2)C(=C1)S(=O)(=O)NCCN=C(N)N\",3,5,5,20\n",
      "3336,\"C23H25N\",315.5,\"CC(C1=CC=CC=C1)NCCC(C2=CC=CC=C2)C3=CC=CC=C3\",1,1,7,24\n",
      "3333,\"C18H19Cl2NO4\",384.2,\"CCOC(=O)C1=C(NC(=C(C1C2=C(C(=CC=C2)Cl)Cl)C(=O)OC)C)C\",1,5,6,25\n",
      "3236,\"C17H25NO\",259.4,\"CCC1=CC=C(C=C1)C(=O)C(C)CN2CCCCC2\",0,2,5,19\n",
      "3076,\"C22H26N2O4S\",414.5,\"CC(=O)OC1C(SC2=CC=CC=C2N(C1=O)CCN(C)C)C3=CC=C(C=C3)OC\",0,6,7,29\n",
      "2585,\"C24H26N2O4\",406.5,\"COC1=CC=CC=C1OCCNCC(COC2=CC=CC3=C2C4=CC=CC=C4N3)O\",3,5,10,30\n",
      "2520,\"C27H38N2O4\",454.6,\"CC(C)C(CCCN(C)CCC1=CC(=C(C=C1)OC)OC)(C#N)C2=CC(=C(C=C2)OC)OC\",0,6,13,33\n",
      "2351,\"C24H34N2O\",366.5,\"CC(C)COCC(CN(CC1=CC=CC=C1)C2=CC=CC=C2)N3CCCC3\",0,3,10,27\n",
      "2312,\"C19H31NO\",289.5,\"CN(C)CCCOC1(CCCCCC1)CC2=CC=CC=C2\",0,2,7,21\n",
      "2162,\"C20H25ClN2O5\",408.9,\"CCOC(=O)C1=C(NC(=C(C1C2=CC=CC=C2Cl)C(=O)OC)C)COCCN\",2,7,10,28\n",
      "1236,\"C36H39N3O6\",609.7,\"CC1=C(C(C(=C(N1)C)C(=O)OCCCN2CCC(CC2)(C3=CC=CC=C3)C4=CC=CC=C4)C5=CC(=CC=C5)[N+](=O)[O-])C(=O)OC\",1,8,11,45\n",
      "1234,\"C28H40N2O5\",484.6,\"CC(C)C(CCCN(C)CCC1=CC(=C(C=C1)OC)OC)(C#N)C2=CC(=C(C(=C2)OC)OC)OC\",0,7,14,35\n",
      "292331,\"C13H11NO2\",213.23,\"C1=CC=C(C=C1)NC2=CC=C(C=C2)C(=O)O\",2,3,3,16\n",
      "275182,\"C37H40N2O6\",608.7,\"CN1CCC2=CC(=C3C=C2[C@@H]1CC4=CC=C(C=C4)OC5=C(C=CC(=C5)C[C@@H]6C7=C(O3)C(=C(C=C7CCN6C)OC)OC)O)OC\",1,8,3,45\n",
      "235244,\"C38H44N2O6\",624.8,\"CN1CCC2=CC(=C(C=C2C1CC3=CC=C(C=C3)OC4=C(C=CC(=C4)CC5C6=CC(=C(C=C6CCN5C)OC)OC)O)OC)OC\",1,8,10,46\n",
      "108144,\"C17H12Cl3N5O2\",424.7,\"C1=CC(=CC=C1C(=O)C2=C(C=C(C=C2Cl)CN3C(=C(N=N3)C(=O)N)N)Cl)Cl\",2,5,5,27\n",
      "104972,\"C26H36N2O4\",440.6,\"CC(C)C(CCCNCCC1=CC(=C(C=C1)OC)OC)(C#N)C2=CC(=C(C=C2)OC)OC\",1,6,13,32\n",
      "77157,\"C20H23NO3\",325.4,\"CN1CCC(CC1)OC(=O)C(C2=CC=CC=C2)(C3=CC=CC=C3)O\",1,4,5,24\n",
      "5942250,\"C25H36O5\",416.5,\"CC1=C(C(CCC1)(C)C)CC/C(=C/CCC2=CCC(OC2O)C3=CC(=O)OC3O)/C\",2,5,7,30\n",
      "5311217,\"C26H33NO6\",455.5,\"CCOC(=O)C1=C(NC(=C(C1C2=CC=CC=C2/C=C/C(=O)OC(C)(C)C)C(=O)OCC)C)C\",1,7,11,33\n",
      "4564402,\"C22H26N2O3\",366.5,\"COC1=CC=C(C=C1)CCCOC2=C(C=CC(=C2)CCN3C=CN=C3)OC\",0,4,10,27\n",
      "4715169,\"C8H17NO2\",159.23,\"CC(C)CC(CC(=O)O)CN\",2,3,5,11\n",
      "5311501,\"C27H26N2O3\",426.5,\"CC1=C(C2=C3N1[C@@H](COC3=CC=C2)CN4CCOCC4)C(=O)C5=CC=CC6=CC=CC=C65\",0,4,4,32\n",
      "\n"
     ]
    }
   ],
   "source": [
    "pugrest = \"https://pubchem.ncbi.nlm.nih.gov/rest/pug\"\n",
    "pugin   = \"compound/cid/\" + cids1_str\n",
    "pugoper = \"property/\" + props_str\n",
    "pugout  = \"csv\"\n",
    "url     = pugrest + '/' + pugin + '/' + pugoper + '/' + pugout\n",
    "print(url)\n",
    "\n",
    "res = requests.get(url)\n",
    "print(res.text)"
   ]
  },
  {
   "cell_type": "markdown",
   "id": "c4d4e4fb-a2a3-48bd-9348-47bf2b4b69f8",
   "metadata": {},
   "source": [
    "Now suppose that you have a longer list like this."
   ]
  },
  {
   "cell_type": "code",
   "execution_count": 13,
   "id": "083e2aa0-66c2-456f-8228-758510360b1a",
   "metadata": {},
   "outputs": [
    {
     "data": {
      "text/plain": [
       "1224"
      ]
     },
     "execution_count": 13,
     "metadata": {},
     "output_type": "execute_result"
    }
   ],
   "source": [
    "cids=[11,135,176,243,280,281,284,299,379,612,702,712,727,784,802,931,947,991,992,1004,1032,1045,1068,1118,1176,1480,1486,1489,1639,1732,1923,1982,1988,2078,2087,2256,2268,2314,2319,2328,2450,2519,2566,2728,2730,2871,2912,2943,2969,3017,3030,3031,3037,3039,3048,3082,3118,3120,3224,3225,3239,3286,3289,3293,3314,3346,3347,3352,3374,3444,3485,3496,3526,3589,3598,3776,3893,4004,4096,4101,4109,4115,4130,4169,4420,4618,4685,4690,4767,4790,4793,4794,4875,4929,4931,4933,4936,4937,4944,5053,5125,5192,5216,5234,5338,5383,5392,5430,5455,5543,5569,5759,5794,5853,5862,5943,5988,5993,6129,6209,6323,6325,6336,6343,6348,6354,6418,6423,6466,6492,6531,6564,6585,6635,6636,6643,6654,6719,6720,6733,6758,6780,6795,6861,6862,6885,6989,7017,7095,7153,7158,7204,7207,7328,7362,7430,7439,7456,7474,7541,7551,7560,7628,7639,7794,7839,7858,7873,8025,8050,8058,8081,8091,8158,8163,8174,8193,8205,8209,8257,8264,8268,8286,8292,8297,8305,8330,8342,8370,8381,8393,8422,8425,8427,8594,8606,8607,8630,8722,8753,8797,8800,8809,8843,9011,9272,9298,9411,9477,9502,9864,10087,10107,10112,10234,10340,10522,10606,10788,10800,10813,11057,11145,11167,11304,11442,11487,12232,12393,12531,12541,12542,12898,12901,12932,12968,12988,13081,13214,13263,13290,13450,13526,13676,13707,13709,13728,13745,13783,13837,13904,14145,14210,14215,14250,14251,14322,14337,14778,14780,14798,14846,14993,14994,15115,15331,15530,15531,15546,15553,15583,15629,15666,15787,15910,15939,15951,15965,16003,16007,16073,16115,16116,16181,16248,16315,16422,16554,16556,16559,16562,16653,16685,16686,16769,16774,16826,16945,17038,17109,17110,17169,17345,17432,17434,17435,17516,17517,17531,17581,17607,17748,17947,18290,18743,18771,18996,19167,19395,19402,19518,19588,19649,19662,19756,19999,20226,20848,20965,21207,21307,21330,21803,21929,21954,22094,22188,22206,22772,23256,23421,23558,23715,23717,24393,24404,24456,24470,24482,24540,24563,24685,24743,24744,24781,24798,24823,24833,24850,24861,24870,24874,24877,24883,25146,25429,25572,25670,25912,26033,26049,26124,26229,26576,26597,26694,26710,26927,27159,27189,27195,27295,27375,27689,27760,27982,28127,28169,28292,28299,28780,28935,28936,29216,29307,29393,29697,29732,29863,30332,30479,30684,30692,30773,30856,30859,31070,31099,31200,31645,31677,31899,31957,32154,32184,32490,32518,32739,32872,32921,33257,33294,33360,33443,33528,33565,33775,34192,34313,34468,34526,34766,35699,35970,36242,36250,36324,36565,36584,36606,36679,36867,36870,36879,37123,37125,37175,37419,37517,37523,37829,37869,37995,38235,38479,38687,38779,38854,38884,39040,39223,39230,39327,39385,39425,39676,39681,39722,39965,40087,40326,40585,40896,41368,41381,41384,41385,41428,41463,41632,41648,42504,42586,42614,42807,42850,43079,43226,43233,43234,43359,44073,44178,44465,47326,47445,47491,47759,47866,47898,48132,49384,50367,50465,50590,50895,50980,51369,51556,51574,51605,52999,53309,53597,53735,54382,54738,54739,54740,54778,54886,54901,55790,58167,61021,61103,61546,61899,61906,61938,62020,62155,62210,62276,62306,62389,62581,62773,65174,65420,66461,69985,71245,71482,71777,71853,73281,73282,73665,73668,73669,73670,73671,73672,73674,73675,75778,77338,78458,79241,80277,81769,83975,84098,85543,85712,85734,86102,86122,86132,86134,86137,86138,86160,86173,86175,86210,86211,86222,86233,86268,86296,86298,86306,86309,86353,86354,86355,86356,86367,86369,86398,86412,86417,86422,86426,86429,86443,87176,88916,89594,90590,90756,91466,91587,91596,91612,91625,91627,91634,91644,91650,91655,91656,91664,91665,91673,91677,91679,91683,91687,91692,91693,91694,91699,91701,91708,91715,91716,91724,91727,91731,91733,91734,91735,91739,91740,91741,91742,91744,91749,91751,91752,91753,91754,91755,91756,91757,91758,91759,91760,91762,91766,91768,91770,91771,91772,91773,91774,91776,91777,91778,91779,92299,92316,92383,92389,92395,92420,92425,92430,92433,93200,93315,93357,93365,93379,93422,93460,93482,93483,93528,93532,93539,93541,94498,100633,104770,104926,105010,107646,107720,107901,108581,114850,115196,115224,119435,119653,122087,123377,123626,123627,127394,151080,152031,153847,153920,153974,157722,158076,158924,162117,162381,167454,170012,170354,173964,175967,176648,176879,177355,177861,177863,178368,178565,178795,180089,182951,185588,188694,194454,195429,197225,210326,213012,213013,213016,213021,213031,213032,222548,285670,312440,439306,439551,439570,441071,441871,443029,443031,443046,443048,443055,443067,443495,443629,445639,448979,449402,455149,516871,516872,516875,516892,516893,517065,517111,517165,522636,546164,546977,560193,560256,571084,616765,637511,637563,637566,638011,656671,688597,697993,969491,1549108,1617113,1747818,1787910,1794807,1794808,2723790,2723816,2723872,2724247,2734819,2804318,3000605,3001858,3014032,3015768,3017748,3032296,3032297,3032472,3032555,3032571,3032572,3032581,3032604,3032791,3032792,3033865,3034198,3034285,3034287,3034368,3034378,3034380,3034435,3037186,3081363,3083545,3086172,3294375,3317081,3391107,3423265,3482402,3485262,3566770,3623881,4131668,4228010,4403158,4408229,4560140,5280793,5280795,5281162,5281166,5281303,5281872,5281873,5281874,5281875,5283292,5283295,5283305,5284376,5284389,5284462,5284484,5284507,5353758,5355863,5360460,5360521,5360962,5361043,5361250,5362131,5362527,5362811,5363095,5363216,5363233,5363237,5363260,5363261,5363351,5363377,5363381,5363387,5363405,5363527,5363548,5364079,5364468,5364495,5364497,5364643,5364711,5364714,5364932,5365075,5366546,5367650,5367692,5368008,5369793,5371455,5371560,5371562,5372194,5372405,5372582,5377784,5377791,5463781,5483846,5483847,5483872,5485188,5486793,5493321,5497163,5748526,5821911,5842000,5851439,5889665,6023583,6035168,6089962,6097028,6100711,6112114,6125184,6165177,6327054,6327657,6328134,6336603,6386307,6422843,6431341,6432198,6433329,6434236,6435500,6436029,6436449,6436604,6436606,6436633,6436680,6437401,6437842,6440554,6440556,6440557,6440728,6440779,6442842,6450826,6451057,6451139,6451142,6451155,6451159,6455379,6537961,6537963,6540498,6914821,7057995,7082413,9568069,9570071,9570290,9571009,9576037,9576091,9576412,9578570,9595287,9601227,9796266,9809914,9827529,9828343,9834513,9862076,9869793,9881821,9907412,9930667,9948894,9954185,9955886,9969573,10085783,10110536,10140464,10157484,10219853,10234702,10238657,10313079,10342051,10403199,10915750,10935908,10936292,10938769,10958189,11046097,11048796,11057771,11067463,11091168,11097730,11136686,11140605,11150163,11158353,11159021,11174640,11188745,11193251,11205153,11236201,11264867,11271640,11285653,11292824,11302979,11338509,11348992,11350631,11388558,11407474,11419598,11434448,11486133,11488729,11493665,11496052,11496886,11520759,11534837,11549937,11556910,11556911,11571392,11571555,11578610,11585730,11614934,11636326,11650986,11657899,11664966,11674113,11688533,11693711,11700495,11707647,11714234,11759286,11784975,11842644,11949285,11990852,12056760,12310947,12313523,12358480,12358497,12573513,12617362,12617363,12617364,12617365,12891182,13013865,13039062,13072122,13218777,13229577,13307026,13389335,13633097,14371531,15056663,15096494,15215907,15558638,15604010,15825719,16095400,16211101,16212118,16212969,16213016,16656802,16682746,16682804,16683004,16693908,16722118,16723172,16752772,17988638,18772482,18772487,19758701,19977704,20056430,20056433,20593234,21873022,21896651,21954885,22833361,22883840,23082663,23615703,23664719,23665571,23665759,23665760,23668198,23676745,23682187,24822142,24860538,24864132,25113606,25271089,29934831,44146693,44151818,44473182,45356890,45358380,46173707,46174049,46893156,46944253,51039126,53249225,53297383,53297414,53341374,53491464,53627428,54589430,54598431,54670067,54675779,54676884,54678486,54678504,54680085,54680676,54682651,54689800,54698175,56608859,56840841,56933411,56945144,56945145,57006186,57343740,57414497,57507888,59558935,59988032,60006000,60202781,66553206,68289416,70495450,70652048,71230671,71310221,71312306,71463595,71593923,71657865,72980153,73995022,76007601,76957227,76959035,86287518,86287519,86287521,86289068,86572672,86739665,89881183,89968867,90169437,90478478,101260859,101611446,101678929,101815861,101815863,102004933,102515299,118701038,121463656,121494065,122715527,123670820,124708617,129316835,135398658,135424353,135424354,135438605,135491728,135491830,135492483,135499147,135503327,135515530,135529435,135565117,135571111,135585373,135616186,135618618,135779804,135846942,136257761,136737979,137195227,146158032,154734794]\n",
    "len(cids)"
   ]
  },
  {
   "cell_type": "code",
   "execution_count": 14,
   "id": "ca3f256f-5498-432d-b35f-e856fce175bf",
   "metadata": {},
   "outputs": [],
   "source": [
    "cids_str = \",\".join([str(x) for x in cids])"
   ]
  },
  {
   "cell_type": "code",
   "execution_count": 15,
   "id": "0dbd48c5-5535-4268-8fb9-dec730742ec0",
   "metadata": {},
   "outputs": [
    {
     "name": "stdout",
     "output_type": "stream",
     "text": [
      "https://pubchem.ncbi.nlm.nih.gov/rest/pug/compound/cid/11,135,176,243,280,281,284,299,379,612,702,712,727,784,802,931,947,991,992,1004,1032,1045,1068,1118,1176,1480,1486,1489,1639,1732,1923,1982,1988,2078,2087,2256,2268,2314,2319,2328,2450,2519,2566,2728,2730,2871,2912,2943,2969,3017,3030,3031,3037,3039,3048,3082,3118,3120,3224,3225,3239,3286,3289,3293,3314,3346,3347,3352,3374,3444,3485,3496,3526,3589,3598,3776,3893,4004,4096,4101,4109,4115,4130,4169,4420,4618,4685,4690,4767,4790,4793,4794,4875,4929,4931,4933,4936,4937,4944,5053,5125,5192,5216,5234,5338,5383,5392,5430,5455,5543,5569,5759,5794,5853,5862,5943,5988,5993,6129,6209,6323,6325,6336,6343,6348,6354,6418,6423,6466,6492,6531,6564,6585,6635,6636,6643,6654,6719,6720,6733,6758,6780,6795,6861,6862,6885,6989,7017,7095,7153,7158,7204,7207,7328,7362,7430,7439,7456,7474,7541,7551,7560,7628,7639,7794,7839,7858,7873,8025,8050,8058,8081,8091,8158,8163,8174,8193,8205,8209,8257,8264,8268,8286,8292,8297,8305,8330,8342,8370,8381,8393,8422,8425,8427,8594,8606,8607,8630,8722,8753,8797,8800,8809,8843,9011,9272,9298,9411,9477,9502,9864,10087,10107,10112,10234,10340,10522,10606,10788,10800,10813,11057,11145,11167,11304,11442,11487,12232,12393,12531,12541,12542,12898,12901,12932,12968,12988,13081,13214,13263,13290,13450,13526,13676,13707,13709,13728,13745,13783,13837,13904,14145,14210,14215,14250,14251,14322,14337,14778,14780,14798,14846,14993,14994,15115,15331,15530,15531,15546,15553,15583,15629,15666,15787,15910,15939,15951,15965,16003,16007,16073,16115,16116,16181,16248,16315,16422,16554,16556,16559,16562,16653,16685,16686,16769,16774,16826,16945,17038,17109,17110,17169,17345,17432,17434,17435,17516,17517,17531,17581,17607,17748,17947,18290,18743,18771,18996,19167,19395,19402,19518,19588,19649,19662,19756,19999,20226,20848,20965,21207,21307,21330,21803,21929,21954,22094,22188,22206,22772,23256,23421,23558,23715,23717,24393,24404,24456,24470,24482,24540,24563,24685,24743,24744,24781,24798,24823,24833,24850,24861,24870,24874,24877,24883,25146,25429,25572,25670,25912,26033,26049,26124,26229,26576,26597,26694,26710,26927,27159,27189,27195,27295,27375,27689,27760,27982,28127,28169,28292,28299,28780,28935,28936,29216,29307,29393,29697,29732,29863,30332,30479,30684,30692,30773,30856,30859,31070,31099,31200,31645,31677,31899,31957,32154,32184,32490,32518,32739,32872,32921,33257,33294,33360,33443,33528,33565,33775,34192,34313,34468,34526,34766,35699,35970,36242,36250,36324,36565,36584,36606,36679,36867,36870,36879,37123,37125,37175,37419,37517,37523,37829,37869,37995,38235,38479,38687,38779,38854,38884,39040,39223,39230,39327,39385,39425,39676,39681,39722,39965,40087,40326,40585,40896,41368,41381,41384,41385,41428,41463,41632,41648,42504,42586,42614,42807,42850,43079,43226,43233,43234,43359,44073,44178,44465,47326,47445,47491,47759,47866,47898,48132,49384,50367,50465,50590,50895,50980,51369,51556,51574,51605,52999,53309,53597,53735,54382,54738,54739,54740,54778,54886,54901,55790,58167,61021,61103,61546,61899,61906,61938,62020,62155,62210,62276,62306,62389,62581,62773,65174,65420,66461,69985,71245,71482,71777,71853,73281,73282,73665,73668,73669,73670,73671,73672,73674,73675,75778,77338,78458,79241,80277,81769,83975,84098,85543,85712,85734,86102,86122,86132,86134,86137,86138,86160,86173,86175,86210,86211,86222,86233,86268,86296,86298,86306,86309,86353,86354,86355,86356,86367,86369,86398,86412,86417,86422,86426,86429,86443,87176,88916,89594,90590,90756,91466,91587,91596,91612,91625,91627,91634,91644,91650,91655,91656,91664,91665,91673,91677,91679,91683,91687,91692,91693,91694,91699,91701,91708,91715,91716,91724,91727,91731,91733,91734,91735,91739,91740,91741,91742,91744,91749,91751,91752,91753,91754,91755,91756,91757,91758,91759,91760,91762,91766,91768,91770,91771,91772,91773,91774,91776,91777,91778,91779,92299,92316,92383,92389,92395,92420,92425,92430,92433,93200,93315,93357,93365,93379,93422,93460,93482,93483,93528,93532,93539,93541,94498,100633,104770,104926,105010,107646,107720,107901,108581,114850,115196,115224,119435,119653,122087,123377,123626,123627,127394,151080,152031,153847,153920,153974,157722,158076,158924,162117,162381,167454,170012,170354,173964,175967,176648,176879,177355,177861,177863,178368,178565,178795,180089,182951,185588,188694,194454,195429,197225,210326,213012,213013,213016,213021,213031,213032,222548,285670,312440,439306,439551,439570,441071,441871,443029,443031,443046,443048,443055,443067,443495,443629,445639,448979,449402,455149,516871,516872,516875,516892,516893,517065,517111,517165,522636,546164,546977,560193,560256,571084,616765,637511,637563,637566,638011,656671,688597,697993,969491,1549108,1617113,1747818,1787910,1794807,1794808,2723790,2723816,2723872,2724247,2734819,2804318,3000605,3001858,3014032,3015768,3017748,3032296,3032297,3032472,3032555,3032571,3032572,3032581,3032604,3032791,3032792,3033865,3034198,3034285,3034287,3034368,3034378,3034380,3034435,3037186,3081363,3083545,3086172,3294375,3317081,3391107,3423265,3482402,3485262,3566770,3623881,4131668,4228010,4403158,4408229,4560140,5280793,5280795,5281162,5281166,5281303,5281872,5281873,5281874,5281875,5283292,5283295,5283305,5284376,5284389,5284462,5284484,5284507,5353758,5355863,5360460,5360521,5360962,5361043,5361250,5362131,5362527,5362811,5363095,5363216,5363233,5363237,5363260,5363261,5363351,5363377,5363381,5363387,5363405,5363527,5363548,5364079,5364468,5364495,5364497,5364643,5364711,5364714,5364932,5365075,5366546,5367650,5367692,5368008,5369793,5371455,5371560,5371562,5372194,5372405,5372582,5377784,5377791,5463781,5483846,5483847,5483872,5485188,5486793,5493321,5497163,5748526,5821911,5842000,5851439,5889665,6023583,6035168,6089962,6097028,6100711,6112114,6125184,6165177,6327054,6327657,6328134,6336603,6386307,6422843,6431341,6432198,6433329,6434236,6435500,6436029,6436449,6436604,6436606,6436633,6436680,6437401,6437842,6440554,6440556,6440557,6440728,6440779,6442842,6450826,6451057,6451139,6451142,6451155,6451159,6455379,6537961,6537963,6540498,6914821,7057995,7082413,9568069,9570071,9570290,9571009,9576037,9576091,9576412,9578570,9595287,9601227,9796266,9809914,9827529,9828343,9834513,9862076,9869793,9881821,9907412,9930667,9948894,9954185,9955886,9969573,10085783,10110536,10140464,10157484,10219853,10234702,10238657,10313079,10342051,10403199,10915750,10935908,10936292,10938769,10958189,11046097,11048796,11057771,11067463,11091168,11097730,11136686,11140605,11150163,11158353,11159021,11174640,11188745,11193251,11205153,11236201,11264867,11271640,11285653,11292824,11302979,11338509,11348992,11350631,11388558,11407474,11419598,11434448,11486133,11488729,11493665,11496052,11496886,11520759,11534837,11549937,11556910,11556911,11571392,11571555,11578610,11585730,11614934,11636326,11650986,11657899,11664966,11674113,11688533,11693711,11700495,11707647,11714234,11759286,11784975,11842644,11949285,11990852,12056760,12310947,12313523,12358480,12358497,12573513,12617362,12617363,12617364,12617365,12891182,13013865,13039062,13072122,13218777,13229577,13307026,13389335,13633097,14371531,15056663,15096494,15215907,15558638,15604010,15825719,16095400,16211101,16212118,16212969,16213016,16656802,16682746,16682804,16683004,16693908,16722118,16723172,16752772,17988638,18772482,18772487,19758701,19977704,20056430,20056433,20593234,21873022,21896651,21954885,22833361,22883840,23082663,23615703,23664719,23665571,23665759,23665760,23668198,23676745,23682187,24822142,24860538,24864132,25113606,25271089,29934831,44146693,44151818,44473182,45356890,45358380,46173707,46174049,46893156,46944253,51039126,53249225,53297383,53297414,53341374,53491464,53627428,54589430,54598431,54670067,54675779,54676884,54678486,54678504,54680085,54680676,54682651,54689800,54698175,56608859,56840841,56933411,56945144,56945145,57006186,57343740,57414497,57507888,59558935,59988032,60006000,60202781,66553206,68289416,70495450,70652048,71230671,71310221,71312306,71463595,71593923,71657865,72980153,73995022,76007601,76957227,76959035,86287518,86287519,86287521,86289068,86572672,86739665,89881183,89968867,90169437,90478478,101260859,101611446,101678929,101815861,101815863,102004933,102515299,118701038,121463656,121494065,122715527,123670820,124708617,129316835,135398658,135424353,135424354,135438605,135491728,135491830,135492483,135499147,135503327,135515530,135529435,135565117,135571111,135585373,135616186,135618618,135779804,135846942,136257761,136737979,137195227,146158032,154734794/property/MolecularFormula,MolecularWeight,IsomericSMILES,HBondDonorCount,HBondAcceptorCount,RotatableBondCount,HeavyAtomCount/csv\n"
     ]
    }
   ],
   "source": [
    "pugrest = \"https://pubchem.ncbi.nlm.nih.gov/rest/pug\"\n",
    "pugin   = \"compound/cid/\" + cids_str\n",
    "pugoper = \"property/\" + props_str\n",
    "pugout  = \"csv\"\n",
    "url     = pugrest + '/' + pugin + '/' + pugoper + '/' + pugout\n",
    "print(url)\n",
    "\n",
    "#res = requests.get(url)   # This returns an error.\n",
    "#print(res.text)"
   ]
  },
  {
   "cell_type": "markdown",
   "id": "ed734f3f-0a9d-443b-9339-d5136390268b",
   "metadata": {},
   "source": [
    "The above request results in an error.  It is because the length or the request URL is too long.  If you have too many input CIDs, it is highly recommended to chunk them into smaller pieces."
   ]
  },
  {
   "cell_type": "code",
   "execution_count": 16,
   "id": "73b30258-ff3b-49f5-ba83-b8e8a95d8479",
   "metadata": {},
   "outputs": [
    {
     "name": "stdout",
     "output_type": "stream",
     "text": [
      "# Number of CIDs: 1224\n",
      "# Number of chunks: 13\n"
     ]
    }
   ],
   "source": [
    "chunk_size = 100\n",
    "\n",
    "if ( len(cids) % chunk_size == 0 ) :          # check if total number of cids is divisible by 10 with no remainder\n",
    "    num_chunks = len(cids) // chunk_size      # sets number of chunks\n",
    "else :                                        # if divide by 10 results in remainder\n",
    "    num_chunks = len(cids) // chunk_size + 1  # add one more chunk\n",
    "\n",
    "print(\"# Number of CIDs:\", len(cids) )\n",
    "print(\"# Number of chunks:\", num_chunks )"
   ]
  },
  {
   "cell_type": "code",
   "execution_count": 17,
   "id": "44b8f9f2-e89a-45b7-908b-bfedf7b53f5a",
   "metadata": {},
   "outputs": [],
   "source": [
    "import time"
   ]
  },
  {
   "cell_type": "code",
   "execution_count": 18,
   "id": "14e4244f-0d9c-497e-becc-99f0b893f4df",
   "metadata": {},
   "outputs": [],
   "source": [
    "pugrest = \"https://pubchem.ncbi.nlm.nih.gov/rest/pug\"\n",
    "pugoper = \"property/HBondDonorCount,HBondAcceptorCount,XLogP,TPSA\"\n",
    "pugout  = \"csv\"\n",
    "\n",
    "csv = \"\"   #sets a variable called csv to save the comma separated output\n",
    "\n",
    "for i in range(num_chunks) : # sets number of requests to number of data chunks as determined above\n",
    "    \n",
    "    idx1 = chunk_size * i        # sets a variable for a moving window of cids to start in a data chunk\n",
    "    idx2 = chunk_size * (i + 1)  # sets a variable for a moving window of cids to end ina data chunk\n",
    "\n",
    "    pugin = \"compound/cid/\" + \",\".join([ str(x) for x in cids[idx1:idx2] ]) # build pug input for chunks of data\n",
    "    url = \"/\".join( [pugrest, pugin, pugoper, pugout] )   # Construct the URL\n",
    "    \n",
    "    res = requests.get(url)\n",
    "\n",
    "    time.sleep(0.2)\n",
    "    \n",
    "    if ( i == 0 ) : # if this is the first request, store result in empty csv variable\n",
    "        csv = res.text \n",
    "    else :          # if this is a subsequent request, add the request to the csv variable adding a new line between chunks\n",
    "        csv = csv + \"\\n\".join(res.text.split()[1:]) + \"\\n\" \n",
    "\n",
    "with open('long-cid-list.csv', 'w') as file:\n",
    "    file.write(csv)"
   ]
  },
  {
   "cell_type": "markdown",
   "id": "af68e8ba-f7f4-4889-9c06-9ab5fd35a326",
   "metadata": {},
   "source": [
    "Please check the downloaded file."
   ]
  },
  {
   "cell_type": "markdown",
   "id": "220aacf5-1d24-4054-b2ae-5279334ceb78",
   "metadata": {},
   "source": [
    "## Chemical Structure Inputs"
   ]
  },
  {
   "cell_type": "markdown",
   "id": "6faae195-dc2f-4aa7-9038-b0a9a71fc50c",
   "metadata": {},
   "source": [
    "The input query can be specified with a PubChem CID, SMILES, or InChI.  In the following example, a SMILE string is used to search PubChem for the structure represented by that SMILES string."
   ]
  },
  {
   "cell_type": "markdown",
   "id": "4e338b3b-d3ae-41e3-8518-654204540cf0",
   "metadata": {},
   "source": [
    "### Structure encoded in the URL path."
   ]
  },
  {
   "cell_type": "markdown",
   "id": "b52a475b-4502-4ec6-a0e2-e0e344b18ad5",
   "metadata": {},
   "source": [
    "In some cases, you can encode a chemical structure in the PUG-REST request URL path as in the following example."
   ]
  },
  {
   "cell_type": "code",
   "execution_count": 19,
   "id": "40862636-ae9c-4dd0-a6f7-ce7c98eef87c",
   "metadata": {},
   "outputs": [],
   "source": [
    "prolog = 'https://pubchem.ncbi.nlm.nih.gov/rest/pug'"
   ]
  },
  {
   "cell_type": "code",
   "execution_count": 20,
   "id": "4cd04593-b746-447f-b721-a73a38fe217a",
   "metadata": {},
   "outputs": [
    {
     "name": "stdout",
     "output_type": "stream",
     "text": [
      "https://pubchem.ncbi.nlm.nih.gov/rest/pug/compound/smiles/CC(C)CC1=CC=C(C=C1)C(C)C(=O)O/cids/txt\n"
     ]
    }
   ],
   "source": [
    "smiles1 = \"CC(C)CC1=CC=C(C=C1)C(C)C(=O)O\"\n",
    "url = prolog + \"/compound/smiles/\" + smiles1 + \"/cids/txt\"\n",
    "print(url)"
   ]
  },
  {
   "cell_type": "markdown",
   "id": "1977de01-4fda-424b-b8b0-2639a5ece03d",
   "metadata": {},
   "source": [
    "This request URL returns ibuprofen (CID 3672)."
   ]
  },
  {
   "cell_type": "code",
   "execution_count": 21,
   "id": "e9598334-7072-4195-888e-5b6191eb751f",
   "metadata": {},
   "outputs": [
    {
     "name": "stdout",
     "output_type": "stream",
     "text": [
      "3672\n",
      "\n"
     ]
    }
   ],
   "source": [
    "res = requests.get(url)\n",
    "print(res.text)"
   ]
  },
  {
   "cell_type": "markdown",
   "id": "0315cf3c-6719-4a90-a05e-203181c939fc",
   "metadata": {},
   "source": [
    "Try to run the following"
   ]
  },
  {
   "cell_type": "code",
   "execution_count": 22,
   "id": "7384ad1c-4a53-49c8-92c5-1f99aa4eade8",
   "metadata": {},
   "outputs": [
    {
     "name": "stdout",
     "output_type": "stream",
     "text": [
      "Status: 400\n",
      "Code: PUGREST.BadRequest\n",
      "Message: Unable to standardize the given structure - perhaps some special characters need to be escaped or data packed in a MIME form?\n",
      "Detail: error: \n",
      "Detail: status: 400\n",
      "Detail: output: Caught ncbi::CException: Standardization failed\n",
      "Detail: Output Log:\n",
      "Detail: Record 1: Warning: Cactvs Ensemble cannot be created from input string\n",
      "Detail: Record 1: Error: Unable to convert input into a compound object\n",
      "Detail: \n",
      "Detail: \n",
      "\n"
     ]
    }
   ],
   "source": [
    "smiles2 = \"CC1=C([C@@](SC1=O)(C)/C=C(\\C)/C=C)O\"\n",
    "\n",
    "url = prolog + \"/compound/smiles/\" + smiles2 + \"/cids/txt\"\n",
    "res = requests.get(url)\n",
    "print(res.text)"
   ]
  },
  {
   "cell_type": "markdown",
   "id": "f3901309-5966-4f77-8a03-4a73d7ca1a34",
   "metadata": {},
   "source": [
    "Note in the above example that the SMILES string contains special characters. In this case a forward slash (\"/\"), which is also used in the URL path.  These special characters conflict with the PUG-REST request URL syntax, causing an error when used in the PUG-REST request URL."
   ]
  },
  {
   "cell_type": "markdown",
   "id": "2d31e1a2-49eb-43d4-be5b-254424b35555",
   "metadata": {},
   "source": [
    "### Structure encoded as a URL argument"
   ]
  },
  {
   "cell_type": "markdown",
   "id": "5737a6ba-998e-4020-b593-293e281b143f",
   "metadata": {},
   "source": [
    "To circumvent the issue mentioned above, the SMILES string may be encoded as the URL argments (as an optional parameter followed by the \"?\" character)."
   ]
  },
  {
   "cell_type": "code",
   "execution_count": 23,
   "id": "faef4cad-23f9-4c52-8a8c-7a15055816d2",
   "metadata": {},
   "outputs": [
    {
     "name": "stdout",
     "output_type": "stream",
     "text": [
      "https://pubchem.ncbi.nlm.nih.gov/rest/pug/compound/smiles/cids/txt?smiles=CC1=C([C@@](SC1=O)(C)/C=C(\\C)/C=C)O\n",
      "135403829\n",
      "\n"
     ]
    }
   ],
   "source": [
    "url = prolog + \"/compound/smiles/cids/txt?\" + \"smiles=\" + smiles2\n",
    "print(url)\n",
    "res2 = requests.get(url)\n",
    "print(res2.text)"
   ]
  },
  {
   "cell_type": "markdown",
   "id": "8de53a21-7214-4449-8ca4-357ff3fd7f0c",
   "metadata": {},
   "source": [
    "### Structure passed in a dictionary"
   ]
  },
  {
   "cell_type": "markdown",
   "id": "f2129c73-cf77-4789-8d7f-a49aa10d9048",
   "metadata": {},
   "source": [
    "It is also possible to pass the structure query as a key-value pair in a dictionary.  The following example does the same task as the previous example does."
   ]
  },
  {
   "cell_type": "code",
   "execution_count": 24,
   "id": "06e62875-4314-480c-b568-36a368963fc8",
   "metadata": {},
   "outputs": [
    {
     "name": "stdout",
     "output_type": "stream",
     "text": [
      "135403829\n",
      "\n"
     ]
    }
   ],
   "source": [
    "url = prolog + \"/compound/smiles/cids/txt\"\n",
    "struct = { 'smiles': smiles2 }\n",
    "res3 = requests.get(url, params = struct)\n",
    "print(res3.text)"
   ]
  },
  {
   "cell_type": "markdown",
   "id": "03d145c0-96fc-4909-bddb-f537d50ad187",
   "metadata": {},
   "source": [
    "The object returned from a web service request (res, res2, and res3 in our examples) contains information on the request URL through which the data have been retrieved.  This information can be accessed using the \".url\" attribute of the object, as shown in this example:"
   ]
  },
  {
   "cell_type": "code",
   "execution_count": 25,
   "id": "c6707a2b-7549-48f6-99ed-a9aa4d39c0f9",
   "metadata": {},
   "outputs": [
    {
     "name": "stdout",
     "output_type": "stream",
     "text": [
      "CC1=C([C@@](SC1=O)(C)/C=C(\\C)/C=C)O\n",
      "https://pubchem.ncbi.nlm.nih.gov/rest/pug/compound/smiles/cids/txt?smiles=CC1=C(%5BC@@%5D(SC1=O)(C)/C=C(%5CC)/C=C)O\n",
      "\n",
      "{'smiles': 'CC1=C([C@@](SC1=O)(C)/C=C(\\\\C)/C=C)O'}\n",
      "https://pubchem.ncbi.nlm.nih.gov/rest/pug/compound/smiles/cids/txt?smiles=CC1%3DC%28%5BC%40%40%5D%28SC1%3DO%29%28C%29%2FC%3DC%28%5CC%29%2FC%3DC%29O\n"
     ]
    }
   ],
   "source": [
    "print(smiles2)    # the orginal smiles string unencoded\n",
    "print(res2.url)   # from (request 2) structure encoded as a URL argument\n",
    "print()\n",
    "print(struct)     # to show the smiles string in the dictionary is unencoded for URL\n",
    "print(res3.url)   # from (request 3) structure passed in a dictionary"
   ]
  },
  {
   "cell_type": "markdown",
   "id": "5d3935d1-ad9e-4c3b-a5b6-ffbf0559b7eb",
   "metadata": {},
   "source": [
    "From these two URLs, we can see two important things:\n",
    "- When the structure is passed using a key-value pair in a dictionary (i.e., \"res3\"), the structure is automatically encoded as a URL argument (after the \"?\" mark).\n",
    "- When the structure is passed in a dictionary, the special characters in the SMILES string are coverted according to the URL encoding rules: https://www.w3schools.com/tags/ref_urlencode.asp.  [for example, the equal sign \"=\" changes into \"%3D\", and \"(\" into \"%28\", \"/\" into \"%2F\", etc]\n",
    "<br>\n",
    "\n",
    "\n",
    "It illustrates that the last two approaches using HTTP GET are essentially the same."
   ]
  },
  {
   "cell_type": "markdown",
   "id": "f4e35766-f299-4db6-8f11-2e5022fc3174",
   "metadata": {},
   "source": [
    "### Using the HTTP POST method"
   ]
  },
  {
   "cell_type": "markdown",
   "id": "926113da-7c5a-47ab-a7f0-1767917ad0f2",
   "metadata": {},
   "source": [
    "#### Comparison of HTTP POST and GET"
   ]
  },
  {
   "cell_type": "markdown",
   "id": "b25cb589-7f0c-4246-9323-c198dec82dfb",
   "metadata": {},
   "source": [
    "All the three examples above use the HTTP GET method, as implied in the use of \"requests.get()\".  Alternatively, one can use the HTTP POST method.  For example, the following example returns the identical result as the last two HTTP GET examples."
   ]
  },
  {
   "cell_type": "code",
   "execution_count": 26,
   "id": "aa4968c7-a374-46bb-91cd-01d534af1fff",
   "metadata": {},
   "outputs": [
    {
     "name": "stdout",
     "output_type": "stream",
     "text": [
      "https://pubchem.ncbi.nlm.nih.gov/rest/pug/compound/smiles/cids/txt?smiles=CC1%3DC%28%5BC%40%40%5D%28SC1%3DO%29%28C%29%2FC%3DC%28%5CC%29%2FC%3DC%29O\n",
      "135403829\n",
      "\n"
     ]
    }
   ],
   "source": [
    "url = prolog + \"/compound/smiles/cids/txt\"\n",
    "struct = { 'smiles': smiles2 }\n",
    "res = requests.post(url, params = struct)   # the SMILES as a URL parameter\n",
    "print(res.url)\n",
    "print(res.text)"
   ]
  },
  {
   "cell_type": "code",
   "execution_count": 27,
   "id": "d799f77e-8a61-4a45-8863-2b8a7a94bd3a",
   "metadata": {},
   "outputs": [
    {
     "name": "stdout",
     "output_type": "stream",
     "text": [
      "https://pubchem.ncbi.nlm.nih.gov/rest/pug/compound/smiles/cids/txt\n",
      "135403829\n",
      "\n"
     ]
    }
   ],
   "source": [
    "url = prolog + \"/compound/smiles/cids/txt\"\n",
    "struct = { 'smiles': smiles2 }\n",
    "res = requests.post(url, data = struct)    # the SMILES as data\n",
    "print(res.url)\n",
    "print(res.text)"
   ]
  },
  {
   "cell_type": "markdown",
   "id": "dd8d8386-4ff8-4ab8-b2ee-6efd95dfd831",
   "metadata": {},
   "source": [
    "Note that the first one passes the input SMILES string as a parameter, while the second one passes it as data.  Because of this, the URL stored in the \"res.url\" variable in the second code does not contain structure informaion."
   ]
  },
  {
   "cell_type": "markdown",
   "id": "28b6dd75-806f-4b5c-b0d9-06b4102b49df",
   "metadata": {},
   "source": [
    "#### HTTP POST for multi-line structure input"
   ]
  },
  {
   "cell_type": "markdown",
   "id": "56d130ca-6a55-41a4-b524-3cb4de6c8a5d",
   "metadata": {},
   "source": [
    "The HTTP POST method should be used if the input molecular structure for PUG-REST request span over multiple lines (e.g., stored in a structure-data file (SDF) format).  The SDF file contains structure information of a molecule in a multi-line format, along with other data."
   ]
  },
  {
   "cell_type": "code",
   "execution_count": 28,
   "id": "4b4bdd34-b394-4e22-a95c-88102f863263",
   "metadata": {},
   "outputs": [],
   "source": [
    "mysdf = '''1983\n",
    "  -OEChem-07241917072D\n",
    "\n",
    " 20 20  0     0  0  0  0  0  0999 V2000\n",
    "    2.8660   -2.5950    0.0000 O   0  0  0  0  0  0  0  0  0  0  0  0\n",
    "    4.5981    1.4050    0.0000 O   0  0  0  0  0  0  0  0  0  0  0  0\n",
    "    2.8660    1.4050    0.0000 N   0  0  0  0  0  0  0  0  0  0  0  0\n",
    "    2.8660    0.4050    0.0000 C   0  0  0  0  0  0  0  0  0  0  0  0\n",
    "    3.7320   -0.0950    0.0000 C   0  0  0  0  0  0  0  0  0  0  0  0\n",
    "    2.0000   -0.0950    0.0000 C   0  0  0  0  0  0  0  0  0  0  0  0\n",
    "    3.7320   -1.0950    0.0000 C   0  0  0  0  0  0  0  0  0  0  0  0\n",
    "    2.0000   -1.0950    0.0000 C   0  0  0  0  0  0  0  0  0  0  0  0\n",
    "    2.8660   -1.5950    0.0000 C   0  0  0  0  0  0  0  0  0  0  0  0\n",
    "    3.7320    1.9050    0.0000 C   0  0  0  0  0  0  0  0  0  0  0  0\n",
    "    3.7320    2.9050    0.0000 C   0  0  0  0  0  0  0  0  0  0  0  0\n",
    "    4.2690    0.2150    0.0000 H   0  0  0  0  0  0  0  0  0  0  0  0\n",
    "    1.4631    0.2150    0.0000 H   0  0  0  0  0  0  0  0  0  0  0  0\n",
    "    2.3291    1.7150    0.0000 H   0  0  0  0  0  0  0  0  0  0  0  0\n",
    "    4.2690   -1.4050    0.0000 H   0  0  0  0  0  0  0  0  0  0  0  0\n",
    "    1.4631   -1.4050    0.0000 H   0  0  0  0  0  0  0  0  0  0  0  0\n",
    "    4.3520    2.9050    0.0000 H   0  0  0  0  0  0  0  0  0  0  0  0\n",
    "    3.7320    3.5250    0.0000 H   0  0  0  0  0  0  0  0  0  0  0  0\n",
    "    3.1120    2.9050    0.0000 H   0  0  0  0  0  0  0  0  0  0  0  0\n",
    "    2.3291   -2.9050    0.0000 H   0  0  0  0  0  0  0  0  0  0  0  0\n",
    "  1  9  1  0  0  0  0\n",
    "  1 20  1  0  0  0  0\n",
    "  2 10  2  0  0  0  0\n",
    "  3  4  1  0  0  0  0\n",
    "  3 10  1  0  0  0  0\n",
    "  3 14  1  0  0  0  0\n",
    "  4  5  2  0  0  0  0\n",
    "  4  6  1  0  0  0  0\n",
    "  5  7  1  0  0  0  0\n",
    "  5 12  1  0  0  0  0\n",
    "  6  8  2  0  0  0  0\n",
    "  6 13  1  0  0  0  0\n",
    "  7  9  2  0  0  0  0\n",
    "  7 15  1  0  0  0  0\n",
    "  8  9  1  0  0  0  0\n",
    "  8 16  1  0  0  0  0\n",
    " 10 11  1  0  0  0  0\n",
    " 11 17  1  0  0  0  0\n",
    " 11 18  1  0  0  0  0\n",
    " 11 19  1  0  0  0  0\n",
    "M  END\n",
    "> <PUBCHEM_COMPOUND_CID>\n",
    "1983\n",
    "\n",
    "> <PUBCHEM_COMPOUND_CANONICALIZED>\n",
    "1\n",
    "\n",
    "> <PUBCHEM_CACTVS_COMPLEXITY>\n",
    "139\n",
    "\n",
    "> <PUBCHEM_CACTVS_HBOND_ACCEPTOR>\n",
    "2\n",
    "\n",
    "> <PUBCHEM_CACTVS_HBOND_DONOR>\n",
    "2\n",
    "\n",
    "> <PUBCHEM_CACTVS_ROTATABLE_BOND>\n",
    "1\n",
    "$$$$\n",
    "'''"
   ]
  },
  {
   "cell_type": "markdown",
   "id": "075a805f-7d54-41ed-b240-6739700c8d31",
   "metadata": {},
   "source": [
    "In this example, the triple quotes (''') are used to enclose a multi-line string.  This multi-line sdf data is used as an input for a PUG-REST request through the HTTP POST."
   ]
  },
  {
   "cell_type": "code",
   "execution_count": 29,
   "id": "6ca9552c-5952-4d9f-8541-8c38b3b9c774",
   "metadata": {},
   "outputs": [
    {
     "name": "stdout",
     "output_type": "stream",
     "text": [
      "https://pubchem.ncbi.nlm.nih.gov/rest/pug/compound/sdf/cids/txt\n",
      "1983\n",
      "\n"
     ]
    }
   ],
   "source": [
    "url = prolog + \"/compound/sdf/cids/txt\"\n",
    "mydata = { 'sdf': mysdf }\n",
    "res = requests.post(url, data=mydata) # the multiline sdf as URL data\n",
    "print(res.url)\n",
    "print(res.text)"
   ]
  },
  {
   "cell_type": "markdown",
   "id": "e6da6f19-b801-4510-9c49-219e60d0e136",
   "metadata": {},
   "source": [
    "#### HTTP POST for SDF file input"
   ]
  },
  {
   "cell_type": "markdown",
   "id": "02c65725-936f-4a1b-b0fe-6978ed742dd5",
   "metadata": {},
   "source": [
    "One may want to use the structure stored in a file as the input for a PUG-REST request.  The following code shows how to read an SDF file into a variable.  This code cell assumes that the 'Structure2D_CID_5288826.sdf' file is in the current directory.  The file can be downloaded from the **Chapter 2 Assignments** page."
   ]
  },
  {
   "cell_type": "code",
   "execution_count": 30,
   "id": "48be0196-38ea-45f0-bba4-5684f63b7f19",
   "metadata": {},
   "outputs": [
    {
     "name": "stdout",
     "output_type": "stream",
     "text": [
      "5288826\n",
      "  -OEChem-08171913162D\n",
      "\n",
      " 40 44  0     1  0  0  0  0  0999 V2000\n",
      "    2.2314    0.0528    0.0000 O   0  0  0  0  0  0  0  0  0  0  0  0\n",
      "    2.0000   -2.4021    0.0000 O   0  0  0  0  0  0  0  0  0  0  0  0\n",
      "    2.0000    2.4021    0.0000 O   0  0  0  0  0  0  0  0  0  0  0  0\n",
      "    6.1607   -0.9511    0.0000 N   0  0  3  0  0  0  0  0  0  0  0  0\n",
      "    3.6897   -0.4755    0.0000 C   0  0  1  0  0  0  0  0  0  0  0  0\n",
      "    4.5133   -0.9511    0.0000 C   0  0  2  0  0  0  0  0  0  0  0  0\n",
      "    5.3370   -0.4755    0.0000 C   0  0  1  0  0  0  0  0  0  0  0  0\n",
      "    2.8660   -0.9511    0.0000 C   0  0  2  0  0  0  0  0  0  0  0  0\n",
      "    4.2392    0.2219    0.0000 C   0  0  0  0  0  0  0  0  0  0  0  0\n",
      "    3.6897    0.4755    0.0000 C   0  0  0  0  0  0  0  0  0  0  0  0\n",
      "    5.3370    0.4755    0.0000 C   0  0  0  0  0  0  0  0  0  0  0  0\n",
      "    5.5918    0.2219    0.0000 C   0  0  0  0  0  0  0  0  0  0  0  0\n",
      "    4.5133    0.9511    0.0000 C   0  0  0  0  0  0  0  0  0  0  0  0\n",
      "    2.8660   -1.9022    0.0000 C   0  0  2  0  0  0  0  0  0  0  0  0\n",
      "    4.5133   -1.9022    0.0000 C   0  0  0  0  0  0  0  0  0  0  0  0\n",
      "    2.8660    0.9511    0.0000 C   0  0  0  0  0  0  0  0  0  0  0  0\n",
      "    3.6897   -2.3777    0.0000 C   0  0  0  0  0  0  0  0  0  0  0  0\n",
      "    6.8418   -1.6832    0.0000 C   0  0  0  0  0  0  0  0  0  0  0  0\n",
      "    4.5133    1.9022    0.0000 C   0  0  0  0  0  0  0  0  0  0  0  0\n",
      "    2.8660    1.9022    0.0000 C   0  0  0  0  0  0  0  0  0  0  0  0\n",
      "    3.6897    2.3777    0.0000 C   0  0  0  0  0  0  0  0  0  0  0  0\n",
      "    5.0597   -1.6022    0.0000 H   0  0  0  0  0  0  0  0  0  0  0  0\n",
      "    5.6284   -1.2740    0.0000 H   0  0  0  0  0  0  0  0  0  0  0  0\n",
      "    2.0496   -1.1875    0.0000 H   0  0  0  0  0  0  0  0  0  0  0  0\n",
      "    4.3760    0.8266    0.0000 H   0  0  0  0  0  0  0  0  0  0  0  0\n",
      "    3.6795    0.4887    0.0000 H   0  0  0  0  0  0  0  0  0  0  0  0\n",
      "    5.9476    0.3679    0.0000 H   0  0  0  0  0  0  0  0  0  0  0  0\n",
      "    5.5490    1.0581    0.0000 H   0  0  0  0  0  0  0  0  0  0  0  0\n",
      "    6.1840    0.4057    0.0000 H   0  0  0  0  0  0  0  0  0  0  0  0\n",
      "    5.4989    0.8349    0.0000 H   0  0  0  0  0  0  0  0  0  0  0  0\n",
      "    2.8660   -2.5222    0.0000 H   0  0  0  0  0  0  0  0  0  0  0  0\n",
      "    5.0503   -2.2122    0.0000 H   0  0  0  0  0  0  0  0  0  0  0  0\n",
      "    3.6897   -2.9977    0.0000 H   0  0  0  0  0  0  0  0  0  0  0  0\n",
      "    6.3879   -2.1055    0.0000 H   0  0  0  0  0  0  0  0  0  0  0  0\n",
      "    7.2641   -2.1371    0.0000 H   0  0  0  0  0  0  0  0  0  0  0  0\n",
      "    7.2957   -1.2609    0.0000 H   0  0  0  0  0  0  0  0  0  0  0  0\n",
      "    5.0503    2.2122    0.0000 H   0  0  0  0  0  0  0  0  0  0  0  0\n",
      "    3.6897    2.9977    0.0000 H   0  0  0  0  0  0  0  0  0  0  0  0\n",
      "    2.0000   -3.0222    0.0000 H   0  0  0  0  0  0  0  0  0  0  0  0\n",
      "    2.0000    3.0222    0.0000 H   0  0  0  0  0  0  0  0  0  0  0  0\n",
      "  1  8  1  0  0  0  0\n",
      "  1 16  1  0  0  0  0\n",
      " 14  2  1  6  0  0  0\n",
      "  2 39  1  0  0  0  0\n",
      "  3 20  1  0  0  0  0\n",
      "  3 40  1  0  0  0  0\n",
      "  4  7  1  0  0  0  0\n",
      "  4 12  1  0  0  0  0\n",
      "  4 18  1  0  0  0  0\n",
      "  5  6  1  0  0  0  0\n",
      "  5  8  1  0  0  0  0\n",
      "  5  9  1  1  0  0  0\n",
      "  5 10  1  0  0  0  0\n",
      "  6  7  1  0  0  0  0\n",
      "  6 15  1  0  0  0  0\n",
      "  6 22  1  1  0  0  0\n",
      "  7 11  1  0  0  0  0\n",
      "  7 23  1  6  0  0  0\n",
      "  8 14  1  0  0  0  0\n",
      "  8 24  1  1  0  0  0\n",
      "  9 12  1  0  0  0  0\n",
      "  9 25  1  0  0  0  0\n",
      "  9 26  1  0  0  0  0\n",
      " 10 13  2  0  0  0  0\n",
      " 10 16  1  0  0  0  0\n",
      " 11 13  1  0  0  0  0\n",
      " 11 27  1  0  0  0  0\n",
      " 11 28  1  0  0  0  0\n",
      " 12 29  1  0  0  0  0\n",
      " 12 30  1  0  0  0  0\n",
      " 13 19  1  0  0  0  0\n",
      " 14 17  1  0  0  0  0\n",
      " 14 31  1  0  0  0  0\n",
      " 15 17  2  0  0  0  0\n",
      " 15 32  1  0  0  0  0\n",
      " 16 20  2  0  0  0  0\n",
      " 17 33  1  0  0  0  0\n",
      " 18 34  1  0  0  0  0\n",
      " 18 35  1  0  0  0  0\n",
      " 18 36  1  0  0  0  0\n",
      " 19 21  2  0  0  0  0\n",
      " 19 37  1  0  0  0  0\n",
      " 20 21  1  0  0  0  0\n",
      " 21 38  1  0  0  0  0\n",
      "M  END\n",
      "> <PUBCHEM_COMPOUND_CID>\n",
      "5288826\n",
      "\n",
      "> <PUBCHEM_COMPOUND_CANONICALIZED>\n",
      "1\n",
      "\n",
      "> <PUBCHEM_CACTVS_COMPLEXITY>\n",
      "494\n",
      "\n",
      "> <PUBCHEM_CACTVS_HBOND_ACCEPTOR>\n",
      "4\n",
      "\n",
      "> <PUBCHEM_CACTVS_HBOND_DONOR>\n",
      "2\n",
      "\n",
      "> <PUBCHEM_CACTVS_ROTATABLE_BOND>\n",
      "0\n",
      "\n",
      "> <PUBCHEM_CACTVS_SUBSKEYS>\n",
      "AAADceB6MAAAAAAAAAAAAAAAAAAAASAAAAA8YIEAAAAWAEjBAAAAHgAACAAADzzhmAYyBoMABgCAAiBCAAACCAAgIAAIiAAOiIgNNiKGsRuGeCOkwBGLuAew8PcPoAABAAAYQADQAAaAADSAAAAAAAAAAA==\n",
      "\n",
      "> <PUBCHEM_IUPAC_OPENEYE_NAME>\n",
      "(4R,4aR,7S,7aR,12bS)-3-methyl-2,4,4a,7,7a,13-hexahydro-1H-4,12-methanobenzofuro[3,2-e]isoquinoline-7,9-diol\n",
      "\n",
      "> <PUBCHEM_IUPAC_CAS_NAME>\n",
      "(4R,4aR,7S,7aR,12bS)-3-methyl-2,4,4a,7,7a,13-hexahydro-1H-4,12-methanobenzofuro[3,2-e]isoquinoline-7,9-diol\n",
      "\n",
      "> <PUBCHEM_IUPAC_NAME_MARKUP>\n",
      "(4<I>R</I>,4<I>a</I><I>R</I>,7<I>S</I>,7<I>a</I><I>R</I>,12<I>b</I><I>S</I>)-3-methyl-2,4,4<I>a</I>,7,7<I>a</I>,13-hexahydro-1<I>H</I>-4,12-methanobenzofuro[3,2-e]isoquinoline-7,9-diol\n",
      "\n",
      "> <PUBCHEM_IUPAC_NAME>\n",
      "(4R,4aR,7S,7aR,12bS)-3-methyl-2,4,4a,7,7a,13-hexahydro-1H-4,12-methanobenzofuro[3,2-e]isoquinoline-7,9-diol\n",
      "\n",
      "> <PUBCHEM_IUPAC_SYSTEMATIC_NAME>\n",
      "(4R,4aR,7S,7aR,12bS)-3-methyl-2,4,4a,7,7a,13-hexahydro-1H-4,12-methanobenzofuro[3,2-e]isoquinoline-7,9-diol\n",
      "\n",
      "> <PUBCHEM_IUPAC_TRADITIONAL_NAME>\n",
      "(4R,4aR,7S,7aR,12bS)-3-methyl-2,4,4a,7,7a,13-hexahydro-1H-4,12-methanobenzofuro[3,2-e]isoquinoline-7,9-diol\n",
      "\n",
      "> <PUBCHEM_IUPAC_INCHI>\n",
      "InChI=1S/C17H19NO3/c1-18-7-6-17-10-3-5-13(20)16(17)21-15-12(19)4-2-9(14(15)17)8-11(10)18/h2-5,10-11,13,16,19-20H,6-8H2,1H3/t10-,11+,13-,16-,17-/m0/s1\n",
      "\n",
      "> <PUBCHEM_IUPAC_INCHIKEY>\n",
      "BQJCRHHNABKAKU-KBQPJGBKSA-N\n",
      "\n",
      "> <PUBCHEM_XLOGP3>\n",
      "0.8\n",
      "\n",
      "> <PUBCHEM_EXACT_MASS>\n",
      "285.136493\n",
      "\n",
      "> <PUBCHEM_MOLECULAR_FORMULA>\n",
      "C17H19NO3\n",
      "\n",
      "> <PUBCHEM_MOLECULAR_WEIGHT>\n",
      "285.34\n",
      "\n",
      "> <PUBCHEM_OPENEYE_CAN_SMILES>\n",
      "CN1CCC23C4C1CC5=C2C(=C(C=C5)O)OC3C(C=C4)O\n",
      "\n",
      "> <PUBCHEM_OPENEYE_ISO_SMILES>\n",
      "CN1CC[C@]23[C@@H]4[C@H]1CC5=C2C(=C(C=C5)O)O[C@H]3[C@H](C=C4)O\n",
      "\n",
      "> <PUBCHEM_CACTVS_TPSA>\n",
      "52.9\n",
      "\n",
      "> <PUBCHEM_MONOISOTOPIC_WEIGHT>\n",
      "285.136493\n",
      "\n",
      "> <PUBCHEM_TOTAL_CHARGE>\n",
      "0\n",
      "\n",
      "> <PUBCHEM_HEAVY_ATOM_COUNT>\n",
      "21\n",
      "\n",
      "> <PUBCHEM_ATOM_DEF_STEREO_COUNT>\n",
      "5\n",
      "\n",
      "> <PUBCHEM_ATOM_UDEF_STEREO_COUNT>\n",
      "0\n",
      "\n",
      "> <PUBCHEM_BOND_DEF_STEREO_COUNT>\n",
      "0\n",
      "\n",
      "> <PUBCHEM_BOND_UDEF_STEREO_COUNT>\n",
      "0\n",
      "\n",
      "> <PUBCHEM_ISOTOPIC_ATOM_COUNT>\n",
      "0\n",
      "\n",
      "> <PUBCHEM_COMPONENT_COUNT>\n",
      "1\n",
      "\n",
      "> <PUBCHEM_CACTVS_TAUTO_COUNT>\n",
      "-1\n",
      "\n",
      "> <PUBCHEM_COORDINATE_TYPE>\n",
      "1\n",
      "5\n",
      "255\n",
      "\n",
      "> <PUBCHEM_BONDANNOTATIONS>\n",
      "10  13  8\n",
      "10  16  8\n",
      "13  19  8\n",
      "16  20  8\n",
      "19  21  8\n",
      "14  2  6\n",
      "20  21  8\n",
      "5  9  5\n",
      "6  22  5\n",
      "7  23  6\n",
      "8  24  5\n",
      "\n",
      "$$$$\n",
      "\n"
     ]
    }
   ],
   "source": [
    "with open('Structure2D_CID_5288826.sdf', 'r') as file:\n",
    "    mysdf = file.read()\n",
    "    \n",
    "print(mysdf)"
   ]
  },
  {
   "cell_type": "markdown",
   "id": "16449c82-1b4f-45c5-b0f2-9f5b00dff86e",
   "metadata": {},
   "source": [
    "Now the structure stored in the \"mysdf\" can be used in a PUG-REST request through HTTP-POST.  For example, the code cell below shows how to retrieve various names (also called \"synonyms\") of the input structure."
   ]
  },
  {
   "cell_type": "code",
   "execution_count": 31,
   "id": "d7bf5708-d80d-4fbe-b811-e04d3028e675",
   "metadata": {},
   "outputs": [
    {
     "name": "stdout",
     "output_type": "stream",
     "text": [
      "morphine\n",
      "Morphia\n",
      "Morphium\n",
      "Morphinum\n",
      "Morphin\n",
      "(-)-Morphine\n",
      "Ospalivina\n",
      "Morphina\n",
      "Duromorph\n",
      "57-27-2\n",
      "Meconium\n",
      "Morphinism\n",
      "Moscontin\n",
      "Nepenthe\n",
      "MS Contin\n",
      "l-Morphine\n",
      "DepoDur\n",
      "Dulcontin\n",
      "Morfina\n",
      "Roxanol\n",
      "MORPHINE SULFATE\n",
      "Dreamer\n",
      "Morpho\n",
      "Avinza\n",
      "Hocus\n",
      "Kadian\n",
      "Unkie\n",
      "Cube juice\n",
      "Hard stuff\n",
      "Statex SR\n",
      "Ms Emma\n",
      "Morphin [German]\n",
      "Morfina [Italian]\n",
      "Infumorph\n",
      "Morphina [Italian]\n",
      "M-Eslon\n",
      "Anhydrous morphine\n",
      "Morphine [BAN]\n",
      "CCRIS 5762\n",
      "HSDB 2134\n",
      "Morphine anhydrous\n",
      "(5R,6S,9R,13S,14R)-4,5-Epoxy-N-methyl-7-morphinen-3,6-diol\n",
      "Sevredol\n",
      "Morphine (anhydrous)\n",
      "CHEBI:17303\n",
      "N02AA01\n",
      "Morphine extended release\n",
      "CHEMBL70\n",
      "(5alpha,6alpha)-17-methyl-7,8-didehydro-4,5-epoxymorphinan-3,6-diol\n",
      "4,5alpha-Epoxy-17-methyl-7-morphinen-3,6alpha-diol\n",
      "7,8-Didehydro-4,5-epoxy-17-methyl-morphinan-3,6-diol\n",
      "IDS-NM-009\n",
      "(7R,7AS,12BS)-3-METHYL-2,3,4,4A,7,7A-HEXAHYDRO-1H-4,12-METHANO[1]BENZOFURO[3,2-E]ISOQUINOLINE-7,9-DIOL\n",
      "Morphine Anhydrate\n",
      "76I7G6D29C\n",
      "Morphine (BAN)\n",
      "Oramorph\n",
      "RMS\n",
      "(5alpha,6alpha)-Didehydro-4,5-epoxy-17-methylmorphinan-3,6-diol\n",
      "Morphinan-3,6-alpha-diol, 7,8-didehydro-4,5-alpha-epoxy-17-methyl-\n",
      "Morphinan-3,6-diol, 7,8-didehydro-4,5-epoxy-17-methyl-, (5alpha,6alpha)-\n",
      "(4R,4aR,7S,7aR,12bS)-3-methyl-2,4,4a,7,7a,13-hexahydro-1H-4,12-methanobenzofuro[3,2-e]isoquinoline-7,9-diol\n",
      "methyl[?]diol\n",
      "Aguettant\n",
      "Dinamorf\n",
      "Dimorf\n",
      "(5alpha,6alpha)-7,8-Didehydro-4,5-epoxy-17-methylmorphinan-3,6-diol\n",
      "MOI\n",
      "D-(-)-Morphine\n",
      "9H-9,9c-Iminoethanophenanthro(4,5-bcd)furan-3,5-diol, 4a,5,7a,8-tetrahydro-12-methyl-\n",
      "EINECS 200-320-2\n",
      "UNII-76I7G6D29C\n",
      "DEA No. 9300\n",
      "(Morphine)\n",
      "Morphine polistirex\n",
      "Substitol (TN)\n",
      "MOR\n",
      "(-)-(etorphine)\n",
      "(-)Morphine sulfate\n",
      "Morfina Dosa (TN)\n",
      "NSC11441\n",
      "MORPHINE [HSDB]\n",
      "MORPHINE [MI]\n",
      "MORPHINE [VANDF]\n",
      "MORPHINE [MART.]\n",
      "Epitope ID:116646\n",
      "MORPHINE [WHO-DD]\n",
      "SCHEMBL2997\n",
      "BIDD:GT0147\n",
      "GTPL1627\n",
      "(5.alpha.,6.alpha.)-7,8-Didehydro-4,5-epoxy-17-methylmorphinan-3,6-diol\n",
      "DTXSID9023336\n",
      "Morphine 0.1 mg/ml in Methanol\n",
      "Morphine 1.0 mg/ml in Methanol\n",
      "BDBM579485\n",
      "US11484525, Compound Morphine\n",
      "ZINC3812983\n",
      "BDBM50000092\n",
      "MORPHINE (ANHYDROUS) [VANDF]\n",
      "AKOS015966554\n",
      "DB00295\n",
      "C01516\n",
      "D08233\n",
      "Hydromorphone hydrochloride impurity, morphine-\n",
      "Q81225\n",
      "CODEINE MONOHYDRATE IMPURITY B [EP IMPURITY]\n",
      "7,8-Didehydro-4,5-epoxy-17-methylmorphinan-3,6-diol\n",
      "HYDROMORPHONE HYDROCHLORIDE IMPURITY C [EP IMPURITY]\n",
      "17-methyl-7,8-didehydro-4,5alpha-epoxymorphinan-3,6alpha-diol\n",
      "CODEINE HYDROCHLORIDE DIHYDRATE IMPURITY B [EP IMPURITY]\n",
      "CODEINE PHOSPHATE HEMIHYDRATE IMPURITY B [EP IMPURITY]\n",
      "CODEINE PHOSPHATE SESQUIHYDRATE IMPURITY B [EP IMPURITY]\n",
      "7,8-Didehydro-4,5-epoxy-17-methylmorphinan-3,6-diol(morphine)\n",
      "DIHYDROCODEINE HYDROGEN TARTRATE IMPURITY B [EP IMPURITY]\n",
      "(5alpha,6beta)-17-methyl-7,8-didehydro-4,5-epoxymorphinan-3,6-diol\n",
      "3-(4-Hydroxy-phenyl)-1-propyl-piperidine-3-carboxylic acid ethyl ester\n",
      "4,5.ALPHA.-EPOXY-17-METHYL-7,8-DIDEHYDROMORPHINAN-3,6.ALPHA.-DIO\n",
      "6-tert-Butyl-3-methyl-1,2,3,4,5,6-hexahydro-2,6-methano-benzo[d]azocine\n",
      "7,8-DIDEHYDRO-4,5.ALPHA.-EPOXY-17-METHYLMORPHINAN-3,6.ALPHA.-DIOL\n",
      "APOMORPHINE HYDROCHLORIDE HEMIHYDRATE IMPURITY B [EP IMPURITY]\n",
      "HYDROCODONE HYDROGEN TARTRATE 2.5-HYDRATE IMPURITY A [EP IMPURITY]\n",
      "HYDROMORPHONE HYDROCHLORIDE IMPURITY, MORPHINE- [USP IMPURITY]\n",
      "(-)(5.alpha.,6.alpha.)-7,8-Didehydro-4,5-epoxy-17-methylmorphinan-3,6-diol\n",
      "MORPHINAN-3,6-DIOL, 7,8-DIDEHYDRO-4,5-EPOXY-17-METHYL, (5.ALPHA.,6.ALPHA.)-\n",
      "Morphinan-3,6-diol, 7,8-didehydro-4,5-epoxy-17-methyl- (5..alpha.,6.alpha.)-\n",
      "(1S,5R,13R,14S)-12-oxa-4-azapentacyclo[9.6.1.01,13.05,17.07,18]octadeca-7(18),8,10,15-tetraene-10,14-diol\n",
      "(1S,5R,13R,14S,17R)-4-methyl-12-oxa-4-azapentacyclo[9.6.1.0?,??.0?,??.0?,??]octadeca-7,9,11(18),15-tetraene-10,14-diol\n",
      "(1S,5R,13R,14S,17R)-4-methyl-12-oxa-4-azapentacyclo[9.6.1.0^{1,13}.0^{5,17}.0^{7,18}]octadeca-7(18),8,10,15-tetraene-10,14-diol\n",
      "(1S,5R,13R,14S,17R)-4-methyl-12-oxa-4-azapentacyclo[9.6.1.0^{1,13}.0^{5,17}.0^{7,18}]octadeca-7,9,11(18),15-tetraene-10,14-diol\n",
      "(morphine) 4-methyl-(1S,5R,13R,14S,17R)-12-oxa-4-azapentacyclo[9.6.1.01,13.05,17.07,18]octadeca-7(18),8,10,15-tetraene-10,14-diol\n",
      "2-{4-[2,4-diamino-6-pteridinylmethyl(methyl)amino]phenylcarboxamido}pentanedioic acid(morphine)\n",
      "4-methyl-(1S,5R,13R,14S,17R)-12-oxa-4-azapentacyclo[9.6.1.01,13.05,17.07,18]octadeca-7(18),8,10,15-tetraene-10,14-diol\n",
      "4-methyl-(1S,5R,13R,14S,17R)-12-oxa-4-azapentacyclo[9.6.1.01,13.05,17.07,18]octadeca-7(18),8,10,15-tetraene-10,14-diol ; HydroChloride\n",
      "4-methyl-(1S,5R,13R,14S,17R)-12-oxa-4-azapentacyclo[9.6.1.01,13.05,17.07,18]octadeca-7(18),8,10,15-tetraene-10,14-diol ;sulphate salt(morphine)\n",
      "4-methyl-(1S,5R,13R,14S,17R)-12-oxa-4-azapentacyclo[9.6.1.01,13.05,17.07,18]octadeca-7(18),8,10,15-tetraene-10,14-diol((Morphine))\n",
      "4-methyl-(1S,5R,13R,14S,17R)-12-oxa-4-azapentacyclo[9.6.1.01,13.05,17.07,18]octadeca-7(18),8,10,15-tetraene-10,14-diol(morphine sulfate)\n",
      "4-methyl-(1S,5R,13R,14S,17R)-12-oxa-4-azapentacyclo[9.6.1.01,13.05,17.07,18]octadeca-7(18),8,10,15-tetraene-10,14-diol(morphine)\n",
      "4-methyl-(1S,5R,13R,14S,17R)-12-oxa-4-azapentacyclo[9.6.1.01,13.05,17.07,18]octadeca-7(18),8,10,15-tetraene-10,14-diol(Morphine)(HCl)\n",
      "4-methyl-(1S,5R,13R,14S,17R)-12-oxa-4-azapentacyclo[9.6.1.01,13.05,17.07,18]octadeca-7(18),8,10,15-tetraene-10,14-diol,sulfate(Morphinesulfate)\n",
      "4-methyl-(1S,5R,13R,14S,17R)-12-oxa-4-azapentacyclo[9.6.1.01,13.05,17.07,18]octadeca-7(18),8,10,15-tetraene-10,14-diolMorphine\n",
      "4-methyl-12-oxa-4-azapentacyclo[9.6.1.01,13.05,17.07,18]octadeca-7(18),8,10,15-tetraene-10,14-diol\n",
      "4-methyl-12-oxa-4-azapentacyclo[9.6.1.01,13.05,17.07,18]octadeca-7(18),8,10,15-tetraene-10,14-diol (morphine)\n",
      "4-methyl-12-oxa-4-azapentacyclo[9.6.1.01,13.05,17.07,18]octadeca-7(18),8,10,15-tetraene-10,14-diol(Morphine)\n",
      "6,11-Dimethyl-3-(3-methyl-but-2-enyl)-1,2,3,4,5,6-hexahydro-2,6-methano-benzo[d]azocin-8-ol(Morphine)\n",
      "9H-9,9c-Iminoethanophenanthro(4,5-bcd)furan-3,5-diol, 4alpha,5,7alpha,8-tetrahydro-12-methyl-\n",
      "MORPHINE; (5A,6A)-7,8-DIDEHYDRO-4,5-EPOXY-17-METHYLMORPHINIAN-3,6-DIOL; MORPHIUM; MORPHIA; DOLCONTIN; DUROMORPH; MORPHINA; NEPENTHE\n",
      "Morphine;4-methyl-(1S,5R,13R,14S,17R)-12-oxa-4-azapentacyclo[9.6.1.01,13.05,17.07,18]octadeca-7(18),8,10,15-tetraene-10,14-diol\n",
      "\n"
     ]
    }
   ],
   "source": [
    "url = prolog + \"/compound/sdf/synonyms/txt\"\n",
    "mydata = { 'sdf': mysdf }\n",
    "res = requests.post(url, data=mydata)\n",
    "print(res.text)"
   ]
  },
  {
   "cell_type": "markdown",
   "id": "e386d854-92a3-473e-aede-7cf7056d91b5",
   "metadata": {},
   "source": [
    "## Chemical Structure Search"
   ]
  },
  {
   "cell_type": "markdown",
   "id": "ac37f11f-9348-4100-b9e5-88bc7bb192fe",
   "metadata": {},
   "source": [
    "PUG-REST supports various types of chemical structure search.\n",
    "- Identity search\n",
    "- 2-D similarity search\n",
    "- 3-D similarity search\n",
    "- superstructure search\n",
    "- substructure search  "
   ]
  },
  {
   "cell_type": "markdown",
   "id": "dab1863d-3a82-4645-a2b2-8b25fea64f0e",
   "metadata": {},
   "source": [
    "### Identity Search"
   ]
  },
  {
   "cell_type": "markdown",
   "id": "f044e986-62a1-49a5-bb5e-b1fd441bc9a6",
   "metadata": {},
   "source": [
    "PUG-REST allows you to search the PubChem Compound database for molecules identical to the query molecule.  PubChem's identity search supports different contexts of chemical identity, which the user can specify using the optional parameter, \"identity_type\".  Here are some commonly-used chemical identity contexts.\n",
    "- **same_connectivity**: returns compounds with the same atom connectivity as the query molecule, ignoring stereochemistry and isotope information.\n",
    "- **same_isotope**: returns compounds with the same isotopes (as well as the same atom connectivity) as the query molecule.  Stereochemistry will be ignored.\n",
    "- **same_stereo**: returns compounds with the same stereochemistry (as well as the same atom connectivity) as the query molecule.  Isotope information will be ignored.\n",
    "- **same_stereo_isotope**: returns compounds with the same stereochemistry AND isotope information (as well as the same atom connectivity).  This is the default."
   ]
  },
  {
   "cell_type": "markdown",
   "id": "32b213c0-aab0-4c11-8493-a58c04e5733d",
   "metadata": {},
   "source": [
    "The following code cell demostrates how these different contexts of chemical sameness affects identity search in PubChem."
   ]
  },
  {
   "cell_type": "code",
   "execution_count": 32,
   "id": "e812e9ee-534c-42a9-b710-ca5852154ad9",
   "metadata": {},
   "outputs": [],
   "source": [
    "#!pip install rdkit"
   ]
  },
  {
   "cell_type": "code",
   "execution_count": 33,
   "id": "b70e1d6e-a328-45b4-a74d-ff8a03f4bde2",
   "metadata": {},
   "outputs": [
    {
     "name": "stdout",
     "output_type": "stream",
     "text": [
      "#### Identity_type: same_stereo_isotope\n",
      "24726 \"C(/C=C/Cl)Cl\"\n"
     ]
    },
    {
     "data": {
      "image/png": "[encoded data removed]",
      "text/plain": [
       "<IPython.core.display.Image object>"
      ]
     },
     "metadata": {},
     "output_type": "display_data"
    },
    {
     "name": "stdout",
     "output_type": "stream",
     "text": [
      "#### Identity_type: same_stereo\n",
      "24726 \"C(/C=C/Cl)Cl\"\n",
      "102602172 \"[2H]/C(=C(/[2H])\\Cl)/C([2H])([2H])Cl\"\n"
     ]
    },
    {
     "data": {
      "image/png": "[encoded data removed]",
      "text/plain": [
       "<IPython.core.display.Image object>"
      ]
     },
     "metadata": {},
     "output_type": "display_data"
    },
    {
     "name": "stdout",
     "output_type": "stream",
     "text": [
      "#### Identity_type: same_isotope\n",
      "24726 \"C(/C=C/Cl)Cl\"\n",
      "24883 \"C(C=CCl)Cl\"\n",
      "5280970 \"C(/C=C\\Cl)Cl\"\n"
     ]
    },
    {
     "data": {
      "image/png": "[encoded data removed]",
      "text/plain": [
       "<IPython.core.display.Image object>"
      ]
     },
     "metadata": {},
     "output_type": "display_data"
    },
    {
     "name": "stdout",
     "output_type": "stream",
     "text": [
      "#### Identity_type: same_connectivity\n",
      "24726 \"C(/C=C/Cl)Cl\"\n",
      "24883 \"C(C=CCl)Cl\"\n",
      "5280970 \"C(/C=C\\Cl)Cl\"\n",
      "102602172 \"[2H]/C(=C(/[2H])\\Cl)/C([2H])([2H])Cl\"\n",
      "131875718 \"[2H]C(=C([2H])Cl)C([2H])([2H])Cl\"\n"
     ]
    },
    {
     "data": {
      "image/png": "[encoded data removed]",
      "text/plain": [
       "<IPython.core.display.Image object>"
      ]
     },
     "metadata": {},
     "output_type": "display_data"
    }
   ],
   "source": [
    "import requests\n",
    "import time\n",
    "import io\n",
    "\n",
    "from rdkit import Chem\n",
    "from rdkit.Chem import Draw\n",
    "\n",
    "prolog = \"https://pubchem.ncbi.nlm.nih.gov/rest/pug\"\n",
    "\n",
    "mydata = { 'smiles' : 'C(/C=C/Cl)Cl' }\n",
    "options = [ 'same_stereo_isotope', # This is the default\n",
    "            'same_stereo',\n",
    "            'same_isotope',\n",
    "            'same_connectivity']\n",
    "\n",
    "for myoption in ( options ) :\n",
    "\n",
    "    print(\"#### Identity_type:\", myoption)\n",
    "    \n",
    "    url = prolog + '/compound/fastidentity/smiles/property/isomericsmiles/csv?identity_type=' + myoption\n",
    "    res = requests.post(url, data=mydata)\n",
    "    \n",
    "    mycids = []\n",
    "    mysmiles = []\n",
    "    \n",
    "    file = io.StringIO(res.text)\n",
    "    file.readline()               # Skip the first line (column heads)\n",
    "    \n",
    "    for line in file :\n",
    "        \n",
    "        ( cid_tmp, smiles_tmp ) = line.rstrip().split(',')\n",
    "        print(cid_tmp, smiles_tmp)\n",
    "        \n",
    "        mycids.append( cid_tmp )\n",
    "        mysmiles.append( smiles_tmp.replace('\"',\"\") )\n",
    "\n",
    "    mols = []\n",
    "    \n",
    "    for x in mysmiles :\n",
    "        \n",
    "        mol = Chem.MolFromSmiles(x)\n",
    "        Chem.FindPotentialStereoBonds(mol)    # Identify potential stereo bonds!\n",
    "        mols.append(mol)\n",
    "    \n",
    "    img = Draw.MolsToGridImage(mols, molsPerRow=3, subImgSize=(200,200), legends=mycids)\n",
    "    display(img)\n",
    "            \n",
    "    time.sleep(0.2)"
   ]
  },
  {
   "cell_type": "markdown",
   "id": "203a8bee-87f6-41dd-b99b-f4fd81fe4b48",
   "metadata": {},
   "source": [
    "### Similarity search"
   ]
  },
  {
   "cell_type": "markdown",
   "id": "1a0710bd-3b4f-4366-9232-403d66a6d66f",
   "metadata": {},
   "source": [
    "PubChem supports 2-dimensional (2-D) and 3-dimensional (3-D) similarity searches.  Because molecular similarity is not a measurable physical observable but a subjective concept, many approaches have been developed to evaluate it.  Detailed discussion on how PubChem quantifyies molecular similarity, read the following LibreTexts page:\n",
    "    \n",
    "**Searching PubChem Using a Non-Textual Query** (https://bit.ly/2lPznCo)\n"
   ]
  },
  {
   "cell_type": "markdown",
   "id": "56152c87-aa11-4f46-b520-58312e75e35b",
   "metadata": {},
   "source": [
    "The code cell below demonstrates how to perform 2-D and 3-D similarity searches."
   ]
  },
  {
   "cell_type": "code",
   "execution_count": 34,
   "id": "845ed572-7f61-497b-9052-afeb7b365f75",
   "metadata": {},
   "outputs": [
    {
     "name": "stdout",
     "output_type": "stream",
     "text": [
      "# Number of CIDs: 36\n",
      "['9875401', '6433119', '11524901', '25255944', '159596345', '154630277', '145624246', '145624236', '144489887', '143433422', '123868009', '68152323', '56598114', '56589668', '25190310', '25164166', '11994745', '25190129', '25190130', '25190186', '25190187', '25190188', '25190189', '25190190', '25190248', '25190249', '25190250', '25190251', '25190252', '25190311', '25255845', '25255945', '25255946', '49849874', '133687098', '156594383']\n"
     ]
    }
   ],
   "source": [
    "mydata = { 'smiles' : \"C1COCC(=O)N1C2=CC=C(C=C2)N3C[C@@H](OC3=O)CNC(=O)C4=CC=C(S4)Cl\" }\n",
    "url = prolog + \"/compound/fastsimilarity_2d/smiles/cids/txt?Threshold=99\"\n",
    "res = requests.post(url,data=mydata)\n",
    "cids = res.text.split()\n",
    "\n",
    "print(\"# Number of CIDs:\", len(cids))\n",
    "print(cids)"
   ]
  },
  {
   "cell_type": "markdown",
   "id": "6f50c8c1-eb7e-443b-bce0-0e1ce7898d90",
   "metadata": {},
   "source": [
    "It is worth mentioning that the parameter name \"Threshold\" is **case-sensitive**.  If \"threshold\" is used (rather than \"Threshold\"), it will be ignored and the default value (0.90) will be used for the parameter.  \\[As a matter of fact, all optional parameter names in PUG-REST are case-sensitive.]"
   ]
  },
  {
   "cell_type": "code",
   "execution_count": 35,
   "id": "291eb080-a27d-46d1-9471-5d2d8f7c3305",
   "metadata": {},
   "outputs": [
    {
     "name": "stdout",
     "output_type": "stream",
     "text": [
      "# Number of CIDs: 216 vs. 995\n"
     ]
    }
   ],
   "source": [
    "url1 = prolog + \"/compound/fastsimilarity_2d/smiles/cids/txt?Threshold=95\"\n",
    "url2 = prolog + \"/compound/fastsimilarity_2d/smiles/cids/txt?threshold=95\"  # \"threshold=95\" is ignored.\n",
    "\n",
    "res1 = requests.post(url1,data=mydata)\n",
    "res2 = requests.post(url2,data=mydata)\n",
    "cids1 = res1.text.split()\n",
    "cids2 = res2.text.split()\n",
    "\n",
    "print(\"# Number of CIDs:\", len(cids1), \"vs.\", len(cids2))"
   ]
  },
  {
   "cell_type": "markdown",
   "id": "1f03cc8b-256b-4541-b7a7-1f4089179495",
   "metadata": {},
   "source": [
    "It is possible to run 3-D similarity search using PUG-REST.  However, because 3-D similarity search takes much longer than 2-D similarity search, it often exceeds the 30-second time limit and returns a time-out error, especially when the query molecule is big."
   ]
  },
  {
   "cell_type": "markdown",
   "id": "c03e1c0e-4b05-4d63-bc39-1dea292a449b",
   "metadata": {},
   "source": [
    "In addition, for 3-D similarity search, it is **not** possible to adjust the similarity threshold (that is, the optional \"Threshold\" parameter does not work).  3-D similarity search uses a shape-Tanimoto (ST) of >=0.80 and a color-Tanimoto (CT) of >=0.50 as a similarity threshold.  Read the libreTexts page for more details (https://bit.ly/2lPznCo)."
   ]
  },
  {
   "cell_type": "code",
   "execution_count": 36,
   "id": "d2df75d8-0da4-464b-97b7-7eda5d889806",
   "metadata": {},
   "outputs": [
    {
     "name": "stdout",
     "output_type": "stream",
     "text": [
      "2994\n"
     ]
    }
   ],
   "source": [
    "mydata = { 'smiles' : 'CC(=O)OC1=CC=CC=C1C(=O)O'}\n",
    "url = prolog + \"/compound/fastsimilarity_3d/smiles/cids/txt\"\n",
    "res = requests.post(url, data=mydata)\n",
    "cids = res.text.split()\n",
    "print(len(cids))"
   ]
  },
  {
   "cell_type": "markdown",
   "id": "1b0cbc05-83ce-4dcc-bbc5-99f9c9331d6d",
   "metadata": {},
   "source": [
    "### Substructure/Superstructure search"
   ]
  },
  {
   "cell_type": "markdown",
   "id": "95c00e12-dfe4-4827-b556-dcf53b95e4f6",
   "metadata": {},
   "source": [
    "When a chemical structure occurs as a part of a bigger chemical structure, the former is called a substructure and the latter is referred to as a superstructure (https://bit.ly/2lPznCo).  PUG-REST supports both substructure and superstructure searches.  For example, below is an example for substructure search using the core structure of antibiotic drugs called cephalosporins as a query (https://en.wikipedia.org/wiki/Cephalosporin). "
   ]
  },
  {
   "cell_type": "code",
   "execution_count": 37,
   "id": "9b8054a3-19ba-43b6-8b31-393ecdd5a622",
   "metadata": {},
   "outputs": [
    {
     "name": "stdout",
     "output_type": "stream",
     "text": [
      "# Number of CIDs: 25945\n"
     ]
    }
   ],
   "source": [
    "query = 'C12(SCC(=C(N1C([C@H]2NC(=O)[*])=O)C(=O)O[H])[*])[H]'\n",
    "\n",
    "mydata = { 'smiles' : query }\n",
    "url = prolog + \"/compound/fastsubstructure/smiles/cids/txt?Stereo=exact\"\n",
    "res = requests.post(url, data=mydata)\n",
    "cids = res.text.split()\n",
    "\n",
    "print(\"# Number of CIDs:\", len(cids))\n",
    "#print(cids)"
   ]
  },
  {
   "cell_type": "markdown",
   "id": "4728aa62-3e5c-47ef-8a97-0e59ec250fef",
   "metadata": {},
   "source": [
    "An important thing to remember about substructure search is that, if the query structure is not specific enough (that is, not big enough), it will return too many hits for the PubChem server can handle.  For example, if you perform substructure search using the \"C-C\" as a query, it will give you an error, because PubChem has ~96 million (organic) compounds with more than two carbon atoms and most of them will have the \"C-C\" unit. Therefore, if you get an \"time-out\" error while doing substructure search, consider providing more specific structure as an input query."
   ]
  },
  {
   "cell_type": "markdown",
   "id": "9b886c3d-243a-4817-bb3e-f4fe76dffd45",
   "metadata": {},
   "source": [
    "### Molecular formula search"
   ]
  },
  {
   "cell_type": "markdown",
   "id": "e60bf715-72d4-4971-a49b-5603d5a0fae9",
   "metadata": {},
   "source": [
    "Strictly speaking, molecular formula search is not structure search, but its PUG-REST request URL is constructed in a similar way to structure searches like identity, similarity, and substructure/superstructure searches."
   ]
  },
  {
   "cell_type": "code",
   "execution_count": 38,
   "id": "a33ca460-3396-4076-a150-570fb98fc9d5",
   "metadata": {},
   "outputs": [
    {
     "name": "stdout",
     "output_type": "stream",
     "text": [
      "# Number of CIDs: 204\n"
     ]
    }
   ],
   "source": [
    "query = 'C22H28FN3O6S'    # Molecular formula for Crestor (Rosuvastatin: CID 446157)\n",
    "\n",
    "url = prolog + \"/compound/fastformula/\"+ query + \"/cids/txt\"\n",
    "res = requests.get(url)\n",
    "cids = res.text.split()\n",
    "print(\"# Number of CIDs:\", len(cids))\n",
    "#print(cids)"
   ]
  },
  {
   "cell_type": "markdown",
   "id": "02a03fe1-aa12-4ce2-a42d-23c7a1bcf4b0",
   "metadata": {},
   "source": [
    "It is possible to allow other elements to be present in addition to those specified by the query formula, as shown in the following example.\n"
   ]
  },
  {
   "cell_type": "code",
   "execution_count": 39,
   "id": "d9011339-2970-432b-adc0-35a54b4ac3da",
   "metadata": {},
   "outputs": [
    {
     "name": "stdout",
     "output_type": "stream",
     "text": [
      "# Number of CIDs: 228\n"
     ]
    }
   ],
   "source": [
    "url = prolog + \"/compound/fastformula/\"+ query + \"/cids/txt?AllowOtherElements=true\"\n",
    "res = requests.get(url)\n",
    "cids = res.text.split()\n",
    "print(\"# Number of CIDs:\", len(cids))\n",
    "#print(cids)"
   ]
  },
  {
   "cell_type": "markdown",
   "id": "1df036da-e49c-4f12-a038-007acf7ab3f5",
   "metadata": {},
   "source": [
    "## PUG-View"
   ]
  },
  {
   "cell_type": "markdown",
   "id": "2e549117-66d3-4fd4-b913-7b962cddaccc",
   "metadata": {},
   "source": [
    "**PUG-View** (https://doi.org/10.1186/s13321-019-0375-2) is a Representational State Transfer (REST)-style web service interface specialized for accessing **annotation data** contained in PubChem.<br>  \n",
    "Many users are often confused with PUG-REST and PUG-View.  PUG-View can be used to download the annotation data displayed on the Summary page of a PubChem record (e.g., compound).  Because these annotations are collected from various sources, they are difficult to format in a consistent way.  So they are usually in a unstructured text format, as shown in the following example.\n",
    "\n",
    "https://pubchem.ncbi.nlm.nih.gov/compound/7206#section=Ecotoxicity-Values"
   ]
  },
  {
   "cell_type": "markdown",
   "id": "698751f8-65f0-4258-b8e8-6eb3fc2d982a",
   "metadata": {},
   "source": [
    "The syntax of a PUG-REST request URL is very simple."
   ]
  },
  {
   "cell_type": "markdown",
   "id": "27927a66-556b-4377-a640-b9862dc1f6d4",
   "metadata": {},
   "source": [
    "![pug-view-syntax](images/pug-view-syntax.webp)"
   ]
  },
  {
   "cell_type": "markdown",
   "id": "0c5e6a6f-ffed-43b4-a6f2-ffcb9dde1342",
   "metadata": {},
   "source": [
    "**Note:**  <br>\n",
    "PUG-View can take only one record identifier.  In contrast, some PUG-REST request URL can have multiple identifiers, as shown in a previous section."
   ]
  },
  {
   "cell_type": "markdown",
   "id": "e11b6d34-a567-41d8-91d4-549f218c9c11",
   "metadata": {},
   "source": [
    "### Getting a specific annotation for a compound"
   ]
  },
  {
   "cell_type": "markdown",
   "id": "4124e84c-d49e-4331-96d5-e7952df0d46f",
   "metadata": {},
   "source": [
    "Suppose that we want to download non-human toxicity values for CID 7206\n",
    "\n",
    "https://pubchem.ncbi.nlm.nih.gov/compound/7206#section=Non-Human-Toxicity-Values"
   ]
  },
  {
   "cell_type": "code",
   "execution_count": 40,
   "id": "1b2d852d-dee9-4351-aaa0-2fe30bf0b104",
   "metadata": {},
   "outputs": [],
   "source": [
    "import json"
   ]
  },
  {
   "cell_type": "code",
   "execution_count": 41,
   "id": "5a18bc1a-b795-423e-b3de-0f9e508d65f1",
   "metadata": {},
   "outputs": [
    {
     "name": "stdout",
     "output_type": "stream",
     "text": [
      "https://pubchem.ncbi.nlm.nih.gov/rest/pug_view/data/compound/7206/json?heading=Non+Human+Toxicity+Values\n"
     ]
    },
    {
     "data": {
      "text/plain": [
       "[{'ReferenceNumber': 13,\n",
       "  'Description': 'PEER REVIEWED',\n",
       "  'Reference': ['WHO; Environ Health Criteria: Phenoxyherbicides p.65 (1984)'],\n",
       "  'Value': {'StringWithMarkup': [{'String': 'LD50 Mouse oral 380 mg/kg'}]}},\n",
       " {'ReferenceNumber': 13,\n",
       "  'Description': 'PEER REVIEWED',\n",
       "  'Reference': ['WHO; Environ Health Criteria: Phenoxyherbicides p.65 (1984)'],\n",
       "  'Value': {'StringWithMarkup': [{'String': 'LD50 Rat oral 920 mg/kg'}]}},\n",
       " {'ReferenceNumber': 13,\n",
       "  'Description': 'PEER REVIEWED',\n",
       "  'Reference': ['WHO; Environ Health Criteria: 2,4-Dichlorophenoxyacetic Acid (2,4-D) p.66 (1984)'],\n",
       "  'Value': {'StringWithMarkup': [{'String': 'LD50 Chick (M,F) 2000 mg/kg (1350-2960 mg/kg) oral acid equivalent of 1503 mg/kg /From table, 2,4-D butyl esters/',\n",
       "     'Markup': [{'Start': 94,\n",
       "       'Length': 5,\n",
       "       'URL': 'https://pubchem.ncbi.nlm.nih.gov/compound/2%2C4-D',\n",
       "       'Type': 'PubChem Internal Link',\n",
       "       'Extra': 'CID-1486'}]}]}},\n",
       " {'ReferenceNumber': 13,\n",
       "  'Description': 'PEER REVIEWED',\n",
       "  'Reference': [\"Lewis, R.J. Sax's Dangerous Properties of Industrial Materials. 9th ed. Volumes 1-3. New York, NY: Van Nostrand Reinhold, 1996., p. 578\"],\n",
       "  'Value': {'StringWithMarkup': [{'String': 'LD50 Rat oral 600 mg/kg'}]}},\n",
       " {'ReferenceNumber': 13,\n",
       "  'Description': 'PEER REVIEWED',\n",
       "  'Value': {'StringWithMarkup': [{'String': 'For more Non-Human Toxicity Values (Complete) data for 2,4-D BUTYL ESTER (8 total), please visit the HSDB record page.',\n",
       "     'Markup': [{'Start': 101,\n",
       "       'Length': 16,\n",
       "       'URL': 'https://pubchem.ncbi.nlm.nih.gov/source/hsdb/1633#section=Non-Human-Toxicity-Values-(Complete)'},\n",
       "      {'Start': 55,\n",
       "       'Length': 5,\n",
       "       'URL': 'https://pubchem.ncbi.nlm.nih.gov/compound/2%2C4-D',\n",
       "       'Type': 'PubChem Internal Link',\n",
       "       'Extra': 'CID-1486'}]}]}}]"
      ]
     },
     "execution_count": 41,
     "metadata": {},
     "output_type": "execute_result"
    }
   ],
   "source": [
    "pugview = \"https://pubchem.ncbi.nlm.nih.gov/rest/pug_view\"\n",
    "pugdata = \"data\"\n",
    "pugrecord = \"compound/7206\"\n",
    "pugout  = \"json\"\n",
    "pugoption = \"heading=Non+Human+Toxicity+Values\"\n",
    "\n",
    "url     = pugview + '/' + pugdata + '/' + pugrecord + '/' + pugout + \"?\" + pugoption\n",
    "print(url)\n",
    "\n",
    "res = requests.get(url)\n",
    "#print(res.text)\n",
    "\n",
    "tox_vals = res.json()\n",
    "tox_vals['Record']['Section'][0]['Section'][0]['Section'][0]['Information']"
   ]
  },
  {
   "cell_type": "markdown",
   "id": "33665c72-a371-4b13-8093-7b4aad0345ac",
   "metadata": {},
   "source": [
    "We need to parse the returned json data to extract the desired data."
   ]
  },
  {
   "cell_type": "code",
   "execution_count": 42,
   "id": "df216327-27cc-48d7-8853-4fe7a3dd5832",
   "metadata": {},
   "outputs": [],
   "source": [
    "section = tox_vals['Record']['Section'][0]['Section'][0]['Section'][0]"
   ]
  },
  {
   "cell_type": "code",
   "execution_count": 43,
   "id": "cc49919a-88d1-4184-ae26-e9872fb81cd7",
   "metadata": {},
   "outputs": [
    {
     "name": "stdout",
     "output_type": "stream",
     "text": [
      "* LD50 Mouse oral 380 mg/kg\n",
      "* LD50 Rat oral 920 mg/kg\n",
      "* LD50 Chick (M,F) 2000 mg/kg (1350-2960 mg/kg) oral acid equivalent of 1503 mg/kg /From table, 2,4-D butyl esters/\n",
      "* LD50 Rat oral 600 mg/kg\n",
      "* For more Non-Human Toxicity Values (Complete) data for 2,4-D BUTYL ESTER (8 total), please visit the HSDB record page.\n"
     ]
    }
   ],
   "source": [
    "for i_item in section['Information']:\n",
    "    for j_item in i_item['Value']['StringWithMarkup']:\n",
    "        print(\"*\", j_item['String'])\n"
   ]
  },
  {
   "cell_type": "markdown",
   "id": "90ab82ab-8413-4b38-9b8f-5ecff9d658c7",
   "metadata": {},
   "source": [
    "### Getting full annotations for a compound"
   ]
  },
  {
   "cell_type": "markdown",
   "id": "71cab069-ccae-4ea7-9a68-94b1b1b05549",
   "metadata": {},
   "source": [
    "It is also possible to download (the majority of) annotation data presented on the Compound Summary page."
   ]
  },
  {
   "cell_type": "code",
   "execution_count": 44,
   "id": "4d82dd1f-dacf-4660-ba8c-54e06b4c8ffc",
   "metadata": {},
   "outputs": [
    {
     "name": "stdout",
     "output_type": "stream",
     "text": [
      "https://pubchem.ncbi.nlm.nih.gov/rest/pug_view/data/compound/7206/json\n"
     ]
    }
   ],
   "source": [
    "pugview = \"https://pubchem.ncbi.nlm.nih.gov/rest/pug_view\"\n",
    "pugdata = \"data\"\n",
    "pugrecord = \"compound/7206\"\n",
    "pugout  = \"json\"\n",
    "#pugoption = \"heading=Non+Human+Toxicity+Values\"\n",
    "\n",
    "url     = pugview + '/' + pugdata + '/' + pugrecord + '/' + pugout\n",
    "print(url)\n",
    "\n",
    "res = requests.get(url)\n",
    "#print(res.json())      # avoid printing this, because it's very long.\n",
    "\n",
    "with open('cid-7206-tox-values.json', 'w') as file:\n",
    "    json.dump(res.json(), file, indent=4)"
   ]
  },
  {
   "cell_type": "markdown",
   "id": "c5cb1279-5a3d-4ee4-aed5-cb12aff8d0f6",
   "metadata": {},
   "source": [
    "### Getting all annotations for a specific heading"
   ]
  },
  {
   "cell_type": "markdown",
   "id": "6718e64a-7f9a-4cda-befb-552d8cd97984",
   "metadata": {},
   "source": [
    "While some users often want to get annotation data for many compounds, PUG-View can take only one record identifier (e.g., only one CID), as mentioned in a previous section.\n",
    "\n",
    "However, it is possible to get all annotations presented in a specific section for **all** compounds.\n"
   ]
  },
  {
   "cell_type": "code",
   "execution_count": 45,
   "id": "9e5866de-f8d7-49cf-9977-76c687304d2b",
   "metadata": {},
   "outputs": [
    {
     "name": "stdout",
     "output_type": "stream",
     "text": [
      "https://pubchem.ncbi.nlm.nih.gov/rest/pug_view/annotations/heading/Non-Human%20Toxicity%20Values/json\n"
     ]
    }
   ],
   "source": [
    "pugview = \"https://pubchem.ncbi.nlm.nih.gov/rest/pug_view\"\n",
    "pugdata = \"annotations\"\n",
    "pugrecord = \"heading/Non-Human%20Toxicity%20Values\"\n",
    "pugout  = \"json\"\n",
    "\n",
    "#https://pubchem.ncbi.nlm.nih.gov/rest/pug_view/annotations/heading/Viscosity/JSON\n",
    "\n",
    "url     = pugview + '/' + pugdata + '/' + pugrecord + '/' + pugout\n",
    "print(url)\n",
    "\n",
    "res = requests.get(url)\n",
    "#print(res.json())\n",
    "\n",
    "with open('cid-7206-tox-values.json', 'w') as file:\n",
    "    json.dump(res.json(), file, indent=4)"
   ]
  },
  {
   "cell_type": "markdown",
   "id": "4b901e79-faac-41ec-b8fd-e6abc5bc342d",
   "metadata": {},
   "source": [
    "The downloaded file contains the non-human toxicity values data for all compounds.  From this file, you can extract the data for a set of compounds that you want."
   ]
  },
  {
   "cell_type": "markdown",
   "id": "1da9e72b-c9e6-4030-8017-653bfa997203",
   "metadata": {},
   "source": [
    "Also keep in mind that some headings have more data than others, and retrieval is limited. There will be \"Page\" and \"TotalPages\" values at the end of the request data, that will indicate the given page number and whether there is more data than shown in the given request (that is, whether TotalPages is greater than one). \n",
    "\n",
    "```\n",
    "...\n",
    "    ],\n",
    "    \"Page\": 1,\n",
    "    \"TotalPages\": 4\n",
    "  }\n",
    "}\n",
    "```\n",
    "\n",
    "By default, page #1 is returned, but subsequent pages (up to the TotalPages limit) can be accessed by adding a page argument. "
   ]
  },
  {
   "cell_type": "code",
   "execution_count": 46,
   "id": "5f9ea2be-00d9-4572-9412-927aeda33c98",
   "metadata": {},
   "outputs": [
    {
     "name": "stdout",
     "output_type": "stream",
     "text": [
      "https://pubchem.ncbi.nlm.nih.gov/rest/pug_view/annotations/heading/Non-Human%20Toxicity%20Values/json?page=2\n"
     ]
    }
   ],
   "source": [
    "pugview = \"https://pubchem.ncbi.nlm.nih.gov/rest/pug_view\"\n",
    "pugdata = \"annotations\"\n",
    "pugrecord = \"heading/Non-Human%20Toxicity%20Values\"\n",
    "pugout  = \"json\"\n",
    "pugoption = \"page=2\"\n",
    "\n",
    "#https://pubchem.ncbi.nlm.nih.gov/rest/pug_view/annotations/heading/Viscosity/JSON\n",
    "\n",
    "url     = pugview + '/' + pugdata + '/' + pugrecord + '/' + pugout + '?' + pugoption\n",
    "print(url)\n",
    "\n",
    "res = requests.get(url)\n",
    "#print(res.json())\n",
    "\n",
    "#with open('cid-7206-tox-values.json', 'w') as file:\n",
    "#    json.dump(res.json(), file, indent=4)"
   ]
  },
  {
   "cell_type": "markdown",
   "id": "d09b347a-bd1d-47b4-b407-82e90e73abb5",
   "metadata": {},
   "source": [
    "## Entrez Utilities (E-Utils)"
   ]
  },
  {
   "cell_type": "markdown",
   "id": "5f338ed6-b26f-4e8f-b324-2bbcce41d840",
   "metadata": {},
   "source": [
    "Entrez is the search and retrieval system used for PubChem and other major NCBI databases, including PubMed, Nucleotide and Protein Sequences, Protein Structures, Genome, Taxonomy, BioSystems, Gene Expression Omnibus (GEO).  \n",
    "  NCBI's Entrez Utilities (also called E-Utilities or E-Utils) are used for programmatic access to information contained in the Entrez system. For more information, please read the following document:<br><br>\n",
    "https://www.ncbi.nlm.nih.gov/books/NBK25501/<br><br>\n",
    "  If you need to make a lot of frequent requests using E-Utils, you will need to get an API keys, as described in E-Utils' usage guidelines:<br>\n",
    "<br>\n",
    "https://www.ncbi.nlm.nih.gov/books/NBK25497/#chapter2.Usage_Guidelines_and_Requiremen<br><br> \n",
    "  Note that PUG-REST and PUG-View do **not** require API keys."
   ]
  },
  {
   "cell_type": "markdown",
   "id": "e560866a-54f5-4421-a7ae-7aaf74a3d12e",
   "metadata": {},
   "source": [
    "  In this section, we look into how many compounds satisfy Lipinski's rule of five (Ro5), by programmatically accessing relevant data through E-Utilities.\n",
    "  \n",
    "First, we define a function that gets the number of drug-like compounds through E-Utilities."
   ]
  },
  {
   "cell_type": "code",
   "execution_count": 47,
   "id": "32206394-f3ee-4392-aaf9-d106e3c55333",
   "metadata": {},
   "outputs": [],
   "source": [
    "from itertools import combinations"
   ]
  },
  {
   "cell_type": "code",
   "execution_count": 48,
   "id": "e0f776e4-9054-4979-9147-36f2c35012b9",
   "metadata": {},
   "outputs": [],
   "source": [
    "#!pip install Bio"
   ]
  },
  {
   "cell_type": "code",
   "execution_count": 49,
   "id": "13e85771-91e2-4612-a422-9b9dcb686439",
   "metadata": {},
   "outputs": [],
   "source": [
    "from Bio import Entrez\n",
    "Entrez.email = \"kimsungh@ncbi.nlm.nih.gov\""
   ]
  },
  {
   "cell_type": "code",
   "execution_count": 50,
   "id": "f82500dd-2374-41db-8631-dd39fc64695e",
   "metadata": {},
   "outputs": [],
   "source": [
    "def drug_likeness(rules) :\n",
    "    \n",
    "    cid_counts = []\n",
    "    \n",
    "    print(\"#Viols\", \"Combinations\", \"#CIDs\", sep=\"\\t\")\n",
    "    \n",
    "    idxs = list(range(0,len(rules)))  # Indexes for individual criteria: [0,1,2,3]\n",
    "    \n",
    "    for i in range(0,len(rules)+1):   # Num_violations (from 0 to all)\n",
    "                                      # Ro5-0, Ro5-1, Ro5-2, Ro5-3, Ro5-4\n",
    "        print(\"-\" * 40)    \n",
    "        count = 0\n",
    "\n",
    "        # Get all possible cases for a given number of violations (i).\n",
    "        # For example, Lipinski's Rule of five (Ro5) has four criteria, and\n",
    "        # the cases that violates 2 of them (i.e., Ro5-2) can be computed using\n",
    "        # \"combination(4,2)\", which results in the following 6 combinations:\n",
    "        #\n",
    "        #      (0, 1), (0, 2), (0, 3), (1, 2), (1, 3), (2, 3)\n",
    "        #\n",
    "        combs=combinations(idxs, i)\n",
    "        \n",
    "        for comb in list(combs):  # loop over all combinations\n",
    "\n",
    "            # Used for printing the combinations\n",
    "            #    0 = criterion violated\n",
    "            #    1 = criterion met\n",
    "            comb_str = [1] * len(rules)  # initinalized to [1,1,...,1,1]\n",
    "\n",
    "            term=\"all[filt]\"\n",
    "        \n",
    "            for j in idxs:  # loop over individual criteria\n",
    "                \n",
    "                if j in list(comb):   # criteria violated\n",
    "                    term = term + \" NOT \" + rules[j]\n",
    "                    comb_str[j] = 0\n",
    "                else:                 # criteria met\n",
    "                    term = term + \" AND \" + rules[j]\n",
    "                \n",
    "            #print(term)\n",
    "        \n",
    "            handle=Entrez.esearch(db=\"pccompound\", term=term, rettype=\"count\")\n",
    "            record=Entrez.read(handle)\n",
    "            print(i, comb_str, record['Count'], sep=\"\\t\")\n",
    "        \n",
    "            count=count+int(record['Count'])\n",
    "        \n",
    "            time.sleep(0.34)\n",
    "    \n",
    "        cid_counts.append(count)\n",
    "            \n",
    "    return(cid_counts)"
   ]
  },
  {
   "cell_type": "markdown",
   "id": "e0ab2c6a-fa21-4727-8361-3232f276561c",
   "metadata": {},
   "source": [
    "Now download the record counts for drug-like compounds (based on the Rule of five)."
   ]
  },
  {
   "cell_type": "code",
   "execution_count": 51,
   "id": "23fd5ce7-66d0-4a85-957c-c7d6a15bbf85",
   "metadata": {
    "tags": []
   },
   "outputs": [],
   "source": [
    "Ro5_rules = [ \"0:5[HBDC]\", \"0:10[HBAC]\", \"0:500[MW]\", \"-1000:5[XLogP]\" ]"
   ]
  },
  {
   "cell_type": "code",
   "execution_count": 52,
   "id": "8d25e568-dfdf-4926-a661-dc35e6ddb4e1",
   "metadata": {},
   "outputs": [
    {
     "name": "stdout",
     "output_type": "stream",
     "text": [
      "#Viols\tCombinations\t#CIDs\n",
      "----------------------------------------\n",
      "0\t[1, 1, 1, 1]\t78498882\n",
      "----------------------------------------\n",
      "1\t[0, 1, 1, 1]\t236872\n",
      "1\t[1, 0, 1, 1]\t334564\n",
      "1\t[1, 1, 0, 1]\t4203384\n",
      "1\t[1, 1, 1, 0]\t14593862\n",
      "----------------------------------------\n",
      "2\t[0, 0, 1, 1]\t75220\n",
      "2\t[0, 1, 0, 1]\t228254\n",
      "2\t[0, 1, 1, 0]\t66784\n",
      "2\t[1, 0, 0, 1]\t1216065\n",
      "2\t[1, 0, 1, 0]\t119509\n",
      "2\t[1, 1, 0, 0]\t10166680\n",
      "----------------------------------------\n",
      "3\t[0, 0, 0, 1]\t862250\n",
      "3\t[0, 0, 1, 0]\t25033\n",
      "3\t[0, 1, 0, 0]\t181444\n",
      "3\t[1, 0, 0, 0]\t2749142\n",
      "----------------------------------------\n",
      "4\t[0, 0, 0, 0]\t1123629\n"
     ]
    }
   ],
   "source": [
    "Ro5_counts = drug_likeness(Ro5_rules)"
   ]
  },
  {
   "cell_type": "markdown",
   "id": "c7e70fa0-747f-4e8d-8666-9c45ff122851",
   "metadata": {},
   "source": [
    "Let's create a figure that summarizes the drug-likeness of PubChem compounds."
   ]
  },
  {
   "cell_type": "code",
   "execution_count": 53,
   "id": "3a30a66a-c664-4b4f-9ef2-039ce8d77adc",
   "metadata": {},
   "outputs": [],
   "source": [
    "import matplotlib.pyplot as plt"
   ]
  },
  {
   "cell_type": "code",
   "execution_count": 54,
   "id": "93a3b021-3616-454a-8ada-af574415bb16",
   "metadata": {},
   "outputs": [],
   "source": [
    "Ro5_classes = ['Ro5', 'Ro5\\N{MINUS SIGN}1', 'Ro5\\N{MINUS SIGN}2', \n",
    "               'Ro5\\N{MINUS SIGN}3', 'Ro5\\N{MINUS SIGN}4']"
   ]
  },
  {
   "cell_type": "code",
   "execution_count": 55,
   "id": "2a70f558-e25e-4ad1-b7a0-2ba700e5f4ec",
   "metadata": {},
   "outputs": [],
   "source": [
    "Ro5_percents = [ round( x / sum(Ro5_counts) * 100, 2) for x in Ro5_counts ]"
   ]
  },
  {
   "cell_type": "code",
   "execution_count": 56,
   "id": "c28c9a17-745c-4e2c-ad18-fb0f154c57ed",
   "metadata": {},
   "outputs": [],
   "source": [
    "Ro5_barlabels = []\n",
    "for count, pct in zip(Ro5_counts, Ro5_percents):\n",
    "    Ro5_barlabels.append( '  {:,}'.format(count) + \"\\n  (\" + str(pct) + \"%)\" )"
   ]
  },
  {
   "cell_type": "code",
   "execution_count": 57,
   "id": "72f4e4f6-3ef2-45ae-bb56-2936b3809637",
   "metadata": {},
   "outputs": [
    {
     "data": {
      "image/png": "[encoded data removed]",
      "text/plain": [
       "<Figure size 450x300 with 1 Axes>"
      ]
     },
     "metadata": {},
     "output_type": "display_data"
    }
   ],
   "source": [
    "plt.style.use('ggplot')\n",
    "plt.figure(figsize=(4.5, 3.0))\n",
    "p = plt.barh(Ro5_classes[::-1], [ x / 1000000 for x in Ro5_counts[::-1] ])\n",
    "plt.bar_label(p, Ro5_barlabels[::-1], fontsize=8)\n",
    "plt.xlabel(\"Number of Compounds (Millions)\", color='black', labelpad=8, fontsize=10)\n",
    "plt.ylabel(\"Drug-likeness\", color='black', labelpad=8, fontsize=10)\n",
    "plt.tick_params(axis='x', colors='black', labelsize=8)\n",
    "plt.tick_params(axis='y', colors='black', labelsize=8)\n",
    "plt.xlim(0,100)\n",
    "plt.tight_layout()\n",
    "plt.savefig(\"drug-likeness.tif\", dpi=300, bbox_inches = \"tight\")"
   ]
  },
  {
   "cell_type": "code",
   "execution_count": null,
   "id": "7dee933b-ee9f-4b81-a273-5bc84963620b",
   "metadata": {},
   "outputs": [],
   "source": []
  },
  {
   "cell_type": "markdown",
   "id": "1be4f724-9f4f-495c-a522-917fe5372eb8",
   "metadata": {},
   "source": [
    "## List Gateway"
   ]
  },
  {
   "cell_type": "markdown",
   "id": "f1c933d1-66a4-430b-a088-bf5f8ee9103e",
   "metadata": {},
   "source": [
    "### Entrez to PUG-REST"
   ]
  },
  {
   "cell_type": "code",
   "execution_count": 58,
   "id": "53bfe334-a396-413c-b5da-9ef2311a088e",
   "metadata": {},
   "outputs": [
    {
     "name": "stdout",
     "output_type": "stream",
     "text": [
      "#-- Variable type: <class 'Bio.Entrez.Parser.DictionaryElement'>\n",
      "#-- Variable content:\n",
      " {'Count': '5215', 'RetMax': '20', 'RetStart': '0', 'QueryKey': '1', 'WebEnv': 'MCID_641fc39a6e55ff663d7cfc71', 'IdList': ['167271328', '167255099', '167244748', '167240249', '167194050', '167187720', '167168355', '167113868', '167104881', '167067182', '167016117', '166921863', '166895788', '166843507', '166833644', '166833344', '166811952', '166791471', '166755910', '166729607'], 'TranslationSet': [], 'TranslationStack': [{'Term': '0000249.990000[ExactMass]', 'Field': 'ExactMass', 'Count': '0', 'Explode': 'N'}, {'Term': '0000250.010000[ExactMass]', 'Field': 'ExactMass', 'Count': '0', 'Explode': 'N'}, 'RANGE'], 'QueryTranslation': '0000249.990000[ExactMass] : 0000250.010000[ExactMass]'}\n"
     ]
    }
   ],
   "source": [
    "handle=Entrez.esearch(db=\"pccompound\", \n",
    "                      term='249.99:250.01[ExactMass]', \n",
    "                      usehistory='y')\n",
    "record=Entrez.read(handle)\n",
    "\n",
    "print(\"#-- Variable type:\", type(record))\n",
    "print(\"#-- Variable content:\\n\", record)"
   ]
  },
  {
   "cell_type": "markdown",
   "id": "89e07faa-44ed-4563-add1-5b292ff5dc87",
   "metadata": {},
   "source": [
    "The type of ```record``` is 'Bio.Entrez.Parser.DictionaryElement', which is similar to a python dictionary.  The content of this variable can also be accessed in a similar manner."
   ]
  },
  {
   "cell_type": "code",
   "execution_count": 59,
   "id": "a4eb470e-29a5-4fec-a6cb-f34659326240",
   "metadata": {},
   "outputs": [
    {
     "name": "stdout",
     "output_type": "stream",
     "text": [
      "Count         =  5215\n",
      "RetMax        =  20\n",
      "Num_compounds =  20\n"
     ]
    }
   ],
   "source": [
    "print(\"Count         = \", record['Count'])\n",
    "print(\"RetMax        = \", record['RetMax'])\n",
    "print(\"Num_compounds = \", len(record['IdList']))"
   ]
  },
  {
   "cell_type": "markdown",
   "id": "44110911-d7dc-4999-bd97-630cb61795f1",
   "metadata": {},
   "source": [
    "The search found 5000+ compounds, but only 20 compounds were retrieved.  This limit needs to be adjusted to get all compounds."
   ]
  },
  {
   "cell_type": "code",
   "execution_count": 60,
   "id": "5fc749be-5eff-4fc1-a5a4-baf5433a2ae3",
   "metadata": {},
   "outputs": [
    {
     "name": "stdout",
     "output_type": "stream",
     "text": [
      "Count         =  5215\n",
      "RetMax        =  5215\n",
      "Num_compounds =  5215\n"
     ]
    }
   ],
   "source": [
    "handle=Entrez.esearch(db=\"pccompound\", \n",
    "                      term='249.99:250.01[ExactMass]', \n",
    "                      retmax=10000,      # Adjusted to get all CIDs.\n",
    "                      usehistory='y')\n",
    "record=Entrez.read(handle)\n",
    "\n",
    "print(\"Count         = \", record['Count'])\n",
    "print(\"RetMax        = \", record['RetMax'])\n",
    "print(\"Num_compounds = \", len(record['IdList']))"
   ]
  },
  {
   "cell_type": "markdown",
   "id": "92602d01-f069-4768-b009-99972fc809b3",
   "metadata": {},
   "source": [
    "Now let's share this compound list with PUG-REST using the list gateway."
   ]
  },
  {
   "cell_type": "code",
   "execution_count": 61,
   "id": "d1b7a36d-023a-4e81-bee2-17433a508b5d",
   "metadata": {},
   "outputs": [],
   "source": [
    "querykey = record['QueryKey']\n",
    "webenv = record['WebEnv']"
   ]
  },
  {
   "cell_type": "code",
   "execution_count": 62,
   "id": "ab5b1fd8-2142-45fb-9979-acb1822d1197",
   "metadata": {},
   "outputs": [],
   "source": [
    "db = \"pccompound\"\n",
    "action = 'entrez_to_pug'\n",
    "lg_cgi = 'https://pubchem.ncbi.nlm.nih.gov/list_gateway/list_gateway.cgi'\n",
    "lg_url = lg_cgi + \"?action=\" + action \\\n",
    "                + \"&entrez_db=\" + db \\\n",
    "                + \"&entrez_query_key=\" + querykey \\\n",
    "                + \"&entrez_webenv=\" + webenv"
   ]
  },
  {
   "cell_type": "code",
   "execution_count": 63,
   "id": "2c34ef6c-18a1-429b-aa54-e3443ea8cca7",
   "metadata": {},
   "outputs": [
    {
     "name": "stdout",
     "output_type": "stream",
     "text": [
      "<?xml version=\"1.0\"?>\n",
      "<Response>\n",
      "  <Response_list-size>5215</Response_list-size>\n",
      "  <Response_pug-listkey>3702198259544985647</Response_pug-listkey>\n",
      "</Response>\n",
      "\n"
     ]
    }
   ],
   "source": [
    "res = requests.get(lg_url)\n",
    "print(res.text)"
   ]
  },
  {
   "cell_type": "code",
   "execution_count": 64,
   "id": "13ef7725-3a18-4802-adc6-b8e461a04d9a",
   "metadata": {},
   "outputs": [
    {
     "name": "stdout",
     "output_type": "stream",
     "text": [
      "3702198259544985647\n"
     ]
    }
   ],
   "source": [
    "import re\n",
    "\n",
    "pattern = r'<Response_pug-listkey>(.*)</Response_pug-listkey>'\n",
    "listkey = re.findall(pattern, res.text)[0]\n",
    "print(listkey)"
   ]
  },
  {
   "cell_type": "code",
   "execution_count": 65,
   "id": "e8ad1a36-789a-421d-bf9a-2286ed77cf8c",
   "metadata": {},
   "outputs": [
    {
     "name": "stdout",
     "output_type": "stream",
     "text": [
      "https://pubchem.ncbi.nlm.nih.gov/rest/pug/compound/listkey/3702198259544985647/Property/MolecularFormula,MolecularWeight,ExactMass,MonoisotopicMass,IsotopeAtomCount,CovalentUnitCount,IsomericSMILES/csv\n"
     ]
    }
   ],
   "source": [
    "pugrest = \"https://pubchem.ncbi.nlm.nih.gov/rest/pug\"\n",
    "pug_input = \"/compound/listkey/\" + listkey\n",
    "pug_operation = \"/Property/MolecularFormula,MolecularWeight,ExactMass,MonoisotopicMass,IsotopeAtomCount,CovalentUnitCount,IsomericSMILES\"\n",
    "pug_output = \"/csv\"\n",
    "\n",
    "pugrest_url = pugrest + pug_input + pug_operation + pug_output\n",
    "print(pugrest_url)"
   ]
  },
  {
   "cell_type": "code",
   "execution_count": 66,
   "id": "c8a7b904-f9dc-45b1-b1a1-f8e355454fe1",
   "metadata": {},
   "outputs": [],
   "source": [
    "res = requests.get(pugrest_url)  # Should not take longer than 30 seconds.\n",
    "#res.text"
   ]
  },
  {
   "cell_type": "code",
   "execution_count": 67,
   "id": "a104e62e-c238-4147-8ccc-6abe5808866b",
   "metadata": {},
   "outputs": [],
   "source": [
    "with open('entrez-to-pug.csv', 'w') as file:\n",
    "    file.write(res.text)"
   ]
  },
  {
   "cell_type": "markdown",
   "id": "1edd57f0-5aa5-4886-a3ee-76423449a5ef",
   "metadata": {},
   "source": [
    "Please check the content of the 'entrez-to-pug.csv' file."
   ]
  },
  {
   "cell_type": "markdown",
   "id": "438c6e48-3dc1-4d2a-9add-0f3fe94d0db1",
   "metadata": {},
   "source": [
    "### PUG-REST to Entrez"
   ]
  },
  {
   "cell_type": "markdown",
   "id": "d4af4228-0651-4e2b-9303-86ee601ce4fd",
   "metadata": {},
   "source": [
    "It is also possible to send a list of records retrieved through PUG-REST to the Entrez system. To show how this can be done, we will retrieve drug-like compounds tested in an assay (AID 1794796 as an example).\n",
    "  \n",
    "https://pubchem.ncbi.nlm.nih.gov/bioassay/1794796  \n",
    "  \n",
    "In essence, this task is a two-step process.\n",
    "\n",
    "- Step 1: Use PUG-REST to retrieve all compounds tested in AID 1794796.  Rather than getting the list of compounds, it will be stored on the server and the corresponding listkey will be returned.\n",
    "\n",
    "- Step 2: Use the list key to share the compound list with the Entrez system and identify those compounds that satisfy Lipinsk's rule of five."
   ]
  },
  {
   "cell_type": "markdown",
   "id": "9c866583-8b1d-4a09-86ee-511084dd6266",
   "metadata": {},
   "source": [
    "The code in this cell gets a list of compounds tested in the assay in a TXT format."
   ]
  },
  {
   "cell_type": "code",
   "execution_count": 68,
   "id": "b1890f64-27b7-4f1b-b5f1-bbbd3d22ce01",
   "metadata": {},
   "outputs": [
    {
     "name": "stdout",
     "output_type": "stream",
     "text": [
      "https://pubchem.ncbi.nlm.nih.gov/rest/pug/assay/aid/1794796/cids/txt\n"
     ]
    }
   ],
   "source": [
    "pugrest = \"https://pubchem.ncbi.nlm.nih.gov/rest/pug\"\n",
    "pug_input = \"/assay/aid/1794796\"\n",
    "pug_operation = \"/cids\"\n",
    "pug_output = \"/txt\"\n",
    "\n",
    "pugrest_url = pugrest + pug_input + pug_operation + pug_output\n",
    "print(pugrest_url)\n",
    "\n",
    "res = requests.get(pugrest_url)\n",
    "#res.text"
   ]
  },
  {
   "cell_type": "markdown",
   "id": "3c09d5ff-036b-436a-92d0-cde22d944fe8",
   "metadata": {},
   "source": [
    "However, what we want is to store the list on the server and get the listkey that allows you to access the list.\n"
   ]
  },
  {
   "cell_type": "code",
   "execution_count": 69,
   "id": "2232011d-6e09-4111-bb34-848f6628bf23",
   "metadata": {},
   "outputs": [
    {
     "name": "stdout",
     "output_type": "stream",
     "text": [
      "https://pubchem.ncbi.nlm.nih.gov/rest/pug/assay/aid/1794796/cids/json?list_return=listkey\n"
     ]
    },
    {
     "data": {
      "text/plain": [
       "{'IdentifierList': {'ListKey': '350550685690912870',\n",
       "  'Size': 68590,\n",
       "  'EntrezDB': 'pccompound',\n",
       "  'EntrezWebEnv': 'MCID_641fc3b149979070dd5d78cd',\n",
       "  'EntrezQueryKey': 1,\n",
       "  'EntrezURL': 'https://www.ncbi.nlm.nih.gov/sites/entrez?cmd=HistorySearch&WebEnvRq=1&hinit=true&db=pccompound&WebEnv=MCID_641fc3b149979070dd5d78cd&query_key=1'}}"
      ]
     },
     "execution_count": 69,
     "metadata": {},
     "output_type": "execute_result"
    }
   ],
   "source": [
    "pugrest = \"https://pubchem.ncbi.nlm.nih.gov/rest/pug\"\n",
    "pug_input = \"/assay/aid/1794796\"\n",
    "pug_operation = \"/cids\"\n",
    "pug_output = \"/json\"                 # changed from txt to json/xml\n",
    "pug_option = \"?list_return=listkey\"  # return a listkey\n",
    "\n",
    "pugrest_url = pugrest + pug_input + pug_operation + pug_output + pug_option\n",
    "print(pugrest_url)\n",
    "\n",
    "res = requests.get(pugrest_url)\n",
    "pug_list_key = res.json()\n",
    "pug_list_key"
   ]
  },
  {
   "cell_type": "markdown",
   "id": "e2bab6ef-3563-460e-bb48-d7d7b719246c",
   "metadata": {},
   "source": [
    "The returned data contains the list key (```ListKey```), along with the corresponding database name (```EntrezDB```), webenv (```EntrezWebEnv```), and query_key (```EntreQueryKey```) values."
   ]
  },
  {
   "cell_type": "markdown",
   "id": "2a731598-cdc6-4e36-be46-5d7c9279abb7",
   "metadata": {},
   "source": [
    "Now let's formulate an Entrez query to select compounds that satisfy the Rule of five and another query that find those not satisfying the rule of five."
   ]
  },
  {
   "cell_type": "code",
   "execution_count": 70,
   "id": "7a968c82-3581-4378-9789-ea5c37f8c9c7",
   "metadata": {},
   "outputs": [
    {
     "name": "stdout",
     "output_type": "stream",
     "text": [
      "#1 AND \"lipinski rule of 5\"[Filter]\n",
      "#1 NOT \"lipinski rule of 5\"[Filter]\n"
     ]
    }
   ],
   "source": [
    "db = pug_list_key['IdentifierList']['EntrezDB']\n",
    "webenv = pug_list_key['IdentifierList']['EntrezWebEnv']\n",
    "querykey = pug_list_key['IdentifierList']['EntrezQueryKey']\n",
    "#print(db)\n",
    "#print(webenv)\n",
    "#print(querykey)\n",
    "query1 = '#' + str(querykey) + ' AND \"lipinski rule of 5\"[Filter]'\n",
    "query2 = '#' + str(querykey) + ' NOT \"lipinski rule of 5\"[Filter]'\n",
    "print(query1)\n",
    "print(query2)"
   ]
  },
  {
   "cell_type": "code",
   "execution_count": 71,
   "id": "b6486cf4-2f2a-4f5e-957e-f98536f4063d",
   "metadata": {},
   "outputs": [
    {
     "name": "stdout",
     "output_type": "stream",
     "text": [
      "#-- Variable content:\n",
      " {'Count': '48107', 'RetMax': '20', 'RetStart': '0', 'QueryKey': '2', 'WebEnv': 'MCID_641fc3b149979070dd5d78cd', 'IdList': ['164687498', '164687494', '164687491', '164687490', '164687487', '164687484', '164687482', '164687481', '164687480', '164687479', '164687477', '164687473', '164687470', '164687469', '164687466', '164687465', '164687462', '164687461', '164687458', '164687457'], 'TranslationSet': [], 'TranslationStack': [{'Term': '\"lipinski rule of 5\"[Filter]', 'Field': 'Filter', 'Count': '78485953', 'Explode': 'N'}, 'AND'], 'QueryTranslation': '#1 AND \"lipinski rule of 5\"[Filter]'}\n"
     ]
    }
   ],
   "source": [
    "handle1=Entrez.esearch(db=db, \n",
    "                      term=query1,  # those satisfying Ro5\n",
    "                      webenv=webenv,\n",
    "                      retmax=20,  # Default. Adjust it to get the full list.\n",
    "                      usehistory='y')\n",
    "record1=Entrez.read(handle1)\n",
    "print(\"#-- Variable content:\\n\", record1)"
   ]
  },
  {
   "cell_type": "markdown",
   "id": "8148d8e2-fea4-42cd-8ddb-6f9886460b51",
   "metadata": {},
   "source": [
    "Check the ```Count``` value in the returned data.  There are 48k+ compounds satisfying Ro5, but only 20 compounds are returned.  To get all CIDs, the ```retmax``` value should be increased."
   ]
  },
  {
   "cell_type": "code",
   "execution_count": 72,
   "id": "71598064-8205-48c3-9029-7b31a098b6c3",
   "metadata": {},
   "outputs": [
    {
     "name": "stdout",
     "output_type": "stream",
     "text": [
      "#-- Variable content:\n",
      " {'Count': '20483', 'RetMax': '20', 'RetStart': '0', 'QueryKey': '3', 'WebEnv': 'MCID_641fc3b149979070dd5d78cd', 'IdList': ['164687497', '164687496', '164687495', '164687493', '164687492', '164687489', '164687488', '164687485', '164687483', '164687478', '164687476', '164687475', '164687474', '164687472', '164687471', '164687468', '164687467', '164687464', '164687463', '164687460'], 'TranslationSet': [], 'TranslationStack': [{'Term': '\"lipinski rule of 5\"[Filter]', 'Field': 'Filter', 'Count': '78485953', 'Explode': 'N'}, 'NOT'], 'QueryTranslation': '#1 NOT \"lipinski rule of 5\"[Filter]'}\n"
     ]
    }
   ],
   "source": [
    "handle2=Entrez.esearch(db=db, \n",
    "                      term=query2,  # those not satisfying Ro5\n",
    "                      webenv=webenv,\n",
    "                      retmax=20,  # Default. Adjust to get the full list.\n",
    "                      usehistory='y')\n",
    "record2=Entrez.read(handle2)\n",
    "print(\"#-- Variable content:\\n\", record2)"
   ]
  },
  {
   "cell_type": "code",
   "execution_count": 73,
   "id": "5a8faa95-fb0a-48d7-835d-512a039b985f",
   "metadata": {},
   "outputs": [],
   "source": [
    "with open('pug-to-entrez1.txt', 'w') as file:\n",
    "    file.write(str(record1))"
   ]
  },
  {
   "cell_type": "code",
   "execution_count": 74,
   "id": "fe097e37-2299-4f7f-9739-561706e9370c",
   "metadata": {},
   "outputs": [],
   "source": [
    "with open('pug-to-entrez2.csv', 'w') as file:\n",
    "    file.write(str(record2))"
   ]
  },
  {
   "cell_type": "code",
   "execution_count": null,
   "id": "2db47b32-46d1-4189-944a-6087f4aece0e",
   "metadata": {},
   "outputs": [],
   "source": []
  },
  {
   "cell_type": "code",
   "execution_count": null,
   "id": "c3afa861-770e-428a-8ec7-262981671668",
   "metadata": {},
   "outputs": [],
   "source": []
  },
  {
   "cell_type": "code",
   "execution_count": null,
   "id": "335f4d0c-0ceb-43a4-9949-7cc7089e68cc",
   "metadata": {},
   "outputs": [],
   "source": []
  },
  {
   "cell_type": "code",
   "execution_count": null,
   "id": "0bc6a436-ef23-4efc-9e06-f80301d2bd21",
   "metadata": {},
   "outputs": [],
   "source": []
  },
  {
   "cell_type": "code",
   "execution_count": null,
   "id": "909ea6ae-0882-4ed5-b855-e5800b2fe055",
   "metadata": {},
   "outputs": [],
   "source": []
  },
  {
   "cell_type": "code",
   "execution_count": null,
   "id": "6444e06a-d26d-450d-97d2-50031e26c588",
   "metadata": {},
   "outputs": [],
   "source": []
  },
  {
   "cell_type": "code",
   "execution_count": null,
   "id": "2d8a90c8-3a30-4f2a-adaf-62788a3f3539",
   "metadata": {},
   "outputs": [],
   "source": []
  }
 ],
 "metadata": {
  "kernelspec": {
   "display_name": "Python 3 (ipykernel)",
   "language": "python",
   "name": "python3"
  },
  "language_info": {
   "codemirror_mode": {
    "name": "ipython",
    "version": 3
   },
   "file_extension": ".py",
   "mimetype": "text/x-python",
   "name": "python",
   "nbconvert_exporter": "python",
   "pygments_lexer": "ipython3",
   "version": "3.9.16"
  },
  "toc-autonumbering": true,
  "toc-showtags": false
 },
 "nbformat": 4,
 "nbformat_minor": 5
}
