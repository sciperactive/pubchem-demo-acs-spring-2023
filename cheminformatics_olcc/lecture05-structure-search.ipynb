{
 "cells": [
  {
   "cell_type": "markdown",
   "metadata": {},
   "source": [
    "# Structure Search"
   ]
  },
  {
   "cell_type": "markdown",
   "metadata": {},
   "source": [
    "## Objectives\n",
    "- Learn various types of structure searches including identity search, similarity search, substructure and super structure searches.\n",
    "- Learn the optional parameters available for each search type.\n"
   ]
  },
  {
   "cell_type": "markdown",
   "metadata": {},
   "source": [
    "Using PUG-REST, one can perform various types of structure searches (https://bit.ly/2lPznCo), including:\n",
    "- identity search\n",
    "- similarity search\n",
    "- super/substructure search\n",
    "- molecular formula search\n",
    "<br>\n",
    "\n",
    "As explained in a PubChem paper (https://bit.ly/2kirxky), whereas structure search can be performed in either an 'asynchronous' or 'synchronous' way, it is highly recommended to use the synchronous approach.<br>\n",
    "The synchronous searches are invoked by using the keywords prefixed with ‘fast’, such as **fastidenity**, **fastsimilarity_2d**, **fastsimilarity_3d**, **fastsubstructure**, **fastsuperstructure**, and **fastformula**."
   ]
  },
  {
   "cell_type": "markdown",
   "metadata": {},
   "source": [
    "<div class=\"alert alert-block alert-warning\">\n",
    "Note: To use the python code in this lesson plan, RDKit must be installed on the system. \n",
    "</div>"
   ]
  },
  {
   "cell_type": "markdown",
   "metadata": {},
   "source": [
    "Many users can simply run the following code to install RDKit."
   ]
  },
  {
   "cell_type": "raw",
   "metadata": {},
   "source": [
    "conda install -c rdkit rdkit"
   ]
  },
  {
   "cell_type": "markdown",
   "metadata": {},
   "source": [
    "Access to the full installation instructions can be found at the following link.\n",
    "https://www.rdkit.org/docs/Install.html"
   ]
  },
  {
   "cell_type": "markdown",
   "metadata": {},
   "source": [
    "## 1. Identity Search"
   ]
  },
  {
   "cell_type": "markdown",
   "metadata": {},
   "source": [
    "PUG-REST allows you to search the PubChem Compound database for molecules identical to the query molecule.  PubChem's identity search supports different contexts of chemical identity, which the user can specify using the optional parameter, \"identity_type\".  Here are some commonly-used chemical identity contexts.\n",
    "- **same_connectivity**: returns compounds with the same atom connectivity as the query molecule, ignoring stereochemistry and isotope information.\n",
    "- **same_isotope**: returns compounds with the same isotopes (as well as the same atom connectivity) as the query molecule.  Stereochemistry will be ignored.\n",
    "- **same_stereo**: returns compounds with the same stereochemistry (as well as the same atom connectivity) as the query molecule.  Isotope information will be ignored.\n",
    "- **same_stereo_isotope**: returns compounds with the same stereochemistry AND isotope information (as well as the same atom connectivity).  This is the default."
   ]
  },
  {
   "cell_type": "markdown",
   "metadata": {},
   "source": [
    "The following code cell demostrates how these different contexts of chemical sameness affects identity search in PubChem."
   ]
  },
  {
   "cell_type": "code",
   "execution_count": null,
   "metadata": {},
   "outputs": [],
   "source": [
    "import requests\n",
    "import time\n",
    "import io\n",
    "\n",
    "from rdkit import Chem\n",
    "from rdkit.Chem import Draw\n",
    "\n",
    "prolog = \"https://pubchem.ncbi.nlm.nih.gov/rest/pug\"\n",
    "\n",
    "mydata = { 'smiles' : 'C(/C=C/Cl)Cl' }\n",
    "options = [ 'same_stereo_isotope', # This is the default\n",
    "            'same_stereo',\n",
    "            'same_isotope',\n",
    "            'same_connectivity']\n",
    "\n",
    "for myoption in ( options ) :\n",
    "\n",
    "    print(\"#### Identity_type:\", myoption)\n",
    "    \n",
    "    url = prolog + '/compound/fastidentity/smiles/property/isomericsmiles/csv?identity_type=' + myoption\n",
    "    res = requests.post(url, data=mydata)\n",
    "    \n",
    "    mycids = []\n",
    "    mysmiles = []\n",
    "    \n",
    "    file = io.StringIO(res.text)\n",
    "    file.readline()               # Skip the first line (column heads)\n",
    "    \n",
    "    for line in file :\n",
    "        \n",
    "        ( cid_tmp, smiles_tmp ) = line.rstrip().split(',')\n",
    "        print(cid_tmp, smiles_tmp)\n",
    "        \n",
    "        mycids.append( cid_tmp )\n",
    "        mysmiles.append( smiles_tmp.replace('\"',\"\") )\n",
    "\n",
    "    mols = []\n",
    "    \n",
    "    for x in mysmiles :\n",
    "        \n",
    "        mol = Chem.MolFromSmiles(x)\n",
    "        Chem.FindPotentialStereoBonds(mol)    # Identify potential stereo bonds!\n",
    "        mols.append(mol)\n",
    "    \n",
    "    img = Draw.MolsToGridImage(mols, molsPerRow=3, subImgSize=(200,200), legends=mycids)\n",
    "    display(img)\n",
    "            \n",
    "    time.sleep(0.2)"
   ]
  },
  {
   "cell_type": "markdown",
   "metadata": {},
   "source": [
    "**Exercise 1a:** Find compounds that has the same atom connectivity and isotope information as the query molecule."
   ]
  },
  {
   "cell_type": "code",
   "execution_count": null,
   "metadata": {},
   "outputs": [],
   "source": [
    "query = \"CC1=CN=C(C(=C1OC)C)C[S@](=O)C2=NC3=C(N2)C=C(C=C3)OC\""
   ]
  },
  {
   "cell_type": "markdown",
   "metadata": {},
   "source": [
    "For each compound returned from the search, retrieve the following information.\n",
    "- CID\n",
    "- Isomeric SMILES string\n",
    "- chemical synonyms (for simplicity, print only the five synonyms that first occur in the name list retrieved for each compound)\n",
    "- Structure image\n"
   ]
  },
  {
   "cell_type": "code",
   "execution_count": null,
   "metadata": {},
   "outputs": [],
   "source": [
    "# Write your code in this cell.\n",
    "\n",
    "\n"
   ]
  },
  {
   "cell_type": "markdown",
   "metadata": {},
   "source": [
    "## 2. Similarity search"
   ]
  },
  {
   "cell_type": "markdown",
   "metadata": {},
   "source": [
    "PubChem supports 2-dimensional (2-D) and 3-dimensional (3-D) similarity searches.  Because molecular similarity is not a measurable physical observable but a subjective concept, many approaches have been developed to evaluate it.  Detailed discussion on how PubChem quantifyies molecular similarity, read the following LibreTexts page:\n",
    "    \n",
    "**Searching PubChem Using a Non-Textual Query** (https://bit.ly/2lPznCo)\n"
   ]
  },
  {
   "cell_type": "markdown",
   "metadata": {},
   "source": [
    "The code cell below demonstrates how to perform 2-D and 3-D similarity searches."
   ]
  },
  {
   "cell_type": "code",
   "execution_count": null,
   "metadata": {},
   "outputs": [],
   "source": [
    "mydata = { 'smiles' : \"C1COCC(=O)N1C2=CC=C(C=C2)N3C[C@@H](OC3=O)CNC(=O)C4=CC=C(S4)Cl\" }\n",
    "url = prolog + \"/compound/fastsimilarity_2d/smiles/cids/txt?Threshold=99\"\n",
    "res = requests.post(url,data=mydata)\n",
    "cids = res.text.split()\n",
    "\n",
    "print(\"# Number of CIDs:\", len(cids))\n",
    "print(cids)"
   ]
  },
  {
   "cell_type": "markdown",
   "metadata": {},
   "source": [
    "It is worth mentioning that the parameter name \"Threshold\" is **case-sensitive**.  If \"threshold\" is used (rather than \"Threshold\"), it will be ignored and the default value (0.90) will be used for the parameter.  \\[As a matter of fact, all optional parameter names in PUG-REST are case-sensitive.]"
   ]
  },
  {
   "cell_type": "code",
   "execution_count": null,
   "metadata": {},
   "outputs": [],
   "source": [
    "url1 = prolog + \"/compound/fastsimilarity_2d/smiles/cids/txt?Threshold=95\"\n",
    "url2 = prolog + \"/compound/fastsimilarity_2d/smiles/cids/txt?threshold=95\"  # \"threshold=95\" is ignored.\n",
    "\n",
    "res1 = requests.post(url1,data=mydata)\n",
    "res2 = requests.post(url2,data=mydata)\n",
    "cids1 = res1.text.split()\n",
    "cids2 = res2.text.split()\n",
    "\n",
    "print(\"# Number of CIDs:\", len(cids1), \"vs.\", len(cids2))"
   ]
  },
  {
   "cell_type": "markdown",
   "metadata": {},
   "source": [
    "It is possible to run 3-D similarity search using PUG-REST.  However, because 3-D similarity search takes much longer than 2-D similarity search, it often exceeds the 30-second time limit and returns a time-out error, especially when the query molecule is big."
   ]
  },
  {
   "cell_type": "markdown",
   "metadata": {},
   "source": [
    "In addition, for 3-D similarity search, it is **not** possible to adjust the similarity threshold (that is, the optional \"Threshold\" parameter does not work).  3-D similarity search uses a shape-Tanimoto (ST) of >=0.80 and a color-Tanimoto (CT) of >=0.50 as a similarity threshold.  Read the libreTexts page for more details (https://bit.ly/2lPznCo)."
   ]
  },
  {
   "cell_type": "code",
   "execution_count": null,
   "metadata": {},
   "outputs": [],
   "source": [
    "mydata = { 'smiles' : 'CC(=O)OC1=CC=CC=C1C(=O)O'}\n",
    "url = prolog + \"/compound/fastsimilarity_3d/smiles/cids/txt\"\n",
    "res = requests.post(url, data=mydata)\n",
    "cids = res.text.split()\n",
    "print(len(cids))"
   ]
  },
  {
   "cell_type": "markdown",
   "metadata": {},
   "source": [
    "**Exercise 2a:** Perform 2-D similarity search with the following query, using a threshold of 0.80 and find the macromolecule targets of the assays in which the returned compounds were tested.  You will need to take these steps.\n",
    "\n",
    "- Run 2-D similarity search using the SMILES string as a query (with Threshold=80).\n",
    "- Retrieve the AIDs in which any of the returned CIDs was tested \"active\".\n",
    "- Retrieve the gene symbols of the targets for the returned AIDs."
   ]
  },
  {
   "cell_type": "code",
   "execution_count": null,
   "metadata": {},
   "outputs": [],
   "source": [
    "query='[C@@H]23C(=O)[C@H](N)C(C)[C@H](CCC1=COC=C1)[C@@]2(C)CCCC3(C)C'"
   ]
  },
  {
   "cell_type": "code",
   "execution_count": null,
   "metadata": {},
   "outputs": [],
   "source": [
    "# Write your code in this cell.\n",
    "\n",
    "\n"
   ]
  },
  {
   "cell_type": "markdown",
   "metadata": {},
   "source": [
    "## 3. Substructure/Superstructure search"
   ]
  },
  {
   "cell_type": "markdown",
   "metadata": {},
   "source": [
    "When a chemical structure occurs as a part of a bigger chemical structure, the former is called a substructure and the latter is referred to as a superstructure (https://bit.ly/2lPznCo).  PUG-REST supports both substructure and superstructure searches.  For example, below is an example for substructure search using the core structure of antibiotic drugs called cephalosporins as a query (https://en.wikipedia.org/wiki/Cephalosporin). "
   ]
  },
  {
   "cell_type": "code",
   "execution_count": null,
   "metadata": {},
   "outputs": [],
   "source": [
    "query = 'C12(SCC(=C(N1C([C@H]2NC(=O)[*])=O)C(=O)O[H])[*])[H]'\n",
    "\n",
    "mydata = { 'smiles' : query }\n",
    "url = prolog + \"/compound/fastsubstructure/smiles/cids/txt?Stereo=exact\"\n",
    "res = requests.post(url, data=mydata)\n",
    "cids = res.text.split()\n",
    "\n",
    "print(\"# Number of CIDs:\", len(cids))\n",
    "#print(cids)"
   ]
  },
  {
   "cell_type": "markdown",
   "metadata": {},
   "source": [
    "An important thing to remember about substructure search is that, if the query structure is not specific enough (that is, not big enough), it will return too many hits for the PubChem server can handle.  For example, if you perform substructure search using the \"C-C\" as a query, it will give you an error, because PubChem has ~96 million (organic) compounds with more than two carbon atoms and most of them will have the \"C-C\" unit. Therefore, if you get an \"time-out\" error while doing substructure search, consider providing more specific structure as an input query."
   ]
  },
  {
   "cell_type": "markdown",
   "metadata": {},
   "source": [
    "**Exercise 3a:** Below is the SMILES string for a HCV (Hepatitis C Virus) drug (Sovaldi).  Perform substructure search using this SMILES string as a query, identify compounds that are mentioned in patent documents, and create a list of the patent documents that mentioning them.\n",
    "\n",
    "- Use the default options for substructure search.\n",
    "- Use the \"XRefs\" operation to retrieve Patent IDs associated with the returned compounds.\n",
    "- For simplicity, ignore the CID-Patent ID mapping.  (That is, no need to track which CID is associated with which patent document.)"
   ]
  },
  {
   "cell_type": "code",
   "execution_count": null,
   "metadata": {},
   "outputs": [],
   "source": [
    "query=\"C[C@@H](C(=O)OC(C)C)N[P@](=O)(OC[C@@H]1[C@H]([C@@]([C@@H](O1)N2C=CC(=O)NC2=O)(C)F)O)OC3=CC=CC=C3\""
   ]
  },
  {
   "cell_type": "code",
   "execution_count": null,
   "metadata": {},
   "outputs": [],
   "source": [
    "# Write your code in this cell.\n",
    "\n",
    "\n"
   ]
  },
  {
   "cell_type": "markdown",
   "metadata": {},
   "source": [
    "## 4. Molecular formula search"
   ]
  },
  {
   "cell_type": "markdown",
   "metadata": {},
   "source": [
    "Strictly speaking, molecular formula search is not structure search, but its PUG-REST request URL is constructed in a similar way to structure searches like identity, similarity, and substructure/superstructure searches."
   ]
  },
  {
   "cell_type": "code",
   "execution_count": null,
   "metadata": {},
   "outputs": [],
   "source": [
    "query = 'C22H28FN3O6S'    # Molecular formula for Crestor (Rosuvastatin: CID 446157)\n",
    "\n",
    "url = prolog + \"/compound/fastformula/\"+ query + \"/cids/txt\"\n",
    "res = requests.get(url)\n",
    "cids = res.text.split()\n",
    "print(\"# Number of CIDs:\", len(cids))\n",
    "#print(cids)"
   ]
  },
  {
   "cell_type": "markdown",
   "metadata": {},
   "source": [
    "It is possible to allow other elements to be present in addition to those specified by the query formula, as shown in the following example.\n"
   ]
  },
  {
   "cell_type": "code",
   "execution_count": null,
   "metadata": {},
   "outputs": [],
   "source": [
    "url = prolog + \"/compound/fastformula/\"+ query + \"/cids/txt?AllowOtherElements=true\"\n",
    "res = requests.get(url)\n",
    "cids = res.text.split()\n",
    "print(\"# Number of CIDs:\", len(cids))\n",
    "#print(cids)"
   ]
  },
  {
   "cell_type": "markdown",
   "metadata": {},
   "source": [
    "**Exercise 4a:**  The general molecular formula for alcohols is $C_{n}H_{(2n+2)}O$ \\[for example, CH4O (methanol), C2H6O (ethanol), C3H8O (propanol), etc].  Run molecular formula search using this general formula for n=1 through 20 and retrieve the XLogP values of the returned compounds for each value of n.  Print the minimum and maximum XLogP values for each n value."
   ]
  },
  {
   "cell_type": "code",
   "execution_count": null,
   "metadata": {},
   "outputs": [],
   "source": [
    "# Write your code in this cell.\n",
    "\n",
    "\n"
   ]
  }
 ],
 "metadata": {
  "kernelspec": {
   "display_name": "Python 3",
   "language": "python",
   "name": "python3"
  },
  "language_info": {
   "codemirror_mode": {
    "name": "ipython",
    "version": 3
   },
   "file_extension": ".py",
   "mimetype": "text/x-python",
   "name": "python",
   "nbconvert_exporter": "python",
   "pygments_lexer": "ipython3",
   "version": "3.7.3"
  }
 },
 "nbformat": 4,
 "nbformat_minor": 4
}
