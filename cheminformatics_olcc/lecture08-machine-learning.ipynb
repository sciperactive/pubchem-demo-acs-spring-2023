{
 "cells": [
  {
   "cell_type": "markdown",
   "metadata": {},
   "source": [
    "# Machine Learning Basics"
   ]
  },
  {
   "cell_type": "markdown",
   "metadata": {},
   "source": [
    "## Objectives\n",
    "\n",
    "- Build binary classification models that predict activity/inactivity of small molecules against human aromatase using supervised learning methods.\n",
    "- Evaluate the performance of the developed models using performance measures."
   ]
  },
  {
   "cell_type": "markdown",
   "metadata": {},
   "source": [
    "## 1. Import bioactivity data from PubChem"
   ]
  },
  {
   "cell_type": "markdown",
   "metadata": {},
   "source": [
    "In this notebook, we will develop a prediction model for small molecule's activity against human aromatase (https://pubchem.ncbi.nlm.nih.gov/protein/EAW77416), which is encoded by the CYP19A1 gene (https://pubchem.ncbi.nlm.nih.gov/gene/1588). The model will predict the activity of a molecule based on the structure of the molecule (represented with molecular fingerprints).\n",
    "\n",
    "For model development, we will use the Tox21 bioassay data for human aromatase, archived in PubChem (https://pubchem.ncbi.nlm.nih.gov/bioassay/743139).  The bioactivity data presented on this page can be downloaded by clicking the \"Download\" button available on this page and then read the data into a data frame.  Alternatively, you can directly load the data into a data frame as shown in the cell below."
   ]
  },
  {
   "cell_type": "code",
   "execution_count": 1,
   "metadata": {},
   "outputs": [],
   "source": [
    "import pandas as pd\n",
    "import numpy as np\n",
    "\n",
    "url = 'https://pubchem.ncbi.nlm.nih.gov/assay/pcget.cgi?query=download&record_type=datatable&actvty=all&response_type=save&aid=743139'\n",
    "df_raw = pd.read_csv(url)"
   ]
  },
  {
   "cell_type": "code",
   "execution_count": 2,
   "metadata": {},
   "outputs": [
    {
     "data": {
      "text/html": [
       "<div>\n",
       "<style scoped>\n",
       "    .dataframe tbody tr th:only-of-type {\n",
       "        vertical-align: middle;\n",
       "    }\n",
       "\n",
       "    .dataframe tbody tr th {\n",
       "        vertical-align: top;\n",
       "    }\n",
       "\n",
       "    .dataframe thead th {\n",
       "        text-align: right;\n",
       "    }\n",
       "</style>\n",
       "<table border=\"1\" class=\"dataframe\">\n",
       "  <thead>\n",
       "    <tr style=\"text-align: right;\">\n",
       "      <th></th>\n",
       "      <th>PUBCHEM_RESULT_TAG</th>\n",
       "      <th>PUBCHEM_SID</th>\n",
       "      <th>PUBCHEM_CID</th>\n",
       "      <th>PUBCHEM_ACTIVITY_OUTCOME</th>\n",
       "      <th>PUBCHEM_ACTIVITY_SCORE</th>\n",
       "      <th>PUBCHEM_ACTIVITY_URL</th>\n",
       "      <th>PUBCHEM_ASSAYDATA_COMMENT</th>\n",
       "      <th>Activity Summary</th>\n",
       "      <th>Antagonist Activity</th>\n",
       "      <th>Antagonist Potency (uM)</th>\n",
       "      <th>Antagonist Efficacy (%)</th>\n",
       "      <th>Viability Activity</th>\n",
       "      <th>Viability Potency (uM)</th>\n",
       "      <th>Viability Efficacy (%)</th>\n",
       "      <th>Sample Source</th>\n",
       "    </tr>\n",
       "  </thead>\n",
       "  <tbody>\n",
       "    <tr>\n",
       "      <th>0</th>\n",
       "      <td>RESULT_TYPE</td>\n",
       "      <td>NaN</td>\n",
       "      <td>NaN</td>\n",
       "      <td>NaN</td>\n",
       "      <td>NaN</td>\n",
       "      <td>NaN</td>\n",
       "      <td>NaN</td>\n",
       "      <td>STRING</td>\n",
       "      <td>STRING</td>\n",
       "      <td>FLOAT</td>\n",
       "      <td>FLOAT</td>\n",
       "      <td>STRING</td>\n",
       "      <td>FLOAT</td>\n",
       "      <td>FLOAT</td>\n",
       "      <td>STRING</td>\n",
       "    </tr>\n",
       "    <tr>\n",
       "      <th>1</th>\n",
       "      <td>RESULT_DESCR</td>\n",
       "      <td>NaN</td>\n",
       "      <td>NaN</td>\n",
       "      <td>NaN</td>\n",
       "      <td>NaN</td>\n",
       "      <td>NaN</td>\n",
       "      <td>NaN</td>\n",
       "      <td>Type of compound activity based on both the ar...</td>\n",
       "      <td>Type of compound activity in the aromatase ant...</td>\n",
       "      <td>The concentration of sample yielding half-maxi...</td>\n",
       "      <td>Percent inhibition of aromatase.</td>\n",
       "      <td>Type of compound activity in the cell viabilit...</td>\n",
       "      <td>The concentration of sample yielding half-maxi...</td>\n",
       "      <td>Percent inhibition of cell viability.</td>\n",
       "      <td>Where sample was obtained.</td>\n",
       "    </tr>\n",
       "    <tr>\n",
       "      <th>2</th>\n",
       "      <td>RESULT_UNIT</td>\n",
       "      <td>NaN</td>\n",
       "      <td>NaN</td>\n",
       "      <td>NaN</td>\n",
       "      <td>NaN</td>\n",
       "      <td>NaN</td>\n",
       "      <td>NaN</td>\n",
       "      <td>NaN</td>\n",
       "      <td>NaN</td>\n",
       "      <td>MICROMOLAR</td>\n",
       "      <td>PERCENT</td>\n",
       "      <td>NaN</td>\n",
       "      <td>MICROMOLAR</td>\n",
       "      <td>PERCENT</td>\n",
       "      <td>NaN</td>\n",
       "    </tr>\n",
       "    <tr>\n",
       "      <th>3</th>\n",
       "      <td>1</td>\n",
       "      <td>144203552.0</td>\n",
       "      <td>12850184.0</td>\n",
       "      <td>Inactive</td>\n",
       "      <td>0.0</td>\n",
       "      <td>NaN</td>\n",
       "      <td>NaN</td>\n",
       "      <td>inactive</td>\n",
       "      <td>inactive</td>\n",
       "      <td>NaN</td>\n",
       "      <td>0</td>\n",
       "      <td>inactive</td>\n",
       "      <td>NaN</td>\n",
       "      <td>0</td>\n",
       "      <td>NCI</td>\n",
       "    </tr>\n",
       "    <tr>\n",
       "      <th>4</th>\n",
       "      <td>2</td>\n",
       "      <td>144203553.0</td>\n",
       "      <td>89753.0</td>\n",
       "      <td>Inactive</td>\n",
       "      <td>0.0</td>\n",
       "      <td>NaN</td>\n",
       "      <td>NaN</td>\n",
       "      <td>inactive</td>\n",
       "      <td>inactive</td>\n",
       "      <td>NaN</td>\n",
       "      <td>0</td>\n",
       "      <td>inactive</td>\n",
       "      <td>NaN</td>\n",
       "      <td>0</td>\n",
       "      <td>NCI</td>\n",
       "    </tr>\n",
       "    <tr>\n",
       "      <th>5</th>\n",
       "      <td>3</td>\n",
       "      <td>144203554.0</td>\n",
       "      <td>9403.0</td>\n",
       "      <td>Inactive</td>\n",
       "      <td>0.0</td>\n",
       "      <td>NaN</td>\n",
       "      <td>NaN</td>\n",
       "      <td>inactive</td>\n",
       "      <td>inactive</td>\n",
       "      <td>NaN</td>\n",
       "      <td>0</td>\n",
       "      <td>inactive</td>\n",
       "      <td>NaN</td>\n",
       "      <td>0</td>\n",
       "      <td>NCI</td>\n",
       "    </tr>\n",
       "    <tr>\n",
       "      <th>6</th>\n",
       "      <td>4</td>\n",
       "      <td>144203555.0</td>\n",
       "      <td>13218779.0</td>\n",
       "      <td>Inactive</td>\n",
       "      <td>0.0</td>\n",
       "      <td>NaN</td>\n",
       "      <td>NaN</td>\n",
       "      <td>inactive</td>\n",
       "      <td>inactive</td>\n",
       "      <td>NaN</td>\n",
       "      <td>0</td>\n",
       "      <td>inactive</td>\n",
       "      <td>NaN</td>\n",
       "      <td>0</td>\n",
       "      <td>NCI</td>\n",
       "    </tr>\n",
       "  </tbody>\n",
       "</table>\n",
       "</div>"
      ],
      "text/plain": [
       "  PUBCHEM_RESULT_TAG  PUBCHEM_SID  PUBCHEM_CID PUBCHEM_ACTIVITY_OUTCOME  \\\n",
       "0        RESULT_TYPE          NaN          NaN                      NaN   \n",
       "1       RESULT_DESCR          NaN          NaN                      NaN   \n",
       "2        RESULT_UNIT          NaN          NaN                      NaN   \n",
       "3                  1  144203552.0   12850184.0                 Inactive   \n",
       "4                  2  144203553.0      89753.0                 Inactive   \n",
       "5                  3  144203554.0       9403.0                 Inactive   \n",
       "6                  4  144203555.0   13218779.0                 Inactive   \n",
       "\n",
       "   PUBCHEM_ACTIVITY_SCORE  PUBCHEM_ACTIVITY_URL  PUBCHEM_ASSAYDATA_COMMENT  \\\n",
       "0                     NaN                   NaN                        NaN   \n",
       "1                     NaN                   NaN                        NaN   \n",
       "2                     NaN                   NaN                        NaN   \n",
       "3                     0.0                   NaN                        NaN   \n",
       "4                     0.0                   NaN                        NaN   \n",
       "5                     0.0                   NaN                        NaN   \n",
       "6                     0.0                   NaN                        NaN   \n",
       "\n",
       "                                    Activity Summary  \\\n",
       "0                                             STRING   \n",
       "1  Type of compound activity based on both the ar...   \n",
       "2                                                NaN   \n",
       "3                                           inactive   \n",
       "4                                           inactive   \n",
       "5                                           inactive   \n",
       "6                                           inactive   \n",
       "\n",
       "                                 Antagonist Activity  \\\n",
       "0                                             STRING   \n",
       "1  Type of compound activity in the aromatase ant...   \n",
       "2                                                NaN   \n",
       "3                                           inactive   \n",
       "4                                           inactive   \n",
       "5                                           inactive   \n",
       "6                                           inactive   \n",
       "\n",
       "                             Antagonist Potency (uM)  \\\n",
       "0                                              FLOAT   \n",
       "1  The concentration of sample yielding half-maxi...   \n",
       "2                                         MICROMOLAR   \n",
       "3                                                NaN   \n",
       "4                                                NaN   \n",
       "5                                                NaN   \n",
       "6                                                NaN   \n",
       "\n",
       "            Antagonist Efficacy (%)  \\\n",
       "0                             FLOAT   \n",
       "1  Percent inhibition of aromatase.   \n",
       "2                           PERCENT   \n",
       "3                                 0   \n",
       "4                                 0   \n",
       "5                                 0   \n",
       "6                                 0   \n",
       "\n",
       "                                  Viability Activity  \\\n",
       "0                                             STRING   \n",
       "1  Type of compound activity in the cell viabilit...   \n",
       "2                                                NaN   \n",
       "3                                           inactive   \n",
       "4                                           inactive   \n",
       "5                                           inactive   \n",
       "6                                           inactive   \n",
       "\n",
       "                              Viability Potency (uM)  \\\n",
       "0                                              FLOAT   \n",
       "1  The concentration of sample yielding half-maxi...   \n",
       "2                                         MICROMOLAR   \n",
       "3                                                NaN   \n",
       "4                                                NaN   \n",
       "5                                                NaN   \n",
       "6                                                NaN   \n",
       "\n",
       "                  Viability Efficacy (%)               Sample Source  \n",
       "0                                  FLOAT                      STRING  \n",
       "1  Percent inhibition of cell viability.  Where sample was obtained.  \n",
       "2                                PERCENT                         NaN  \n",
       "3                                      0                         NCI  \n",
       "4                                      0                         NCI  \n",
       "5                                      0                         NCI  \n",
       "6                                      0                         NCI  "
      ]
     },
     "execution_count": 2,
     "metadata": {},
     "output_type": "execute_result"
    }
   ],
   "source": [
    "df_raw.head(7)"
   ]
  },
  {
   "cell_type": "markdown",
   "metadata": {},
   "source": [
    "__Note:__ Lines 0-2 provide the descriptions for each column (data type, descriptions, units, etc).  These rows need be removed."
   ]
  },
  {
   "cell_type": "code",
   "execution_count": 3,
   "metadata": {},
   "outputs": [
    {
     "data": {
      "text/html": [
       "<div>\n",
       "<style scoped>\n",
       "    .dataframe tbody tr th:only-of-type {\n",
       "        vertical-align: middle;\n",
       "    }\n",
       "\n",
       "    .dataframe tbody tr th {\n",
       "        vertical-align: top;\n",
       "    }\n",
       "\n",
       "    .dataframe thead th {\n",
       "        text-align: right;\n",
       "    }\n",
       "</style>\n",
       "<table border=\"1\" class=\"dataframe\">\n",
       "  <thead>\n",
       "    <tr style=\"text-align: right;\">\n",
       "      <th></th>\n",
       "      <th>PUBCHEM_RESULT_TAG</th>\n",
       "      <th>PUBCHEM_SID</th>\n",
       "      <th>PUBCHEM_CID</th>\n",
       "      <th>PUBCHEM_ACTIVITY_OUTCOME</th>\n",
       "      <th>PUBCHEM_ACTIVITY_SCORE</th>\n",
       "      <th>PUBCHEM_ACTIVITY_URL</th>\n",
       "      <th>PUBCHEM_ASSAYDATA_COMMENT</th>\n",
       "      <th>Activity Summary</th>\n",
       "      <th>Antagonist Activity</th>\n",
       "      <th>Antagonist Potency (uM)</th>\n",
       "      <th>Antagonist Efficacy (%)</th>\n",
       "      <th>Viability Activity</th>\n",
       "      <th>Viability Potency (uM)</th>\n",
       "      <th>Viability Efficacy (%)</th>\n",
       "      <th>Sample Source</th>\n",
       "    </tr>\n",
       "  </thead>\n",
       "  <tbody>\n",
       "    <tr>\n",
       "      <th>3</th>\n",
       "      <td>1</td>\n",
       "      <td>144203552.0</td>\n",
       "      <td>12850184.0</td>\n",
       "      <td>Inactive</td>\n",
       "      <td>0.0</td>\n",
       "      <td>NaN</td>\n",
       "      <td>NaN</td>\n",
       "      <td>inactive</td>\n",
       "      <td>inactive</td>\n",
       "      <td>NaN</td>\n",
       "      <td>0</td>\n",
       "      <td>inactive</td>\n",
       "      <td>NaN</td>\n",
       "      <td>0</td>\n",
       "      <td>NCI</td>\n",
       "    </tr>\n",
       "    <tr>\n",
       "      <th>4</th>\n",
       "      <td>2</td>\n",
       "      <td>144203553.0</td>\n",
       "      <td>89753.0</td>\n",
       "      <td>Inactive</td>\n",
       "      <td>0.0</td>\n",
       "      <td>NaN</td>\n",
       "      <td>NaN</td>\n",
       "      <td>inactive</td>\n",
       "      <td>inactive</td>\n",
       "      <td>NaN</td>\n",
       "      <td>0</td>\n",
       "      <td>inactive</td>\n",
       "      <td>NaN</td>\n",
       "      <td>0</td>\n",
       "      <td>NCI</td>\n",
       "    </tr>\n",
       "    <tr>\n",
       "      <th>5</th>\n",
       "      <td>3</td>\n",
       "      <td>144203554.0</td>\n",
       "      <td>9403.0</td>\n",
       "      <td>Inactive</td>\n",
       "      <td>0.0</td>\n",
       "      <td>NaN</td>\n",
       "      <td>NaN</td>\n",
       "      <td>inactive</td>\n",
       "      <td>inactive</td>\n",
       "      <td>NaN</td>\n",
       "      <td>0</td>\n",
       "      <td>inactive</td>\n",
       "      <td>NaN</td>\n",
       "      <td>0</td>\n",
       "      <td>NCI</td>\n",
       "    </tr>\n",
       "    <tr>\n",
       "      <th>6</th>\n",
       "      <td>4</td>\n",
       "      <td>144203555.0</td>\n",
       "      <td>13218779.0</td>\n",
       "      <td>Inactive</td>\n",
       "      <td>0.0</td>\n",
       "      <td>NaN</td>\n",
       "      <td>NaN</td>\n",
       "      <td>inactive</td>\n",
       "      <td>inactive</td>\n",
       "      <td>NaN</td>\n",
       "      <td>0</td>\n",
       "      <td>inactive</td>\n",
       "      <td>NaN</td>\n",
       "      <td>0</td>\n",
       "      <td>NCI</td>\n",
       "    </tr>\n",
       "    <tr>\n",
       "      <th>7</th>\n",
       "      <td>5</td>\n",
       "      <td>144203556.0</td>\n",
       "      <td>142766.0</td>\n",
       "      <td>Inconclusive</td>\n",
       "      <td>25.0</td>\n",
       "      <td>NaN</td>\n",
       "      <td>NaN</td>\n",
       "      <td>inconclusive antagonist (cytotoxic)</td>\n",
       "      <td>active antagonist</td>\n",
       "      <td>15.5454</td>\n",
       "      <td>-115.803</td>\n",
       "      <td>active antagonist</td>\n",
       "      <td>14.9601</td>\n",
       "      <td>-76.8218</td>\n",
       "      <td>NCI</td>\n",
       "    </tr>\n",
       "  </tbody>\n",
       "</table>\n",
       "</div>"
      ],
      "text/plain": [
       "  PUBCHEM_RESULT_TAG  PUBCHEM_SID  PUBCHEM_CID PUBCHEM_ACTIVITY_OUTCOME  \\\n",
       "3                  1  144203552.0   12850184.0                 Inactive   \n",
       "4                  2  144203553.0      89753.0                 Inactive   \n",
       "5                  3  144203554.0       9403.0                 Inactive   \n",
       "6                  4  144203555.0   13218779.0                 Inactive   \n",
       "7                  5  144203556.0     142766.0             Inconclusive   \n",
       "\n",
       "   PUBCHEM_ACTIVITY_SCORE  PUBCHEM_ACTIVITY_URL  PUBCHEM_ASSAYDATA_COMMENT  \\\n",
       "3                     0.0                   NaN                        NaN   \n",
       "4                     0.0                   NaN                        NaN   \n",
       "5                     0.0                   NaN                        NaN   \n",
       "6                     0.0                   NaN                        NaN   \n",
       "7                    25.0                   NaN                        NaN   \n",
       "\n",
       "                      Activity Summary Antagonist Activity  \\\n",
       "3                             inactive            inactive   \n",
       "4                             inactive            inactive   \n",
       "5                             inactive            inactive   \n",
       "6                             inactive            inactive   \n",
       "7  inconclusive antagonist (cytotoxic)   active antagonist   \n",
       "\n",
       "  Antagonist Potency (uM) Antagonist Efficacy (%) Viability Activity  \\\n",
       "3                     NaN                       0           inactive   \n",
       "4                     NaN                       0           inactive   \n",
       "5                     NaN                       0           inactive   \n",
       "6                     NaN                       0           inactive   \n",
       "7                 15.5454                -115.803  active antagonist   \n",
       "\n",
       "  Viability Potency (uM) Viability Efficacy (%) Sample Source  \n",
       "3                    NaN                      0           NCI  \n",
       "4                    NaN                      0           NCI  \n",
       "5                    NaN                      0           NCI  \n",
       "6                    NaN                      0           NCI  \n",
       "7                14.9601               -76.8218           NCI  "
      ]
     },
     "execution_count": 3,
     "metadata": {},
     "output_type": "execute_result"
    }
   ],
   "source": [
    "df_raw = df_raw[3:]\n",
    "df_raw.head(5)"
   ]
  },
  {
   "cell_type": "markdown",
   "metadata": {},
   "source": [
    "The column names in this data frame contain white spaces and special characters.  For simplicity, let's rename the columns (no spaces or special characters except for the \"_\" character.)"
   ]
  },
  {
   "cell_type": "code",
   "execution_count": 4,
   "metadata": {},
   "outputs": [
    {
     "data": {
      "text/plain": [
       "Index(['PUBCHEM_RESULT_TAG', 'PUBCHEM_SID', 'PUBCHEM_CID',\n",
       "       'PUBCHEM_ACTIVITY_OUTCOME', 'PUBCHEM_ACTIVITY_SCORE',\n",
       "       'PUBCHEM_ACTIVITY_URL', 'PUBCHEM_ASSAYDATA_COMMENT', 'Activity Summary',\n",
       "       'Antagonist Activity', 'Antagonist Potency (uM)',\n",
       "       'Antagonist Efficacy (%)', 'Viability Activity',\n",
       "       'Viability Potency (uM)', 'Viability Efficacy (%)', 'Sample Source'],\n",
       "      dtype='object')"
      ]
     },
     "execution_count": 4,
     "metadata": {},
     "output_type": "execute_result"
    }
   ],
   "source": [
    "df_raw.columns"
   ]
  },
  {
   "cell_type": "code",
   "execution_count": 5,
   "metadata": {},
   "outputs": [],
   "source": [
    "col_names_map = {'PUBCHEM_RESULT_TAG' : 'pc_result_tag', \n",
    "                 'PUBCHEM_SID' : 'sid', \n",
    "                 'PUBCHEM_CID' : 'cid',\n",
    "                 'PUBCHEM_ACTIVITY_OUTCOME' : 'activity_outcome', \n",
    "                 'PUBCHEM_ACTIVITY_SCORE' : 'activity_score',\n",
    "                 'PUBCHEM_ACTIVITY_URL' : 'activity_url', \n",
    "                 'PUBCHEM_ASSAYDATA_COMMENT' : 'assay_data_comment', \n",
    "                 'Activity Summary' : 'activity_summary',\n",
    "                 'Antagonist Activity' : 'antagonist_activity', \n",
    "                 'Antagonist Potency (uM)' : 'antagonist_potency', \n",
    "                 'Antagonist Efficacy (%)' : 'antagonist_efficacy',\n",
    "                 'Viability Activity' : 'viability_activity', \n",
    "                 'Viability Potency (uM)' : 'viability_potency',\n",
    "                 'Viability Efficacy (%)' : 'viability_efficacy', \n",
    "                 'Sample Source' : 'sample_source' }"
   ]
  },
  {
   "cell_type": "code",
   "execution_count": 6,
   "metadata": {},
   "outputs": [
    {
     "data": {
      "text/plain": [
       "Index(['pc_result_tag', 'sid', 'cid', 'activity_outcome', 'activity_score',\n",
       "       'activity_url', 'assay_data_comment', 'activity_summary',\n",
       "       'antagonist_activity', 'antagonist_potency', 'antagonist_efficacy',\n",
       "       'viability_activity', 'viability_potency', 'viability_efficacy',\n",
       "       'sample_source'],\n",
       "      dtype='object')"
      ]
     },
     "execution_count": 6,
     "metadata": {},
     "output_type": "execute_result"
    }
   ],
   "source": [
    "df_raw = df_raw.rename(columns = col_names_map)\n",
    "df_raw.columns"
   ]
  },
  {
   "cell_type": "markdown",
   "metadata": {},
   "source": [
    "## 2. Check the number of compounds for each activity group"
   ]
  },
  {
   "cell_type": "markdown",
   "metadata": {},
   "source": [
    "First, we need to understand what our data look like.  Especially, we are interested in the activity class of the tested compounds because we are developing a model that classifies small molecules according to their activities against the target.  This information is available in the \"**activity_outcome**\" and \"**activity_summary**\" columns."
   ]
  },
  {
   "cell_type": "code",
   "execution_count": 7,
   "metadata": {},
   "outputs": [
    {
     "data": {
      "text/html": [
       "<div>\n",
       "<style scoped>\n",
       "    .dataframe tbody tr th:only-of-type {\n",
       "        vertical-align: middle;\n",
       "    }\n",
       "\n",
       "    .dataframe tbody tr th {\n",
       "        vertical-align: top;\n",
       "    }\n",
       "\n",
       "    .dataframe thead th {\n",
       "        text-align: right;\n",
       "    }\n",
       "</style>\n",
       "<table border=\"1\" class=\"dataframe\">\n",
       "  <thead>\n",
       "    <tr style=\"text-align: right;\">\n",
       "      <th></th>\n",
       "      <th>pc_result_tag</th>\n",
       "      <th>sid</th>\n",
       "      <th>cid</th>\n",
       "      <th>activity_score</th>\n",
       "      <th>activity_url</th>\n",
       "      <th>assay_data_comment</th>\n",
       "      <th>activity_summary</th>\n",
       "      <th>antagonist_activity</th>\n",
       "      <th>antagonist_potency</th>\n",
       "      <th>antagonist_efficacy</th>\n",
       "      <th>viability_activity</th>\n",
       "      <th>viability_potency</th>\n",
       "      <th>viability_efficacy</th>\n",
       "      <th>sample_source</th>\n",
       "    </tr>\n",
       "    <tr>\n",
       "      <th>activity_outcome</th>\n",
       "      <th></th>\n",
       "      <th></th>\n",
       "      <th></th>\n",
       "      <th></th>\n",
       "      <th></th>\n",
       "      <th></th>\n",
       "      <th></th>\n",
       "      <th></th>\n",
       "      <th></th>\n",
       "      <th></th>\n",
       "      <th></th>\n",
       "      <th></th>\n",
       "      <th></th>\n",
       "      <th></th>\n",
       "    </tr>\n",
       "  </thead>\n",
       "  <tbody>\n",
       "    <tr>\n",
       "      <th>Active</th>\n",
       "      <td>379</td>\n",
       "      <td>379</td>\n",
       "      <td>378</td>\n",
       "      <td>379</td>\n",
       "      <td>0</td>\n",
       "      <td>0</td>\n",
       "      <td>379</td>\n",
       "      <td>379</td>\n",
       "      <td>378</td>\n",
       "      <td>379</td>\n",
       "      <td>379</td>\n",
       "      <td>115</td>\n",
       "      <td>359</td>\n",
       "      <td>379</td>\n",
       "    </tr>\n",
       "    <tr>\n",
       "      <th>Inactive</th>\n",
       "      <td>7562</td>\n",
       "      <td>7562</td>\n",
       "      <td>7466</td>\n",
       "      <td>7562</td>\n",
       "      <td>0</td>\n",
       "      <td>0</td>\n",
       "      <td>7562</td>\n",
       "      <td>7562</td>\n",
       "      <td>0</td>\n",
       "      <td>7562</td>\n",
       "      <td>7562</td>\n",
       "      <td>324</td>\n",
       "      <td>7449</td>\n",
       "      <td>7562</td>\n",
       "    </tr>\n",
       "    <tr>\n",
       "      <th>Inconclusive</th>\n",
       "      <td>2545</td>\n",
       "      <td>2545</td>\n",
       "      <td>2493</td>\n",
       "      <td>2545</td>\n",
       "      <td>0</td>\n",
       "      <td>0</td>\n",
       "      <td>2545</td>\n",
       "      <td>2545</td>\n",
       "      <td>2111</td>\n",
       "      <td>2136</td>\n",
       "      <td>2545</td>\n",
       "      <td>1206</td>\n",
       "      <td>2450</td>\n",
       "      <td>2545</td>\n",
       "    </tr>\n",
       "  </tbody>\n",
       "</table>\n",
       "</div>"
      ],
      "text/plain": [
       "                  pc_result_tag   sid   cid  activity_score  activity_url  \\\n",
       "activity_outcome                                                            \n",
       "Active                      379   379   378             379             0   \n",
       "Inactive                   7562  7562  7466            7562             0   \n",
       "Inconclusive               2545  2545  2493            2545             0   \n",
       "\n",
       "                  assay_data_comment  activity_summary  antagonist_activity  \\\n",
       "activity_outcome                                                              \n",
       "Active                             0               379                  379   \n",
       "Inactive                           0              7562                 7562   \n",
       "Inconclusive                       0              2545                 2545   \n",
       "\n",
       "                  antagonist_potency  antagonist_efficacy  viability_activity  \\\n",
       "activity_outcome                                                                \n",
       "Active                           378                  379                 379   \n",
       "Inactive                           0                 7562                7562   \n",
       "Inconclusive                    2111                 2136                2545   \n",
       "\n",
       "                  viability_potency  viability_efficacy  sample_source  \n",
       "activity_outcome                                                        \n",
       "Active                          115                 359            379  \n",
       "Inactive                        324                7449           7562  \n",
       "Inconclusive                   1206                2450           2545  "
      ]
     },
     "execution_count": 7,
     "metadata": {},
     "output_type": "execute_result"
    }
   ],
   "source": [
    "df_raw.groupby(['activity_outcome']).count()"
   ]
  },
  {
   "cell_type": "markdown",
   "metadata": {},
   "source": [
    "Based on the data in the **activity_outcome** column, there are 379 actives, 7562 inactives, and 2545 inconclusives."
   ]
  },
  {
   "cell_type": "code",
   "execution_count": 8,
   "metadata": {},
   "outputs": [
    {
     "data": {
      "text/html": [
       "<div>\n",
       "<style scoped>\n",
       "    .dataframe tbody tr th:only-of-type {\n",
       "        vertical-align: middle;\n",
       "    }\n",
       "\n",
       "    .dataframe tbody tr th {\n",
       "        vertical-align: top;\n",
       "    }\n",
       "\n",
       "    .dataframe thead th {\n",
       "        text-align: right;\n",
       "    }\n",
       "</style>\n",
       "<table border=\"1\" class=\"dataframe\">\n",
       "  <thead>\n",
       "    <tr style=\"text-align: right;\">\n",
       "      <th></th>\n",
       "      <th></th>\n",
       "      <th>pc_result_tag</th>\n",
       "      <th>sid</th>\n",
       "      <th>cid</th>\n",
       "      <th>activity_score</th>\n",
       "      <th>activity_url</th>\n",
       "      <th>assay_data_comment</th>\n",
       "      <th>antagonist_activity</th>\n",
       "      <th>antagonist_potency</th>\n",
       "      <th>antagonist_efficacy</th>\n",
       "      <th>viability_activity</th>\n",
       "      <th>viability_potency</th>\n",
       "      <th>viability_efficacy</th>\n",
       "      <th>sample_source</th>\n",
       "    </tr>\n",
       "    <tr>\n",
       "      <th>activity_outcome</th>\n",
       "      <th>activity_summary</th>\n",
       "      <th></th>\n",
       "      <th></th>\n",
       "      <th></th>\n",
       "      <th></th>\n",
       "      <th></th>\n",
       "      <th></th>\n",
       "      <th></th>\n",
       "      <th></th>\n",
       "      <th></th>\n",
       "      <th></th>\n",
       "      <th></th>\n",
       "      <th></th>\n",
       "      <th></th>\n",
       "    </tr>\n",
       "  </thead>\n",
       "  <tbody>\n",
       "    <tr>\n",
       "      <th>Active</th>\n",
       "      <th>active antagonist</th>\n",
       "      <td>379</td>\n",
       "      <td>379</td>\n",
       "      <td>378</td>\n",
       "      <td>379</td>\n",
       "      <td>0</td>\n",
       "      <td>0</td>\n",
       "      <td>379</td>\n",
       "      <td>378</td>\n",
       "      <td>379</td>\n",
       "      <td>379</td>\n",
       "      <td>115</td>\n",
       "      <td>359</td>\n",
       "      <td>379</td>\n",
       "    </tr>\n",
       "    <tr>\n",
       "      <th>Inactive</th>\n",
       "      <th>inactive</th>\n",
       "      <td>7562</td>\n",
       "      <td>7562</td>\n",
       "      <td>7466</td>\n",
       "      <td>7562</td>\n",
       "      <td>0</td>\n",
       "      <td>0</td>\n",
       "      <td>7562</td>\n",
       "      <td>0</td>\n",
       "      <td>7562</td>\n",
       "      <td>7562</td>\n",
       "      <td>324</td>\n",
       "      <td>7449</td>\n",
       "      <td>7562</td>\n",
       "    </tr>\n",
       "    <tr>\n",
       "      <th rowspan=\"6\" valign=\"top\">Inconclusive</th>\n",
       "      <th>active agonist</th>\n",
       "      <td>612</td>\n",
       "      <td>612</td>\n",
       "      <td>571</td>\n",
       "      <td>612</td>\n",
       "      <td>0</td>\n",
       "      <td>0</td>\n",
       "      <td>612</td>\n",
       "      <td>612</td>\n",
       "      <td>612</td>\n",
       "      <td>612</td>\n",
       "      <td>60</td>\n",
       "      <td>590</td>\n",
       "      <td>612</td>\n",
       "    </tr>\n",
       "    <tr>\n",
       "      <th>inconclusive</th>\n",
       "      <td>44</td>\n",
       "      <td>44</td>\n",
       "      <td>44</td>\n",
       "      <td>44</td>\n",
       "      <td>0</td>\n",
       "      <td>0</td>\n",
       "      <td>44</td>\n",
       "      <td>0</td>\n",
       "      <td>0</td>\n",
       "      <td>44</td>\n",
       "      <td>19</td>\n",
       "      <td>42</td>\n",
       "      <td>44</td>\n",
       "    </tr>\n",
       "    <tr>\n",
       "      <th>inconclusive agonist</th>\n",
       "      <td>414</td>\n",
       "      <td>414</td>\n",
       "      <td>409</td>\n",
       "      <td>414</td>\n",
       "      <td>0</td>\n",
       "      <td>0</td>\n",
       "      <td>414</td>\n",
       "      <td>212</td>\n",
       "      <td>223</td>\n",
       "      <td>414</td>\n",
       "      <td>12</td>\n",
       "      <td>397</td>\n",
       "      <td>414</td>\n",
       "    </tr>\n",
       "    <tr>\n",
       "      <th>inconclusive agonist (cytotoxic)</th>\n",
       "      <td>59</td>\n",
       "      <td>59</td>\n",
       "      <td>59</td>\n",
       "      <td>59</td>\n",
       "      <td>0</td>\n",
       "      <td>0</td>\n",
       "      <td>59</td>\n",
       "      <td>41</td>\n",
       "      <td>45</td>\n",
       "      <td>59</td>\n",
       "      <td>59</td>\n",
       "      <td>59</td>\n",
       "      <td>59</td>\n",
       "    </tr>\n",
       "    <tr>\n",
       "      <th>inconclusive antagonist</th>\n",
       "      <td>367</td>\n",
       "      <td>367</td>\n",
       "      <td>364</td>\n",
       "      <td>367</td>\n",
       "      <td>0</td>\n",
       "      <td>0</td>\n",
       "      <td>367</td>\n",
       "      <td>227</td>\n",
       "      <td>230</td>\n",
       "      <td>367</td>\n",
       "      <td>8</td>\n",
       "      <td>313</td>\n",
       "      <td>367</td>\n",
       "    </tr>\n",
       "    <tr>\n",
       "      <th>inconclusive antagonist (cytotoxic)</th>\n",
       "      <td>1049</td>\n",
       "      <td>1049</td>\n",
       "      <td>1046</td>\n",
       "      <td>1049</td>\n",
       "      <td>0</td>\n",
       "      <td>0</td>\n",
       "      <td>1049</td>\n",
       "      <td>1019</td>\n",
       "      <td>1026</td>\n",
       "      <td>1049</td>\n",
       "      <td>1048</td>\n",
       "      <td>1049</td>\n",
       "      <td>1049</td>\n",
       "    </tr>\n",
       "  </tbody>\n",
       "</table>\n",
       "</div>"
      ],
      "text/plain": [
       "                                                      pc_result_tag   sid  \\\n",
       "activity_outcome activity_summary                                           \n",
       "Active           active antagonist                              379   379   \n",
       "Inactive         inactive                                      7562  7562   \n",
       "Inconclusive     active agonist                                 612   612   \n",
       "                 inconclusive                                    44    44   \n",
       "                 inconclusive agonist                           414   414   \n",
       "                 inconclusive agonist (cytotoxic)                59    59   \n",
       "                 inconclusive antagonist                        367   367   \n",
       "                 inconclusive antagonist (cytotoxic)           1049  1049   \n",
       "\n",
       "                                                       cid  activity_score  \\\n",
       "activity_outcome activity_summary                                            \n",
       "Active           active antagonist                     378             379   \n",
       "Inactive         inactive                             7466            7562   \n",
       "Inconclusive     active agonist                        571             612   \n",
       "                 inconclusive                           44              44   \n",
       "                 inconclusive agonist                  409             414   \n",
       "                 inconclusive agonist (cytotoxic)       59              59   \n",
       "                 inconclusive antagonist               364             367   \n",
       "                 inconclusive antagonist (cytotoxic)  1046            1049   \n",
       "\n",
       "                                                      activity_url  \\\n",
       "activity_outcome activity_summary                                    \n",
       "Active           active antagonist                               0   \n",
       "Inactive         inactive                                        0   \n",
       "Inconclusive     active agonist                                  0   \n",
       "                 inconclusive                                    0   \n",
       "                 inconclusive agonist                            0   \n",
       "                 inconclusive agonist (cytotoxic)                0   \n",
       "                 inconclusive antagonist                         0   \n",
       "                 inconclusive antagonist (cytotoxic)             0   \n",
       "\n",
       "                                                      assay_data_comment  \\\n",
       "activity_outcome activity_summary                                          \n",
       "Active           active antagonist                                     0   \n",
       "Inactive         inactive                                              0   \n",
       "Inconclusive     active agonist                                        0   \n",
       "                 inconclusive                                          0   \n",
       "                 inconclusive agonist                                  0   \n",
       "                 inconclusive agonist (cytotoxic)                      0   \n",
       "                 inconclusive antagonist                               0   \n",
       "                 inconclusive antagonist (cytotoxic)                   0   \n",
       "\n",
       "                                                      antagonist_activity  \\\n",
       "activity_outcome activity_summary                                           \n",
       "Active           active antagonist                                    379   \n",
       "Inactive         inactive                                            7562   \n",
       "Inconclusive     active agonist                                       612   \n",
       "                 inconclusive                                          44   \n",
       "                 inconclusive agonist                                 414   \n",
       "                 inconclusive agonist (cytotoxic)                      59   \n",
       "                 inconclusive antagonist                              367   \n",
       "                 inconclusive antagonist (cytotoxic)                 1049   \n",
       "\n",
       "                                                      antagonist_potency  \\\n",
       "activity_outcome activity_summary                                          \n",
       "Active           active antagonist                                   378   \n",
       "Inactive         inactive                                              0   \n",
       "Inconclusive     active agonist                                      612   \n",
       "                 inconclusive                                          0   \n",
       "                 inconclusive agonist                                212   \n",
       "                 inconclusive agonist (cytotoxic)                     41   \n",
       "                 inconclusive antagonist                             227   \n",
       "                 inconclusive antagonist (cytotoxic)                1019   \n",
       "\n",
       "                                                      antagonist_efficacy  \\\n",
       "activity_outcome activity_summary                                           \n",
       "Active           active antagonist                                    379   \n",
       "Inactive         inactive                                            7562   \n",
       "Inconclusive     active agonist                                       612   \n",
       "                 inconclusive                                           0   \n",
       "                 inconclusive agonist                                 223   \n",
       "                 inconclusive agonist (cytotoxic)                      45   \n",
       "                 inconclusive antagonist                              230   \n",
       "                 inconclusive antagonist (cytotoxic)                 1026   \n",
       "\n",
       "                                                      viability_activity  \\\n",
       "activity_outcome activity_summary                                          \n",
       "Active           active antagonist                                   379   \n",
       "Inactive         inactive                                           7562   \n",
       "Inconclusive     active agonist                                      612   \n",
       "                 inconclusive                                         44   \n",
       "                 inconclusive agonist                                414   \n",
       "                 inconclusive agonist (cytotoxic)                     59   \n",
       "                 inconclusive antagonist                             367   \n",
       "                 inconclusive antagonist (cytotoxic)                1049   \n",
       "\n",
       "                                                      viability_potency  \\\n",
       "activity_outcome activity_summary                                         \n",
       "Active           active antagonist                                  115   \n",
       "Inactive         inactive                                           324   \n",
       "Inconclusive     active agonist                                      60   \n",
       "                 inconclusive                                        19   \n",
       "                 inconclusive agonist                                12   \n",
       "                 inconclusive agonist (cytotoxic)                    59   \n",
       "                 inconclusive antagonist                              8   \n",
       "                 inconclusive antagonist (cytotoxic)               1048   \n",
       "\n",
       "                                                      viability_efficacy  \\\n",
       "activity_outcome activity_summary                                          \n",
       "Active           active antagonist                                   359   \n",
       "Inactive         inactive                                           7449   \n",
       "Inconclusive     active agonist                                      590   \n",
       "                 inconclusive                                         42   \n",
       "                 inconclusive agonist                                397   \n",
       "                 inconclusive agonist (cytotoxic)                     59   \n",
       "                 inconclusive antagonist                             313   \n",
       "                 inconclusive antagonist (cytotoxic)                1049   \n",
       "\n",
       "                                                      sample_source  \n",
       "activity_outcome activity_summary                                    \n",
       "Active           active antagonist                              379  \n",
       "Inactive         inactive                                      7562  \n",
       "Inconclusive     active agonist                                 612  \n",
       "                 inconclusive                                    44  \n",
       "                 inconclusive agonist                           414  \n",
       "                 inconclusive agonist (cytotoxic)                59  \n",
       "                 inconclusive antagonist                        367  \n",
       "                 inconclusive antagonist (cytotoxic)           1049  "
      ]
     },
     "execution_count": 8,
     "metadata": {},
     "output_type": "execute_result"
    }
   ],
   "source": [
    "df_raw.groupby(['activity_outcome','activity_summary']).count()"
   ]
  },
  {
   "cell_type": "markdown",
   "metadata": {},
   "source": [
    "Now, we can see that, in the **activity_summary** column, the inconclusive compounds are further classified into subclasses, which include:\n",
    "\n",
    "- **active agonist**\n",
    "- inconclusive\n",
    "- inconclusive agonist\n",
    "- inconclusive antagonist\n",
    "- inconclusive agonist (cytotoxic)\n",
    "- inconclusive antagonist (cytotoxic)\n",
    "\n"
   ]
  },
  {
   "cell_type": "markdown",
   "metadata": {},
   "source": [
    "As implied in the title of this assay record (https://pubchem.ncbi.nlm.nih.gov/bioassay/743139), this assay aims to identify **aromatase inhibitors**.  Therefore, all **active antagonists** (in the activity summary column) were declared to be **active** compounds (in the activity outcome column).\n",
    "\n",
    "On the other hand, the assay also identified 612 **active agonists** (in the activity summary column), and they are declared to be **inconclusive** (in the activity outcome column).\n",
    "\n",
    "With that said, \"inactive\" compounds in this assay means those which are neither active agonists nor active antagonist."
   ]
  },
  {
   "cell_type": "markdown",
   "metadata": {},
   "source": [
    "It is important to understand that the criteria used for determining whether a compound is active or not in a given assay are selected by the data source who submitted that assay data to PubChem.  For the purpose of this assignment (which aims to develop a binary classifier that tells if a molecule is active or inactive against the target), we should clarify what we mean by \"active\" and \"inactive\".\n",
    "\n",
    "- **active** : any compounds that can change (either increase or decrease) the activity of the target.  This is equivalent to either **active antagonists** or **active agonists** in the activity summary column.\n",
    "- **inactive** : any compounds that do not change the activity of the target.  This is equivalent to **inactive** compounds in the activity summary column."
   ]
  },
  {
   "cell_type": "markdown",
   "metadata": {},
   "source": [
    "## 3. Select active/inactive compounds for model building"
   ]
  },
  {
   "cell_type": "markdown",
   "metadata": {},
   "source": [
    "Now we want to select only the active and inactive compounds from the data frame (that is, active agonists, active antagonists, and inactives based on the \"activity summary\" column)."
   ]
  },
  {
   "cell_type": "code",
   "execution_count": 9,
   "metadata": {},
   "outputs": [
    {
     "data": {
      "text/plain": [
       "8553"
      ]
     },
     "execution_count": 9,
     "metadata": {},
     "output_type": "execute_result"
    }
   ],
   "source": [
    "df = df_raw[ (df_raw['activity_summary'] == 'active agonist' ) | \n",
    "             (df_raw['activity_summary'] == 'active antagonist' ) |\n",
    "             (df_raw['activity_summary'] == 'inactive' ) ]\n",
    "\n",
    "len(df)"
   ]
  },
  {
   "cell_type": "code",
   "execution_count": 10,
   "metadata": {},
   "outputs": [
    {
     "name": "stdout",
     "output_type": "stream",
     "text": [
      "8553\n",
      "6864\n"
     ]
    }
   ],
   "source": [
    "print(len(df['sid'].unique()))\n",
    "print(len(df['cid'].unique()))"
   ]
  },
  {
   "cell_type": "markdown",
   "metadata": {},
   "source": [
    "Note that the number of CIDs is not the same as the number of SIDs.  There are two important potential reasons for this observation.  \n",
    "\n",
    "First, not all substances (SIDs) in PubChem have associated compounds (CIDs) because some substances failed during structure standardization.  \\[Remember that, in PubChem, substances are depositor-provided structures and compounds are unique structures extracted from substances through structure standardization.]  Because our model will use structural information of molecules to predict their bioactivity, we need to remove substances without associated CIDs (i.e., no standardized structures).\n",
    "\n",
    "Second, some compounds are associated with more than one substances.  In the context of this assay, it means that a compound may be tested multiple times in different samples (which are designated as different substances).  It is not uncommon that different samples of the same chemical may result in conflicting activities (e.g., active agonist in one sample but inactive in another sample).  In this practice, we remove such compounds with conflicting activities."
   ]
  },
  {
   "cell_type": "markdown",
   "metadata": {},
   "source": [
    "## 3-(1) Drop substances without associated CIDs."
   ]
  },
  {
   "cell_type": "markdown",
   "metadata": {},
   "source": [
    "First, check if there are subtances without associated CIDs."
   ]
  },
  {
   "cell_type": "code",
   "execution_count": 11,
   "metadata": {},
   "outputs": [
    {
     "data": {
      "text/plain": [
       "pc_result_tag             0\n",
       "sid                       0\n",
       "cid                     138\n",
       "activity_outcome          0\n",
       "activity_score            0\n",
       "activity_url           8553\n",
       "assay_data_comment     8553\n",
       "activity_summary          0\n",
       "antagonist_activity       0\n",
       "antagonist_potency     7563\n",
       "antagonist_efficacy       0\n",
       "viability_activity        0\n",
       "viability_potency      8054\n",
       "viability_efficacy      155\n",
       "sample_source             0\n",
       "dtype: int64"
      ]
     },
     "execution_count": 11,
     "metadata": {},
     "output_type": "execute_result"
    }
   ],
   "source": [
    "df.isna().sum()"
   ]
  },
  {
   "cell_type": "markdown",
   "metadata": {},
   "source": [
    "There are 138 records whose \"cid\" column is NULL, and we want to remove those records."
   ]
  },
  {
   "cell_type": "code",
   "execution_count": 12,
   "metadata": {},
   "outputs": [
    {
     "data": {
      "text/plain": [
       "8415"
      ]
     },
     "execution_count": 12,
     "metadata": {},
     "output_type": "execute_result"
    }
   ],
   "source": [
    "df = df.dropna( subset=['cid'] )\n",
    "len(df)"
   ]
  },
  {
   "cell_type": "code",
   "execution_count": 13,
   "metadata": {},
   "outputs": [
    {
     "name": "stdout",
     "output_type": "stream",
     "text": [
      "8415\n",
      "6863\n"
     ]
    }
   ],
   "source": [
    "print(len(df['sid'].unique()))\n",
    "print(len(df['cid'].unique()))"
   ]
  },
  {
   "cell_type": "code",
   "execution_count": 14,
   "metadata": {},
   "outputs": [
    {
     "data": {
      "text/plain": [
       "pc_result_tag             0\n",
       "sid                       0\n",
       "cid                       0\n",
       "activity_outcome          0\n",
       "activity_score            0\n",
       "activity_url           8415\n",
       "assay_data_comment     8415\n",
       "activity_summary          0\n",
       "antagonist_activity       0\n",
       "antagonist_potency     7467\n",
       "antagonist_efficacy       0\n",
       "viability_activity        0\n",
       "viability_potency      7919\n",
       "viability_efficacy      154\n",
       "sample_source             0\n",
       "dtype: int64"
      ]
     },
     "execution_count": 14,
     "metadata": {},
     "output_type": "execute_result"
    }
   ],
   "source": [
    "df.isna().sum()   # Check if the NULL values disappeared in the \"cid\" column"
   ]
  },
  {
   "cell_type": "markdown",
   "metadata": {},
   "source": [
    "## 3-(2) Remove CIDs with conflicting activities"
   ]
  },
  {
   "cell_type": "markdown",
   "metadata": {},
   "source": [
    "Now identify compounds with conflicting activities and remove them."
   ]
  },
  {
   "cell_type": "code",
   "execution_count": 15,
   "metadata": {},
   "outputs": [
    {
     "name": "stdout",
     "output_type": "stream",
     "text": [
      "# 65 CIDs with conflicting activities [associated with 146 rows (SIDs).]\n"
     ]
    }
   ],
   "source": [
    "cid_conflict = []\n",
    "idx_conflict = []\n",
    "\n",
    "for mycid in df['cid'].unique() :\n",
    "    \n",
    "    outcomes = df[ df.cid == mycid ].activity_summary.unique()\n",
    "    \n",
    "    if len(outcomes) > 1 :\n",
    "        \n",
    "        idx_tmp = df.index[ df.cid == mycid ].tolist()\n",
    "        idx_conflict.extend(idx_tmp)\n",
    "        cid_conflict.append(mycid)\n",
    "\n",
    "print(\"#\", len(cid_conflict), \"CIDs with conflicting activities [associated with\", len(idx_conflict), \"rows (SIDs).]\")"
   ]
  },
  {
   "cell_type": "code",
   "execution_count": 16,
   "metadata": {},
   "outputs": [
    {
     "data": {
      "text/html": [
       "<div>\n",
       "<style scoped>\n",
       "    .dataframe tbody tr th:only-of-type {\n",
       "        vertical-align: middle;\n",
       "    }\n",
       "\n",
       "    .dataframe tbody tr th {\n",
       "        vertical-align: top;\n",
       "    }\n",
       "\n",
       "    .dataframe thead th {\n",
       "        text-align: right;\n",
       "    }\n",
       "</style>\n",
       "<table border=\"1\" class=\"dataframe\">\n",
       "  <thead>\n",
       "    <tr style=\"text-align: right;\">\n",
       "      <th></th>\n",
       "      <th>pc_result_tag</th>\n",
       "      <th>sid</th>\n",
       "      <th>cid</th>\n",
       "      <th>activity_outcome</th>\n",
       "      <th>activity_score</th>\n",
       "      <th>activity_url</th>\n",
       "      <th>assay_data_comment</th>\n",
       "      <th>activity_summary</th>\n",
       "      <th>antagonist_activity</th>\n",
       "      <th>antagonist_potency</th>\n",
       "      <th>antagonist_efficacy</th>\n",
       "      <th>viability_activity</th>\n",
       "      <th>viability_potency</th>\n",
       "      <th>viability_efficacy</th>\n",
       "      <th>sample_source</th>\n",
       "    </tr>\n",
       "  </thead>\n",
       "  <tbody>\n",
       "    <tr>\n",
       "      <th>8</th>\n",
       "      <td>6</td>\n",
       "      <td>144203557.0</td>\n",
       "      <td>16043.0</td>\n",
       "      <td>Inactive</td>\n",
       "      <td>0.0</td>\n",
       "      <td>NaN</td>\n",
       "      <td>NaN</td>\n",
       "      <td>inactive</td>\n",
       "      <td>inactive</td>\n",
       "      <td>NaN</td>\n",
       "      <td>0</td>\n",
       "      <td>inactive</td>\n",
       "      <td>NaN</td>\n",
       "      <td>0</td>\n",
       "      <td>NCI</td>\n",
       "    </tr>\n",
       "    <tr>\n",
       "      <th>5956</th>\n",
       "      <td>5954</td>\n",
       "      <td>144209507.0</td>\n",
       "      <td>16043.0</td>\n",
       "      <td>Active</td>\n",
       "      <td>43.0</td>\n",
       "      <td>NaN</td>\n",
       "      <td>NaN</td>\n",
       "      <td>active antagonist</td>\n",
       "      <td>active antagonist</td>\n",
       "      <td>54.4827</td>\n",
       "      <td>-73.4024</td>\n",
       "      <td>inconclusive antagonist</td>\n",
       "      <td>NaN</td>\n",
       "      <td>NaN</td>\n",
       "      <td>SigmaAldrich</td>\n",
       "    </tr>\n",
       "    <tr>\n",
       "      <th>6850</th>\n",
       "      <td>6848</td>\n",
       "      <td>144210401.0</td>\n",
       "      <td>16043.0</td>\n",
       "      <td>Inactive</td>\n",
       "      <td>0.0</td>\n",
       "      <td>NaN</td>\n",
       "      <td>NaN</td>\n",
       "      <td>inactive</td>\n",
       "      <td>inactive</td>\n",
       "      <td>NaN</td>\n",
       "      <td>0</td>\n",
       "      <td>inactive</td>\n",
       "      <td>NaN</td>\n",
       "      <td>0</td>\n",
       "      <td>SIGMA</td>\n",
       "    </tr>\n",
       "    <tr>\n",
       "      <th>52</th>\n",
       "      <td>50</td>\n",
       "      <td>144203601.0</td>\n",
       "      <td>443939.0</td>\n",
       "      <td>Inactive</td>\n",
       "      <td>0.0</td>\n",
       "      <td>NaN</td>\n",
       "      <td>NaN</td>\n",
       "      <td>inactive</td>\n",
       "      <td>inactive</td>\n",
       "      <td>NaN</td>\n",
       "      <td>0</td>\n",
       "      <td>inactive</td>\n",
       "      <td>NaN</td>\n",
       "      <td>0</td>\n",
       "      <td>NCI</td>\n",
       "    </tr>\n",
       "    <tr>\n",
       "      <th>6130</th>\n",
       "      <td>6128</td>\n",
       "      <td>144209681.0</td>\n",
       "      <td>443939.0</td>\n",
       "      <td>Active</td>\n",
       "      <td>61.0</td>\n",
       "      <td>NaN</td>\n",
       "      <td>NaN</td>\n",
       "      <td>active antagonist</td>\n",
       "      <td>active antagonist</td>\n",
       "      <td>1.65519</td>\n",
       "      <td>-115.932</td>\n",
       "      <td>active antagonist</td>\n",
       "      <td>12.1763</td>\n",
       "      <td>-120.598</td>\n",
       "      <td>Toronto Research</td>\n",
       "    </tr>\n",
       "    <tr>\n",
       "      <th>66</th>\n",
       "      <td>64</td>\n",
       "      <td>144203615.0</td>\n",
       "      <td>2170.0</td>\n",
       "      <td>Inactive</td>\n",
       "      <td>0.0</td>\n",
       "      <td>NaN</td>\n",
       "      <td>NaN</td>\n",
       "      <td>inactive</td>\n",
       "      <td>inactive</td>\n",
       "      <td>NaN</td>\n",
       "      <td>0</td>\n",
       "      <td>inactive</td>\n",
       "      <td>NaN</td>\n",
       "      <td>0</td>\n",
       "      <td>BIOMOL</td>\n",
       "    </tr>\n",
       "    <tr>\n",
       "      <th>9118</th>\n",
       "      <td>9116</td>\n",
       "      <td>144212669.0</td>\n",
       "      <td>2170.0</td>\n",
       "      <td>Active</td>\n",
       "      <td>50.0</td>\n",
       "      <td>NaN</td>\n",
       "      <td>NaN</td>\n",
       "      <td>active antagonist</td>\n",
       "      <td>active antagonist</td>\n",
       "      <td>16.5803</td>\n",
       "      <td>-115.202</td>\n",
       "      <td>inconclusive antagonist</td>\n",
       "      <td>61.1306</td>\n",
       "      <td>-80.7706</td>\n",
       "      <td>SIGMA</td>\n",
       "    </tr>\n",
       "    <tr>\n",
       "      <th>106</th>\n",
       "      <td>104</td>\n",
       "      <td>144203655.0</td>\n",
       "      <td>2554.0</td>\n",
       "      <td>Inconclusive</td>\n",
       "      <td>20.0</td>\n",
       "      <td>NaN</td>\n",
       "      <td>NaN</td>\n",
       "      <td>active agonist</td>\n",
       "      <td>active agonist</td>\n",
       "      <td>2.87255</td>\n",
       "      <td>73.7025</td>\n",
       "      <td>inactive</td>\n",
       "      <td>NaN</td>\n",
       "      <td>0</td>\n",
       "      <td>SigmaAldrich</td>\n",
       "    </tr>\n",
       "    <tr>\n",
       "      <th>5920</th>\n",
       "      <td>5918</td>\n",
       "      <td>144209471.0</td>\n",
       "      <td>2554.0</td>\n",
       "      <td>Inactive</td>\n",
       "      <td>0.0</td>\n",
       "      <td>NaN</td>\n",
       "      <td>NaN</td>\n",
       "      <td>inactive</td>\n",
       "      <td>inactive</td>\n",
       "      <td>NaN</td>\n",
       "      <td>0</td>\n",
       "      <td>inactive</td>\n",
       "      <td>NaN</td>\n",
       "      <td>0</td>\n",
       "      <td>SIGMA</td>\n",
       "    </tr>\n",
       "    <tr>\n",
       "      <th>6964</th>\n",
       "      <td>6962</td>\n",
       "      <td>144210515.0</td>\n",
       "      <td>2554.0</td>\n",
       "      <td>Inactive</td>\n",
       "      <td>0.0</td>\n",
       "      <td>NaN</td>\n",
       "      <td>NaN</td>\n",
       "      <td>inactive</td>\n",
       "      <td>inactive</td>\n",
       "      <td>NaN</td>\n",
       "      <td>0</td>\n",
       "      <td>inactive</td>\n",
       "      <td>NaN</td>\n",
       "      <td>0</td>\n",
       "      <td>SIGMA</td>\n",
       "    </tr>\n",
       "  </tbody>\n",
       "</table>\n",
       "</div>"
      ],
      "text/plain": [
       "     pc_result_tag          sid       cid activity_outcome  activity_score  \\\n",
       "8                6  144203557.0   16043.0         Inactive             0.0   \n",
       "5956          5954  144209507.0   16043.0           Active            43.0   \n",
       "6850          6848  144210401.0   16043.0         Inactive             0.0   \n",
       "52              50  144203601.0  443939.0         Inactive             0.0   \n",
       "6130          6128  144209681.0  443939.0           Active            61.0   \n",
       "66              64  144203615.0    2170.0         Inactive             0.0   \n",
       "9118          9116  144212669.0    2170.0           Active            50.0   \n",
       "106            104  144203655.0    2554.0     Inconclusive            20.0   \n",
       "5920          5918  144209471.0    2554.0         Inactive             0.0   \n",
       "6964          6962  144210515.0    2554.0         Inactive             0.0   \n",
       "\n",
       "      activity_url  assay_data_comment   activity_summary antagonist_activity  \\\n",
       "8              NaN                 NaN           inactive            inactive   \n",
       "5956           NaN                 NaN  active antagonist   active antagonist   \n",
       "6850           NaN                 NaN           inactive            inactive   \n",
       "52             NaN                 NaN           inactive            inactive   \n",
       "6130           NaN                 NaN  active antagonist   active antagonist   \n",
       "66             NaN                 NaN           inactive            inactive   \n",
       "9118           NaN                 NaN  active antagonist   active antagonist   \n",
       "106            NaN                 NaN     active agonist      active agonist   \n",
       "5920           NaN                 NaN           inactive            inactive   \n",
       "6964           NaN                 NaN           inactive            inactive   \n",
       "\n",
       "     antagonist_potency antagonist_efficacy       viability_activity  \\\n",
       "8                   NaN                   0                 inactive   \n",
       "5956            54.4827            -73.4024  inconclusive antagonist   \n",
       "6850                NaN                   0                 inactive   \n",
       "52                  NaN                   0                 inactive   \n",
       "6130            1.65519            -115.932        active antagonist   \n",
       "66                  NaN                   0                 inactive   \n",
       "9118            16.5803            -115.202  inconclusive antagonist   \n",
       "106             2.87255             73.7025                 inactive   \n",
       "5920                NaN                   0                 inactive   \n",
       "6964                NaN                   0                 inactive   \n",
       "\n",
       "     viability_potency viability_efficacy     sample_source  \n",
       "8                  NaN                  0               NCI  \n",
       "5956               NaN                NaN      SigmaAldrich  \n",
       "6850               NaN                  0             SIGMA  \n",
       "52                 NaN                  0               NCI  \n",
       "6130           12.1763           -120.598  Toronto Research  \n",
       "66                 NaN                  0            BIOMOL  \n",
       "9118           61.1306           -80.7706             SIGMA  \n",
       "106                NaN                  0      SigmaAldrich  \n",
       "5920               NaN                  0             SIGMA  \n",
       "6964               NaN                  0             SIGMA  "
      ]
     },
     "execution_count": 16,
     "metadata": {},
     "output_type": "execute_result"
    }
   ],
   "source": [
    "df.loc[idx_conflict,:].head(10)"
   ]
  },
  {
   "cell_type": "code",
   "execution_count": 17,
   "metadata": {},
   "outputs": [],
   "source": [
    "df = df.drop(idx_conflict)"
   ]
  },
  {
   "cell_type": "code",
   "execution_count": 18,
   "metadata": {},
   "outputs": [
    {
     "data": {
      "text/html": [
       "<div>\n",
       "<style scoped>\n",
       "    .dataframe tbody tr th:only-of-type {\n",
       "        vertical-align: middle;\n",
       "    }\n",
       "\n",
       "    .dataframe tbody tr th {\n",
       "        vertical-align: top;\n",
       "    }\n",
       "\n",
       "    .dataframe thead th {\n",
       "        text-align: right;\n",
       "    }\n",
       "</style>\n",
       "<table border=\"1\" class=\"dataframe\">\n",
       "  <thead>\n",
       "    <tr style=\"text-align: right;\">\n",
       "      <th></th>\n",
       "      <th>pc_result_tag</th>\n",
       "      <th>sid</th>\n",
       "      <th>cid</th>\n",
       "      <th>activity_outcome</th>\n",
       "      <th>activity_score</th>\n",
       "      <th>activity_url</th>\n",
       "      <th>assay_data_comment</th>\n",
       "      <th>antagonist_activity</th>\n",
       "      <th>antagonist_potency</th>\n",
       "      <th>antagonist_efficacy</th>\n",
       "      <th>viability_activity</th>\n",
       "      <th>viability_potency</th>\n",
       "      <th>viability_efficacy</th>\n",
       "      <th>sample_source</th>\n",
       "    </tr>\n",
       "    <tr>\n",
       "      <th>activity_summary</th>\n",
       "      <th></th>\n",
       "      <th></th>\n",
       "      <th></th>\n",
       "      <th></th>\n",
       "      <th></th>\n",
       "      <th></th>\n",
       "      <th></th>\n",
       "      <th></th>\n",
       "      <th></th>\n",
       "      <th></th>\n",
       "      <th></th>\n",
       "      <th></th>\n",
       "      <th></th>\n",
       "      <th></th>\n",
       "    </tr>\n",
       "  </thead>\n",
       "  <tbody>\n",
       "    <tr>\n",
       "      <th>active agonist</th>\n",
       "      <td>537</td>\n",
       "      <td>537</td>\n",
       "      <td>537</td>\n",
       "      <td>537</td>\n",
       "      <td>537</td>\n",
       "      <td>0</td>\n",
       "      <td>0</td>\n",
       "      <td>537</td>\n",
       "      <td>537</td>\n",
       "      <td>537</td>\n",
       "      <td>537</td>\n",
       "      <td>58</td>\n",
       "      <td>517</td>\n",
       "      <td>537</td>\n",
       "    </tr>\n",
       "    <tr>\n",
       "      <th>active antagonist</th>\n",
       "      <td>343</td>\n",
       "      <td>343</td>\n",
       "      <td>343</td>\n",
       "      <td>343</td>\n",
       "      <td>343</td>\n",
       "      <td>0</td>\n",
       "      <td>0</td>\n",
       "      <td>343</td>\n",
       "      <td>342</td>\n",
       "      <td>343</td>\n",
       "      <td>343</td>\n",
       "      <td>108</td>\n",
       "      <td>326</td>\n",
       "      <td>343</td>\n",
       "    </tr>\n",
       "    <tr>\n",
       "      <th>inactive</th>\n",
       "      <td>7389</td>\n",
       "      <td>7389</td>\n",
       "      <td>7389</td>\n",
       "      <td>7389</td>\n",
       "      <td>7389</td>\n",
       "      <td>0</td>\n",
       "      <td>0</td>\n",
       "      <td>7389</td>\n",
       "      <td>0</td>\n",
       "      <td>7389</td>\n",
       "      <td>7389</td>\n",
       "      <td>318</td>\n",
       "      <td>7278</td>\n",
       "      <td>7389</td>\n",
       "    </tr>\n",
       "  </tbody>\n",
       "</table>\n",
       "</div>"
      ],
      "text/plain": [
       "                   pc_result_tag   sid   cid  activity_outcome  \\\n",
       "activity_summary                                                 \n",
       "active agonist               537   537   537               537   \n",
       "active antagonist            343   343   343               343   \n",
       "inactive                    7389  7389  7389              7389   \n",
       "\n",
       "                   activity_score  activity_url  assay_data_comment  \\\n",
       "activity_summary                                                      \n",
       "active agonist                537             0                   0   \n",
       "active antagonist             343             0                   0   \n",
       "inactive                     7389             0                   0   \n",
       "\n",
       "                   antagonist_activity  antagonist_potency  \\\n",
       "activity_summary                                             \n",
       "active agonist                     537                 537   \n",
       "active antagonist                  343                 342   \n",
       "inactive                          7389                   0   \n",
       "\n",
       "                   antagonist_efficacy  viability_activity  viability_potency  \\\n",
       "activity_summary                                                                \n",
       "active agonist                     537                 537                 58   \n",
       "active antagonist                  343                 343                108   \n",
       "inactive                          7389                7389                318   \n",
       "\n",
       "                   viability_efficacy  sample_source  \n",
       "activity_summary                                      \n",
       "active agonist                    517            537  \n",
       "active antagonist                 326            343  \n",
       "inactive                         7278           7389  "
      ]
     },
     "execution_count": 18,
     "metadata": {},
     "output_type": "execute_result"
    }
   ],
   "source": [
    "df.groupby('activity_summary').count()"
   ]
  },
  {
   "cell_type": "code",
   "execution_count": 19,
   "metadata": {},
   "outputs": [
    {
     "name": "stdout",
     "output_type": "stream",
     "text": [
      "8269\n",
      "6798\n"
     ]
    }
   ],
   "source": [
    "print(len(df['sid'].unique()))\n",
    "print(len(df['cid'].unique()))"
   ]
  },
  {
   "cell_type": "markdown",
   "metadata": {},
   "source": [
    "## 3-(3) Remove redundant data"
   ]
  },
  {
   "cell_type": "markdown",
   "metadata": {},
   "source": [
    "The above code cells \\[in 3-(2)] do not remove compounds tested multiple times if the testing results are consistent [e.g., active agonist in all samples (substances)].  The rows corresponding to these compounds are redundant, so we want remove them except for only one row for each compound."
   ]
  },
  {
   "cell_type": "code",
   "execution_count": 20,
   "metadata": {},
   "outputs": [
    {
     "name": "stdout",
     "output_type": "stream",
     "text": [
      "6798\n",
      "6798\n"
     ]
    }
   ],
   "source": [
    "df = df.drop_duplicates(subset='cid')  # remove duplicate rows except for the first occurring row.\n",
    "print(len(df['sid'].unique()))\n",
    "print(len(df['cid'].unique()))"
   ]
  },
  {
   "cell_type": "markdown",
   "metadata": {},
   "source": [
    "## 3-(4) Adding \"numeric\" activity classes"
   ]
  },
  {
   "cell_type": "markdown",
   "metadata": {},
   "source": [
    "In general, the inputs and outputs to machine learning algorithms need to have numerical forms.   \n",
    "In this practice, the input (molecular structure) will be represented with binary fingerprints, which already have numerical forms (0 or 1).  However, the output (activity) is currently in a string format (e.g., 'active agonist', 'active antagonist').  Therefore, we want to add an additional, 'activity' column, which contains numeric codes representing the active and inactive compounds:\n",
    "- 1 for actives (either active agonists or active antagonists)\n",
    "- 0 for inactives\n",
    "\n",
    "Note that we are merging the two classes \"active agonist\" and \"active antagonist\", because we are going to build a binary classifer that distinguish actives from inactives."
   ]
  },
  {
   "cell_type": "code",
   "execution_count": 21,
   "metadata": {},
   "outputs": [],
   "source": [
    "df['activity'] = [ 0 if x == 'inactive' else 1 for x in df['activity_summary'] ]"
   ]
  },
  {
   "cell_type": "markdown",
   "metadata": {},
   "source": [
    "Check if the new column 'activity' is added to (the end of) the data frame."
   ]
  },
  {
   "cell_type": "code",
   "execution_count": 22,
   "metadata": {},
   "outputs": [
    {
     "data": {
      "text/html": [
       "<div>\n",
       "<style scoped>\n",
       "    .dataframe tbody tr th:only-of-type {\n",
       "        vertical-align: middle;\n",
       "    }\n",
       "\n",
       "    .dataframe tbody tr th {\n",
       "        vertical-align: top;\n",
       "    }\n",
       "\n",
       "    .dataframe thead th {\n",
       "        text-align: right;\n",
       "    }\n",
       "</style>\n",
       "<table border=\"1\" class=\"dataframe\">\n",
       "  <thead>\n",
       "    <tr style=\"text-align: right;\">\n",
       "      <th></th>\n",
       "      <th>pc_result_tag</th>\n",
       "      <th>sid</th>\n",
       "      <th>cid</th>\n",
       "      <th>activity_outcome</th>\n",
       "      <th>activity_score</th>\n",
       "      <th>activity_url</th>\n",
       "      <th>assay_data_comment</th>\n",
       "      <th>activity_summary</th>\n",
       "      <th>antagonist_activity</th>\n",
       "      <th>antagonist_potency</th>\n",
       "      <th>antagonist_efficacy</th>\n",
       "      <th>viability_activity</th>\n",
       "      <th>viability_potency</th>\n",
       "      <th>viability_efficacy</th>\n",
       "      <th>sample_source</th>\n",
       "      <th>activity</th>\n",
       "    </tr>\n",
       "  </thead>\n",
       "  <tbody>\n",
       "    <tr>\n",
       "      <th>3</th>\n",
       "      <td>1</td>\n",
       "      <td>144203552.0</td>\n",
       "      <td>12850184.0</td>\n",
       "      <td>Inactive</td>\n",
       "      <td>0.0</td>\n",
       "      <td>NaN</td>\n",
       "      <td>NaN</td>\n",
       "      <td>inactive</td>\n",
       "      <td>inactive</td>\n",
       "      <td>NaN</td>\n",
       "      <td>0</td>\n",
       "      <td>inactive</td>\n",
       "      <td>NaN</td>\n",
       "      <td>0</td>\n",
       "      <td>NCI</td>\n",
       "      <td>0</td>\n",
       "    </tr>\n",
       "    <tr>\n",
       "      <th>4</th>\n",
       "      <td>2</td>\n",
       "      <td>144203553.0</td>\n",
       "      <td>89753.0</td>\n",
       "      <td>Inactive</td>\n",
       "      <td>0.0</td>\n",
       "      <td>NaN</td>\n",
       "      <td>NaN</td>\n",
       "      <td>inactive</td>\n",
       "      <td>inactive</td>\n",
       "      <td>NaN</td>\n",
       "      <td>0</td>\n",
       "      <td>inactive</td>\n",
       "      <td>NaN</td>\n",
       "      <td>0</td>\n",
       "      <td>NCI</td>\n",
       "      <td>0</td>\n",
       "    </tr>\n",
       "    <tr>\n",
       "      <th>5</th>\n",
       "      <td>3</td>\n",
       "      <td>144203554.0</td>\n",
       "      <td>9403.0</td>\n",
       "      <td>Inactive</td>\n",
       "      <td>0.0</td>\n",
       "      <td>NaN</td>\n",
       "      <td>NaN</td>\n",
       "      <td>inactive</td>\n",
       "      <td>inactive</td>\n",
       "      <td>NaN</td>\n",
       "      <td>0</td>\n",
       "      <td>inactive</td>\n",
       "      <td>NaN</td>\n",
       "      <td>0</td>\n",
       "      <td>NCI</td>\n",
       "      <td>0</td>\n",
       "    </tr>\n",
       "  </tbody>\n",
       "</table>\n",
       "</div>"
      ],
      "text/plain": [
       "  pc_result_tag          sid         cid activity_outcome  activity_score  \\\n",
       "3             1  144203552.0  12850184.0         Inactive             0.0   \n",
       "4             2  144203553.0     89753.0         Inactive             0.0   \n",
       "5             3  144203554.0      9403.0         Inactive             0.0   \n",
       "\n",
       "   activity_url  assay_data_comment activity_summary antagonist_activity  \\\n",
       "3           NaN                 NaN         inactive            inactive   \n",
       "4           NaN                 NaN         inactive            inactive   \n",
       "5           NaN                 NaN         inactive            inactive   \n",
       "\n",
       "  antagonist_potency antagonist_efficacy viability_activity viability_potency  \\\n",
       "3                NaN                   0           inactive               NaN   \n",
       "4                NaN                   0           inactive               NaN   \n",
       "5                NaN                   0           inactive               NaN   \n",
       "\n",
       "  viability_efficacy sample_source  activity  \n",
       "3                  0           NCI         0  \n",
       "4                  0           NCI         0  \n",
       "5                  0           NCI         0  "
      ]
     },
     "execution_count": 22,
     "metadata": {},
     "output_type": "execute_result"
    }
   ],
   "source": [
    "df.head(3)"
   ]
  },
  {
   "cell_type": "markdown",
   "metadata": {},
   "source": [
    "Double-check the count of active/inactive compounds."
   ]
  },
  {
   "cell_type": "code",
   "execution_count": 23,
   "metadata": {},
   "outputs": [
    {
     "data": {
      "text/html": [
       "<div>\n",
       "<style scoped>\n",
       "    .dataframe tbody tr th:only-of-type {\n",
       "        vertical-align: middle;\n",
       "    }\n",
       "\n",
       "    .dataframe tbody tr th {\n",
       "        vertical-align: top;\n",
       "    }\n",
       "\n",
       "    .dataframe thead th {\n",
       "        text-align: right;\n",
       "    }\n",
       "</style>\n",
       "<table border=\"1\" class=\"dataframe\">\n",
       "  <thead>\n",
       "    <tr style=\"text-align: right;\">\n",
       "      <th></th>\n",
       "      <th>pc_result_tag</th>\n",
       "      <th>sid</th>\n",
       "      <th>cid</th>\n",
       "      <th>activity_outcome</th>\n",
       "      <th>activity_score</th>\n",
       "      <th>activity_url</th>\n",
       "      <th>assay_data_comment</th>\n",
       "      <th>antagonist_activity</th>\n",
       "      <th>antagonist_potency</th>\n",
       "      <th>antagonist_efficacy</th>\n",
       "      <th>viability_activity</th>\n",
       "      <th>viability_potency</th>\n",
       "      <th>viability_efficacy</th>\n",
       "      <th>sample_source</th>\n",
       "      <th>activity</th>\n",
       "    </tr>\n",
       "    <tr>\n",
       "      <th>activity_summary</th>\n",
       "      <th></th>\n",
       "      <th></th>\n",
       "      <th></th>\n",
       "      <th></th>\n",
       "      <th></th>\n",
       "      <th></th>\n",
       "      <th></th>\n",
       "      <th></th>\n",
       "      <th></th>\n",
       "      <th></th>\n",
       "      <th></th>\n",
       "      <th></th>\n",
       "      <th></th>\n",
       "      <th></th>\n",
       "      <th></th>\n",
       "    </tr>\n",
       "  </thead>\n",
       "  <tbody>\n",
       "    <tr>\n",
       "      <th>active agonist</th>\n",
       "      <td>451</td>\n",
       "      <td>451</td>\n",
       "      <td>451</td>\n",
       "      <td>451</td>\n",
       "      <td>451</td>\n",
       "      <td>0</td>\n",
       "      <td>0</td>\n",
       "      <td>451</td>\n",
       "      <td>451</td>\n",
       "      <td>451</td>\n",
       "      <td>451</td>\n",
       "      <td>44</td>\n",
       "      <td>432</td>\n",
       "      <td>451</td>\n",
       "      <td>451</td>\n",
       "    </tr>\n",
       "    <tr>\n",
       "      <th>active antagonist</th>\n",
       "      <td>291</td>\n",
       "      <td>291</td>\n",
       "      <td>291</td>\n",
       "      <td>291</td>\n",
       "      <td>291</td>\n",
       "      <td>0</td>\n",
       "      <td>0</td>\n",
       "      <td>291</td>\n",
       "      <td>290</td>\n",
       "      <td>291</td>\n",
       "      <td>291</td>\n",
       "      <td>88</td>\n",
       "      <td>275</td>\n",
       "      <td>291</td>\n",
       "      <td>291</td>\n",
       "    </tr>\n",
       "    <tr>\n",
       "      <th>inactive</th>\n",
       "      <td>6056</td>\n",
       "      <td>6056</td>\n",
       "      <td>6056</td>\n",
       "      <td>6056</td>\n",
       "      <td>6056</td>\n",
       "      <td>0</td>\n",
       "      <td>0</td>\n",
       "      <td>6056</td>\n",
       "      <td>0</td>\n",
       "      <td>6056</td>\n",
       "      <td>6056</td>\n",
       "      <td>269</td>\n",
       "      <td>5970</td>\n",
       "      <td>6056</td>\n",
       "      <td>6056</td>\n",
       "    </tr>\n",
       "  </tbody>\n",
       "</table>\n",
       "</div>"
      ],
      "text/plain": [
       "                   pc_result_tag   sid   cid  activity_outcome  \\\n",
       "activity_summary                                                 \n",
       "active agonist               451   451   451               451   \n",
       "active antagonist            291   291   291               291   \n",
       "inactive                    6056  6056  6056              6056   \n",
       "\n",
       "                   activity_score  activity_url  assay_data_comment  \\\n",
       "activity_summary                                                      \n",
       "active agonist                451             0                   0   \n",
       "active antagonist             291             0                   0   \n",
       "inactive                     6056             0                   0   \n",
       "\n",
       "                   antagonist_activity  antagonist_potency  \\\n",
       "activity_summary                                             \n",
       "active agonist                     451                 451   \n",
       "active antagonist                  291                 290   \n",
       "inactive                          6056                   0   \n",
       "\n",
       "                   antagonist_efficacy  viability_activity  viability_potency  \\\n",
       "activity_summary                                                                \n",
       "active agonist                     451                 451                 44   \n",
       "active antagonist                  291                 291                 88   \n",
       "inactive                          6056                6056                269   \n",
       "\n",
       "                   viability_efficacy  sample_source  activity  \n",
       "activity_summary                                                \n",
       "active agonist                    432            451       451  \n",
       "active antagonist                 275            291       291  \n",
       "inactive                         5970           6056      6056  "
      ]
     },
     "execution_count": 23,
     "metadata": {},
     "output_type": "execute_result"
    }
   ],
   "source": [
    "df.groupby('activity_summary').count()"
   ]
  },
  {
   "cell_type": "code",
   "execution_count": 24,
   "metadata": {},
   "outputs": [
    {
     "data": {
      "text/html": [
       "<div>\n",
       "<style scoped>\n",
       "    .dataframe tbody tr th:only-of-type {\n",
       "        vertical-align: middle;\n",
       "    }\n",
       "\n",
       "    .dataframe tbody tr th {\n",
       "        vertical-align: top;\n",
       "    }\n",
       "\n",
       "    .dataframe thead th {\n",
       "        text-align: right;\n",
       "    }\n",
       "</style>\n",
       "<table border=\"1\" class=\"dataframe\">\n",
       "  <thead>\n",
       "    <tr style=\"text-align: right;\">\n",
       "      <th></th>\n",
       "      <th>pc_result_tag</th>\n",
       "      <th>sid</th>\n",
       "      <th>cid</th>\n",
       "      <th>activity_outcome</th>\n",
       "      <th>activity_score</th>\n",
       "      <th>activity_url</th>\n",
       "      <th>assay_data_comment</th>\n",
       "      <th>activity_summary</th>\n",
       "      <th>antagonist_activity</th>\n",
       "      <th>antagonist_potency</th>\n",
       "      <th>antagonist_efficacy</th>\n",
       "      <th>viability_activity</th>\n",
       "      <th>viability_potency</th>\n",
       "      <th>viability_efficacy</th>\n",
       "      <th>sample_source</th>\n",
       "    </tr>\n",
       "    <tr>\n",
       "      <th>activity</th>\n",
       "      <th></th>\n",
       "      <th></th>\n",
       "      <th></th>\n",
       "      <th></th>\n",
       "      <th></th>\n",
       "      <th></th>\n",
       "      <th></th>\n",
       "      <th></th>\n",
       "      <th></th>\n",
       "      <th></th>\n",
       "      <th></th>\n",
       "      <th></th>\n",
       "      <th></th>\n",
       "      <th></th>\n",
       "      <th></th>\n",
       "    </tr>\n",
       "  </thead>\n",
       "  <tbody>\n",
       "    <tr>\n",
       "      <th>0</th>\n",
       "      <td>6056</td>\n",
       "      <td>6056</td>\n",
       "      <td>6056</td>\n",
       "      <td>6056</td>\n",
       "      <td>6056</td>\n",
       "      <td>0</td>\n",
       "      <td>0</td>\n",
       "      <td>6056</td>\n",
       "      <td>6056</td>\n",
       "      <td>0</td>\n",
       "      <td>6056</td>\n",
       "      <td>6056</td>\n",
       "      <td>269</td>\n",
       "      <td>5970</td>\n",
       "      <td>6056</td>\n",
       "    </tr>\n",
       "    <tr>\n",
       "      <th>1</th>\n",
       "      <td>742</td>\n",
       "      <td>742</td>\n",
       "      <td>742</td>\n",
       "      <td>742</td>\n",
       "      <td>742</td>\n",
       "      <td>0</td>\n",
       "      <td>0</td>\n",
       "      <td>742</td>\n",
       "      <td>742</td>\n",
       "      <td>741</td>\n",
       "      <td>742</td>\n",
       "      <td>742</td>\n",
       "      <td>132</td>\n",
       "      <td>707</td>\n",
       "      <td>742</td>\n",
       "    </tr>\n",
       "  </tbody>\n",
       "</table>\n",
       "</div>"
      ],
      "text/plain": [
       "          pc_result_tag   sid   cid  activity_outcome  activity_score  \\\n",
       "activity                                                                \n",
       "0                  6056  6056  6056              6056            6056   \n",
       "1                   742   742   742               742             742   \n",
       "\n",
       "          activity_url  assay_data_comment  activity_summary  \\\n",
       "activity                                                       \n",
       "0                    0                   0              6056   \n",
       "1                    0                   0               742   \n",
       "\n",
       "          antagonist_activity  antagonist_potency  antagonist_efficacy  \\\n",
       "activity                                                                 \n",
       "0                        6056                   0                 6056   \n",
       "1                         742                 741                  742   \n",
       "\n",
       "          viability_activity  viability_potency  viability_efficacy  \\\n",
       "activity                                                              \n",
       "0                       6056                269                5970   \n",
       "1                        742                132                 707   \n",
       "\n",
       "          sample_source  \n",
       "activity                 \n",
       "0                  6056  \n",
       "1                   742  "
      ]
     },
     "execution_count": 24,
     "metadata": {},
     "output_type": "execute_result"
    }
   ],
   "source": [
    "df.groupby('activity').count()"
   ]
  },
  {
   "cell_type": "markdown",
   "metadata": {},
   "source": [
    "## 3-(5) Create a smaller data frame that only contains CIDs and activities."
   ]
  },
  {
   "cell_type": "markdown",
   "metadata": {},
   "source": [
    "Let's create a smaller data frame that only contains CIDs and activities.  This data frame will be merged with a data frame containing molecular fingerprint information."
   ]
  },
  {
   "cell_type": "code",
   "execution_count": 25,
   "metadata": {},
   "outputs": [],
   "source": [
    "df_activity = df[['cid','activity']]"
   ]
  },
  {
   "cell_type": "code",
   "execution_count": 26,
   "metadata": {},
   "outputs": [
    {
     "data": {
      "text/html": [
       "<div>\n",
       "<style scoped>\n",
       "    .dataframe tbody tr th:only-of-type {\n",
       "        vertical-align: middle;\n",
       "    }\n",
       "\n",
       "    .dataframe tbody tr th {\n",
       "        vertical-align: top;\n",
       "    }\n",
       "\n",
       "    .dataframe thead th {\n",
       "        text-align: right;\n",
       "    }\n",
       "</style>\n",
       "<table border=\"1\" class=\"dataframe\">\n",
       "  <thead>\n",
       "    <tr style=\"text-align: right;\">\n",
       "      <th></th>\n",
       "      <th>cid</th>\n",
       "      <th>activity</th>\n",
       "    </tr>\n",
       "  </thead>\n",
       "  <tbody>\n",
       "    <tr>\n",
       "      <th>3</th>\n",
       "      <td>12850184.0</td>\n",
       "      <td>0</td>\n",
       "    </tr>\n",
       "    <tr>\n",
       "      <th>4</th>\n",
       "      <td>89753.0</td>\n",
       "      <td>0</td>\n",
       "    </tr>\n",
       "    <tr>\n",
       "      <th>5</th>\n",
       "      <td>9403.0</td>\n",
       "      <td>0</td>\n",
       "    </tr>\n",
       "    <tr>\n",
       "      <th>6</th>\n",
       "      <td>13218779.0</td>\n",
       "      <td>0</td>\n",
       "    </tr>\n",
       "    <tr>\n",
       "      <th>12</th>\n",
       "      <td>637566.0</td>\n",
       "      <td>0</td>\n",
       "    </tr>\n",
       "  </tbody>\n",
       "</table>\n",
       "</div>"
      ],
      "text/plain": [
       "           cid  activity\n",
       "3   12850184.0         0\n",
       "4      89753.0         0\n",
       "5       9403.0         0\n",
       "6   13218779.0         0\n",
       "12    637566.0         0"
      ]
     },
     "execution_count": 26,
     "metadata": {},
     "output_type": "execute_result"
    }
   ],
   "source": [
    "df_activity.head(5)"
   ]
  },
  {
   "cell_type": "markdown",
   "metadata": {},
   "source": [
    "## 4. Download structure information for each compound from PubChem"
   ]
  },
  {
   "cell_type": "markdown",
   "metadata": {},
   "source": [
    "Now we want to get structure information of the compounds from PubChem (in isomeric SMILES)."
   ]
  },
  {
   "cell_type": "code",
   "execution_count": 27,
   "metadata": {},
   "outputs": [],
   "source": [
    "cids = df.cid.astype(int).tolist()"
   ]
  },
  {
   "cell_type": "code",
   "execution_count": 28,
   "metadata": {},
   "outputs": [
    {
     "name": "stdout",
     "output_type": "stream",
     "text": [
      "# CIDs =  6798\n",
      "# CID Chunks =  34 (chunked by  200 )\n"
     ]
    }
   ],
   "source": [
    "chunk_size = 200\n",
    "num_cids = len(cids)\n",
    "\n",
    "if num_cids % chunk_size == 0 :\n",
    "    num_chunks = int( num_cids / chunk_size )\n",
    "else :\n",
    "    num_chunks = int( num_cids / chunk_size ) + 1\n",
    "\n",
    "print(\"# CIDs = \", num_cids)\n",
    "print(\"# CID Chunks = \", num_chunks, \"(chunked by \", chunk_size, \")\")"
   ]
  },
  {
   "cell_type": "code",
   "execution_count": 29,
   "metadata": {},
   "outputs": [
    {
     "name": "stdout",
     "output_type": "stream",
     "text": [
      "Processing Chunk  0\n",
      "Processing Chunk  5\n",
      "Processing Chunk  10\n",
      "Processing Chunk  15\n",
      "Processing Chunk  20\n",
      "Processing Chunk  25\n",
      "Processing Chunk  30\n"
     ]
    },
    {
     "data": {
      "text/html": [
       "<div>\n",
       "<style scoped>\n",
       "    .dataframe tbody tr th:only-of-type {\n",
       "        vertical-align: middle;\n",
       "    }\n",
       "\n",
       "    .dataframe tbody tr th {\n",
       "        vertical-align: top;\n",
       "    }\n",
       "\n",
       "    .dataframe thead th {\n",
       "        text-align: right;\n",
       "    }\n",
       "</style>\n",
       "<table border=\"1\" class=\"dataframe\">\n",
       "  <thead>\n",
       "    <tr style=\"text-align: right;\">\n",
       "      <th></th>\n",
       "      <th>smiles</th>\n",
       "      <th>cid</th>\n",
       "    </tr>\n",
       "  </thead>\n",
       "  <tbody>\n",
       "    <tr>\n",
       "      <th>0</th>\n",
       "      <td>C(C(=O)[C@H]([C@@H]([C@H](C(=O)[O-])O)O)O)O.C(...</td>\n",
       "      <td>12850184</td>\n",
       "    </tr>\n",
       "    <tr>\n",
       "      <th>1</th>\n",
       "      <td>C([C@H]([C@H]([C@@H]([C@H](C(=O)[O-])O)O)O)O)O...</td>\n",
       "      <td>89753</td>\n",
       "    </tr>\n",
       "    <tr>\n",
       "      <th>2</th>\n",
       "      <td>C[C@]12CC[C@H]3[C@H]([C@@H]1CC[C@@H]2OC(=O)CCC...</td>\n",
       "      <td>9403</td>\n",
       "    </tr>\n",
       "    <tr>\n",
       "      <th>3</th>\n",
       "      <td>C[C@@]12CC[C@@H](C1(C)C)C[C@H]2OC(=O)CSC#N</td>\n",
       "      <td>13218779</td>\n",
       "    </tr>\n",
       "    <tr>\n",
       "      <th>4</th>\n",
       "      <td>CC(=CCC/C(=C/CO)/C)C</td>\n",
       "      <td>637566</td>\n",
       "    </tr>\n",
       "  </tbody>\n",
       "</table>\n",
       "</div>"
      ],
      "text/plain": [
       "                                              smiles       cid\n",
       "0  C(C(=O)[C@H]([C@@H]([C@H](C(=O)[O-])O)O)O)O.C(...  12850184\n",
       "1  C([C@H]([C@H]([C@@H]([C@H](C(=O)[O-])O)O)O)O)O...     89753\n",
       "2  C[C@]12CC[C@H]3[C@H]([C@@H]1CC[C@@H]2OC(=O)CCC...      9403\n",
       "3         C[C@@]12CC[C@@H](C1(C)C)C[C@H]2OC(=O)CSC#N  13218779\n",
       "4                               CC(=CCC/C(=C/CO)/C)C    637566"
      ]
     },
     "execution_count": 29,
     "metadata": {},
     "output_type": "execute_result"
    }
   ],
   "source": [
    "import time\n",
    "import requests\n",
    "from io import StringIO\n",
    "\n",
    "df_smiles = pd.DataFrame()\n",
    "list_dfs = []  # temporary list of data frames\n",
    "\n",
    "for i in range(0, num_chunks) :\n",
    "    \n",
    "    idx1 = chunk_size * i\n",
    "    idx2 = chunk_size * (i + 1)\n",
    "    cidstr = \",\".join( str(x) for x in cids[idx1:idx2] )\n",
    "\n",
    "    url = ('https://pubchem.ncbi.nlm.nih.gov/rest/pug/compound/cid/' + cidstr + '/property/IsomericSMILES/TXT')\n",
    "    res = requests.get(url)\n",
    "    data = pd.read_csv( StringIO(res.text), header=None, names=['smiles'] )\n",
    "    list_dfs.append(data)\n",
    "    \n",
    "    time.sleep(0.2)\n",
    "    \n",
    "    if ( i % 5 == 0 ) :\n",
    "        print(\"Processing Chunk \", i)   \n",
    "\n",
    "#    if ( i == 2 ) : break  #- for debugging\n",
    "\n",
    "df_smiles = pd.concat(list_dfs,ignore_index=True)\n",
    "df_smiles[ 'cid' ] = cids\n",
    "df_smiles.head(5)"
   ]
  },
  {
   "cell_type": "code",
   "execution_count": 30,
   "metadata": {},
   "outputs": [
    {
     "data": {
      "text/plain": [
       "6798"
      ]
     },
     "execution_count": 30,
     "metadata": {},
     "output_type": "execute_result"
    }
   ],
   "source": [
    "len(df_smiles)"
   ]
  },
  {
   "cell_type": "code",
   "execution_count": 31,
   "metadata": {},
   "outputs": [
    {
     "data": {
      "text/html": [
       "<div>\n",
       "<style scoped>\n",
       "    .dataframe tbody tr th:only-of-type {\n",
       "        vertical-align: middle;\n",
       "    }\n",
       "\n",
       "    .dataframe tbody tr th {\n",
       "        vertical-align: top;\n",
       "    }\n",
       "\n",
       "    .dataframe thead th {\n",
       "        text-align: right;\n",
       "    }\n",
       "</style>\n",
       "<table border=\"1\" class=\"dataframe\">\n",
       "  <thead>\n",
       "    <tr style=\"text-align: right;\">\n",
       "      <th></th>\n",
       "      <th>cid</th>\n",
       "      <th>smiles</th>\n",
       "    </tr>\n",
       "  </thead>\n",
       "  <tbody>\n",
       "    <tr>\n",
       "      <th>0</th>\n",
       "      <td>12850184</td>\n",
       "      <td>C(C(=O)[C@H]([C@@H]([C@H](C(=O)[O-])O)O)O)O.C(...</td>\n",
       "    </tr>\n",
       "    <tr>\n",
       "      <th>1</th>\n",
       "      <td>89753</td>\n",
       "      <td>C([C@H]([C@H]([C@@H]([C@H](C(=O)[O-])O)O)O)O)O...</td>\n",
       "    </tr>\n",
       "    <tr>\n",
       "      <th>2</th>\n",
       "      <td>9403</td>\n",
       "      <td>C[C@]12CC[C@H]3[C@H]([C@@H]1CC[C@@H]2OC(=O)CCC...</td>\n",
       "    </tr>\n",
       "    <tr>\n",
       "      <th>3</th>\n",
       "      <td>13218779</td>\n",
       "      <td>C[C@@]12CC[C@@H](C1(C)C)C[C@H]2OC(=O)CSC#N</td>\n",
       "    </tr>\n",
       "    <tr>\n",
       "      <th>4</th>\n",
       "      <td>637566</td>\n",
       "      <td>CC(=CCC/C(=C/CO)/C)C</td>\n",
       "    </tr>\n",
       "  </tbody>\n",
       "</table>\n",
       "</div>"
      ],
      "text/plain": [
       "        cid                                             smiles\n",
       "0  12850184  C(C(=O)[C@H]([C@@H]([C@H](C(=O)[O-])O)O)O)O.C(...\n",
       "1     89753  C([C@H]([C@H]([C@@H]([C@H](C(=O)[O-])O)O)O)O)O...\n",
       "2      9403  C[C@]12CC[C@H]3[C@H]([C@@H]1CC[C@@H]2OC(=O)CCC...\n",
       "3  13218779         C[C@@]12CC[C@@H](C1(C)C)C[C@H]2OC(=O)CSC#N\n",
       "4    637566                               CC(=CCC/C(=C/CO)/C)C"
      ]
     },
     "execution_count": 31,
     "metadata": {},
     "output_type": "execute_result"
    }
   ],
   "source": [
    "df_smiles = df_smiles[['cid','smiles']]\n",
    "df_smiles.head(5)"
   ]
  },
  {
   "cell_type": "markdown",
   "metadata": {},
   "source": [
    "## 5. Generate MACCS keys from SMILES."
   ]
  },
  {
   "cell_type": "code",
   "execution_count": 32,
   "metadata": {},
   "outputs": [],
   "source": [
    "from rdkit import Chem\n",
    "from rdkit.Chem import MACCSkeys"
   ]
  },
  {
   "cell_type": "code",
   "execution_count": 33,
   "metadata": {},
   "outputs": [
    {
     "name": "stdout",
     "output_type": "stream",
     "text": [
      "Can't generate MOL object: CID 28145 [NH4+].[NH4+].F[Si-2](F)(F)(F)(F)F\n",
      "Can't generate MOL object: CID 28127 F[Si-2](F)(F)(F)(F)F.[Na+].[Na+]\n"
     ]
    }
   ],
   "source": [
    "fps=dict()\n",
    "\n",
    "for idx, row in df_smiles.iterrows() :\n",
    "    \n",
    "    mol = Chem.MolFromSmiles(row.smiles)\n",
    "    \n",
    "    if mol == None :\n",
    "        print(\"Can't generate MOL object:\", \"CID\", row.cid, row.smiles)\n",
    "    else:\n",
    "        fps[row.cid] = [row.cid] + list(MACCSkeys.GenMACCSKeys(mol).ToBitString())"
   ]
  },
  {
   "cell_type": "code",
   "execution_count": 34,
   "metadata": {},
   "outputs": [],
   "source": [
    "# Generate column names\n",
    "fpbitnames = []\n",
    "\n",
    "fpbitnames.append('cid')\n",
    "\n",
    "for i in range(0,167):   # from MACCS000 to MACCS166\n",
    "    fpbitnames.append( \"maccs\" + str(i).zfill(3) )\n",
    "\n",
    "df_fps = pd.DataFrame.from_dict(fps, orient='index', columns=fpbitnames)"
   ]
  },
  {
   "cell_type": "code",
   "execution_count": 35,
   "metadata": {},
   "outputs": [
    {
     "data": {
      "text/html": [
       "<div>\n",
       "<style scoped>\n",
       "    .dataframe tbody tr th:only-of-type {\n",
       "        vertical-align: middle;\n",
       "    }\n",
       "\n",
       "    .dataframe tbody tr th {\n",
       "        vertical-align: top;\n",
       "    }\n",
       "\n",
       "    .dataframe thead th {\n",
       "        text-align: right;\n",
       "    }\n",
       "</style>\n",
       "<table border=\"1\" class=\"dataframe\">\n",
       "  <thead>\n",
       "    <tr style=\"text-align: right;\">\n",
       "      <th></th>\n",
       "      <th>cid</th>\n",
       "      <th>maccs000</th>\n",
       "      <th>maccs001</th>\n",
       "      <th>maccs002</th>\n",
       "      <th>maccs003</th>\n",
       "      <th>maccs004</th>\n",
       "      <th>maccs005</th>\n",
       "      <th>maccs006</th>\n",
       "      <th>maccs007</th>\n",
       "      <th>maccs008</th>\n",
       "      <th>...</th>\n",
       "      <th>maccs157</th>\n",
       "      <th>maccs158</th>\n",
       "      <th>maccs159</th>\n",
       "      <th>maccs160</th>\n",
       "      <th>maccs161</th>\n",
       "      <th>maccs162</th>\n",
       "      <th>maccs163</th>\n",
       "      <th>maccs164</th>\n",
       "      <th>maccs165</th>\n",
       "      <th>maccs166</th>\n",
       "    </tr>\n",
       "  </thead>\n",
       "  <tbody>\n",
       "    <tr>\n",
       "      <th>12850184</th>\n",
       "      <td>12850184</td>\n",
       "      <td>0</td>\n",
       "      <td>0</td>\n",
       "      <td>0</td>\n",
       "      <td>0</td>\n",
       "      <td>0</td>\n",
       "      <td>0</td>\n",
       "      <td>0</td>\n",
       "      <td>0</td>\n",
       "      <td>0</td>\n",
       "      <td>...</td>\n",
       "      <td>1</td>\n",
       "      <td>0</td>\n",
       "      <td>1</td>\n",
       "      <td>0</td>\n",
       "      <td>0</td>\n",
       "      <td>0</td>\n",
       "      <td>0</td>\n",
       "      <td>1</td>\n",
       "      <td>0</td>\n",
       "      <td>1</td>\n",
       "    </tr>\n",
       "    <tr>\n",
       "      <th>89753</th>\n",
       "      <td>89753</td>\n",
       "      <td>0</td>\n",
       "      <td>0</td>\n",
       "      <td>0</td>\n",
       "      <td>0</td>\n",
       "      <td>0</td>\n",
       "      <td>0</td>\n",
       "      <td>0</td>\n",
       "      <td>0</td>\n",
       "      <td>0</td>\n",
       "      <td>...</td>\n",
       "      <td>1</td>\n",
       "      <td>0</td>\n",
       "      <td>1</td>\n",
       "      <td>0</td>\n",
       "      <td>0</td>\n",
       "      <td>0</td>\n",
       "      <td>0</td>\n",
       "      <td>1</td>\n",
       "      <td>0</td>\n",
       "      <td>1</td>\n",
       "    </tr>\n",
       "    <tr>\n",
       "      <th>9403</th>\n",
       "      <td>9403</td>\n",
       "      <td>0</td>\n",
       "      <td>0</td>\n",
       "      <td>0</td>\n",
       "      <td>0</td>\n",
       "      <td>0</td>\n",
       "      <td>0</td>\n",
       "      <td>0</td>\n",
       "      <td>0</td>\n",
       "      <td>0</td>\n",
       "      <td>...</td>\n",
       "      <td>1</td>\n",
       "      <td>0</td>\n",
       "      <td>1</td>\n",
       "      <td>1</td>\n",
       "      <td>0</td>\n",
       "      <td>1</td>\n",
       "      <td>1</td>\n",
       "      <td>1</td>\n",
       "      <td>1</td>\n",
       "      <td>0</td>\n",
       "    </tr>\n",
       "    <tr>\n",
       "      <th>13218779</th>\n",
       "      <td>13218779</td>\n",
       "      <td>0</td>\n",
       "      <td>0</td>\n",
       "      <td>0</td>\n",
       "      <td>0</td>\n",
       "      <td>0</td>\n",
       "      <td>0</td>\n",
       "      <td>0</td>\n",
       "      <td>0</td>\n",
       "      <td>0</td>\n",
       "      <td>...</td>\n",
       "      <td>1</td>\n",
       "      <td>0</td>\n",
       "      <td>1</td>\n",
       "      <td>1</td>\n",
       "      <td>1</td>\n",
       "      <td>0</td>\n",
       "      <td>1</td>\n",
       "      <td>1</td>\n",
       "      <td>1</td>\n",
       "      <td>0</td>\n",
       "    </tr>\n",
       "    <tr>\n",
       "      <th>637566</th>\n",
       "      <td>637566</td>\n",
       "      <td>0</td>\n",
       "      <td>0</td>\n",
       "      <td>0</td>\n",
       "      <td>0</td>\n",
       "      <td>0</td>\n",
       "      <td>0</td>\n",
       "      <td>0</td>\n",
       "      <td>0</td>\n",
       "      <td>0</td>\n",
       "      <td>...</td>\n",
       "      <td>1</td>\n",
       "      <td>0</td>\n",
       "      <td>0</td>\n",
       "      <td>1</td>\n",
       "      <td>0</td>\n",
       "      <td>0</td>\n",
       "      <td>0</td>\n",
       "      <td>1</td>\n",
       "      <td>0</td>\n",
       "      <td>0</td>\n",
       "    </tr>\n",
       "  </tbody>\n",
       "</table>\n",
       "<p>5 rows × 168 columns</p>\n",
       "</div>"
      ],
      "text/plain": [
       "               cid maccs000 maccs001 maccs002 maccs003 maccs004 maccs005  \\\n",
       "12850184  12850184        0        0        0        0        0        0   \n",
       "89753        89753        0        0        0        0        0        0   \n",
       "9403          9403        0        0        0        0        0        0   \n",
       "13218779  13218779        0        0        0        0        0        0   \n",
       "637566      637566        0        0        0        0        0        0   \n",
       "\n",
       "         maccs006 maccs007 maccs008  ... maccs157 maccs158 maccs159 maccs160  \\\n",
       "12850184        0        0        0  ...        1        0        1        0   \n",
       "89753           0        0        0  ...        1        0        1        0   \n",
       "9403            0        0        0  ...        1        0        1        1   \n",
       "13218779        0        0        0  ...        1        0        1        1   \n",
       "637566          0        0        0  ...        1        0        0        1   \n",
       "\n",
       "         maccs161 maccs162 maccs163 maccs164 maccs165 maccs166  \n",
       "12850184        0        0        0        1        0        1  \n",
       "89753           0        0        0        1        0        1  \n",
       "9403            0        1        1        1        1        0  \n",
       "13218779        1        0        1        1        1        0  \n",
       "637566          0        0        0        1        0        0  \n",
       "\n",
       "[5 rows x 168 columns]"
      ]
     },
     "execution_count": 35,
     "metadata": {},
     "output_type": "execute_result"
    }
   ],
   "source": [
    "df_fps.head(5)"
   ]
  },
  {
   "cell_type": "markdown",
   "metadata": {},
   "source": [
    "## 6. Merge activity data and fingerprint information"
   ]
  },
  {
   "cell_type": "code",
   "execution_count": 36,
   "metadata": {},
   "outputs": [
    {
     "data": {
      "text/html": [
       "<div>\n",
       "<style scoped>\n",
       "    .dataframe tbody tr th:only-of-type {\n",
       "        vertical-align: middle;\n",
       "    }\n",
       "\n",
       "    .dataframe tbody tr th {\n",
       "        vertical-align: top;\n",
       "    }\n",
       "\n",
       "    .dataframe thead th {\n",
       "        text-align: right;\n",
       "    }\n",
       "</style>\n",
       "<table border=\"1\" class=\"dataframe\">\n",
       "  <thead>\n",
       "    <tr style=\"text-align: right;\">\n",
       "      <th></th>\n",
       "      <th>cid</th>\n",
       "      <th>activity</th>\n",
       "    </tr>\n",
       "  </thead>\n",
       "  <tbody>\n",
       "    <tr>\n",
       "      <th>3</th>\n",
       "      <td>12850184.0</td>\n",
       "      <td>0</td>\n",
       "    </tr>\n",
       "    <tr>\n",
       "      <th>4</th>\n",
       "      <td>89753.0</td>\n",
       "      <td>0</td>\n",
       "    </tr>\n",
       "    <tr>\n",
       "      <th>5</th>\n",
       "      <td>9403.0</td>\n",
       "      <td>0</td>\n",
       "    </tr>\n",
       "  </tbody>\n",
       "</table>\n",
       "</div>"
      ],
      "text/plain": [
       "          cid  activity\n",
       "3  12850184.0         0\n",
       "4     89753.0         0\n",
       "5      9403.0         0"
      ]
     },
     "execution_count": 36,
     "metadata": {},
     "output_type": "execute_result"
    }
   ],
   "source": [
    "df_activity.head(3)"
   ]
  },
  {
   "cell_type": "code",
   "execution_count": 37,
   "metadata": {},
   "outputs": [
    {
     "data": {
      "text/html": [
       "<div>\n",
       "<style scoped>\n",
       "    .dataframe tbody tr th:only-of-type {\n",
       "        vertical-align: middle;\n",
       "    }\n",
       "\n",
       "    .dataframe tbody tr th {\n",
       "        vertical-align: top;\n",
       "    }\n",
       "\n",
       "    .dataframe thead th {\n",
       "        text-align: right;\n",
       "    }\n",
       "</style>\n",
       "<table border=\"1\" class=\"dataframe\">\n",
       "  <thead>\n",
       "    <tr style=\"text-align: right;\">\n",
       "      <th></th>\n",
       "      <th>cid</th>\n",
       "      <th>maccs000</th>\n",
       "      <th>maccs001</th>\n",
       "      <th>maccs002</th>\n",
       "      <th>maccs003</th>\n",
       "      <th>maccs004</th>\n",
       "      <th>maccs005</th>\n",
       "      <th>maccs006</th>\n",
       "      <th>maccs007</th>\n",
       "      <th>maccs008</th>\n",
       "      <th>...</th>\n",
       "      <th>maccs157</th>\n",
       "      <th>maccs158</th>\n",
       "      <th>maccs159</th>\n",
       "      <th>maccs160</th>\n",
       "      <th>maccs161</th>\n",
       "      <th>maccs162</th>\n",
       "      <th>maccs163</th>\n",
       "      <th>maccs164</th>\n",
       "      <th>maccs165</th>\n",
       "      <th>maccs166</th>\n",
       "    </tr>\n",
       "  </thead>\n",
       "  <tbody>\n",
       "    <tr>\n",
       "      <th>12850184</th>\n",
       "      <td>12850184</td>\n",
       "      <td>0</td>\n",
       "      <td>0</td>\n",
       "      <td>0</td>\n",
       "      <td>0</td>\n",
       "      <td>0</td>\n",
       "      <td>0</td>\n",
       "      <td>0</td>\n",
       "      <td>0</td>\n",
       "      <td>0</td>\n",
       "      <td>...</td>\n",
       "      <td>1</td>\n",
       "      <td>0</td>\n",
       "      <td>1</td>\n",
       "      <td>0</td>\n",
       "      <td>0</td>\n",
       "      <td>0</td>\n",
       "      <td>0</td>\n",
       "      <td>1</td>\n",
       "      <td>0</td>\n",
       "      <td>1</td>\n",
       "    </tr>\n",
       "    <tr>\n",
       "      <th>89753</th>\n",
       "      <td>89753</td>\n",
       "      <td>0</td>\n",
       "      <td>0</td>\n",
       "      <td>0</td>\n",
       "      <td>0</td>\n",
       "      <td>0</td>\n",
       "      <td>0</td>\n",
       "      <td>0</td>\n",
       "      <td>0</td>\n",
       "      <td>0</td>\n",
       "      <td>...</td>\n",
       "      <td>1</td>\n",
       "      <td>0</td>\n",
       "      <td>1</td>\n",
       "      <td>0</td>\n",
       "      <td>0</td>\n",
       "      <td>0</td>\n",
       "      <td>0</td>\n",
       "      <td>1</td>\n",
       "      <td>0</td>\n",
       "      <td>1</td>\n",
       "    </tr>\n",
       "    <tr>\n",
       "      <th>9403</th>\n",
       "      <td>9403</td>\n",
       "      <td>0</td>\n",
       "      <td>0</td>\n",
       "      <td>0</td>\n",
       "      <td>0</td>\n",
       "      <td>0</td>\n",
       "      <td>0</td>\n",
       "      <td>0</td>\n",
       "      <td>0</td>\n",
       "      <td>0</td>\n",
       "      <td>...</td>\n",
       "      <td>1</td>\n",
       "      <td>0</td>\n",
       "      <td>1</td>\n",
       "      <td>1</td>\n",
       "      <td>0</td>\n",
       "      <td>1</td>\n",
       "      <td>1</td>\n",
       "      <td>1</td>\n",
       "      <td>1</td>\n",
       "      <td>0</td>\n",
       "    </tr>\n",
       "  </tbody>\n",
       "</table>\n",
       "<p>3 rows × 168 columns</p>\n",
       "</div>"
      ],
      "text/plain": [
       "               cid maccs000 maccs001 maccs002 maccs003 maccs004 maccs005  \\\n",
       "12850184  12850184        0        0        0        0        0        0   \n",
       "89753        89753        0        0        0        0        0        0   \n",
       "9403          9403        0        0        0        0        0        0   \n",
       "\n",
       "         maccs006 maccs007 maccs008  ... maccs157 maccs158 maccs159 maccs160  \\\n",
       "12850184        0        0        0  ...        1        0        1        0   \n",
       "89753           0        0        0  ...        1        0        1        0   \n",
       "9403            0        0        0  ...        1        0        1        1   \n",
       "\n",
       "         maccs161 maccs162 maccs163 maccs164 maccs165 maccs166  \n",
       "12850184        0        0        0        1        0        1  \n",
       "89753           0        0        0        1        0        1  \n",
       "9403            0        1        1        1        1        0  \n",
       "\n",
       "[3 rows x 168 columns]"
      ]
     },
     "execution_count": 37,
     "metadata": {},
     "output_type": "execute_result"
    }
   ],
   "source": [
    "df_fps.head(3)"
   ]
  },
  {
   "cell_type": "code",
   "execution_count": 38,
   "metadata": {},
   "outputs": [],
   "source": [
    "df_data = df_activity.join(df_fps.set_index('cid'), on='cid')"
   ]
  },
  {
   "cell_type": "markdown",
   "metadata": {},
   "source": [
    "In Section 5, there were two CIDs for which the MACCS keys could not be generated.  They need to be removed from **df_data**."
   ]
  },
  {
   "cell_type": "code",
   "execution_count": 39,
   "metadata": {},
   "outputs": [
    {
     "data": {
      "text/html": [
       "<div>\n",
       "<style scoped>\n",
       "    .dataframe tbody tr th:only-of-type {\n",
       "        vertical-align: middle;\n",
       "    }\n",
       "\n",
       "    .dataframe tbody tr th {\n",
       "        vertical-align: top;\n",
       "    }\n",
       "\n",
       "    .dataframe thead th {\n",
       "        text-align: right;\n",
       "    }\n",
       "</style>\n",
       "<table border=\"1\" class=\"dataframe\">\n",
       "  <thead>\n",
       "    <tr style=\"text-align: right;\">\n",
       "      <th></th>\n",
       "      <th>cid</th>\n",
       "      <th>activity</th>\n",
       "      <th>maccs000</th>\n",
       "      <th>maccs001</th>\n",
       "      <th>maccs002</th>\n",
       "      <th>maccs003</th>\n",
       "      <th>maccs004</th>\n",
       "      <th>maccs005</th>\n",
       "      <th>maccs006</th>\n",
       "      <th>maccs007</th>\n",
       "      <th>...</th>\n",
       "      <th>maccs157</th>\n",
       "      <th>maccs158</th>\n",
       "      <th>maccs159</th>\n",
       "      <th>maccs160</th>\n",
       "      <th>maccs161</th>\n",
       "      <th>maccs162</th>\n",
       "      <th>maccs163</th>\n",
       "      <th>maccs164</th>\n",
       "      <th>maccs165</th>\n",
       "      <th>maccs166</th>\n",
       "    </tr>\n",
       "  </thead>\n",
       "  <tbody>\n",
       "    <tr>\n",
       "      <th>2293</th>\n",
       "      <td>28145.0</td>\n",
       "      <td>0</td>\n",
       "      <td>NaN</td>\n",
       "      <td>NaN</td>\n",
       "      <td>NaN</td>\n",
       "      <td>NaN</td>\n",
       "      <td>NaN</td>\n",
       "      <td>NaN</td>\n",
       "      <td>NaN</td>\n",
       "      <td>NaN</td>\n",
       "      <td>...</td>\n",
       "      <td>NaN</td>\n",
       "      <td>NaN</td>\n",
       "      <td>NaN</td>\n",
       "      <td>NaN</td>\n",
       "      <td>NaN</td>\n",
       "      <td>NaN</td>\n",
       "      <td>NaN</td>\n",
       "      <td>NaN</td>\n",
       "      <td>NaN</td>\n",
       "      <td>NaN</td>\n",
       "    </tr>\n",
       "    <tr>\n",
       "      <th>9077</th>\n",
       "      <td>28127.0</td>\n",
       "      <td>0</td>\n",
       "      <td>NaN</td>\n",
       "      <td>NaN</td>\n",
       "      <td>NaN</td>\n",
       "      <td>NaN</td>\n",
       "      <td>NaN</td>\n",
       "      <td>NaN</td>\n",
       "      <td>NaN</td>\n",
       "      <td>NaN</td>\n",
       "      <td>...</td>\n",
       "      <td>NaN</td>\n",
       "      <td>NaN</td>\n",
       "      <td>NaN</td>\n",
       "      <td>NaN</td>\n",
       "      <td>NaN</td>\n",
       "      <td>NaN</td>\n",
       "      <td>NaN</td>\n",
       "      <td>NaN</td>\n",
       "      <td>NaN</td>\n",
       "      <td>NaN</td>\n",
       "    </tr>\n",
       "  </tbody>\n",
       "</table>\n",
       "<p>2 rows × 169 columns</p>\n",
       "</div>"
      ],
      "text/plain": [
       "          cid  activity maccs000 maccs001 maccs002 maccs003 maccs004 maccs005  \\\n",
       "2293  28145.0         0      NaN      NaN      NaN      NaN      NaN      NaN   \n",
       "9077  28127.0         0      NaN      NaN      NaN      NaN      NaN      NaN   \n",
       "\n",
       "     maccs006 maccs007  ... maccs157 maccs158 maccs159 maccs160 maccs161  \\\n",
       "2293      NaN      NaN  ...      NaN      NaN      NaN      NaN      NaN   \n",
       "9077      NaN      NaN  ...      NaN      NaN      NaN      NaN      NaN   \n",
       "\n",
       "     maccs162 maccs163 maccs164 maccs165 maccs166  \n",
       "2293      NaN      NaN      NaN      NaN      NaN  \n",
       "9077      NaN      NaN      NaN      NaN      NaN  \n",
       "\n",
       "[2 rows x 169 columns]"
      ]
     },
     "execution_count": 39,
     "metadata": {},
     "output_type": "execute_result"
    }
   ],
   "source": [
    "df_data[df_data.isna().any(axis=1)]"
   ]
  },
  {
   "cell_type": "code",
   "execution_count": 40,
   "metadata": {},
   "outputs": [
    {
     "data": {
      "text/plain": [
       "6796"
      ]
     },
     "execution_count": 40,
     "metadata": {},
     "output_type": "execute_result"
    }
   ],
   "source": [
    "df_data = df_data.dropna()\n",
    "len(df_data)"
   ]
  },
  {
   "cell_type": "markdown",
   "metadata": {},
   "source": [
    "Save df_data in CSV for future use."
   ]
  },
  {
   "cell_type": "code",
   "execution_count": 41,
   "metadata": {},
   "outputs": [],
   "source": [
    "df_data.to_csv('df_data.csv')"
   ]
  },
  {
   "cell_type": "markdown",
   "metadata": {},
   "source": [
    "## 7. Preparation for model building"
   ]
  },
  {
   "cell_type": "markdown",
   "metadata": {},
   "source": [
    "## 7-(1) Loading the data into X and y."
   ]
  },
  {
   "cell_type": "code",
   "execution_count": 42,
   "metadata": {},
   "outputs": [
    {
     "data": {
      "text/html": [
       "<div>\n",
       "<style scoped>\n",
       "    .dataframe tbody tr th:only-of-type {\n",
       "        vertical-align: middle;\n",
       "    }\n",
       "\n",
       "    .dataframe tbody tr th {\n",
       "        vertical-align: top;\n",
       "    }\n",
       "\n",
       "    .dataframe thead th {\n",
       "        text-align: right;\n",
       "    }\n",
       "</style>\n",
       "<table border=\"1\" class=\"dataframe\">\n",
       "  <thead>\n",
       "    <tr style=\"text-align: right;\">\n",
       "      <th></th>\n",
       "      <th>cid</th>\n",
       "      <th>activity</th>\n",
       "      <th>maccs000</th>\n",
       "      <th>maccs001</th>\n",
       "      <th>maccs002</th>\n",
       "      <th>maccs003</th>\n",
       "      <th>maccs004</th>\n",
       "      <th>maccs005</th>\n",
       "      <th>maccs006</th>\n",
       "      <th>maccs007</th>\n",
       "      <th>...</th>\n",
       "      <th>maccs157</th>\n",
       "      <th>maccs158</th>\n",
       "      <th>maccs159</th>\n",
       "      <th>maccs160</th>\n",
       "      <th>maccs161</th>\n",
       "      <th>maccs162</th>\n",
       "      <th>maccs163</th>\n",
       "      <th>maccs164</th>\n",
       "      <th>maccs165</th>\n",
       "      <th>maccs166</th>\n",
       "    </tr>\n",
       "  </thead>\n",
       "  <tbody>\n",
       "    <tr>\n",
       "      <th>3</th>\n",
       "      <td>12850184.0</td>\n",
       "      <td>0</td>\n",
       "      <td>0</td>\n",
       "      <td>0</td>\n",
       "      <td>0</td>\n",
       "      <td>0</td>\n",
       "      <td>0</td>\n",
       "      <td>0</td>\n",
       "      <td>0</td>\n",
       "      <td>0</td>\n",
       "      <td>...</td>\n",
       "      <td>1</td>\n",
       "      <td>0</td>\n",
       "      <td>1</td>\n",
       "      <td>0</td>\n",
       "      <td>0</td>\n",
       "      <td>0</td>\n",
       "      <td>0</td>\n",
       "      <td>1</td>\n",
       "      <td>0</td>\n",
       "      <td>1</td>\n",
       "    </tr>\n",
       "    <tr>\n",
       "      <th>4</th>\n",
       "      <td>89753.0</td>\n",
       "      <td>0</td>\n",
       "      <td>0</td>\n",
       "      <td>0</td>\n",
       "      <td>0</td>\n",
       "      <td>0</td>\n",
       "      <td>0</td>\n",
       "      <td>0</td>\n",
       "      <td>0</td>\n",
       "      <td>0</td>\n",
       "      <td>...</td>\n",
       "      <td>1</td>\n",
       "      <td>0</td>\n",
       "      <td>1</td>\n",
       "      <td>0</td>\n",
       "      <td>0</td>\n",
       "      <td>0</td>\n",
       "      <td>0</td>\n",
       "      <td>1</td>\n",
       "      <td>0</td>\n",
       "      <td>1</td>\n",
       "    </tr>\n",
       "    <tr>\n",
       "      <th>5</th>\n",
       "      <td>9403.0</td>\n",
       "      <td>0</td>\n",
       "      <td>0</td>\n",
       "      <td>0</td>\n",
       "      <td>0</td>\n",
       "      <td>0</td>\n",
       "      <td>0</td>\n",
       "      <td>0</td>\n",
       "      <td>0</td>\n",
       "      <td>0</td>\n",
       "      <td>...</td>\n",
       "      <td>1</td>\n",
       "      <td>0</td>\n",
       "      <td>1</td>\n",
       "      <td>1</td>\n",
       "      <td>0</td>\n",
       "      <td>1</td>\n",
       "      <td>1</td>\n",
       "      <td>1</td>\n",
       "      <td>1</td>\n",
       "      <td>0</td>\n",
       "    </tr>\n",
       "  </tbody>\n",
       "</table>\n",
       "<p>3 rows × 169 columns</p>\n",
       "</div>"
      ],
      "text/plain": [
       "          cid  activity maccs000 maccs001 maccs002 maccs003 maccs004 maccs005  \\\n",
       "3  12850184.0         0        0        0        0        0        0        0   \n",
       "4     89753.0         0        0        0        0        0        0        0   \n",
       "5      9403.0         0        0        0        0        0        0        0   \n",
       "\n",
       "  maccs006 maccs007  ... maccs157 maccs158 maccs159 maccs160 maccs161  \\\n",
       "3        0        0  ...        1        0        1        0        0   \n",
       "4        0        0  ...        1        0        1        0        0   \n",
       "5        0        0  ...        1        0        1        1        0   \n",
       "\n",
       "  maccs162 maccs163 maccs164 maccs165 maccs166  \n",
       "3        0        0        1        0        1  \n",
       "4        0        0        1        0        1  \n",
       "5        1        1        1        1        0  \n",
       "\n",
       "[3 rows x 169 columns]"
      ]
     },
     "execution_count": 42,
     "metadata": {},
     "output_type": "execute_result"
    }
   ],
   "source": [
    "df_data.head(3)"
   ]
  },
  {
   "cell_type": "code",
   "execution_count": 43,
   "metadata": {},
   "outputs": [],
   "source": [
    "X = df_data.iloc[:,2:]\n",
    "y = df_data['activity'].values"
   ]
  },
  {
   "cell_type": "code",
   "execution_count": 44,
   "metadata": {},
   "outputs": [
    {
     "data": {
      "text/html": [
       "<div>\n",
       "<style scoped>\n",
       "    .dataframe tbody tr th:only-of-type {\n",
       "        vertical-align: middle;\n",
       "    }\n",
       "\n",
       "    .dataframe tbody tr th {\n",
       "        vertical-align: top;\n",
       "    }\n",
       "\n",
       "    .dataframe thead th {\n",
       "        text-align: right;\n",
       "    }\n",
       "</style>\n",
       "<table border=\"1\" class=\"dataframe\">\n",
       "  <thead>\n",
       "    <tr style=\"text-align: right;\">\n",
       "      <th></th>\n",
       "      <th>maccs000</th>\n",
       "      <th>maccs001</th>\n",
       "      <th>maccs002</th>\n",
       "      <th>maccs003</th>\n",
       "      <th>maccs004</th>\n",
       "      <th>maccs005</th>\n",
       "      <th>maccs006</th>\n",
       "      <th>maccs007</th>\n",
       "      <th>maccs008</th>\n",
       "      <th>maccs009</th>\n",
       "      <th>...</th>\n",
       "      <th>maccs157</th>\n",
       "      <th>maccs158</th>\n",
       "      <th>maccs159</th>\n",
       "      <th>maccs160</th>\n",
       "      <th>maccs161</th>\n",
       "      <th>maccs162</th>\n",
       "      <th>maccs163</th>\n",
       "      <th>maccs164</th>\n",
       "      <th>maccs165</th>\n",
       "      <th>maccs166</th>\n",
       "    </tr>\n",
       "  </thead>\n",
       "  <tbody>\n",
       "    <tr>\n",
       "      <th>3</th>\n",
       "      <td>0</td>\n",
       "      <td>0</td>\n",
       "      <td>0</td>\n",
       "      <td>0</td>\n",
       "      <td>0</td>\n",
       "      <td>0</td>\n",
       "      <td>0</td>\n",
       "      <td>0</td>\n",
       "      <td>0</td>\n",
       "      <td>0</td>\n",
       "      <td>...</td>\n",
       "      <td>1</td>\n",
       "      <td>0</td>\n",
       "      <td>1</td>\n",
       "      <td>0</td>\n",
       "      <td>0</td>\n",
       "      <td>0</td>\n",
       "      <td>0</td>\n",
       "      <td>1</td>\n",
       "      <td>0</td>\n",
       "      <td>1</td>\n",
       "    </tr>\n",
       "    <tr>\n",
       "      <th>4</th>\n",
       "      <td>0</td>\n",
       "      <td>0</td>\n",
       "      <td>0</td>\n",
       "      <td>0</td>\n",
       "      <td>0</td>\n",
       "      <td>0</td>\n",
       "      <td>0</td>\n",
       "      <td>0</td>\n",
       "      <td>0</td>\n",
       "      <td>0</td>\n",
       "      <td>...</td>\n",
       "      <td>1</td>\n",
       "      <td>0</td>\n",
       "      <td>1</td>\n",
       "      <td>0</td>\n",
       "      <td>0</td>\n",
       "      <td>0</td>\n",
       "      <td>0</td>\n",
       "      <td>1</td>\n",
       "      <td>0</td>\n",
       "      <td>1</td>\n",
       "    </tr>\n",
       "    <tr>\n",
       "      <th>5</th>\n",
       "      <td>0</td>\n",
       "      <td>0</td>\n",
       "      <td>0</td>\n",
       "      <td>0</td>\n",
       "      <td>0</td>\n",
       "      <td>0</td>\n",
       "      <td>0</td>\n",
       "      <td>0</td>\n",
       "      <td>0</td>\n",
       "      <td>0</td>\n",
       "      <td>...</td>\n",
       "      <td>1</td>\n",
       "      <td>0</td>\n",
       "      <td>1</td>\n",
       "      <td>1</td>\n",
       "      <td>0</td>\n",
       "      <td>1</td>\n",
       "      <td>1</td>\n",
       "      <td>1</td>\n",
       "      <td>1</td>\n",
       "      <td>0</td>\n",
       "    </tr>\n",
       "  </tbody>\n",
       "</table>\n",
       "<p>3 rows × 167 columns</p>\n",
       "</div>"
      ],
      "text/plain": [
       "  maccs000 maccs001 maccs002 maccs003 maccs004 maccs005 maccs006 maccs007  \\\n",
       "3        0        0        0        0        0        0        0        0   \n",
       "4        0        0        0        0        0        0        0        0   \n",
       "5        0        0        0        0        0        0        0        0   \n",
       "\n",
       "  maccs008 maccs009  ... maccs157 maccs158 maccs159 maccs160 maccs161  \\\n",
       "3        0        0  ...        1        0        1        0        0   \n",
       "4        0        0  ...        1        0        1        0        0   \n",
       "5        0        0  ...        1        0        1        1        0   \n",
       "\n",
       "  maccs162 maccs163 maccs164 maccs165 maccs166  \n",
       "3        0        0        1        0        1  \n",
       "4        0        0        1        0        1  \n",
       "5        1        1        1        1        0  \n",
       "\n",
       "[3 rows x 167 columns]"
      ]
     },
     "execution_count": 44,
     "metadata": {},
     "output_type": "execute_result"
    }
   ],
   "source": [
    "X.head(3)"
   ]
  },
  {
   "cell_type": "code",
   "execution_count": 45,
   "metadata": {},
   "outputs": [
    {
     "name": "stdout",
     "output_type": "stream",
     "text": [
      "6796\n"
     ]
    },
    {
     "data": {
      "text/plain": [
       "742"
      ]
     },
     "execution_count": 45,
     "metadata": {},
     "output_type": "execute_result"
    }
   ],
   "source": [
    "print(len(y))    # Number of all compounds\n",
    "y.sum()          # Number of actives"
   ]
  },
  {
   "cell_type": "markdown",
   "metadata": {},
   "source": [
    "## 7-(2) Remove zero-variance features"
   ]
  },
  {
   "cell_type": "markdown",
   "metadata": {},
   "source": [
    "Some features in X are not helpful in distinguishing actives from inactives, because they are set ON for all compounds or OFF for all compounds.  Such features need to be removed because they would consume more computational resources without improving the model."
   ]
  },
  {
   "cell_type": "code",
   "execution_count": 46,
   "metadata": {},
   "outputs": [],
   "source": [
    "from sklearn.feature_selection import VarianceThreshold"
   ]
  },
  {
   "cell_type": "code",
   "execution_count": 47,
   "metadata": {},
   "outputs": [
    {
     "data": {
      "text/plain": [
       "(6796, 167)"
      ]
     },
     "execution_count": 47,
     "metadata": {},
     "output_type": "execute_result"
    }
   ],
   "source": [
    "X.shape  #- Before removal"
   ]
  },
  {
   "cell_type": "code",
   "execution_count": 48,
   "metadata": {},
   "outputs": [
    {
     "data": {
      "text/plain": [
       "(6796, 163)"
      ]
     },
     "execution_count": 48,
     "metadata": {},
     "output_type": "execute_result"
    }
   ],
   "source": [
    "sel = VarianceThreshold()\n",
    "X=sel.fit_transform(X)\n",
    "X.shape  #- After removal"
   ]
  },
  {
   "cell_type": "markdown",
   "metadata": {},
   "source": [
    "In this case, four features had zero variances.  Note that one of them is the first bit (maccs000) of the MACCS keys, which is added as a \"dummy\" to name each of bits 1~166 as maccs001, maccs002, ... maccs166.  "
   ]
  },
  {
   "cell_type": "markdown",
   "metadata": {},
   "source": [
    "## 7-(3) Train-Test-Split (a 9:1 ratio)"
   ]
  },
  {
   "cell_type": "markdown",
   "metadata": {},
   "source": [
    "Now split the data set into a training set (90%) and test set (10%).  The training set will be used to train the model.  The developed model will be tested against the test set."
   ]
  },
  {
   "cell_type": "code",
   "execution_count": 49,
   "metadata": {},
   "outputs": [
    {
     "name": "stdout",
     "output_type": "stream",
     "text": [
      "(6116, 163) (680, 163) (6116,) (680,)\n",
      "668 74\n"
     ]
    }
   ],
   "source": [
    "from sklearn.model_selection import train_test_split\n",
    "\n",
    "X_train, X_test, y_train, y_test = \\\n",
    "    train_test_split(X, y, shuffle=True, random_state=3100, stratify=y, test_size=0.1)\n",
    "\n",
    "print(X_train.shape, X_test.shape, y_train.shape, y_test.shape)\n",
    "print(y_train.sum(), y_test.sum())"
   ]
  },
  {
   "cell_type": "markdown",
   "metadata": {},
   "source": [
    "## 7-(4) Balance the training set through downsampling"
   ]
  },
  {
   "cell_type": "markdown",
   "metadata": {},
   "source": [
    "Check the dimension of the training data set."
   ]
  },
  {
   "cell_type": "code",
   "execution_count": 50,
   "metadata": {},
   "outputs": [
    {
     "name": "stdout",
     "output_type": "stream",
     "text": [
      "6116\n",
      "6116\n",
      "163\n"
     ]
    }
   ],
   "source": [
    "print(len(y_train))\n",
    "print(len(X_train))\n",
    "print(len(X_train[0]))"
   ]
  },
  {
   "cell_type": "markdown",
   "metadata": {},
   "source": [
    "Check the number of actives and inactives compound."
   ]
  },
  {
   "cell_type": "code",
   "execution_count": 51,
   "metadata": {},
   "outputs": [
    {
     "name": "stdout",
     "output_type": "stream",
     "text": [
      "# inactives :  5448\n",
      "# actives   :  668\n"
     ]
    }
   ],
   "source": [
    "print(\"# inactives : \", len(y_train) - y_train.sum())\n",
    "print(\"# actives   : \", y_train.sum())"
   ]
  },
  {
   "cell_type": "markdown",
   "metadata": {},
   "source": [
    "The data set is highly imbalanced \\[the inactive to active ratio is 8.16 (=5448 / 668)].  To address this issue, let's downsample the majority class (inactive compounds) to balance the data set."
   ]
  },
  {
   "cell_type": "code",
   "execution_count": 52,
   "metadata": {},
   "outputs": [],
   "source": [
    "# Indicies of each class' observations\n",
    "idx_inactives = np.where( y_train == 0 )[0]\n",
    "idx_actives   = np.where( y_train == 1 )[0]\n",
    "\n",
    "# Number of observations in each class\n",
    "num_inactives = len(idx_inactives)\n",
    "num_actives   = len(idx_actives)\n",
    "\n",
    "# Randomly sample from inactives without replacement\n",
    "np.random.seed(0)\n",
    "idx_inactives_downsampled = np.random.choice(idx_inactives, size=num_actives, replace=False)\n",
    "\n",
    "# Join together downsampled inactives with actives\n",
    "X_train = np.vstack((X_train[idx_inactives_downsampled], X_train[idx_actives]))\n",
    "y_train = np.hstack((y_train[idx_inactives_downsampled], y_train[idx_actives]))"
   ]
  },
  {
   "cell_type": "markdown",
   "metadata": {},
   "source": [
    "It is noteworthy that **np.vstack** is used for X_train and **np.hstack** is used for Y_train.  The direction of stacking is different because X_train is a 2-D array and y_train is a 1-D array.\n",
    "\n",
    "Confirm that the downsampled data set has the correct dimension and active/inactive counts."
   ]
  },
  {
   "cell_type": "code",
   "execution_count": 53,
   "metadata": {},
   "outputs": [
    {
     "name": "stdout",
     "output_type": "stream",
     "text": [
      "# inactives :  668\n",
      "# actives   :  668\n"
     ]
    }
   ],
   "source": [
    "print(\"# inactives : \", len(y_train) - y_train.sum())\n",
    "print(\"# actives   : \", y_train.sum())"
   ]
  },
  {
   "cell_type": "code",
   "execution_count": 54,
   "metadata": {},
   "outputs": [
    {
     "name": "stdout",
     "output_type": "stream",
     "text": [
      "1336\n",
      "1336\n",
      "163\n"
     ]
    }
   ],
   "source": [
    "print(len(y_train))\n",
    "print(len(X_train))\n",
    "print(len(X_train[0]))"
   ]
  },
  {
   "cell_type": "markdown",
   "metadata": {},
   "source": [
    "# 8. Build a model using the training set."
   ]
  },
  {
   "cell_type": "markdown",
   "metadata": {},
   "source": [
    "Now we are ready to build predictive models using machine learning algorithms available in the scikit-learn library (https://scikit-learn.org/).  This notebook will use Naive Bayes and decisiont tree, because they are relatively fast and simple."
   ]
  },
  {
   "cell_type": "code",
   "execution_count": 55,
   "metadata": {},
   "outputs": [],
   "source": [
    "from sklearn.naive_bayes import BernoulliNB        #-- Naive Bayes\n",
    "from sklearn.tree import DecisionTreeClassifier    #-- Decision Tree"
   ]
  },
  {
   "cell_type": "code",
   "execution_count": 56,
   "metadata": {},
   "outputs": [],
   "source": [
    "from sklearn.metrics import classification_report\n",
    "from sklearn.metrics import confusion_matrix \n",
    "from sklearn.metrics import accuracy_score\n",
    "from sklearn.metrics import roc_auc_score"
   ]
  },
  {
   "cell_type": "markdown",
   "metadata": {},
   "source": [
    "## 8-(1) Naive Bayes"
   ]
  },
  {
   "cell_type": "code",
   "execution_count": 57,
   "metadata": {},
   "outputs": [],
   "source": [
    "clf = BernoulliNB()            # set up the NB classification model"
   ]
  },
  {
   "cell_type": "code",
   "execution_count": 58,
   "metadata": {},
   "outputs": [
    {
     "data": {
      "text/plain": [
       "BernoulliNB(alpha=1.0, binarize=0.0, class_prior=None, fit_prior=True)"
      ]
     },
     "execution_count": 58,
     "metadata": {},
     "output_type": "execute_result"
    }
   ],
   "source": [
    "clf.fit( X_train ,y_train )    # Train the model by fitting it to the data."
   ]
  },
  {
   "cell_type": "code",
   "execution_count": 59,
   "metadata": {},
   "outputs": [],
   "source": [
    "y_true, y_pred = y_train, clf.predict( X_train )    # Apply the model to predict the training compound's activity."
   ]
  },
  {
   "cell_type": "code",
   "execution_count": 60,
   "metadata": {},
   "outputs": [
    {
     "name": "stdout",
     "output_type": "stream",
     "text": [
      "[[462 206]\n",
      " [199 469]]\n"
     ]
    }
   ],
   "source": [
    "CMat = confusion_matrix( y_true, y_pred )    #-- generate confusion matrix\n",
    "print(CMat)    # [[TN, FP], \n",
    "               #  [FN, TP]]"
   ]
  },
  {
   "cell_type": "code",
   "execution_count": 61,
   "metadata": {},
   "outputs": [],
   "source": [
    "acc  = accuracy_score( y_true, y_pred )\n",
    "\n",
    "sens = CMat[ 1 ][ 1 ] / ( CMat[ 1 ][ 0 ] + CMat[ 1 ][ 1 ] )    # TP / (FN + TP)\n",
    "spec = CMat[ 0 ][ 0 ] / ( CMat[ 0 ][ 0 ] + CMat[ 0 ][ 1 ] )    # TN / (TN + FP )\n",
    "bacc = (sens + spec) / 2\n",
    "\n",
    "y_score = clf.predict_proba( X_train )[:, 1]\n",
    "auc = roc_auc_score( y_true, y_score )"
   ]
  },
  {
   "cell_type": "code",
   "execution_count": 62,
   "metadata": {},
   "outputs": [
    {
     "name": "stdout",
     "output_type": "stream",
     "text": [
      "#-- Accuracy          =  0.6968562874251497\n",
      "#-- Balanced Accuracy =  0.6968562874251496\n",
      "#-- Sensitivity       =  0.7020958083832335\n",
      "#-- Specificity       =  0.6916167664670658\n",
      "#-- AUC-ROC           =  0.7496985818781599\n"
     ]
    }
   ],
   "source": [
    "print(\"#-- Accuracy          = \", acc)\n",
    "print(\"#-- Balanced Accuracy = \", bacc)\n",
    "print(\"#-- Sensitivity       = \", sens)\n",
    "print(\"#-- Specificity       = \", spec)\n",
    "print(\"#-- AUC-ROC           = \", auc)"
   ]
  },
  {
   "cell_type": "markdown",
   "metadata": {},
   "source": [
    "When applied to predict the activity of the training compounds, the NB classifier resulted in the accuracy of 0.70 and AUC-ROC of 0.75.  However, the real performance of the model should be evaluated with the test set data, which are not used for model training."
   ]
  },
  {
   "cell_type": "code",
   "execution_count": 63,
   "metadata": {},
   "outputs": [],
   "source": [
    "y_true, y_pred = y_test, clf.predict(X_test)    #-- Apply the model to predict the test set compounds' activity."
   ]
  },
  {
   "cell_type": "code",
   "execution_count": 64,
   "metadata": {},
   "outputs": [
    {
     "name": "stdout",
     "output_type": "stream",
     "text": [
      "[[412 194]\n",
      " [ 28  46]]\n"
     ]
    }
   ],
   "source": [
    "CMat = confusion_matrix( y_true, y_pred )    #-- generate confusion matrix\n",
    "print(CMat)    # [[TN, FP], \n",
    "               #  [FN, TP]]"
   ]
  },
  {
   "cell_type": "code",
   "execution_count": 65,
   "metadata": {},
   "outputs": [
    {
     "name": "stdout",
     "output_type": "stream",
     "text": [
      "#-- Accuracy          =  0.6735294117647059\n",
      "#-- Balanced Accuracy =  0.6507448042101507\n",
      "#-- Sensitivity       =  0.6216216216216216\n",
      "#-- Specificity       =  0.6798679867986799\n",
      "#-- AUC-ROC           =  0.724099099099099\n"
     ]
    }
   ],
   "source": [
    "acc  = accuracy_score( y_true, y_pred )\n",
    "\n",
    "sens = CMat[ 1 ][ 1 ] / ( CMat[ 1 ][ 0 ] + CMat[ 1 ][ 1 ] )\n",
    "spec = CMat[ 0 ][ 0 ] / ( CMat[ 0 ][ 0 ] + CMat[ 0 ][ 1 ] )\n",
    "bacc = (sens + spec) / 2\n",
    "\n",
    "y_score = clf.predict_proba( X_test )[:, 1]\n",
    "auc = roc_auc_score( y_true, y_score )\n",
    "\n",
    "print(\"#-- Accuracy          = \", acc)\n",
    "print(\"#-- Balanced Accuracy = \", bacc)\n",
    "print(\"#-- Sensitivity       = \", sens)\n",
    "print(\"#-- Specificity       = \", spec)\n",
    "print(\"#-- AUC-ROC           = \", auc)"
   ]
  },
  {
   "cell_type": "markdown",
   "metadata": {},
   "source": [
    "For the test set, the accuracy is 0.67 and the AUC-ROC is 0.72.  These values are somewhat smaller (by 0.03) than those for the training set.  Also note that the accuracy is no longer the same as the balanced accruacy (which is the average of the sensitivity and specificity)."
   ]
  },
  {
   "cell_type": "markdown",
   "metadata": {},
   "source": [
    "Some additional performance information may be obtained using **classification_report()**."
   ]
  },
  {
   "cell_type": "code",
   "execution_count": 66,
   "metadata": {},
   "outputs": [
    {
     "name": "stdout",
     "output_type": "stream",
     "text": [
      "              precision    recall  f1-score   support\n",
      "\n",
      "           0       0.94      0.68      0.79       606\n",
      "           1       0.19      0.62      0.29        74\n",
      "\n",
      "    accuracy                           0.67       680\n",
      "   macro avg       0.56      0.65      0.54       680\n",
      "weighted avg       0.86      0.67      0.73       680\n",
      "\n"
     ]
    }
   ],
   "source": [
    "print( classification_report(y_true, y_pred))"
   ]
  },
  {
   "cell_type": "markdown",
   "metadata": {},
   "source": [
    "## 8-(2) Decision Tree"
   ]
  },
  {
   "cell_type": "code",
   "execution_count": 67,
   "metadata": {},
   "outputs": [],
   "source": [
    "clf = DecisionTreeClassifier( random_state=0 )    # set up the DT classification model"
   ]
  },
  {
   "cell_type": "code",
   "execution_count": 68,
   "metadata": {},
   "outputs": [
    {
     "data": {
      "text/plain": [
       "DecisionTreeClassifier(class_weight=None, criterion='gini', max_depth=None,\n",
       "                       max_features=None, max_leaf_nodes=None,\n",
       "                       min_impurity_decrease=0.0, min_impurity_split=None,\n",
       "                       min_samples_leaf=1, min_samples_split=2,\n",
       "                       min_weight_fraction_leaf=0.0, presort=False,\n",
       "                       random_state=0, splitter='best')"
      ]
     },
     "execution_count": 68,
     "metadata": {},
     "output_type": "execute_result"
    }
   ],
   "source": [
    "clf.fit( X_train ,y_train )    # Train the model by fitting it to the data (using the default values for all parameters)"
   ]
  },
  {
   "cell_type": "code",
   "execution_count": 69,
   "metadata": {},
   "outputs": [],
   "source": [
    "y_true, y_pred = y_train, clf.predict( X_train )    # Apply the model to predict the training compound's activity."
   ]
  },
  {
   "cell_type": "code",
   "execution_count": 70,
   "metadata": {},
   "outputs": [
    {
     "name": "stdout",
     "output_type": "stream",
     "text": [
      "[[663   5]\n",
      " [  3 665]]\n"
     ]
    }
   ],
   "source": [
    "CMat = confusion_matrix( y_true, y_pred )    #-- generate confusion matrix\n",
    "print(CMat)    # [[TN, FP], \n",
    "               #  [FN, TP]]"
   ]
  },
  {
   "cell_type": "code",
   "execution_count": 71,
   "metadata": {},
   "outputs": [],
   "source": [
    "acc  = accuracy_score( y_true, y_pred )\n",
    "\n",
    "sens = CMat[ 1 ][ 1 ] / ( CMat[ 1 ][ 0 ] + CMat[ 1 ][ 1 ] )    # TP / (FN + TP)\n",
    "spec = CMat[ 0 ][ 0 ] / ( CMat[ 0 ][ 0 ] + CMat[ 0 ][ 1 ] )    # TN / (TN + FP )\n",
    "bacc = (sens + spec) / 2\n",
    "\n",
    "y_score = clf.predict_proba( X_train )[:, 1]\n",
    "auc = roc_auc_score( y_true, y_score )"
   ]
  },
  {
   "cell_type": "code",
   "execution_count": 72,
   "metadata": {},
   "outputs": [
    {
     "name": "stdout",
     "output_type": "stream",
     "text": [
      "#-- Accuracy          =  0.9940119760479041\n",
      "#-- Balanced Accuracy =  0.9940119760479043\n",
      "#-- Sensitivity       =  0.9955089820359282\n",
      "#-- Specificity       =  0.9925149700598802\n",
      "#-- AUC-ROC           =  0.9998890691670551\n"
     ]
    }
   ],
   "source": [
    "print(\"#-- Accuracy          = \", acc)\n",
    "print(\"#-- Balanced Accuracy = \", bacc)\n",
    "print(\"#-- Sensitivity       = \", sens)\n",
    "print(\"#-- Specificity       = \", spec)\n",
    "print(\"#-- AUC-ROC           = \", auc)"
   ]
  },
  {
   "cell_type": "markdown",
   "metadata": {},
   "source": [
    "When applied to predict the activity of the **training** compounds, the DT classifier resulted in very high scores (>0.99) for all five performance measures considered here.  However, it does **not** necessarily mean that the model will perform very well for the **test** set compounds.  Let's apply the model to the test set."
   ]
  },
  {
   "cell_type": "code",
   "execution_count": 73,
   "metadata": {},
   "outputs": [],
   "source": [
    "y_true, y_pred = y_test, clf.predict(X_test)    #-- Apply the model to predict the test set compounds' activity."
   ]
  },
  {
   "cell_type": "code",
   "execution_count": 74,
   "metadata": {},
   "outputs": [
    {
     "name": "stdout",
     "output_type": "stream",
     "text": [
      "[[422 184]\n",
      " [ 32  42]]\n"
     ]
    }
   ],
   "source": [
    "CMat = confusion_matrix( y_true, y_pred )    #-- generate confusion matrix\n",
    "print(CMat)    # [[TN, FP], \n",
    "               #  [FN, TP]]"
   ]
  },
  {
   "cell_type": "code",
   "execution_count": 75,
   "metadata": {},
   "outputs": [
    {
     "name": "stdout",
     "output_type": "stream",
     "text": [
      "#-- Accuracy          =  0.6823529411764706\n",
      "#-- Balanced Accuracy =  0.6319686022656319\n",
      "#-- Sensitivity       =  0.5675675675675675\n",
      "#-- Specificity       =  0.6963696369636964\n",
      "#-- AUC-ROC           =  0.6298724467041299\n"
     ]
    }
   ],
   "source": [
    "acc  = accuracy_score( y_true, y_pred )\n",
    "\n",
    "sens = CMat[ 1 ][ 1 ] / ( CMat[ 1 ][ 0 ] + CMat[ 1 ][ 1 ] )\n",
    "spec = CMat[ 0 ][ 0 ] / ( CMat[ 0 ][ 0 ] + CMat[ 0 ][ 1 ] )\n",
    "bacc = (sens + spec) / 2\n",
    "\n",
    "y_score = clf.predict_proba( X_test )[:, 1]\n",
    "auc = roc_auc_score( y_true, y_score )\n",
    "\n",
    "print(\"#-- Accuracy          = \", acc)\n",
    "print(\"#-- Balanced Accuracy = \", bacc)\n",
    "print(\"#-- Sensitivity       = \", sens)\n",
    "print(\"#-- Specificity       = \", spec)\n",
    "print(\"#-- AUC-ROC           = \", auc)"
   ]
  },
  {
   "cell_type": "markdown",
   "metadata": {},
   "source": [
    "When the DT model was applied to the test set, all performance measures were much worse than those for the training set.  This is a typical example of **outfitting**."
   ]
  },
  {
   "cell_type": "markdown",
   "metadata": {},
   "source": [
    "## 9. Model building through cross-validation"
   ]
  },
  {
   "cell_type": "markdown",
   "metadata": {},
   "source": [
    "In the above section, the models were developed using the default values for many optional hyperparamters, which cannot be learned by the training algorithm.  For example, when building a decision tree model, one should specify how the tree should be deep, how many compounds should be allowed in a single leaf, what is the minimum number of compounds in a single leaf, etc."
   ]
  },
  {
   "cell_type": "markdown",
   "metadata": {},
   "source": [
    "The cells below demonstrate how to perform hyperparameter optimization through 10-fold cross-validation.  In this example, five values for each of three hyperparameters used in decision tree are considered (max_depth, min_samples_split, and min_samples_leaf), resulting in a total of 125 combination of the parameter values (=5 x 5 x 5).  For each combination, 10 models are generated (through 10-fold cross validation) and the average performance will be tracked.  The goal is to find the parameter value combination that results in the highest average performance score (e.g., 'roc_auc') from the 10-fold cross validation."
   ]
  },
  {
   "cell_type": "code",
   "execution_count": 76,
   "metadata": {},
   "outputs": [],
   "source": [
    "from sklearn.model_selection import GridSearchCV"
   ]
  },
  {
   "cell_type": "code",
   "execution_count": 77,
   "metadata": {},
   "outputs": [],
   "source": [
    "scores = [ 'roc_auc', 'balanced_accuracy' ]"
   ]
  },
  {
   "cell_type": "code",
   "execution_count": 78,
   "metadata": {},
   "outputs": [],
   "source": [
    "ncvs = 10\n",
    "\n",
    "max_depth_range         = np.linspace( 3, 7, num=5, dtype='int32' )\n",
    "min_samples_split_range = np.linspace( 3, 7, num=5, dtype='int32' )\n",
    "min_samples_leaf_range  = np.linspace( 2, 6, num=5, dtype='int32' )\n",
    "\n",
    "param_grid = dict( max_depth=max_depth_range,\n",
    "                   min_samples_split=min_samples_split_range,\n",
    "                   min_samples_leaf=min_samples_leaf_range )\n",
    "\n",
    "clf = GridSearchCV( DecisionTreeClassifier( random_state=0 ),\n",
    "                    param_grid=param_grid, cv=ncvs, scoring=scores, refit='roc_auc',\n",
    "                    return_train_score = True, iid=False)"
   ]
  },
  {
   "cell_type": "code",
   "execution_count": 79,
   "metadata": {},
   "outputs": [
    {
     "name": "stdout",
     "output_type": "stream",
     "text": [
      "Best parameter set {'max_depth': 5, 'min_samples_leaf': 4, 'min_samples_split': 3}\n"
     ]
    }
   ],
   "source": [
    "clf.fit( X_train, y_train )\n",
    "print(\"Best parameter set\", clf.best_params_)"
   ]
  },
  {
   "cell_type": "markdown",
   "metadata": {},
   "source": [
    "If necessary, it is possible to look into the performance data for each parameter value combination (stored in **clf.cv_results_**), as shown in the following cell."
   ]
  },
  {
   "cell_type": "code",
   "execution_count": 80,
   "metadata": {},
   "outputs": [
    {
     "name": "stdout",
     "output_type": "stream",
     "text": [
      "Grid {'max_depth': 3, 'min_samples_leaf': 2, 'min_samples_split': 3} : 0.7714 0.0042 0.7542 0.0420 0.7264 0.0052 0.7019 0.0370\n",
      "Grid {'max_depth': 3, 'min_samples_leaf': 2, 'min_samples_split': 4} : 0.7714 0.0042 0.7542 0.0420 0.7264 0.0052 0.7019 0.0370\n",
      "Grid {'max_depth': 3, 'min_samples_leaf': 2, 'min_samples_split': 5} : 0.7714 0.0042 0.7542 0.0420 0.7264 0.0052 0.7019 0.0370\n",
      "Grid {'max_depth': 3, 'min_samples_leaf': 2, 'min_samples_split': 6} : 0.7714 0.0042 0.7542 0.0420 0.7264 0.0052 0.7019 0.0370\n",
      "Grid {'max_depth': 3, 'min_samples_leaf': 2, 'min_samples_split': 7} : 0.7714 0.0042 0.7542 0.0420 0.7264 0.0052 0.7019 0.0370\n",
      "Grid {'max_depth': 3, 'min_samples_leaf': 3, 'min_samples_split': 3} : 0.7714 0.0042 0.7542 0.0420 0.7264 0.0052 0.7019 0.0370\n",
      "Grid {'max_depth': 3, 'min_samples_leaf': 3, 'min_samples_split': 4} : 0.7714 0.0042 0.7542 0.0420 0.7264 0.0052 0.7019 0.0370\n",
      "Grid {'max_depth': 3, 'min_samples_leaf': 3, 'min_samples_split': 5} : 0.7714 0.0042 0.7542 0.0420 0.7264 0.0052 0.7019 0.0370\n",
      "Grid {'max_depth': 3, 'min_samples_leaf': 3, 'min_samples_split': 6} : 0.7714 0.0042 0.7542 0.0420 0.7264 0.0052 0.7019 0.0370\n",
      "Grid {'max_depth': 3, 'min_samples_leaf': 3, 'min_samples_split': 7} : 0.7714 0.0042 0.7542 0.0420 0.7264 0.0052 0.7019 0.0370\n",
      "Grid {'max_depth': 3, 'min_samples_leaf': 4, 'min_samples_split': 3} : 0.7714 0.0042 0.7542 0.0420 0.7264 0.0052 0.7019 0.0370\n",
      "Grid {'max_depth': 3, 'min_samples_leaf': 4, 'min_samples_split': 4} : 0.7714 0.0042 0.7542 0.0420 0.7264 0.0052 0.7019 0.0370\n",
      "Grid {'max_depth': 3, 'min_samples_leaf': 4, 'min_samples_split': 5} : 0.7714 0.0042 0.7542 0.0420 0.7264 0.0052 0.7019 0.0370\n",
      "Grid {'max_depth': 3, 'min_samples_leaf': 4, 'min_samples_split': 6} : 0.7714 0.0042 0.7542 0.0420 0.7264 0.0052 0.7019 0.0370\n",
      "Grid {'max_depth': 3, 'min_samples_leaf': 4, 'min_samples_split': 7} : 0.7714 0.0042 0.7542 0.0420 0.7264 0.0052 0.7019 0.0370\n",
      "Grid {'max_depth': 3, 'min_samples_leaf': 5, 'min_samples_split': 3} : 0.7714 0.0042 0.7542 0.0420 0.7264 0.0052 0.7019 0.0370\n",
      "Grid {'max_depth': 3, 'min_samples_leaf': 5, 'min_samples_split': 4} : 0.7714 0.0042 0.7542 0.0420 0.7264 0.0052 0.7019 0.0370\n",
      "Grid {'max_depth': 3, 'min_samples_leaf': 5, 'min_samples_split': 5} : 0.7714 0.0042 0.7542 0.0420 0.7264 0.0052 0.7019 0.0370\n",
      "Grid {'max_depth': 3, 'min_samples_leaf': 5, 'min_samples_split': 6} : 0.7714 0.0042 0.7542 0.0420 0.7264 0.0052 0.7019 0.0370\n",
      "Grid {'max_depth': 3, 'min_samples_leaf': 5, 'min_samples_split': 7} : 0.7714 0.0042 0.7542 0.0420 0.7264 0.0052 0.7019 0.0370\n",
      "Grid {'max_depth': 3, 'min_samples_leaf': 6, 'min_samples_split': 3} : 0.7714 0.0042 0.7542 0.0420 0.7264 0.0052 0.7019 0.0370\n",
      "Grid {'max_depth': 3, 'min_samples_leaf': 6, 'min_samples_split': 4} : 0.7714 0.0042 0.7542 0.0420 0.7264 0.0052 0.7019 0.0370\n",
      "Grid {'max_depth': 3, 'min_samples_leaf': 6, 'min_samples_split': 5} : 0.7714 0.0042 0.7542 0.0420 0.7264 0.0052 0.7019 0.0370\n",
      "Grid {'max_depth': 3, 'min_samples_leaf': 6, 'min_samples_split': 6} : 0.7714 0.0042 0.7542 0.0420 0.7264 0.0052 0.7019 0.0370\n",
      "Grid {'max_depth': 3, 'min_samples_leaf': 6, 'min_samples_split': 7} : 0.7714 0.0042 0.7542 0.0420 0.7264 0.0052 0.7019 0.0370\n",
      "Grid {'max_depth': 4, 'min_samples_leaf': 2, 'min_samples_split': 3} : 0.8051 0.0053 0.7630 0.0501 0.7556 0.0075 0.7244 0.0376\n",
      "Grid {'max_depth': 4, 'min_samples_leaf': 2, 'min_samples_split': 4} : 0.8051 0.0053 0.7630 0.0501 0.7556 0.0075 0.7244 0.0376\n",
      "Grid {'max_depth': 4, 'min_samples_leaf': 2, 'min_samples_split': 5} : 0.8051 0.0053 0.7630 0.0501 0.7556 0.0075 0.7244 0.0376\n",
      "Grid {'max_depth': 4, 'min_samples_leaf': 2, 'min_samples_split': 6} : 0.8051 0.0053 0.7630 0.0501 0.7556 0.0075 0.7244 0.0376\n",
      "Grid {'max_depth': 4, 'min_samples_leaf': 2, 'min_samples_split': 7} : 0.8051 0.0053 0.7630 0.0501 0.7556 0.0075 0.7244 0.0376\n",
      "Grid {'max_depth': 4, 'min_samples_leaf': 3, 'min_samples_split': 3} : 0.8051 0.0054 0.7603 0.0516 0.7554 0.0073 0.7237 0.0386\n",
      "Grid {'max_depth': 4, 'min_samples_leaf': 3, 'min_samples_split': 4} : 0.8051 0.0054 0.7603 0.0516 0.7554 0.0073 0.7237 0.0386\n",
      "Grid {'max_depth': 4, 'min_samples_leaf': 3, 'min_samples_split': 5} : 0.8051 0.0054 0.7603 0.0516 0.7554 0.0073 0.7237 0.0386\n",
      "Grid {'max_depth': 4, 'min_samples_leaf': 3, 'min_samples_split': 6} : 0.8051 0.0054 0.7603 0.0516 0.7554 0.0073 0.7237 0.0386\n",
      "Grid {'max_depth': 4, 'min_samples_leaf': 3, 'min_samples_split': 7} : 0.8051 0.0054 0.7603 0.0516 0.7554 0.0073 0.7237 0.0386\n",
      "Grid {'max_depth': 4, 'min_samples_leaf': 4, 'min_samples_split': 3} : 0.8042 0.0056 0.7586 0.0506 0.7544 0.0074 0.7237 0.0386\n",
      "Grid {'max_depth': 4, 'min_samples_leaf': 4, 'min_samples_split': 4} : 0.8042 0.0056 0.7586 0.0506 0.7544 0.0074 0.7237 0.0386\n",
      "Grid {'max_depth': 4, 'min_samples_leaf': 4, 'min_samples_split': 5} : 0.8042 0.0056 0.7586 0.0506 0.7544 0.0074 0.7237 0.0386\n",
      "Grid {'max_depth': 4, 'min_samples_leaf': 4, 'min_samples_split': 6} : 0.8042 0.0056 0.7586 0.0506 0.7544 0.0074 0.7237 0.0386\n",
      "Grid {'max_depth': 4, 'min_samples_leaf': 4, 'min_samples_split': 7} : 0.8042 0.0056 0.7586 0.0506 0.7544 0.0074 0.7237 0.0386\n",
      "Grid {'max_depth': 4, 'min_samples_leaf': 5, 'min_samples_split': 3} : 0.8043 0.0056 0.7592 0.0494 0.7528 0.0069 0.7229 0.0401\n",
      "Grid {'max_depth': 4, 'min_samples_leaf': 5, 'min_samples_split': 4} : 0.8043 0.0056 0.7592 0.0494 0.7528 0.0069 0.7229 0.0401\n",
      "Grid {'max_depth': 4, 'min_samples_leaf': 5, 'min_samples_split': 5} : 0.8043 0.0056 0.7592 0.0494 0.7528 0.0069 0.7229 0.0401\n",
      "Grid {'max_depth': 4, 'min_samples_leaf': 5, 'min_samples_split': 6} : 0.8043 0.0056 0.7592 0.0494 0.7528 0.0069 0.7229 0.0401\n",
      "Grid {'max_depth': 4, 'min_samples_leaf': 5, 'min_samples_split': 7} : 0.8043 0.0056 0.7592 0.0494 0.7528 0.0069 0.7229 0.0401\n",
      "Grid {'max_depth': 4, 'min_samples_leaf': 6, 'min_samples_split': 3} : 0.8041 0.0055 0.7573 0.0511 0.7527 0.0068 0.7214 0.0421\n",
      "Grid {'max_depth': 4, 'min_samples_leaf': 6, 'min_samples_split': 4} : 0.8041 0.0055 0.7573 0.0511 0.7527 0.0068 0.7214 0.0421\n",
      "Grid {'max_depth': 4, 'min_samples_leaf': 6, 'min_samples_split': 5} : 0.8041 0.0055 0.7573 0.0511 0.7527 0.0068 0.7214 0.0421\n",
      "Grid {'max_depth': 4, 'min_samples_leaf': 6, 'min_samples_split': 6} : 0.8041 0.0055 0.7573 0.0511 0.7527 0.0068 0.7214 0.0421\n",
      "Grid {'max_depth': 4, 'min_samples_leaf': 6, 'min_samples_split': 7} : 0.8041 0.0055 0.7573 0.0511 0.7527 0.0068 0.7214 0.0421\n",
      "Grid {'max_depth': 5, 'min_samples_leaf': 2, 'min_samples_split': 3} : 0.8389 0.0049 0.7560 0.0416 0.7794 0.0073 0.7139 0.0439\n",
      "Grid {'max_depth': 5, 'min_samples_leaf': 2, 'min_samples_split': 4} : 0.8389 0.0049 0.7560 0.0416 0.7794 0.0073 0.7139 0.0439\n",
      "Grid {'max_depth': 5, 'min_samples_leaf': 2, 'min_samples_split': 5} : 0.8389 0.0049 0.7560 0.0416 0.7794 0.0073 0.7139 0.0439\n",
      "Grid {'max_depth': 5, 'min_samples_leaf': 2, 'min_samples_split': 6} : 0.8387 0.0051 0.7567 0.0421 0.7793 0.0075 0.7139 0.0439\n",
      "Grid {'max_depth': 5, 'min_samples_leaf': 2, 'min_samples_split': 7} : 0.8385 0.0050 0.7567 0.0421 0.7793 0.0075 0.7139 0.0439\n",
      "Grid {'max_depth': 5, 'min_samples_leaf': 3, 'min_samples_split': 3} : 0.8380 0.0049 0.7595 0.0429 0.7782 0.0076 0.7139 0.0452\n",
      "Grid {'max_depth': 5, 'min_samples_leaf': 3, 'min_samples_split': 4} : 0.8380 0.0049 0.7595 0.0429 0.7782 0.0076 0.7139 0.0452\n",
      "Grid {'max_depth': 5, 'min_samples_leaf': 3, 'min_samples_split': 5} : 0.8380 0.0049 0.7595 0.0429 0.7782 0.0076 0.7139 0.0452\n",
      "Grid {'max_depth': 5, 'min_samples_leaf': 3, 'min_samples_split': 6} : 0.8380 0.0049 0.7595 0.0429 0.7782 0.0076 0.7139 0.0452\n",
      "Grid {'max_depth': 5, 'min_samples_leaf': 3, 'min_samples_split': 7} : 0.8379 0.0049 0.7595 0.0429 0.7782 0.0076 0.7139 0.0452\n",
      "Grid {'max_depth': 5, 'min_samples_leaf': 4, 'min_samples_split': 3} : 0.8368 0.0059 0.7631 0.0381 0.7759 0.0078 0.7139 0.0461\n",
      "Grid {'max_depth': 5, 'min_samples_leaf': 4, 'min_samples_split': 4} : 0.8368 0.0059 0.7631 0.0381 0.7759 0.0078 0.7139 0.0461\n",
      "Grid {'max_depth': 5, 'min_samples_leaf': 4, 'min_samples_split': 5} : 0.8368 0.0059 0.7631 0.0381 0.7759 0.0078 0.7139 0.0461\n",
      "Grid {'max_depth': 5, 'min_samples_leaf': 4, 'min_samples_split': 6} : 0.8368 0.0059 0.7631 0.0381 0.7759 0.0078 0.7139 0.0461\n",
      "Grid {'max_depth': 5, 'min_samples_leaf': 4, 'min_samples_split': 7} : 0.8368 0.0059 0.7631 0.0381 0.7759 0.0078 0.7139 0.0461\n",
      "Grid {'max_depth': 5, 'min_samples_leaf': 5, 'min_samples_split': 3} : 0.8383 0.0064 0.7593 0.0398 0.7760 0.0078 0.7102 0.0481\n",
      "Grid {'max_depth': 5, 'min_samples_leaf': 5, 'min_samples_split': 4} : 0.8383 0.0064 0.7593 0.0398 0.7760 0.0078 0.7102 0.0481\n",
      "Grid {'max_depth': 5, 'min_samples_leaf': 5, 'min_samples_split': 5} : 0.8383 0.0064 0.7593 0.0398 0.7760 0.0078 0.7102 0.0481\n",
      "Grid {'max_depth': 5, 'min_samples_leaf': 5, 'min_samples_split': 6} : 0.8383 0.0064 0.7593 0.0398 0.7760 0.0078 0.7102 0.0481\n",
      "Grid {'max_depth': 5, 'min_samples_leaf': 5, 'min_samples_split': 7} : 0.8383 0.0064 0.7593 0.0398 0.7760 0.0078 0.7102 0.0481\n",
      "Grid {'max_depth': 5, 'min_samples_leaf': 6, 'min_samples_split': 3} : 0.8376 0.0060 0.7523 0.0444 0.7756 0.0075 0.7056 0.0499\n",
      "Grid {'max_depth': 5, 'min_samples_leaf': 6, 'min_samples_split': 4} : 0.8376 0.0060 0.7523 0.0444 0.7756 0.0075 0.7056 0.0499\n",
      "Grid {'max_depth': 5, 'min_samples_leaf': 6, 'min_samples_split': 5} : 0.8376 0.0060 0.7523 0.0444 0.7756 0.0075 0.7056 0.0499\n",
      "Grid {'max_depth': 5, 'min_samples_leaf': 6, 'min_samples_split': 6} : 0.8376 0.0060 0.7523 0.0444 0.7756 0.0075 0.7056 0.0499\n",
      "Grid {'max_depth': 5, 'min_samples_leaf': 6, 'min_samples_split': 7} : 0.8376 0.0060 0.7523 0.0444 0.7756 0.0075 0.7056 0.0499\n",
      "Grid {'max_depth': 6, 'min_samples_leaf': 2, 'min_samples_split': 3} : 0.8749 0.0061 0.7356 0.0463 0.8009 0.0072 0.7042 0.0378\n",
      "Grid {'max_depth': 6, 'min_samples_leaf': 2, 'min_samples_split': 4} : 0.8749 0.0061 0.7356 0.0463 0.8009 0.0072 0.7042 0.0378\n",
      "Grid {'max_depth': 6, 'min_samples_leaf': 2, 'min_samples_split': 5} : 0.8749 0.0062 0.7356 0.0463 0.8009 0.0072 0.7042 0.0378\n",
      "Grid {'max_depth': 6, 'min_samples_leaf': 2, 'min_samples_split': 6} : 0.8748 0.0062 0.7351 0.0465 0.8010 0.0072 0.7027 0.0379\n",
      "Grid {'max_depth': 6, 'min_samples_leaf': 2, 'min_samples_split': 7} : 0.8740 0.0057 0.7370 0.0450 0.8002 0.0068 0.7042 0.0398\n",
      "Grid {'max_depth': 6, 'min_samples_leaf': 3, 'min_samples_split': 3} : 0.8723 0.0057 0.7383 0.0549 0.7976 0.0070 0.7005 0.0413\n",
      "Grid {'max_depth': 6, 'min_samples_leaf': 3, 'min_samples_split': 4} : 0.8723 0.0057 0.7383 0.0549 0.7976 0.0070 0.7005 0.0413\n",
      "Grid {'max_depth': 6, 'min_samples_leaf': 3, 'min_samples_split': 5} : 0.8723 0.0057 0.7383 0.0549 0.7976 0.0070 0.7005 0.0413\n",
      "Grid {'max_depth': 6, 'min_samples_leaf': 3, 'min_samples_split': 6} : 0.8723 0.0057 0.7383 0.0549 0.7976 0.0070 0.7005 0.0413\n",
      "Grid {'max_depth': 6, 'min_samples_leaf': 3, 'min_samples_split': 7} : 0.8719 0.0058 0.7333 0.0477 0.7974 0.0070 0.6967 0.0364\n",
      "Grid {'max_depth': 6, 'min_samples_leaf': 4, 'min_samples_split': 3} : 0.8697 0.0065 0.7397 0.0496 0.7947 0.0067 0.6989 0.0506\n",
      "Grid {'max_depth': 6, 'min_samples_leaf': 4, 'min_samples_split': 4} : 0.8697 0.0065 0.7397 0.0496 0.7947 0.0067 0.6989 0.0506\n",
      "Grid {'max_depth': 6, 'min_samples_leaf': 4, 'min_samples_split': 5} : 0.8697 0.0065 0.7397 0.0496 0.7947 0.0067 0.6989 0.0506\n",
      "Grid {'max_depth': 6, 'min_samples_leaf': 4, 'min_samples_split': 6} : 0.8697 0.0065 0.7397 0.0496 0.7947 0.0067 0.6989 0.0506\n",
      "Grid {'max_depth': 6, 'min_samples_leaf': 4, 'min_samples_split': 7} : 0.8697 0.0065 0.7397 0.0496 0.7947 0.0067 0.6989 0.0506\n",
      "Grid {'max_depth': 6, 'min_samples_leaf': 5, 'min_samples_split': 3} : 0.8682 0.0063 0.7396 0.0522 0.7940 0.0079 0.6989 0.0547\n",
      "Grid {'max_depth': 6, 'min_samples_leaf': 5, 'min_samples_split': 4} : 0.8682 0.0063 0.7396 0.0522 0.7940 0.0079 0.6989 0.0547\n",
      "Grid {'max_depth': 6, 'min_samples_leaf': 5, 'min_samples_split': 5} : 0.8682 0.0063 0.7396 0.0522 0.7940 0.0079 0.6989 0.0547\n",
      "Grid {'max_depth': 6, 'min_samples_leaf': 5, 'min_samples_split': 6} : 0.8682 0.0063 0.7396 0.0522 0.7940 0.0079 0.6989 0.0547\n",
      "Grid {'max_depth': 6, 'min_samples_leaf': 5, 'min_samples_split': 7} : 0.8682 0.0063 0.7396 0.0522 0.7940 0.0079 0.6989 0.0547\n",
      "Grid {'max_depth': 6, 'min_samples_leaf': 6, 'min_samples_split': 3} : 0.8661 0.0057 0.7392 0.0464 0.7921 0.0071 0.6974 0.0494\n",
      "Grid {'max_depth': 6, 'min_samples_leaf': 6, 'min_samples_split': 4} : 0.8661 0.0057 0.7392 0.0464 0.7921 0.0071 0.6974 0.0494\n",
      "Grid {'max_depth': 6, 'min_samples_leaf': 6, 'min_samples_split': 5} : 0.8661 0.0057 0.7392 0.0464 0.7921 0.0071 0.6974 0.0494\n",
      "Grid {'max_depth': 6, 'min_samples_leaf': 6, 'min_samples_split': 6} : 0.8661 0.0057 0.7392 0.0464 0.7921 0.0071 0.6974 0.0494\n",
      "Grid {'max_depth': 6, 'min_samples_leaf': 6, 'min_samples_split': 7} : 0.8661 0.0057 0.7392 0.0464 0.7921 0.0071 0.6974 0.0494\n",
      "Grid {'max_depth': 7, 'min_samples_leaf': 2, 'min_samples_split': 3} : 0.9050 0.0072 0.7264 0.0549 0.8281 0.0087 0.6878 0.0467\n",
      "Grid {'max_depth': 7, 'min_samples_leaf': 2, 'min_samples_split': 4} : 0.9050 0.0072 0.7264 0.0549 0.8281 0.0087 0.6878 0.0467\n",
      "Grid {'max_depth': 7, 'min_samples_leaf': 2, 'min_samples_split': 5} : 0.9044 0.0072 0.7225 0.0545 0.8273 0.0085 0.6848 0.0468\n",
      "Grid {'max_depth': 7, 'min_samples_leaf': 2, 'min_samples_split': 6} : 0.9041 0.0071 0.7202 0.0498 0.8273 0.0087 0.6818 0.0469\n",
      "Grid {'max_depth': 7, 'min_samples_leaf': 2, 'min_samples_split': 7} : 0.9018 0.0068 0.7276 0.0555 0.8248 0.0080 0.6833 0.0456\n",
      "Grid {'max_depth': 7, 'min_samples_leaf': 3, 'min_samples_split': 3} : 0.9007 0.0063 0.7261 0.0571 0.8231 0.0071 0.6818 0.0460\n",
      "Grid {'max_depth': 7, 'min_samples_leaf': 3, 'min_samples_split': 4} : 0.9007 0.0063 0.7261 0.0571 0.8231 0.0071 0.6818 0.0460\n",
      "Grid {'max_depth': 7, 'min_samples_leaf': 3, 'min_samples_split': 5} : 0.9007 0.0063 0.7261 0.0571 0.8231 0.0071 0.6818 0.0460\n",
      "Grid {'max_depth': 7, 'min_samples_leaf': 3, 'min_samples_split': 6} : 0.9007 0.0063 0.7261 0.0571 0.8231 0.0071 0.6818 0.0460\n",
      "Grid {'max_depth': 7, 'min_samples_leaf': 3, 'min_samples_split': 7} : 0.8992 0.0065 0.7292 0.0561 0.8214 0.0077 0.6841 0.0478\n",
      "Grid {'max_depth': 7, 'min_samples_leaf': 4, 'min_samples_split': 3} : 0.8949 0.0074 0.7423 0.0598 0.8144 0.0083 0.6937 0.0460\n",
      "Grid {'max_depth': 7, 'min_samples_leaf': 4, 'min_samples_split': 4} : 0.8949 0.0074 0.7423 0.0598 0.8144 0.0083 0.6937 0.0460\n",
      "Grid {'max_depth': 7, 'min_samples_leaf': 4, 'min_samples_split': 5} : 0.8949 0.0074 0.7423 0.0598 0.8144 0.0083 0.6937 0.0460\n",
      "Grid {'max_depth': 7, 'min_samples_leaf': 4, 'min_samples_split': 6} : 0.8949 0.0074 0.7423 0.0598 0.8144 0.0083 0.6937 0.0460\n",
      "Grid {'max_depth': 7, 'min_samples_leaf': 4, 'min_samples_split': 7} : 0.8949 0.0074 0.7423 0.0598 0.8144 0.0083 0.6937 0.0460\n",
      "Grid {'max_depth': 7, 'min_samples_leaf': 5, 'min_samples_split': 3} : 0.8921 0.0075 0.7416 0.0565 0.8116 0.0074 0.6878 0.0483\n",
      "Grid {'max_depth': 7, 'min_samples_leaf': 5, 'min_samples_split': 4} : 0.8921 0.0075 0.7416 0.0565 0.8116 0.0074 0.6878 0.0483\n",
      "Grid {'max_depth': 7, 'min_samples_leaf': 5, 'min_samples_split': 5} : 0.8921 0.0075 0.7416 0.0565 0.8116 0.0074 0.6878 0.0483\n",
      "Grid {'max_depth': 7, 'min_samples_leaf': 5, 'min_samples_split': 6} : 0.8921 0.0075 0.7416 0.0565 0.8116 0.0074 0.6878 0.0483\n",
      "Grid {'max_depth': 7, 'min_samples_leaf': 5, 'min_samples_split': 7} : 0.8921 0.0075 0.7416 0.0565 0.8116 0.0074 0.6878 0.0483\n",
      "Grid {'max_depth': 7, 'min_samples_leaf': 6, 'min_samples_split': 3} : 0.8873 0.0072 0.7375 0.0524 0.8068 0.0064 0.6855 0.0413\n",
      "Grid {'max_depth': 7, 'min_samples_leaf': 6, 'min_samples_split': 4} : 0.8873 0.0072 0.7375 0.0524 0.8068 0.0064 0.6855 0.0413\n",
      "Grid {'max_depth': 7, 'min_samples_leaf': 6, 'min_samples_split': 5} : 0.8873 0.0072 0.7375 0.0524 0.8068 0.0064 0.6855 0.0413\n",
      "Grid {'max_depth': 7, 'min_samples_leaf': 6, 'min_samples_split': 6} : 0.8873 0.0072 0.7375 0.0524 0.8068 0.0064 0.6855 0.0413\n",
      "Grid {'max_depth': 7, 'min_samples_leaf': 6, 'min_samples_split': 7} : 0.8873 0.0072 0.7375 0.0524 0.8068 0.0064 0.6855 0.0413\n"
     ]
    }
   ],
   "source": [
    "means_1a = clf.cv_results_['mean_train_roc_auc']\n",
    "stds_1a  = clf.cv_results_['std_train_roc_auc']\n",
    "\n",
    "means_1b = clf.cv_results_['mean_test_roc_auc']\n",
    "stds_1b  = clf.cv_results_['std_test_roc_auc']\n",
    "\n",
    "means_2a = clf.cv_results_['mean_train_balanced_accuracy']\n",
    "stds_2a  = clf.cv_results_['std_train_balanced_accuracy']\n",
    "\n",
    "means_2b = clf.cv_results_['mean_test_balanced_accuracy']\n",
    "stds_2b  = clf.cv_results_['std_test_balanced_accuracy']\n",
    "\n",
    "iterobjs = zip( means_1a, stds_1a, means_1b, stds_1b,\n",
    "                means_2a, stds_2a, means_2b, stds_2b, clf.cv_results_['params'] )\n",
    "\n",
    "for m1a, s1a, m1b, s1b, m2a, s2a, m2b, s2b, params in iterobjs :\n",
    "\n",
    "    print( \"Grid %r : %0.4f %0.04f %0.4f %0.04f %0.4f %0.04f %0.4f %0.04f\"\n",
    "           % ( params, m1a, s1a, m1b, s1b, m2a, s2a, m2b, s2b))"
   ]
  },
  {
   "cell_type": "markdown",
   "metadata": {},
   "source": [
    "Uncomment the following cell to look into additional performance data stored in cv_result_."
   ]
  },
  {
   "cell_type": "code",
   "execution_count": 81,
   "metadata": {},
   "outputs": [],
   "source": [
    "#print(clf.cv_result_)"
   ]
  },
  {
   "cell_type": "markdown",
   "metadata": {},
   "source": [
    "It is important to understand that each model built through 10-fold cross-validation during hyperparameter optimization uses only 90% of the compounds in the training set and the remaining 10% is used for testing that model.  After all parameter value combinations are evaluated, the best parameter values are selected and used to rebuild a model from **all** compounds in the training set.  **GridSearchCV()** takes care of this last step automatically.  Therefore, there is no need to take an extra step to build a model using **cls.fit()** after hyperparameter optimization."
   ]
  },
  {
   "cell_type": "code",
   "execution_count": 82,
   "metadata": {},
   "outputs": [],
   "source": [
    "y_true, y_pred = y_train, clf.predict( X_train )    # Apply the model to predict the training compound's activity."
   ]
  },
  {
   "cell_type": "code",
   "execution_count": 83,
   "metadata": {},
   "outputs": [
    {
     "name": "stdout",
     "output_type": "stream",
     "text": [
      "[[543 125]\n",
      " [179 489]]\n"
     ]
    }
   ],
   "source": [
    "CMat = confusion_matrix( y_true, y_pred )    #-- generate confusion matrix\n",
    "print(CMat)    # [[TN, FP], \n",
    "               #  [FN, TP]]"
   ]
  },
  {
   "cell_type": "code",
   "execution_count": 84,
   "metadata": {},
   "outputs": [],
   "source": [
    "acc  = accuracy_score( y_true, y_pred )\n",
    "\n",
    "sens = CMat[ 1 ][ 1 ] / ( CMat[ 1 ][ 0 ] + CMat[ 1 ][ 1 ] )    # TP / (FN + TP)\n",
    "spec = CMat[ 0 ][ 0 ] / ( CMat[ 0 ][ 0 ] + CMat[ 0 ][ 1 ] )    # TN / (TN + FP )\n",
    "bacc = (sens + spec) / 2\n",
    "\n",
    "y_score = clf.predict_proba( X_train )[:, 1]\n",
    "auc = roc_auc_score( y_true, y_score )"
   ]
  },
  {
   "cell_type": "code",
   "execution_count": 85,
   "metadata": {},
   "outputs": [
    {
     "name": "stdout",
     "output_type": "stream",
     "text": [
      "#-- Accuracy          =  0.7724550898203593\n",
      "#-- Balanced Accuracy =  0.7724550898203593\n",
      "#-- Sensitivity       =  0.7320359281437125\n",
      "#-- Specificity       =  0.812874251497006\n",
      "#-- AUC-ROC           =  0.8336452095808383\n"
     ]
    }
   ],
   "source": [
    "print(\"#-- Accuracy          = \", acc)\n",
    "print(\"#-- Balanced Accuracy = \", bacc)\n",
    "print(\"#-- Sensitivity       = \", sens)\n",
    "print(\"#-- Specificity       = \", spec)\n",
    "print(\"#-- AUC-ROC           = \", auc)"
   ]
  },
  {
   "cell_type": "markdown",
   "metadata": {},
   "source": [
    "Compare these performance data with those from section 8-(2) (for the training set).  When the default values were used, the DT model gave >0.99 for all performance measures, but the current models (developed using hyperparameter optimization) have much lower values, ranging from 0.73 to 0.83.  Again, however, what really matters is the performance against the test set, which contains the data not used for model training. "
   ]
  },
  {
   "cell_type": "code",
   "execution_count": 86,
   "metadata": {},
   "outputs": [],
   "source": [
    "y_true, y_pred = y_test, clf.predict(X_test)    #-- Apply the model to predict the test set compounds' activity."
   ]
  },
  {
   "cell_type": "code",
   "execution_count": 87,
   "metadata": {},
   "outputs": [
    {
     "name": "stdout",
     "output_type": "stream",
     "text": [
      "[[457 149]\n",
      " [ 26  48]]\n"
     ]
    }
   ],
   "source": [
    "CMat = confusion_matrix( y_true, y_pred )    #-- generate confusion matrix\n",
    "print(CMat)    # [[TN, FP], \n",
    "               #  [FN, TP]]"
   ]
  },
  {
   "cell_type": "code",
   "execution_count": 88,
   "metadata": {},
   "outputs": [
    {
     "name": "stdout",
     "output_type": "stream",
     "text": [
      "#-- Accuracy          =  0.7426470588235294\n",
      "#-- Balanced Accuracy =  0.7013870305949514\n",
      "#-- Sensitivity       =  0.6486486486486487\n",
      "#-- Specificity       =  0.7541254125412541\n",
      "#-- AUC-ROC           =  0.7496209080367496\n"
     ]
    }
   ],
   "source": [
    "acc  = accuracy_score( y_true, y_pred )\n",
    "\n",
    "sens = CMat[ 1 ][ 1 ] / ( CMat[ 1 ][ 0 ] + CMat[ 1 ][ 1 ] )\n",
    "spec = CMat[ 0 ][ 0 ] / ( CMat[ 0 ][ 0 ] + CMat[ 0 ][ 1 ] )\n",
    "bacc = (sens + spec) / 2\n",
    "\n",
    "y_score = clf.predict_proba( X_test )[:, 1]\n",
    "auc = roc_auc_score( y_true, y_score )\n",
    "\n",
    "print(\"#-- Accuracy          = \", acc)\n",
    "print(\"#-- Balanced Accuracy = \", bacc)\n",
    "print(\"#-- Sensitivity       = \", sens)\n",
    "print(\"#-- Specificity       = \", spec)\n",
    "print(\"#-- AUC-ROC           = \", auc)"
   ]
  },
  {
   "cell_type": "markdown",
   "metadata": {},
   "source": [
    "Now we can see that the model from hyperparameter optimization gives better performance data against the test set, compared to the model developed using the default parameter values.  Importantly, the model from hyperparameter optimization shows smaller differences in performance measures between the training and test sets, indicatiing that the issue of outffiting has been alleviated substantially."
   ]
  },
  {
   "cell_type": "markdown",
   "metadata": {},
   "source": [
    "# Exercises"
   ]
  },
  {
   "cell_type": "markdown",
   "metadata": {},
   "source": [
    "In this assignment, we will build predictive models using the same aromatase data."
   ]
  },
  {
   "cell_type": "markdown",
   "metadata": {},
   "source": [
    "**step 1** Show the following information to make sure that the activity data in the **df_activity** data frame is still available."
   ]
  },
  {
   "cell_type": "markdown",
   "metadata": {},
   "source": [
    "- The first five lines of **df_activity**"
   ]
  },
  {
   "cell_type": "code",
   "execution_count": 89,
   "metadata": {},
   "outputs": [
    {
     "data": {
      "text/html": [
       "<div>\n",
       "<style scoped>\n",
       "    .dataframe tbody tr th:only-of-type {\n",
       "        vertical-align: middle;\n",
       "    }\n",
       "\n",
       "    .dataframe tbody tr th {\n",
       "        vertical-align: top;\n",
       "    }\n",
       "\n",
       "    .dataframe thead th {\n",
       "        text-align: right;\n",
       "    }\n",
       "</style>\n",
       "<table border=\"1\" class=\"dataframe\">\n",
       "  <thead>\n",
       "    <tr style=\"text-align: right;\">\n",
       "      <th></th>\n",
       "      <th>cid</th>\n",
       "      <th>activity</th>\n",
       "    </tr>\n",
       "  </thead>\n",
       "  <tbody>\n",
       "    <tr>\n",
       "      <th>3</th>\n",
       "      <td>12850184.0</td>\n",
       "      <td>0</td>\n",
       "    </tr>\n",
       "    <tr>\n",
       "      <th>4</th>\n",
       "      <td>89753.0</td>\n",
       "      <td>0</td>\n",
       "    </tr>\n",
       "    <tr>\n",
       "      <th>5</th>\n",
       "      <td>9403.0</td>\n",
       "      <td>0</td>\n",
       "    </tr>\n",
       "    <tr>\n",
       "      <th>6</th>\n",
       "      <td>13218779.0</td>\n",
       "      <td>0</td>\n",
       "    </tr>\n",
       "    <tr>\n",
       "      <th>12</th>\n",
       "      <td>637566.0</td>\n",
       "      <td>0</td>\n",
       "    </tr>\n",
       "  </tbody>\n",
       "</table>\n",
       "</div>"
      ],
      "text/plain": [
       "           cid  activity\n",
       "3   12850184.0         0\n",
       "4      89753.0         0\n",
       "5       9403.0         0\n",
       "6   13218779.0         0\n",
       "12    637566.0         0"
      ]
     },
     "execution_count": 89,
     "metadata": {},
     "output_type": "execute_result"
    }
   ],
   "source": [
    "# Write your code in this cell.\n",
    "\n",
    "df_activity.head(5)"
   ]
  },
  {
   "cell_type": "markdown",
   "metadata": {},
   "source": [
    "- The counts of active/inactive compounds in **df_activity**"
   ]
  },
  {
   "cell_type": "code",
   "execution_count": 90,
   "metadata": {},
   "outputs": [
    {
     "data": {
      "text/html": [
       "<div>\n",
       "<style scoped>\n",
       "    .dataframe tbody tr th:only-of-type {\n",
       "        vertical-align: middle;\n",
       "    }\n",
       "\n",
       "    .dataframe tbody tr th {\n",
       "        vertical-align: top;\n",
       "    }\n",
       "\n",
       "    .dataframe thead th {\n",
       "        text-align: right;\n",
       "    }\n",
       "</style>\n",
       "<table border=\"1\" class=\"dataframe\">\n",
       "  <thead>\n",
       "    <tr style=\"text-align: right;\">\n",
       "      <th></th>\n",
       "      <th>cid</th>\n",
       "    </tr>\n",
       "    <tr>\n",
       "      <th>activity</th>\n",
       "      <th></th>\n",
       "    </tr>\n",
       "  </thead>\n",
       "  <tbody>\n",
       "    <tr>\n",
       "      <th>0</th>\n",
       "      <td>6056</td>\n",
       "    </tr>\n",
       "    <tr>\n",
       "      <th>1</th>\n",
       "      <td>742</td>\n",
       "    </tr>\n",
       "  </tbody>\n",
       "</table>\n",
       "</div>"
      ],
      "text/plain": [
       "           cid\n",
       "activity      \n",
       "0         6056\n",
       "1          742"
      ]
     },
     "execution_count": 90,
     "metadata": {},
     "output_type": "execute_result"
    }
   ],
   "source": [
    "# Write your code in this cell.\n",
    "\n",
    "df_activity.groupby('activity').count()"
   ]
  },
  {
   "cell_type": "markdown",
   "metadata": {},
   "source": [
    "**Step 2** Show the following information to make sure the structure data is still available."
   ]
  },
  {
   "cell_type": "markdown",
   "metadata": {},
   "source": [
    "- The first five lines of **df_smiles**"
   ]
  },
  {
   "cell_type": "code",
   "execution_count": 91,
   "metadata": {},
   "outputs": [
    {
     "data": {
      "text/html": [
       "<div>\n",
       "<style scoped>\n",
       "    .dataframe tbody tr th:only-of-type {\n",
       "        vertical-align: middle;\n",
       "    }\n",
       "\n",
       "    .dataframe tbody tr th {\n",
       "        vertical-align: top;\n",
       "    }\n",
       "\n",
       "    .dataframe thead th {\n",
       "        text-align: right;\n",
       "    }\n",
       "</style>\n",
       "<table border=\"1\" class=\"dataframe\">\n",
       "  <thead>\n",
       "    <tr style=\"text-align: right;\">\n",
       "      <th></th>\n",
       "      <th>cid</th>\n",
       "      <th>smiles</th>\n",
       "    </tr>\n",
       "  </thead>\n",
       "  <tbody>\n",
       "    <tr>\n",
       "      <th>0</th>\n",
       "      <td>12850184</td>\n",
       "      <td>C(C(=O)[C@H]([C@@H]([C@H](C(=O)[O-])O)O)O)O.C(...</td>\n",
       "    </tr>\n",
       "    <tr>\n",
       "      <th>1</th>\n",
       "      <td>89753</td>\n",
       "      <td>C([C@H]([C@H]([C@@H]([C@H](C(=O)[O-])O)O)O)O)O...</td>\n",
       "    </tr>\n",
       "    <tr>\n",
       "      <th>2</th>\n",
       "      <td>9403</td>\n",
       "      <td>C[C@]12CC[C@H]3[C@H]([C@@H]1CC[C@@H]2OC(=O)CCC...</td>\n",
       "    </tr>\n",
       "    <tr>\n",
       "      <th>3</th>\n",
       "      <td>13218779</td>\n",
       "      <td>C[C@@]12CC[C@@H](C1(C)C)C[C@H]2OC(=O)CSC#N</td>\n",
       "    </tr>\n",
       "    <tr>\n",
       "      <th>4</th>\n",
       "      <td>637566</td>\n",
       "      <td>CC(=CCC/C(=C/CO)/C)C</td>\n",
       "    </tr>\n",
       "  </tbody>\n",
       "</table>\n",
       "</div>"
      ],
      "text/plain": [
       "        cid                                             smiles\n",
       "0  12850184  C(C(=O)[C@H]([C@@H]([C@H](C(=O)[O-])O)O)O)O.C(...\n",
       "1     89753  C([C@H]([C@H]([C@@H]([C@H](C(=O)[O-])O)O)O)O)O...\n",
       "2      9403  C[C@]12CC[C@H]3[C@H]([C@@H]1CC[C@@H]2OC(=O)CCC...\n",
       "3  13218779         C[C@@]12CC[C@@H](C1(C)C)C[C@H]2OC(=O)CSC#N\n",
       "4    637566                               CC(=CCC/C(=C/CO)/C)C"
      ]
     },
     "execution_count": 91,
     "metadata": {},
     "output_type": "execute_result"
    }
   ],
   "source": [
    "# Write your code in this cell.\n",
    "\n",
    "df_smiles.head(5)"
   ]
  },
  {
   "cell_type": "markdown",
   "metadata": {},
   "source": [
    "- the number of rows of **df_smiles**"
   ]
  },
  {
   "cell_type": "code",
   "execution_count": 92,
   "metadata": {},
   "outputs": [
    {
     "data": {
      "text/plain": [
       "6798"
      ]
     },
     "execution_count": 92,
     "metadata": {},
     "output_type": "execute_result"
    }
   ],
   "source": [
    "# Write your code in this cell.\n",
    "\n",
    "len(df_smiles)"
   ]
  },
  {
   "cell_type": "markdown",
   "metadata": {},
   "source": [
    "**Step 3** Generate the (ECFP-equivalent) circular fingerprints from the SMILES strings.\n",
    "- Use RDKit to generate 1024-bit-long circular fingerprints.\n",
    "- Set the radius of the circular fingerprint to 2.\n",
    "- Store the fingerprints in a data_frame called **df_fps** (along with the CIDs).\n",
    "- Print the dimension of **df_fps**.\n",
    "- Show the first five lines of **df_fps**."
   ]
  },
  {
   "cell_type": "code",
   "execution_count": 93,
   "metadata": {},
   "outputs": [
    {
     "name": "stdout",
     "output_type": "stream",
     "text": [
      "Can't generate MOL object: CID 28145 [NH4+].[NH4+].F[Si-2](F)(F)(F)(F)F\n",
      "Can't generate MOL object: CID 28127 F[Si-2](F)(F)(F)(F)F.[Na+].[Na+]\n",
      "(6796, 1025)\n"
     ]
    },
    {
     "data": {
      "text/html": [
       "<div>\n",
       "<style scoped>\n",
       "    .dataframe tbody tr th:only-of-type {\n",
       "        vertical-align: middle;\n",
       "    }\n",
       "\n",
       "    .dataframe tbody tr th {\n",
       "        vertical-align: top;\n",
       "    }\n",
       "\n",
       "    .dataframe thead th {\n",
       "        text-align: right;\n",
       "    }\n",
       "</style>\n",
       "<table border=\"1\" class=\"dataframe\">\n",
       "  <thead>\n",
       "    <tr style=\"text-align: right;\">\n",
       "      <th></th>\n",
       "      <th>cid</th>\n",
       "      <th>ecfp000</th>\n",
       "      <th>ecfp001</th>\n",
       "      <th>ecfp002</th>\n",
       "      <th>ecfp003</th>\n",
       "      <th>ecfp004</th>\n",
       "      <th>ecfp005</th>\n",
       "      <th>ecfp006</th>\n",
       "      <th>ecfp007</th>\n",
       "      <th>ecfp008</th>\n",
       "      <th>...</th>\n",
       "      <th>ecfp1014</th>\n",
       "      <th>ecfp1015</th>\n",
       "      <th>ecfp1016</th>\n",
       "      <th>ecfp1017</th>\n",
       "      <th>ecfp1018</th>\n",
       "      <th>ecfp1019</th>\n",
       "      <th>ecfp1020</th>\n",
       "      <th>ecfp1021</th>\n",
       "      <th>ecfp1022</th>\n",
       "      <th>ecfp1023</th>\n",
       "    </tr>\n",
       "  </thead>\n",
       "  <tbody>\n",
       "    <tr>\n",
       "      <th>12850184</th>\n",
       "      <td>12850184</td>\n",
       "      <td>0</td>\n",
       "      <td>1</td>\n",
       "      <td>0</td>\n",
       "      <td>0</td>\n",
       "      <td>0</td>\n",
       "      <td>0</td>\n",
       "      <td>0</td>\n",
       "      <td>0</td>\n",
       "      <td>0</td>\n",
       "      <td>...</td>\n",
       "      <td>0</td>\n",
       "      <td>0</td>\n",
       "      <td>0</td>\n",
       "      <td>0</td>\n",
       "      <td>0</td>\n",
       "      <td>0</td>\n",
       "      <td>0</td>\n",
       "      <td>0</td>\n",
       "      <td>0</td>\n",
       "      <td>0</td>\n",
       "    </tr>\n",
       "    <tr>\n",
       "      <th>89753</th>\n",
       "      <td>89753</td>\n",
       "      <td>0</td>\n",
       "      <td>1</td>\n",
       "      <td>0</td>\n",
       "      <td>0</td>\n",
       "      <td>0</td>\n",
       "      <td>0</td>\n",
       "      <td>0</td>\n",
       "      <td>0</td>\n",
       "      <td>0</td>\n",
       "      <td>...</td>\n",
       "      <td>0</td>\n",
       "      <td>0</td>\n",
       "      <td>0</td>\n",
       "      <td>0</td>\n",
       "      <td>0</td>\n",
       "      <td>0</td>\n",
       "      <td>0</td>\n",
       "      <td>0</td>\n",
       "      <td>0</td>\n",
       "      <td>0</td>\n",
       "    </tr>\n",
       "    <tr>\n",
       "      <th>9403</th>\n",
       "      <td>9403</td>\n",
       "      <td>0</td>\n",
       "      <td>0</td>\n",
       "      <td>0</td>\n",
       "      <td>1</td>\n",
       "      <td>1</td>\n",
       "      <td>0</td>\n",
       "      <td>0</td>\n",
       "      <td>0</td>\n",
       "      <td>0</td>\n",
       "      <td>...</td>\n",
       "      <td>0</td>\n",
       "      <td>0</td>\n",
       "      <td>0</td>\n",
       "      <td>0</td>\n",
       "      <td>0</td>\n",
       "      <td>1</td>\n",
       "      <td>0</td>\n",
       "      <td>0</td>\n",
       "      <td>0</td>\n",
       "      <td>0</td>\n",
       "    </tr>\n",
       "    <tr>\n",
       "      <th>13218779</th>\n",
       "      <td>13218779</td>\n",
       "      <td>0</td>\n",
       "      <td>0</td>\n",
       "      <td>0</td>\n",
       "      <td>0</td>\n",
       "      <td>0</td>\n",
       "      <td>0</td>\n",
       "      <td>0</td>\n",
       "      <td>0</td>\n",
       "      <td>0</td>\n",
       "      <td>...</td>\n",
       "      <td>0</td>\n",
       "      <td>0</td>\n",
       "      <td>0</td>\n",
       "      <td>0</td>\n",
       "      <td>0</td>\n",
       "      <td>1</td>\n",
       "      <td>0</td>\n",
       "      <td>0</td>\n",
       "      <td>0</td>\n",
       "      <td>0</td>\n",
       "    </tr>\n",
       "    <tr>\n",
       "      <th>637566</th>\n",
       "      <td>637566</td>\n",
       "      <td>0</td>\n",
       "      <td>0</td>\n",
       "      <td>0</td>\n",
       "      <td>0</td>\n",
       "      <td>0</td>\n",
       "      <td>0</td>\n",
       "      <td>0</td>\n",
       "      <td>0</td>\n",
       "      <td>0</td>\n",
       "      <td>...</td>\n",
       "      <td>0</td>\n",
       "      <td>0</td>\n",
       "      <td>0</td>\n",
       "      <td>1</td>\n",
       "      <td>0</td>\n",
       "      <td>0</td>\n",
       "      <td>0</td>\n",
       "      <td>0</td>\n",
       "      <td>0</td>\n",
       "      <td>0</td>\n",
       "    </tr>\n",
       "  </tbody>\n",
       "</table>\n",
       "<p>5 rows × 1025 columns</p>\n",
       "</div>"
      ],
      "text/plain": [
       "               cid ecfp000 ecfp001 ecfp002 ecfp003 ecfp004 ecfp005 ecfp006  \\\n",
       "12850184  12850184       0       1       0       0       0       0       0   \n",
       "89753        89753       0       1       0       0       0       0       0   \n",
       "9403          9403       0       0       0       1       1       0       0   \n",
       "13218779  13218779       0       0       0       0       0       0       0   \n",
       "637566      637566       0       0       0       0       0       0       0   \n",
       "\n",
       "         ecfp007 ecfp008  ... ecfp1014 ecfp1015 ecfp1016 ecfp1017 ecfp1018  \\\n",
       "12850184       0       0  ...        0        0        0        0        0   \n",
       "89753          0       0  ...        0        0        0        0        0   \n",
       "9403           0       0  ...        0        0        0        0        0   \n",
       "13218779       0       0  ...        0        0        0        0        0   \n",
       "637566         0       0  ...        0        0        0        1        0   \n",
       "\n",
       "         ecfp1019 ecfp1020 ecfp1021 ecfp1022 ecfp1023  \n",
       "12850184        0        0        0        0        0  \n",
       "89753           0        0        0        0        0  \n",
       "9403            1        0        0        0        0  \n",
       "13218779        1        0        0        0        0  \n",
       "637566          0        0        0        0        0  \n",
       "\n",
       "[5 rows x 1025 columns]"
      ]
     },
     "execution_count": 93,
     "metadata": {},
     "output_type": "execute_result"
    }
   ],
   "source": [
    "# Write your code in this cell\n",
    "\n",
    "from rdkit.Chem import AllChem\n",
    "\n",
    "fps=dict()\n",
    "\n",
    "for idx, row in df_smiles.iterrows() :\n",
    "    \n",
    "    mol = Chem.MolFromSmiles(row.smiles)\n",
    "    \n",
    "    if mol == None :\n",
    "        print(\"Can't generate MOL object:\", \"CID\", row.cid, row.smiles)\n",
    "    else:\n",
    "        fps[row.cid] = [row.cid] + list(AllChem.GetMorganFingerprintAsBitVect(mol, 2, nBits=1024).ToBitString())\n",
    "        \n",
    "# Generate column names\n",
    "fpbitnames = []\n",
    "\n",
    "fpbitnames.append('cid')\n",
    "\n",
    "for i in range(0,1024):   # from MACCS000 to MACCS166\n",
    "    fpbitnames.append( \"ecfp\" + str(i).zfill(3) )\n",
    "\n",
    "df_fps = pd.DataFrame.from_dict(fps, orient='index', columns=fpbitnames)\n",
    "\n",
    "print(df_fps.shape)\n",
    "\n",
    "df_fps.head(5)"
   ]
  },
  {
   "cell_type": "markdown",
   "metadata": {},
   "source": [
    "**Step 4** Merge the **df_activity** and **df_fps** data frames into a data frame called **df_data**\n",
    "- Join the two data frames using the CID column as keys.\n",
    "- Remove the rows that have any NULL values (i.e., compounds for which the fingerprints couldn't be generated).\n",
    "- Print the dimension of **df_data**.\n",
    "- Show the first five lines of **df_data**."
   ]
  },
  {
   "cell_type": "code",
   "execution_count": 94,
   "metadata": {},
   "outputs": [
    {
     "name": "stdout",
     "output_type": "stream",
     "text": [
      "(6796, 1026)\n"
     ]
    },
    {
     "data": {
      "text/html": [
       "<div>\n",
       "<style scoped>\n",
       "    .dataframe tbody tr th:only-of-type {\n",
       "        vertical-align: middle;\n",
       "    }\n",
       "\n",
       "    .dataframe tbody tr th {\n",
       "        vertical-align: top;\n",
       "    }\n",
       "\n",
       "    .dataframe thead th {\n",
       "        text-align: right;\n",
       "    }\n",
       "</style>\n",
       "<table border=\"1\" class=\"dataframe\">\n",
       "  <thead>\n",
       "    <tr style=\"text-align: right;\">\n",
       "      <th></th>\n",
       "      <th>cid</th>\n",
       "      <th>activity</th>\n",
       "      <th>ecfp000</th>\n",
       "      <th>ecfp001</th>\n",
       "      <th>ecfp002</th>\n",
       "      <th>ecfp003</th>\n",
       "      <th>ecfp004</th>\n",
       "      <th>ecfp005</th>\n",
       "      <th>ecfp006</th>\n",
       "      <th>ecfp007</th>\n",
       "      <th>...</th>\n",
       "      <th>ecfp1014</th>\n",
       "      <th>ecfp1015</th>\n",
       "      <th>ecfp1016</th>\n",
       "      <th>ecfp1017</th>\n",
       "      <th>ecfp1018</th>\n",
       "      <th>ecfp1019</th>\n",
       "      <th>ecfp1020</th>\n",
       "      <th>ecfp1021</th>\n",
       "      <th>ecfp1022</th>\n",
       "      <th>ecfp1023</th>\n",
       "    </tr>\n",
       "  </thead>\n",
       "  <tbody>\n",
       "    <tr>\n",
       "      <th>3</th>\n",
       "      <td>12850184.0</td>\n",
       "      <td>0</td>\n",
       "      <td>0</td>\n",
       "      <td>1</td>\n",
       "      <td>0</td>\n",
       "      <td>0</td>\n",
       "      <td>0</td>\n",
       "      <td>0</td>\n",
       "      <td>0</td>\n",
       "      <td>0</td>\n",
       "      <td>...</td>\n",
       "      <td>0</td>\n",
       "      <td>0</td>\n",
       "      <td>0</td>\n",
       "      <td>0</td>\n",
       "      <td>0</td>\n",
       "      <td>0</td>\n",
       "      <td>0</td>\n",
       "      <td>0</td>\n",
       "      <td>0</td>\n",
       "      <td>0</td>\n",
       "    </tr>\n",
       "    <tr>\n",
       "      <th>4</th>\n",
       "      <td>89753.0</td>\n",
       "      <td>0</td>\n",
       "      <td>0</td>\n",
       "      <td>1</td>\n",
       "      <td>0</td>\n",
       "      <td>0</td>\n",
       "      <td>0</td>\n",
       "      <td>0</td>\n",
       "      <td>0</td>\n",
       "      <td>0</td>\n",
       "      <td>...</td>\n",
       "      <td>0</td>\n",
       "      <td>0</td>\n",
       "      <td>0</td>\n",
       "      <td>0</td>\n",
       "      <td>0</td>\n",
       "      <td>0</td>\n",
       "      <td>0</td>\n",
       "      <td>0</td>\n",
       "      <td>0</td>\n",
       "      <td>0</td>\n",
       "    </tr>\n",
       "    <tr>\n",
       "      <th>5</th>\n",
       "      <td>9403.0</td>\n",
       "      <td>0</td>\n",
       "      <td>0</td>\n",
       "      <td>0</td>\n",
       "      <td>0</td>\n",
       "      <td>1</td>\n",
       "      <td>1</td>\n",
       "      <td>0</td>\n",
       "      <td>0</td>\n",
       "      <td>0</td>\n",
       "      <td>...</td>\n",
       "      <td>0</td>\n",
       "      <td>0</td>\n",
       "      <td>0</td>\n",
       "      <td>0</td>\n",
       "      <td>0</td>\n",
       "      <td>1</td>\n",
       "      <td>0</td>\n",
       "      <td>0</td>\n",
       "      <td>0</td>\n",
       "      <td>0</td>\n",
       "    </tr>\n",
       "    <tr>\n",
       "      <th>6</th>\n",
       "      <td>13218779.0</td>\n",
       "      <td>0</td>\n",
       "      <td>0</td>\n",
       "      <td>0</td>\n",
       "      <td>0</td>\n",
       "      <td>0</td>\n",
       "      <td>0</td>\n",
       "      <td>0</td>\n",
       "      <td>0</td>\n",
       "      <td>0</td>\n",
       "      <td>...</td>\n",
       "      <td>0</td>\n",
       "      <td>0</td>\n",
       "      <td>0</td>\n",
       "      <td>0</td>\n",
       "      <td>0</td>\n",
       "      <td>1</td>\n",
       "      <td>0</td>\n",
       "      <td>0</td>\n",
       "      <td>0</td>\n",
       "      <td>0</td>\n",
       "    </tr>\n",
       "    <tr>\n",
       "      <th>12</th>\n",
       "      <td>637566.0</td>\n",
       "      <td>0</td>\n",
       "      <td>0</td>\n",
       "      <td>0</td>\n",
       "      <td>0</td>\n",
       "      <td>0</td>\n",
       "      <td>0</td>\n",
       "      <td>0</td>\n",
       "      <td>0</td>\n",
       "      <td>0</td>\n",
       "      <td>...</td>\n",
       "      <td>0</td>\n",
       "      <td>0</td>\n",
       "      <td>0</td>\n",
       "      <td>1</td>\n",
       "      <td>0</td>\n",
       "      <td>0</td>\n",
       "      <td>0</td>\n",
       "      <td>0</td>\n",
       "      <td>0</td>\n",
       "      <td>0</td>\n",
       "    </tr>\n",
       "  </tbody>\n",
       "</table>\n",
       "<p>5 rows × 1026 columns</p>\n",
       "</div>"
      ],
      "text/plain": [
       "           cid  activity ecfp000 ecfp001 ecfp002 ecfp003 ecfp004 ecfp005  \\\n",
       "3   12850184.0         0       0       1       0       0       0       0   \n",
       "4      89753.0         0       0       1       0       0       0       0   \n",
       "5       9403.0         0       0       0       0       1       1       0   \n",
       "6   13218779.0         0       0       0       0       0       0       0   \n",
       "12    637566.0         0       0       0       0       0       0       0   \n",
       "\n",
       "   ecfp006 ecfp007  ... ecfp1014 ecfp1015 ecfp1016 ecfp1017 ecfp1018 ecfp1019  \\\n",
       "3        0       0  ...        0        0        0        0        0        0   \n",
       "4        0       0  ...        0        0        0        0        0        0   \n",
       "5        0       0  ...        0        0        0        0        0        1   \n",
       "6        0       0  ...        0        0        0        0        0        1   \n",
       "12       0       0  ...        0        0        0        1        0        0   \n",
       "\n",
       "   ecfp1020 ecfp1021 ecfp1022 ecfp1023  \n",
       "3         0        0        0        0  \n",
       "4         0        0        0        0  \n",
       "5         0        0        0        0  \n",
       "6         0        0        0        0  \n",
       "12        0        0        0        0  \n",
       "\n",
       "[5 rows x 1026 columns]"
      ]
     },
     "execution_count": 94,
     "metadata": {},
     "output_type": "execute_result"
    }
   ],
   "source": [
    "# Write your code in this cell.\n",
    "\n",
    "df_data = df_activity.join(df_fps.set_index('cid'), on='cid')\n",
    "df_data = df_data.dropna()\n",
    "\n",
    "print(df_data.shape)\n",
    "df_data.head(5)"
   ]
  },
  {
   "cell_type": "markdown",
   "metadata": {},
   "source": [
    "**Step 5** Prepare input and output data for model building\n",
    "- Load the fingerprint data into 2-D array (X) and the activity data into 1-D array (y).\n",
    "- Show the dimension of X and y."
   ]
  },
  {
   "cell_type": "code",
   "execution_count": 95,
   "metadata": {},
   "outputs": [
    {
     "name": "stdout",
     "output_type": "stream",
     "text": [
      "(6796, 1024)\n",
      "6796\n"
     ]
    }
   ],
   "source": [
    "# Write your code in this cell.\n",
    "\n",
    "X = df_data.iloc[:,2:]\n",
    "y = df_data['activity'].values\n",
    "\n",
    "print(X.shape)\n",
    "print(len(y))"
   ]
  },
  {
   "cell_type": "markdown",
   "metadata": {},
   "source": [
    "- Remove zero-variance features from X (if any)."
   ]
  },
  {
   "cell_type": "code",
   "execution_count": 96,
   "metadata": {},
   "outputs": [
    {
     "data": {
      "text/plain": [
       "(6796, 1024)"
      ]
     },
     "execution_count": 96,
     "metadata": {},
     "output_type": "execute_result"
    }
   ],
   "source": [
    "# Write your code in this cell.\n",
    "\n",
    "sel = VarianceThreshold()\n",
    "X=sel.fit_transform(X)\n",
    "X.shape  #-- dimension after removal (none removed)"
   ]
  },
  {
   "cell_type": "markdown",
   "metadata": {},
   "source": [
    "- Split the data set into training and test sets (90% vs 10%) (using random_state=3100).\n",
    "- Print the dimension of X and y for the training and test sets."
   ]
  },
  {
   "cell_type": "code",
   "execution_count": 97,
   "metadata": {},
   "outputs": [
    {
     "name": "stdout",
     "output_type": "stream",
     "text": [
      "(6116, 1024) (680, 1024) (6116,) (680,)\n",
      "668 74\n",
      "6116\n",
      "6116\n",
      "1024\n"
     ]
    }
   ],
   "source": [
    "# Write your code in this cell.\n",
    "\n",
    "from sklearn.model_selection import train_test_split\n",
    "\n",
    "X_train, X_test, y_train, y_test = \\\n",
    "    train_test_split(X, y, shuffle=True, random_state=3100, stratify=y, test_size=0.1)\n",
    "\n",
    "print(X_train.shape, X_test.shape, y_train.shape, y_test.shape)\n",
    "print(y_train.sum(), y_test.sum())\n",
    "\n",
    "print(len(y_train))\n",
    "print(len(X_train))\n",
    "print(len(X_train[0]))"
   ]
  },
  {
   "cell_type": "markdown",
   "metadata": {},
   "source": [
    "- Balance the training data set through downsampling.\n",
    "- Show the number of inactive/active compounds in the downsampled training set."
   ]
  },
  {
   "cell_type": "code",
   "execution_count": 98,
   "metadata": {},
   "outputs": [
    {
     "name": "stdout",
     "output_type": "stream",
     "text": [
      "5448 668\n",
      "# inactives :  668\n",
      "# actives   :  668\n"
     ]
    }
   ],
   "source": [
    "# Write your code in this cell.\n",
    "\n",
    "# Indicies of each class' observations\n",
    "idx_inactives = np.where( y_train == 0 )[0]\n",
    "idx_actives   = np.where( y_train == 1 )[0]\n",
    "\n",
    "print(len(idx_inactives), len(idx_actives))\n",
    "\n",
    "# Number of observations in each class\n",
    "num_inactives = len(idx_inactives)\n",
    "num_actives   = len(idx_actives)\n",
    "\n",
    "# Randomly sample from inactives without replacement\n",
    "np.random.seed(0)\n",
    "idx_inactives_downsampled = np.random.choice(idx_inactives, size=num_actives, replace=False)\n",
    "\n",
    "# Join together downsampled inactives with actives\n",
    "X_train = np.vstack((X_train[idx_inactives_downsampled], X_train[idx_actives]))\n",
    "y_train = np.hstack((y_train[idx_inactives_downsampled], y_train[idx_actives]))\n",
    "\n",
    "print(\"# inactives : \", len(y_train) - y_train.sum())\n",
    "print(\"# actives   : \", y_train.sum())"
   ]
  },
  {
   "cell_type": "markdown",
   "metadata": {},
   "source": [
    "**Step 6** Building a Random Forest model using the balanced training data set.\n",
    "- First read the followng documents about random forest (https://scikit-learn.org/stable/modules/ensemble.html#forest and https://scikit-learn.org/stable/modules/generated/sklearn.ensemble.RandomForestClassifier.html#sklearn.ensemble.RandomForestClassifier). \n",
    "- Use 10-fold cross validation to select the best value for the \"n_estimators\" parameter that maximizes the **balanced accuracy**.  Test 40 values from 5 to 200 with an increment of 5 (e.g., 5, 10, 15, 20, ..., 190, 195, 200).\n",
    "- For parameters 'max_depth', 'min_samples_leaf', and 'min_samples_split', use the best values found in Section 9.\n",
    "- For other parameters, use the default values.\n",
    "- For each parameter value, print the mean balanced accuracies (for both training and test from cross validation). "
   ]
  },
  {
   "cell_type": "code",
   "execution_count": 99,
   "metadata": {},
   "outputs": [
    {
     "name": "stdout",
     "output_type": "stream",
     "text": [
      "#-- Best parameter set {'n_estimators': 100}\n",
      "Grid {'n_estimators': 5} : 0.6801 0.6287\n",
      "Grid {'n_estimators': 10} : 0.7236 0.6639\n",
      "Grid {'n_estimators': 15} : 0.7388 0.6804\n",
      "Grid {'n_estimators': 20} : 0.7512 0.6879\n",
      "Grid {'n_estimators': 25} : 0.7542 0.6856\n",
      "Grid {'n_estimators': 30} : 0.7571 0.6803\n",
      "Grid {'n_estimators': 35} : 0.7616 0.6819\n",
      "Grid {'n_estimators': 40} : 0.7596 0.6871\n",
      "Grid {'n_estimators': 45} : 0.7586 0.6916\n",
      "Grid {'n_estimators': 50} : 0.7621 0.6893\n",
      "Grid {'n_estimators': 55} : 0.7663 0.6886\n",
      "Grid {'n_estimators': 60} : 0.7651 0.6901\n",
      "Grid {'n_estimators': 65} : 0.7669 0.6946\n",
      "Grid {'n_estimators': 70} : 0.7646 0.6931\n",
      "Grid {'n_estimators': 75} : 0.7653 0.6901\n",
      "Grid {'n_estimators': 80} : 0.7659 0.6916\n",
      "Grid {'n_estimators': 85} : 0.7644 0.6984\n",
      "Grid {'n_estimators': 90} : 0.7661 0.6976\n",
      "Grid {'n_estimators': 95} : 0.7642 0.7006\n",
      "Grid {'n_estimators': 100} : 0.7666 0.7014\n",
      "Grid {'n_estimators': 105} : 0.7662 0.6939\n",
      "Grid {'n_estimators': 110} : 0.7682 0.6924\n",
      "Grid {'n_estimators': 115} : 0.7697 0.6894\n",
      "Grid {'n_estimators': 120} : 0.7708 0.6954\n",
      "Grid {'n_estimators': 125} : 0.7699 0.6954\n",
      "Grid {'n_estimators': 130} : 0.7695 0.6954\n",
      "Grid {'n_estimators': 135} : 0.7702 0.6954\n",
      "Grid {'n_estimators': 140} : 0.7718 0.6969\n",
      "Grid {'n_estimators': 145} : 0.7713 0.6969\n",
      "Grid {'n_estimators': 150} : 0.7706 0.6946\n",
      "Grid {'n_estimators': 155} : 0.7720 0.6961\n",
      "Grid {'n_estimators': 160} : 0.7720 0.6984\n",
      "Grid {'n_estimators': 165} : 0.7714 0.6976\n",
      "Grid {'n_estimators': 170} : 0.7715 0.6969\n",
      "Grid {'n_estimators': 175} : 0.7725 0.6991\n",
      "Grid {'n_estimators': 180} : 0.7725 0.6999\n",
      "Grid {'n_estimators': 185} : 0.7709 0.6946\n",
      "Grid {'n_estimators': 190} : 0.7717 0.6976\n",
      "Grid {'n_estimators': 195} : 0.7719 0.6984\n",
      "Grid {'n_estimators': 200} : 0.7730 0.6969\n"
     ]
    }
   ],
   "source": [
    "# Write your code in this cell.\n",
    "\n",
    "from sklearn.ensemble import RandomForestClassifier\n",
    "\n",
    "ncvs = 10\n",
    "scores = ['roc_auc', 'balanced_accuracy']\n",
    "\n",
    "n_estimators_range = np.linspace( 5, 200, num=40, dtype='int32' );\n",
    "\n",
    "param_grid = dict( n_estimators=n_estimators_range );\n",
    "\n",
    "clf = GridSearchCV( RandomForestClassifier( random_state=0, max_depth=5, min_samples_leaf=4, min_samples_split=3 ),\n",
    "                    param_grid=param_grid, cv=ncvs, scoring=scores, refit='balanced_accuracy',\n",
    "                    return_train_score = True, iid=False)\n",
    "\n",
    "clf.fit( X_train, y_train )\n",
    "print(\"#-- Best parameter set\", clf.best_params_)\n",
    "\n",
    "means_1a = clf.cv_results_['mean_train_balanced_accuracy']\n",
    "means_1b = clf.cv_results_['mean_test_balanced_accuracy']\n",
    "\n",
    "iterobjs = zip( means_1a, means_1b, clf.cv_results_['params'] )\n",
    "\n",
    "for m1a, m1b, params in iterobjs :\n",
    "    print( \"Grid %r : %0.4f %0.04f\" % ( params, m1a, m1b))"
   ]
  },
  {
   "cell_type": "markdown",
   "metadata": {},
   "source": [
    "**Step 7** Apply the developed RF model to predict the activity of the **training** set compounds.\n",
    "\n",
    "- Report the confusion matrix.\n",
    "- Report the accuracy, balanced accurayc, sensitivity, specificity, and auc-roc."
   ]
  },
  {
   "cell_type": "code",
   "execution_count": 100,
   "metadata": {},
   "outputs": [
    {
     "name": "stdout",
     "output_type": "stream",
     "text": [
      "[[573  95]\n",
      " [204 464]]\n",
      "#-- Accuracy          =  0.7761976047904192\n",
      "#-- Balanced Accuracy =  0.7761976047904191\n",
      "#-- Sensitivity       =  0.6946107784431138\n",
      "#-- Specificity       =  0.8577844311377245\n",
      "#-- AUC-ROC           =  0.8431695740256016\n"
     ]
    }
   ],
   "source": [
    "# Write your code in this cell.\n",
    "\n",
    "y_true, y_pred = y_train, clf.predict( X_train )    # Apply the model to predict the training compound's activity.\n",
    "\n",
    "CMat = confusion_matrix( y_true, y_pred )    #-- generate confusion matrix\n",
    "print(CMat)    # [[TN, FP], \n",
    "               #  [FN, TP]]\n",
    "    \n",
    "acc  = accuracy_score( y_true, y_pred )\n",
    "\n",
    "sens = CMat[ 1 ][ 1 ] / ( CMat[ 1 ][ 0 ] + CMat[ 1 ][ 1 ] )    # TP / (FN + TP)\n",
    "spec = CMat[ 0 ][ 0 ] / ( CMat[ 0 ][ 0 ] + CMat[ 0 ][ 1 ] )    # TN / (TN + FP )\n",
    "bacc = (sens + spec) / 2\n",
    "\n",
    "y_score = clf.predict_proba( X_train )[:, 1]\n",
    "auc = roc_auc_score( y_true, y_score )\n",
    "\n",
    "print(\"#-- Accuracy          = \", acc)\n",
    "print(\"#-- Balanced Accuracy = \", bacc)\n",
    "print(\"#-- Sensitivity       = \", sens)\n",
    "print(\"#-- Specificity       = \", spec)\n",
    "print(\"#-- AUC-ROC           = \", auc)"
   ]
  },
  {
   "cell_type": "markdown",
   "metadata": {},
   "source": [
    "**Step 8** Apply the developed RF model to predict the activity of the **test** set compounds.\n",
    "\n",
    "- Report the accuracy, balanced accurayc, sensitivity, specificity, and auc-roc."
   ]
  },
  {
   "cell_type": "code",
   "execution_count": 101,
   "metadata": {},
   "outputs": [
    {
     "name": "stdout",
     "output_type": "stream",
     "text": [
      "[[484 122]\n",
      " [ 28  46]]\n",
      "#-- Accuracy          =  0.7794117647058824\n",
      "#-- Balanced Accuracy =  0.7101507448042101\n",
      "#-- Sensitivity       =  0.6216216216216216\n",
      "#-- Specificity       =  0.7986798679867987\n",
      "#-- AUC-ROC           =  0.7588975113727588\n"
     ]
    }
   ],
   "source": [
    "# Write your code in this cell.\n",
    "\n",
    "y_true, y_pred = y_test, clf.predict(X_test)    #-- Apply the model to predict the test set compounds' activity.\n",
    "\n",
    "CMat = confusion_matrix( y_true, y_pred )    #-- generate confusion matrix\n",
    "print(CMat)    # [[TN, FP], \n",
    "               #  [FN, TP]]\n",
    "    \n",
    "acc  = accuracy_score( y_true, y_pred )\n",
    "\n",
    "sens = CMat[ 1 ][ 1 ] / ( CMat[ 1 ][ 0 ] + CMat[ 1 ][ 1 ] )\n",
    "spec = CMat[ 0 ][ 0 ] / ( CMat[ 0 ][ 0 ] + CMat[ 0 ][ 1 ] )\n",
    "bacc = (sens + spec) / 2\n",
    "\n",
    "y_score = clf.predict_proba( X_test )[:, 1]\n",
    "auc = roc_auc_score( y_true, y_score )\n",
    "\n",
    "print(\"#-- Accuracy          = \", acc)\n",
    "print(\"#-- Balanced Accuracy = \", bacc)\n",
    "print(\"#-- Sensitivity       = \", sens)\n",
    "print(\"#-- Specificity       = \", spec)\n",
    "print(\"#-- AUC-ROC           = \", auc)"
   ]
  },
  {
   "cell_type": "markdown",
   "metadata": {},
   "source": [
    "**Step 9** Read a recent paper published in *Chem. Res. Toxicol.* (https://doi.org/10.1021/acs.chemrestox.7b00037) and answer the following questions (in no more than five sentences for each question).\n",
    "\n",
    "- What different approaches did the paper take to develop prediction models (compared to those used in this notebook)?\n",
    "- How different are the models reported in the paper from those constructed in this paper (in terms of the performance measures)? \n",
    "- What would you do to develop models with improved performance?"
   ]
  },
  {
   "cell_type": "markdown",
   "metadata": {},
   "source": [
    "Write your answers in this cell.\n",
    "\n",
    "- \n",
    "\n",
    "- \n",
    "\n",
    "- "
   ]
  },
  {
   "cell_type": "code",
   "execution_count": null,
   "metadata": {},
   "outputs": [],
   "source": []
  }
 ],
 "metadata": {
  "kernelspec": {
   "display_name": "Python 3",
   "language": "python",
   "name": "python3"
  },
  "language_info": {
   "codemirror_mode": {
    "name": "ipython",
    "version": 3
   },
   "file_extension": ".py",
   "mimetype": "text/x-python",
   "name": "python",
   "nbconvert_exporter": "python",
   "pygments_lexer": "ipython3",
   "version": "3.7.1"
  }
 },
 "nbformat": 4,
 "nbformat_minor": 4
}
